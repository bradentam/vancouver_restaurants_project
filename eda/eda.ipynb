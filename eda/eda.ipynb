{
 "cells": [
  {
   "cell_type": "markdown",
   "metadata": {},
   "source": [
    "# Exploratory Data Analysis"
   ]
  },
  {
   "cell_type": "markdown",
   "metadata": {},
   "source": [
    "In this EDA, I will be examining various data sources from [opendata.vancouver.ca](https://opendata.vancouver.ca/pages/home/)."
   ]
  },
  {
   "cell_type": "markdown",
   "metadata": {},
   "source": [
    "## Imports"
   ]
  },
  {
   "cell_type": "code",
   "execution_count": 528,
   "metadata": {},
   "outputs": [],
   "source": [
    "import numpy as np\n",
    "import pandas as pd\n",
    "import re\n",
    "import requests\n",
    "import os\n",
    "import time\n",
    "import pickle\n",
    "\n",
    "from matplotlib import pyplot as plt\n",
    "from pyspark.sql import SparkSession"
   ]
  },
  {
   "cell_type": "code",
   "execution_count": 38,
   "metadata": {},
   "outputs": [],
   "source": [
    "from pyspark.sql.functions import coalesce, max"
   ]
  },
  {
   "cell_type": "code",
   "execution_count": 264,
   "metadata": {},
   "outputs": [],
   "source": [
    "from pyspark.ml.regression import LinearRegression\n",
    "from pyspark.ml.feature import VectorAssembler\n",
    "from pyspark.sql.functions import array, col, count, mean, sum, udf, when, last, first, regexp_extract\n",
    "from pyspark.sql.types import DoubleType, IntegerType, StringType, Row\n",
    "from pyspark.sql.functions import sum, col, udf\n",
    "from pyspark.sql.types import *"
   ]
  },
  {
   "cell_type": "markdown",
   "metadata": {},
   "source": [
    "## Reading in the main dataset"
   ]
  },
  {
   "cell_type": "code",
   "execution_count": 4,
   "metadata": {},
   "outputs": [],
   "source": [
    "spark = SparkSession.builder.appName('Ops').getOrCreate()"
   ]
  },
  {
   "cell_type": "code",
   "execution_count": 5,
   "metadata": {},
   "outputs": [],
   "source": [
    "# allows for cleaner output\n",
    "spark.conf.set(\"spark.sql.repl.eagerEval.enabled\", True)"
   ]
  },
  {
   "cell_type": "markdown",
   "metadata": {},
   "source": [
    "> This creates a Spark DataFrame which is very similar to a Pandas DataFrame. Spark DataFrames build on top of RDDs and also has great SQL integration for users who are familiar with the popular language. The main difference with Spark DataFrames is that operations can run on multiple nodes and they are lazy evaluators meaning operations won't be executed until the output is needed."
   ]
  },
  {
   "cell_type": "code",
   "execution_count": 6,
   "metadata": {},
   "outputs": [],
   "source": [
    "licences_df = (spark.read\n",
    "          .option('header','true')\n",
    "          .option('inferSchema','true')\n",
    "          .option('sep', ';')\n",
    "          .csv('data/business-licences-2.csv'))"
   ]
  },
  {
   "cell_type": "code",
   "execution_count": 7,
   "metadata": {},
   "outputs": [
    {
     "data": {
      "text/plain": [
       "'There are 504842 observations in this dataset'"
      ]
     },
     "execution_count": 7,
     "metadata": {},
     "output_type": "execute_result"
    }
   ],
   "source": [
    "f'There are %i observations in this dataset' % licences_df.count() "
   ]
  },
  {
   "cell_type": "code",
   "execution_count": 8,
   "metadata": {},
   "outputs": [
    {
     "name": "stdout",
     "output_type": "stream",
     "text": [
      "root\n",
      " |-- FOLDERYEAR: integer (nullable = true)\n",
      " |-- LicenceRSN: integer (nullable = true)\n",
      " |-- LicenceNumber: string (nullable = true)\n",
      " |-- LicenceRevisionNumber: integer (nullable = true)\n",
      " |-- BusinessName: string (nullable = true)\n",
      " |-- BusinessTradeName: string (nullable = true)\n",
      " |-- Status: string (nullable = true)\n",
      " |-- IssuedDate: timestamp (nullable = true)\n",
      " |-- ExpiredDate: timestamp (nullable = true)\n",
      " |-- BusinessType: string (nullable = true)\n",
      " |-- BusinessSubType: string (nullable = true)\n",
      " |-- Unit: string (nullable = true)\n",
      " |-- UnitType: string (nullable = true)\n",
      " |-- House: string (nullable = true)\n",
      " |-- Street: string (nullable = true)\n",
      " |-- City: string (nullable = true)\n",
      " |-- Province: string (nullable = true)\n",
      " |-- Country: string (nullable = true)\n",
      " |-- PostalCode: string (nullable = true)\n",
      " |-- LocalArea: string (nullable = true)\n",
      " |-- NumberofEmployees: double (nullable = true)\n",
      " |-- FeePaid: integer (nullable = true)\n",
      " |-- ExtractDate: timestamp (nullable = true)\n",
      " |-- Geom: string (nullable = true)\n",
      "\n"
     ]
    }
   ],
   "source": [
    "licences_df.printSchema()"
   ]
  },
  {
   "cell_type": "code",
   "execution_count": 196,
   "metadata": {},
   "outputs": [
    {
     "data": {
      "text/html": [
       "<table border='1'>\n",
       "<tr><th>FOLDERYEAR</th><th>LicenceRSN</th><th>LicenceNumber</th><th>LicenceRevisionNumber</th><th>BusinessName</th><th>BusinessTradeName</th><th>Status</th><th>IssuedDate</th><th>ExpiredDate</th><th>BusinessType</th><th>BusinessSubType</th><th>Unit</th><th>UnitType</th><th>House</th><th>Street</th><th>City</th><th>Province</th><th>Country</th><th>PostalCode</th><th>LocalArea</th><th>NumberofEmployees</th><th>FeePaid</th><th>ExtractDate</th><th>Geom</th></tr>\n",
       "<tr><td>15</td><td>2345113</td><td>15-115406</td><td>0</td><td>(Shun Chen)</td><td>ACC Security Syst...</td><td>Gone Out of Business</td><td>null</td><td>null</td><td>Electrical-Securi...</td><td>null</td><td>null</td><td>null</td><td>null</td><td>null</td><td>Surrey</td><td>BC</td><td>CA</td><td>null</td><td>null</td><td>2.0</td><td>null</td><td>2019-07-21 13:48:02</td><td>null</td></tr>\n",
       "<tr><td>15</td><td>2345119</td><td>15-115412</td><td>0</td><td>Praetorian Securi...</td><td>Amax Praetorian</td><td>Issued</td><td>2014-12-01 14:04:29</td><td>2015-12-31 00:00:00</td><td>Electrical-Securi...</td><td>null</td><td>null</td><td>null</td><td>null</td><td>null</td><td>Chilliwack</td><td>BC</td><td>CA</td><td>null</td><td>null</td><td>0.0</td><td>133</td><td>2019-07-21 13:48:02</td><td>null</td></tr>\n",
       "<tr><td>15</td><td>2345120</td><td>15-115413</td><td>0</td><td>Safe-Tec Security...</td><td>null</td><td>Gone Out of Business</td><td>null</td><td>null</td><td>Electrical-Securi...</td><td>null</td><td>null</td><td>null</td><td>null</td><td>null</td><td>Surrey</td><td>BC</td><td>CA</td><td>null</td><td>null</td><td>0.0</td><td>null</td><td>2019-07-21 13:48:02</td><td>null</td></tr>\n",
       "<tr><td>15</td><td>2345121</td><td>15-115414</td><td>0</td><td>Husky Alarm Integ...</td><td>null</td><td>Issued</td><td>2015-02-10 08:05:11</td><td>2015-12-31 00:00:00</td><td>Electrical-Securi...</td><td>null</td><td>null</td><td>null</td><td>null</td><td>null</td><td>Port Moody</td><td>BC</td><td>CA</td><td>null</td><td>null</td><td>2.0</td><td>173</td><td>2019-07-21 13:48:02</td><td>null</td></tr>\n",
       "<tr><td>15</td><td>2345122</td><td>15-115415</td><td>0</td><td>Sea to Sky Securi...</td><td>null</td><td>Pending</td><td>null</td><td>null</td><td>Electrical-Securi...</td><td>null</td><td>null</td><td>null</td><td>null</td><td>null</td><td>North Vancouver</td><td>BC</td><td>CA</td><td>null</td><td>null</td><td>3.0</td><td>null</td><td>2019-07-21 13:48:02</td><td>null</td></tr>\n",
       "<tr><td>15</td><td>2345188</td><td>15-115481</td><td>0</td><td>(Kenneth Bradley)</td><td>Ken Bradley Truck...</td><td>Issued</td><td>2014-11-18 11:35:48</td><td>2015-12-31 00:00:00</td><td>Equipment Operator</td><td>null</td><td>null</td><td>null</td><td>null</td><td>null</td><td>Coquitlam</td><td>BC</td><td>CA</td><td>null</td><td>null</td><td>0.0</td><td>162</td><td>2019-07-21 13:48:02</td><td>null</td></tr>\n",
       "<tr><td>15</td><td>2345191</td><td>15-115484</td><td>0</td><td>Litz Crane Servic...</td><td>null</td><td>Issued</td><td>2014-11-06 14:31:00</td><td>2015-12-31 00:00:00</td><td>Equipment Operator</td><td>null</td><td>null</td><td>null</td><td>null</td><td>null</td><td>Port Coquitlam</td><td>BC</td><td>CA</td><td>null</td><td>null</td><td>5.0</td><td>162</td><td>2019-07-21 13:48:02</td><td>null</td></tr>\n",
       "<tr><td>15</td><td>2345195</td><td>15-115488</td><td>0</td><td>(Wayne Nichols)</td><td>W Nichols Trucking</td><td>Issued</td><td>2014-11-05 12:50:58</td><td>2015-12-31 00:00:00</td><td>Equipment Operator</td><td>null</td><td>null</td><td>null</td><td>null</td><td>null</td><td>Delta</td><td>BC</td><td>CA</td><td>null</td><td>null</td><td>1.0</td><td>162</td><td>2019-07-21 13:48:02</td><td>null</td></tr>\n",
       "<tr><td>15</td><td>2345196</td><td>15-115489</td><td>0</td><td>(Harry Powar)</td><td>Harry Powar Trucking</td><td>Issued</td><td>2014-12-04 18:49:08</td><td>2015-12-31 00:00:00</td><td>Equipment Operator</td><td>null</td><td>null</td><td>null</td><td>null</td><td>null</td><td>Burnaby</td><td>BC</td><td>CA</td><td>null</td><td>null</td><td>1.0</td><td>162</td><td>2019-07-21 13:48:02</td><td>null</td></tr>\n",
       "<tr><td>15</td><td>2345203</td><td>15-115496</td><td>0</td><td>J Brown Trucking Inc</td><td>null</td><td>Issued</td><td>2014-12-06 09:23:32</td><td>2015-12-31 00:00:00</td><td>Equipment Operator</td><td>null</td><td>null</td><td>null</td><td>null</td><td>null</td><td>Delta</td><td>BC</td><td>CA</td><td>null</td><td>null</td><td>2.0</td><td>162</td><td>2019-07-21 13:48:02</td><td>null</td></tr>\n",
       "</table>\n"
      ],
      "text/plain": [
       "+----------+----------+-------------+---------------------+--------------------+--------------------+--------------------+-------------------+-------------------+--------------------+---------------+----+--------+-----+------+---------------+--------+-------+----------+---------+-----------------+-------+-------------------+----+\n",
       "|FOLDERYEAR|LicenceRSN|LicenceNumber|LicenceRevisionNumber|        BusinessName|   BusinessTradeName|              Status|         IssuedDate|        ExpiredDate|        BusinessType|BusinessSubType|Unit|UnitType|House|Street|           City|Province|Country|PostalCode|LocalArea|NumberofEmployees|FeePaid|        ExtractDate|Geom|\n",
       "+----------+----------+-------------+---------------------+--------------------+--------------------+--------------------+-------------------+-------------------+--------------------+---------------+----+--------+-----+------+---------------+--------+-------+----------+---------+-----------------+-------+-------------------+----+\n",
       "|        15|   2345113|    15-115406|                    0|         (Shun Chen)|ACC Security Syst...|Gone Out of Business|               null|               null|Electrical-Securi...|           null|null|    null| null|  null|         Surrey|      BC|     CA|      null|     null|              2.0|   null|2019-07-21 13:48:02|null|\n",
       "|        15|   2345119|    15-115412|                    0|Praetorian Securi...|     Amax Praetorian|              Issued|2014-12-01 14:04:29|2015-12-31 00:00:00|Electrical-Securi...|           null|null|    null| null|  null|     Chilliwack|      BC|     CA|      null|     null|              0.0|    133|2019-07-21 13:48:02|null|\n",
       "|        15|   2345120|    15-115413|                    0|Safe-Tec Security...|                null|Gone Out of Business|               null|               null|Electrical-Securi...|           null|null|    null| null|  null|         Surrey|      BC|     CA|      null|     null|              0.0|   null|2019-07-21 13:48:02|null|\n",
       "|        15|   2345121|    15-115414|                    0|Husky Alarm Integ...|                null|              Issued|2015-02-10 08:05:11|2015-12-31 00:00:00|Electrical-Securi...|           null|null|    null| null|  null|     Port Moody|      BC|     CA|      null|     null|              2.0|    173|2019-07-21 13:48:02|null|\n",
       "|        15|   2345122|    15-115415|                    0|Sea to Sky Securi...|                null|             Pending|               null|               null|Electrical-Securi...|           null|null|    null| null|  null|North Vancouver|      BC|     CA|      null|     null|              3.0|   null|2019-07-21 13:48:02|null|\n",
       "|        15|   2345188|    15-115481|                    0|   (Kenneth Bradley)|Ken Bradley Truck...|              Issued|2014-11-18 11:35:48|2015-12-31 00:00:00|  Equipment Operator|           null|null|    null| null|  null|      Coquitlam|      BC|     CA|      null|     null|              0.0|    162|2019-07-21 13:48:02|null|\n",
       "|        15|   2345191|    15-115484|                    0|Litz Crane Servic...|                null|              Issued|2014-11-06 14:31:00|2015-12-31 00:00:00|  Equipment Operator|           null|null|    null| null|  null| Port Coquitlam|      BC|     CA|      null|     null|              5.0|    162|2019-07-21 13:48:02|null|\n",
       "|        15|   2345195|    15-115488|                    0|     (Wayne Nichols)|  W Nichols Trucking|              Issued|2014-11-05 12:50:58|2015-12-31 00:00:00|  Equipment Operator|           null|null|    null| null|  null|          Delta|      BC|     CA|      null|     null|              1.0|    162|2019-07-21 13:48:02|null|\n",
       "|        15|   2345196|    15-115489|                    0|       (Harry Powar)|Harry Powar Trucking|              Issued|2014-12-04 18:49:08|2015-12-31 00:00:00|  Equipment Operator|           null|null|    null| null|  null|        Burnaby|      BC|     CA|      null|     null|              1.0|    162|2019-07-21 13:48:02|null|\n",
       "|        15|   2345203|    15-115496|                    0|J Brown Trucking Inc|                null|              Issued|2014-12-06 09:23:32|2015-12-31 00:00:00|  Equipment Operator|           null|null|    null| null|  null|          Delta|      BC|     CA|      null|     null|              2.0|    162|2019-07-21 13:48:02|null|\n",
       "+----------+----------+-------------+---------------------+--------------------+--------------------+--------------------+-------------------+-------------------+--------------------+---------------+----+--------+-----+------+---------------+--------+-------+----------+---------+-----------------+-------+-------------------+----+"
      ]
     },
     "execution_count": 196,
     "metadata": {},
     "output_type": "execute_result"
    }
   ],
   "source": [
    "# show the first 10 rows \n",
    "licences_df.limit(10)"
   ]
  },
  {
   "cell_type": "code",
   "execution_count": 197,
   "metadata": {},
   "outputs": [
    {
     "data": {
      "text/html": [
       "<table border='1'>\n",
       "<tr><th>FOLDERYEAR</th><th>count</th></tr>\n",
       "<tr><td>13</td><td>60915</td></tr>\n",
       "<tr><td>16</td><td>61394</td></tr>\n",
       "<tr><td>20</td><td>64003</td></tr>\n",
       "<tr><td>19</td><td>70771</td></tr>\n",
       "<tr><td>15</td><td>60938</td></tr>\n",
       "<tr><td>17</td><td>60060</td></tr>\n",
       "<tr><td>14</td><td>60581</td></tr>\n",
       "<tr><td>18</td><td>66180</td></tr>\n",
       "</table>\n"
      ],
      "text/plain": [
       "+----------+-----+\n",
       "|FOLDERYEAR|count|\n",
       "+----------+-----+\n",
       "|        13|60915|\n",
       "|        16|61394|\n",
       "|        20|64003|\n",
       "|        19|70771|\n",
       "|        15|60938|\n",
       "|        17|60060|\n",
       "|        14|60581|\n",
       "|        18|66180|\n",
       "+----------+-----+"
      ]
     },
     "execution_count": 197,
     "metadata": {},
     "output_type": "execute_result"
    }
   ],
   "source": [
    "licences_df.groupBy('FOLDERYEAR').count()"
   ]
  },
  {
   "cell_type": "markdown",
   "metadata": {},
   "source": [
    "## Initial Wrangling "
   ]
  },
  {
   "cell_type": "code",
   "execution_count": 10,
   "metadata": {},
   "outputs": [
    {
     "name": "stdout",
     "output_type": "stream",
     "text": [
      "['Manufacturer - Food with Anc. Retail', 'Ltd Service Food Establishment', 'Temp Liquor Licence Amendment', 'Liquor Delivery Services', 'Liquor Establishment Standard', 'Retail Dealer - Food', 'Restaurant Class 2', 'Food Processing', 'Liquor Establishment Extended', 'Wholesale Dealer - Food with Anc. Retail', 'Restaurant Class 1', 'Liquor License Application', 'Warehouse Operator - Food', 'Manufacturer - Food', 'Liquor Retail Store', 'Wholesale Dealer - Food']\n"
     ]
    }
   ],
   "source": [
    "business_types = licences_df.select('BusinessType').distinct().collect()\n",
    "business_list = [business_types[i].BusinessType for i in range(len(business_types))]\n",
    "\n",
    "r = re.compile(\".*[Ff]ood.*|.*[Rr]estaurant.*|.*[Ll]iquor.*\")\n",
    "relevant_list = list(filter(r.match, business_list)) \n",
    "print(relevant_list)"
   ]
  },
  {
   "cell_type": "markdown",
   "metadata": {},
   "source": [
    "> These are the list of business types that have the word food, restaurant, or liquor."
   ]
  },
  {
   "cell_type": "code",
   "execution_count": 11,
   "metadata": {},
   "outputs": [],
   "source": [
    "rest_1 = (licences_df.BusinessType == 'Restaurant Class 1')\n",
    "rest_2 = (licences_df.BusinessType == 'Restaurant Class 2')\n",
    "rest_3 = (licences_df.BusinessType == 'Ltd Service Food Establishment')\n",
    "rest_4 = (licences_df.BusinessType == 'Temp Liquor Licence Amendment') & (licences_df.BusinessSubType == 'Area Extension')\n",
    "rest_5 = (licences_df.BusinessType == 'Liquor Establishment Standard') & (licences_df.BusinessSubType == 'Class 1  0-65 Seats')\n",
    "rest_6 = (licences_df.BusinessType == 'Liquor Establishment Extended') & (licences_df.BusinessSubType == 'Class 1  0-65 Seats')\n",
    "\n",
    "\n",
    "licences_rest_df = licences_df.filter(rest_1 | rest_2 | rest_3 | rest_4 | rest_5 | rest_6)"
   ]
  },
  {
   "cell_type": "code",
   "execution_count": 12,
   "metadata": {},
   "outputs": [
    {
     "data": {
      "text/html": [
       "<table border='1'>\n",
       "<tr><th>Status</th><th>count</th></tr>\n",
       "<tr><td>Cancelled</td><td>604</td></tr>\n",
       "<tr><td>Gone Out of Business</td><td>2914</td></tr>\n",
       "<tr><td>Issued</td><td>24579</td></tr>\n",
       "<tr><td>Inactive</td><td>662</td></tr>\n",
       "<tr><td>Pending</td><td>1420</td></tr>\n",
       "</table>\n"
      ],
      "text/plain": [
       "+--------------------+-----+\n",
       "|              Status|count|\n",
       "+--------------------+-----+\n",
       "|           Cancelled|  604|\n",
       "|Gone Out of Business| 2914|\n",
       "|              Issued|24579|\n",
       "|            Inactive|  662|\n",
       "|             Pending| 1420|\n",
       "+--------------------+-----+"
      ]
     },
     "execution_count": 12,
     "metadata": {},
     "output_type": "execute_result"
    }
   ],
   "source": [
    "licences_rest_df.groupBy(\"Status\").count()"
   ]
  },
  {
   "cell_type": "code",
   "execution_count": 13,
   "metadata": {},
   "outputs": [
    {
     "data": {
      "text/plain": [
       "'There are 955 businesses with missing name values'"
      ]
     },
     "execution_count": 13,
     "metadata": {},
     "output_type": "execute_result"
    }
   ],
   "source": [
    "f'There are %i businesses with missing name values' % licences_rest_df.filter('BusinessTradeName is null').select('BusinessName').distinct().count()"
   ]
  },
  {
   "cell_type": "markdown",
   "metadata": {},
   "source": [
    "> I will replace these entries with their business names. "
   ]
  },
  {
   "cell_type": "code",
   "execution_count": 14,
   "metadata": {},
   "outputs": [],
   "source": [
    "licences_rest_df = licences_rest_df.withColumn('BusinessTradeName', coalesce('BusinessTradeName', 'BusinessName'))"
   ]
  },
  {
   "cell_type": "code",
   "execution_count": 15,
   "metadata": {},
   "outputs": [],
   "source": [
    "licences_rest_df = licences_rest_df.dropna(subset = ['BusinessName'])"
   ]
  },
  {
   "cell_type": "code",
   "execution_count": 16,
   "metadata": {},
   "outputs": [
    {
     "data": {
      "text/plain": [
       "30148"
      ]
     },
     "execution_count": 16,
     "metadata": {},
     "output_type": "execute_result"
    }
   ],
   "source": [
    "licences_rest_df.count()"
   ]
  },
  {
   "cell_type": "code",
   "execution_count": 17,
   "metadata": {},
   "outputs": [],
   "source": [
    "# Search for names using regex\n",
    "\n",
    "def search_restaurant(search_term, n = 20):\n",
    "    rows = licences_rest_df.BusinessTradeName.rlike('.*{}.*'.format(search_term))\n",
    "    return licences_rest_df.filter(rows).limit(n)"
   ]
  },
  {
   "cell_type": "code",
   "execution_count": 24,
   "metadata": {},
   "outputs": [
    {
     "data": {
      "text/html": [
       "<table border='1'>\n",
       "<tr><th>FOLDERYEAR</th><th>LicenceRSN</th><th>LicenceNumber</th><th>LicenceRevisionNumber</th><th>BusinessName</th><th>BusinessTradeName</th><th>Status</th><th>IssuedDate</th><th>ExpiredDate</th><th>BusinessType</th><th>BusinessSubType</th><th>Unit</th><th>UnitType</th><th>House</th><th>Street</th><th>City</th><th>Province</th><th>Country</th><th>PostalCode</th><th>LocalArea</th><th>NumberofEmployees</th><th>FeePaid</th><th>ExtractDate</th><th>Geom</th></tr>\n",
       "<tr><td>16</td><td>2603912</td><td>16-145075</td><td>0</td><td>Nagomi Project Ltd</td><td>Shizen Ya</td><td>Issued</td><td>2015-11-05 11:26:12</td><td>2016-12-31 00:00:00</td><td>Restaurant Class 1</td><td>With Liquor Service</td><td>null</td><td>null</td><td>1102</td><td>W BROADWAY</td><td>Vancouver</td><td>BC</td><td>CA</td><td>V6H 1G5</td><td>Fairview</td><td>10.0</td><td>1042</td><td>2019-07-21 13:49:20</td><td>&quot;{&quot;&quot;type&quot;&quot;: &quot;&quot;Poi...</td></tr>\n",
       "<tr><td>17</td><td>2819772</td><td>17-143449</td><td>0</td><td>Nagomi Project Ltd</td><td>Shizen Ya</td><td>Issued</td><td>2016-11-29 09:10:08</td><td>2017-12-31 00:00:00</td><td>Restaurant Class 1</td><td>With Liquor Service</td><td>null</td><td>null</td><td>1102</td><td>W BROADWAY</td><td>Vancouver</td><td>BC</td><td>CA</td><td>V6H 1G5</td><td>Fairview</td><td>10.0</td><td>1063</td><td>2020-01-01 02:32:04</td><td>&quot;{&quot;&quot;type&quot;&quot;: &quot;&quot;Poi...</td></tr>\n",
       "<tr><td>14</td><td>2157871</td><td>14-145460</td><td>0</td><td>Nagomi Project Ltd</td><td>Shizen Ya</td><td>Issued</td><td>2013-12-13 10:56:37</td><td>2014-12-31 00:00:00</td><td>Restaurant Class 1</td><td>With Liquor Service</td><td>null</td><td>null</td><td>1102</td><td>W BROADWAY</td><td>Vancouver</td><td>BC</td><td>CA</td><td>V6H 1G5</td><td>Fairview</td><td>8.0</td><td>999</td><td>2019-07-21 13:49:12</td><td>&quot;{&quot;&quot;type&quot;&quot;: &quot;&quot;Poi...</td></tr>\n",
       "<tr><td>15</td><td>2376219</td><td>15-146481</td><td>0</td><td>Nagomi Project Ltd</td><td>Natural Food Shiz...</td><td>Issued</td><td>2014-10-31 16:52:01</td><td>2015-12-31 00:00:00</td><td>Restaurant Class 1</td><td>With Liquor Service</td><td>null</td><td>null</td><td>985</td><td>HORNBY ST</td><td>Vancouver</td><td>BC</td><td>CA</td><td>V6Z 1V3</td><td>Downtown</td><td>10.0</td><td>878</td><td>2019-07-21 13:49:16</td><td>&quot;{&quot;&quot;type&quot;&quot;: &quot;&quot;Poi...</td></tr>\n",
       "<tr><td>14</td><td>2158834</td><td>14-146423</td><td>0</td><td>Nagomi Project Ltd</td><td>Natural Food Shiz...</td><td>Issued</td><td>2013-12-10 22:39:49</td><td>2014-12-31 00:00:00</td><td>Restaurant Class 1</td><td>With Liquor Service</td><td>null</td><td>null</td><td>985</td><td>HORNBY ST</td><td>Vancouver</td><td>BC</td><td>CA</td><td>V6Z 1V3</td><td>Downtown</td><td>7.0</td><td>860</td><td>2019-07-21 13:49:12</td><td>&quot;{&quot;&quot;type&quot;&quot;: &quot;&quot;Poi...</td></tr>\n",
       "</table>\n"
      ],
      "text/plain": [
       "+----------+----------+-------------+---------------------+------------------+--------------------+------+-------------------+-------------------+------------------+-------------------+----+--------+-----+----------+---------+--------+-------+----------+---------+-----------------+-------+-------------------+--------------------+\n",
       "|FOLDERYEAR|LicenceRSN|LicenceNumber|LicenceRevisionNumber|      BusinessName|   BusinessTradeName|Status|         IssuedDate|        ExpiredDate|      BusinessType|    BusinessSubType|Unit|UnitType|House|    Street|     City|Province|Country|PostalCode|LocalArea|NumberofEmployees|FeePaid|        ExtractDate|                Geom|\n",
       "+----------+----------+-------------+---------------------+------------------+--------------------+------+-------------------+-------------------+------------------+-------------------+----+--------+-----+----------+---------+--------+-------+----------+---------+-----------------+-------+-------------------+--------------------+\n",
       "|        16|   2603912|    16-145075|                    0|Nagomi Project Ltd|           Shizen Ya|Issued|2015-11-05 11:26:12|2016-12-31 00:00:00|Restaurant Class 1|With Liquor Service|null|    null| 1102|W BROADWAY|Vancouver|      BC|     CA|   V6H 1G5| Fairview|             10.0|   1042|2019-07-21 13:49:20|\"{\"\"type\"\": \"\"Poi...|\n",
       "|        17|   2819772|    17-143449|                    0|Nagomi Project Ltd|           Shizen Ya|Issued|2016-11-29 09:10:08|2017-12-31 00:00:00|Restaurant Class 1|With Liquor Service|null|    null| 1102|W BROADWAY|Vancouver|      BC|     CA|   V6H 1G5| Fairview|             10.0|   1063|2020-01-01 02:32:04|\"{\"\"type\"\": \"\"Poi...|\n",
       "|        14|   2157871|    14-145460|                    0|Nagomi Project Ltd|           Shizen Ya|Issued|2013-12-13 10:56:37|2014-12-31 00:00:00|Restaurant Class 1|With Liquor Service|null|    null| 1102|W BROADWAY|Vancouver|      BC|     CA|   V6H 1G5| Fairview|              8.0|    999|2019-07-21 13:49:12|\"{\"\"type\"\": \"\"Poi...|\n",
       "|        15|   2376219|    15-146481|                    0|Nagomi Project Ltd|Natural Food Shiz...|Issued|2014-10-31 16:52:01|2015-12-31 00:00:00|Restaurant Class 1|With Liquor Service|null|    null|  985| HORNBY ST|Vancouver|      BC|     CA|   V6Z 1V3| Downtown|             10.0|    878|2019-07-21 13:49:16|\"{\"\"type\"\": \"\"Poi...|\n",
       "|        14|   2158834|    14-146423|                    0|Nagomi Project Ltd|Natural Food Shiz...|Issued|2013-12-10 22:39:49|2014-12-31 00:00:00|Restaurant Class 1|With Liquor Service|null|    null|  985| HORNBY ST|Vancouver|      BC|     CA|   V6Z 1V3| Downtown|              7.0|    860|2019-07-21 13:49:12|\"{\"\"type\"\": \"\"Poi...|\n",
       "+----------+----------+-------------+---------------------+------------------+--------------------+------+-------------------+-------------------+------------------+-------------------+----+--------+-----+----------+---------+--------+-------+----------+---------+-----------------+-------+-------------------+--------------------+"
      ]
     },
     "execution_count": 24,
     "metadata": {},
     "output_type": "execute_result"
    }
   ],
   "source": [
    "search_restaurant('Shizen', 5)"
   ]
  },
  {
   "cell_type": "code",
   "execution_count": 106,
   "metadata": {},
   "outputs": [
    {
     "data": {
      "text/html": [
       "<table border='1'>\n",
       "<tr><th>FOLDERYEAR</th><th>LicenceRSN</th><th>LicenceNumber</th><th>LicenceRevisionNumber</th><th>BusinessName</th><th>BusinessTradeName</th><th>Status</th><th>IssuedDate</th><th>ExpiredDate</th><th>BusinessType</th><th>BusinessSubType</th><th>Unit</th><th>UnitType</th><th>House</th><th>Street</th><th>City</th><th>Province</th><th>Country</th><th>PostalCode</th><th>LocalArea</th><th>NumberofEmployees</th><th>FeePaid</th><th>ExtractDate</th><th>Geom</th></tr>\n",
       "<tr><td>0</td><td>0</td><td>0</td><td>0</td><td>0</td><td>0</td><td>0</td><td>3261</td><td>3260</td><td>0</td><td>12929</td><td>25242</td><td>25238</td><td>17</td><td>17</td><td>0</td><td>0</td><td>2</td><td>243</td><td>87</td><td>0</td><td>2537</td><td>0</td><td>831</td></tr>\n",
       "</table>\n"
      ],
      "text/plain": [
       "+----------+----------+-------------+---------------------+------------+-----------------+------+----------+-----------+------------+---------------+-----+--------+-----+------+----+--------+-------+----------+---------+-----------------+-------+-----------+----+\n",
       "|FOLDERYEAR|LicenceRSN|LicenceNumber|LicenceRevisionNumber|BusinessName|BusinessTradeName|Status|IssuedDate|ExpiredDate|BusinessType|BusinessSubType| Unit|UnitType|House|Street|City|Province|Country|PostalCode|LocalArea|NumberofEmployees|FeePaid|ExtractDate|Geom|\n",
       "+----------+----------+-------------+---------------------+------------+-----------------+------+----------+-----------+------------+---------------+-----+--------+-----+------+----+--------+-------+----------+---------+-----------------+-------+-----------+----+\n",
       "|         0|         0|            0|                    0|           0|                0|     0|      3261|       3260|           0|          12929|25242|   25238|   17|    17|   0|       0|      2|       243|       87|                0|   2537|          0| 831|\n",
       "+----------+----------+-------------+---------------------+------------+-----------------+------+----------+-----------+------------+---------------+-----+--------+-----+------+----+--------+-------+----------+---------+-----------------+-------+-----------+----+"
      ]
     },
     "execution_count": 106,
     "metadata": {},
     "output_type": "execute_result"
    }
   ],
   "source": [
    "# number of missing values of each column\n",
    "licences_rest_df.select(*(sum(col(c).isNull().cast(\"int\")).alias(c) for c in licences_rest_df.columns))"
   ]
  },
  {
   "cell_type": "code",
   "execution_count": 751,
   "metadata": {},
   "outputs": [],
   "source": [
    "# use this table to populate the features from yelp\n",
    "\n",
    "rest_distinct_df = licences_rest_df.select(['FOLDERYEAR', 'Status', \n",
    "                                            'BusinessTradeName', 'Geom', \n",
    "                                            'PostalCode', 'Unit', 'House', \n",
    "                                            'Street', 'City']).distinct()"
   ]
  },
  {
   "cell_type": "code",
   "execution_count": 736,
   "metadata": {},
   "outputs": [
    {
     "data": {
      "text/plain": [
       "'There are 4504 restaurant locations'"
      ]
     },
     "execution_count": 736,
     "metadata": {},
     "output_type": "execute_result"
    }
   ],
   "source": [
    "f'There are %i restaurant locations' % licences_rest_df.select(['Geom', 'PostalCode', 'Unit', \n",
    "                                                                'House', 'Street', 'City']).distinct().count()"
   ]
  },
  {
   "cell_type": "code",
   "execution_count": 733,
   "metadata": {},
   "outputs": [
    {
     "data": {
      "text/plain": [
       "'There are 6637 closed/open restaurants locations'"
      ]
     },
     "execution_count": 733,
     "metadata": {},
     "output_type": "execute_result"
    }
   ],
   "source": [
    "f'There are %i closed/open restaurants locations' % licences_rest_df.select(['BusinessTradeName', 'Geom', 'PostalCode', \n",
    "                                                                             'Unit', 'House', 'Street', 'City']).distinct().count()\n",
    "\n",
    "# this includes restuarants that changed locations"
   ]
  },
  {
   "cell_type": "code",
   "execution_count": 441,
   "metadata": {},
   "outputs": [
    {
     "data": {
      "text/html": [
       "<table border='1'>\n",
       "<tr><th>BusinessTradeName</th></tr>\n",
       "<tr><td>Fresh Counter &amp; C...</td></tr>\n",
       "<tr><td>Siga-Siga&#x27;s Chine...</td></tr>\n",
       "<tr><td>Siga-Siga&#x27;s Filip...</td></tr>\n",
       "<tr><td>Panz Veggie</td></tr>\n",
       "<tr><td>Craft Beer Market...</td></tr>\n",
       "<tr><td>Fiery Pizza</td></tr>\n",
       "</table>\n"
      ],
      "text/plain": [
       "+--------------------+\n",
       "|   BusinessTradeName|\n",
       "+--------------------+\n",
       "|Fresh Counter & C...|\n",
       "|Siga-Siga's Chine...|\n",
       "|Siga-Siga's Filip...|\n",
       "|         Panz Veggie|\n",
       "|Craft Beer Market...|\n",
       "|         Fiery Pizza|\n",
       "+--------------------+"
      ]
     },
     "execution_count": 441,
     "metadata": {},
     "output_type": "execute_result"
    }
   ],
   "source": [
    "rest_distinct_df.filter('House is null')\\\n",
    "                .filter('Street is null')\\\n",
    "                .select('BusinessTradeName')\\\n",
    "                .distinct()"
   ]
  },
  {
   "cell_type": "markdown",
   "metadata": {},
   "source": [
    "> The Yelp API requires an address of these restaurants and 6 restaurants do not have any address. Since this is an insignificant proportion of the data, I will simply remove them."
   ]
  },
  {
   "cell_type": "code",
   "execution_count": 752,
   "metadata": {},
   "outputs": [],
   "source": [
    "rest_distinct_df = rest_distinct_df.dropna(how = 'all', subset = ['House', 'Street'])"
   ]
  },
  {
   "cell_type": "markdown",
   "metadata": {},
   "source": [
    "> Problem: can't get information for old closed restuarants \n",
    "> - initial thoughts: have to find an external API that has archived webpages\n",
    "> - maybe a solution: businesses/search doesn't give closed restuarants but businesses/matches does (have to have exact address) and then get the ID from this output and input into businesses/{id}"
   ]
  },
  {
   "cell_type": "code",
   "execution_count": 753,
   "metadata": {},
   "outputs": [],
   "source": [
    "# Here I am ordering the status such that if in a single year, there are multiple statuses, I will take the greatest\n",
    "\n",
    "rest_distinct_df = rest_distinct_df.withColumn('Status', \n",
    "                            when(col('Status') == 'Inactive', 0)\n",
    "                            .when(col('Status') == 'Cancelled', 1)\n",
    "                            .when(col('Status') == 'Gone Out of Business', 2)\n",
    "                            .when(col('Status') == 'Pending', 3)\n",
    "                            .when(col('Status') == 'Issued', 4))"
   ]
  },
  {
   "cell_type": "code",
   "execution_count": 754,
   "metadata": {},
   "outputs": [],
   "source": [
    "# This will get the latest location of a restaurant\n",
    "# if in a single year, the restuarant is both cancelled and gone out of businesss, aggregate into 1 category\n",
    "# if in a single year, the restuarant is both cancelled and issued, aggregate into 1 category - this means the restuarant moved locations\n",
    "latest_year = rest_distinct_df.sort(['FOLDERYEAR', 'Status'])\\\n",
    "                              .groupBy('BusinessTradeName')\\\n",
    "                              .agg(last('Status').alias('Status'), \n",
    "                                   last('FOLDERYEAR').alias('FOLDERYEAR'))\n",
    "\n",
    "rest_distinct_df = rest_distinct_df.join(latest_year, on = ['Status', 'FOLDERYEAR', 'BusinessTradeName'], how = 'leftsemi')"
   ]
  },
  {
   "cell_type": "code",
   "execution_count": 445,
   "metadata": {},
   "outputs": [
    {
     "data": {
      "text/plain": [
       "5740"
      ]
     },
     "execution_count": 445,
     "metadata": {},
     "output_type": "execute_result"
    }
   ],
   "source": [
    "rest_distinct_df.count()"
   ]
  },
  {
   "cell_type": "code",
   "execution_count": 446,
   "metadata": {},
   "outputs": [],
   "source": [
    "# create new columns for longitude and latitude\n",
    "rest_distinct_df = rest_distinct_df.withColumn('longitude', regexp_extract(col('Geom'), '\\[(.+), (.+)\\]', 1).cast('float'))\\\n",
    "                                   .withColumn('latitude', regexp_extract(col('Geom'), '\\[(.+), (.+)\\]', 2).cast('float'))\\\n",
    "                                   .drop('Geom')"
   ]
  },
  {
   "cell_type": "code",
   "execution_count": 447,
   "metadata": {},
   "outputs": [
    {
     "data": {
      "text/html": [
       "<table border='1'>\n",
       "<tr><th>Status</th><th>FOLDERYEAR</th><th>BusinessTradeName</th><th>PostalCode</th><th>Unit</th><th>House</th><th>Street</th><th>City</th><th>longitude</th><th>latitude</th></tr>\n",
       "<tr><td>1</td><td>17</td><td>George Simnos &amp; J...</td><td>V5V 4E9</td><td>null</td><td>4153</td><td>FRASER ST</td><td>Vancouver</td><td>-123.09054</td><td>49.248013</td></tr>\n",
       "<tr><td>2</td><td>15</td><td>Sodexo @Vancouver...</td><td>V5T 4V5</td><td>null</td><td>1120</td><td>E 7TH AV</td><td>Vancouver</td><td>-123.08036</td><td>49.2633</td></tr>\n",
       "<tr><td>2</td><td>16</td><td>Cilantro Cafe</td><td>V6Z 2L2</td><td>110</td><td>840</td><td>HOWE ST</td><td>Vancouver</td><td>-123.121574</td><td>49.281162</td></tr>\n",
       "<tr><td>2</td><td>17</td><td>O-Bowl</td><td>V6K 2H3</td><td>null</td><td>3132</td><td>W BROADWAY</td><td>Vancouver</td><td>-123.17483</td><td>49.26392</td></tr>\n",
       "<tr><td>2</td><td>17</td><td>Swiss Chalet Roti...</td><td>V6K 2H4</td><td>null</td><td>3204</td><td>W BROADWAY</td><td>Vancouver</td><td>-123.176216</td><td>49.26395</td></tr>\n",
       "</table>\n"
      ],
      "text/plain": [
       "+------+----------+--------------------+----------+----+-----+----------+---------+-----------+---------+\n",
       "|Status|FOLDERYEAR|   BusinessTradeName|PostalCode|Unit|House|    Street|     City|  longitude| latitude|\n",
       "+------+----------+--------------------+----------+----+-----+----------+---------+-----------+---------+\n",
       "|     1|        17|George Simnos & J...|   V5V 4E9|null| 4153| FRASER ST|Vancouver| -123.09054|49.248013|\n",
       "|     2|        15|Sodexo @Vancouver...|   V5T 4V5|null| 1120|  E 7TH AV|Vancouver| -123.08036|  49.2633|\n",
       "|     2|        16|       Cilantro Cafe|   V6Z 2L2| 110|  840|   HOWE ST|Vancouver|-123.121574|49.281162|\n",
       "|     2|        17|              O-Bowl|   V6K 2H3|null| 3132|W BROADWAY|Vancouver| -123.17483| 49.26392|\n",
       "|     2|        17|Swiss Chalet Roti...|   V6K 2H4|null| 3204|W BROADWAY|Vancouver|-123.176216| 49.26395|\n",
       "+------+----------+--------------------+----------+----+-----+----------+---------+-----------+---------+"
      ]
     },
     "execution_count": 447,
     "metadata": {},
     "output_type": "execute_result"
    }
   ],
   "source": [
    "rest_distinct_df.limit(5)"
   ]
  },
  {
   "cell_type": "markdown",
   "metadata": {},
   "source": [
    "Is the restaurant part of a chain?  \n",
    "How many other restaurants are nearby (within one mile)?  \n",
    "How does it compare to nearby restaurants (based on price, but also its average rating — and the number of reviews)?  \n",
    "How old is the restaurants?"
   ]
  },
  {
   "cell_type": "markdown",
   "metadata": {},
   "source": [
    "## YELP API\n",
    "\n",
    "https://www.yelp.ca/developers/documentation/v3/get_started   \n",
    "https://github.com/Yelp/yelp-fusion#code-samples\n"
   ]
  },
  {
   "cell_type": "code",
   "execution_count": null,
   "metadata": {},
   "outputs": [],
   "source": [
    "rest_distinct_list = rest_distinct_df.collect()"
   ]
  },
  {
   "cell_type": "code",
   "execution_count": 827,
   "metadata": {},
   "outputs": [
    {
     "data": {
      "text/plain": [
       "Row(Status=1, FOLDERYEAR=17, BusinessTradeName='George Simnos & Joakim Bostner & Stelio Loukakos', PostalCode='V5V 4E9', Unit=None, House='4153', Street='FRASER ST', City='Vancouver', longitude=-123.09053802490234, latitude=49.24801254272461)"
      ]
     },
     "execution_count": 827,
     "metadata": {},
     "output_type": "execute_result"
    }
   ],
   "source": [
    "rest_distinct_list[0]"
   ]
  },
  {
   "cell_type": "code",
   "execution_count": 962,
   "metadata": {},
   "outputs": [],
   "source": [
    "api_key = os.getenv('YELP_API_KEY')\n",
    "headers = {'Authorization': 'Bearer %s' % api_key}\n",
    "\n",
    "data = dict(identifier = [],\n",
    "            name = [],\n",
    "            unit = [],\n",
    "            house = [],\n",
    "            street = [],\n",
    "            address = [],\n",
    "            postal_code = [],\n",
    "            latitude = [],\n",
    "            longitude = [],\n",
    "            city = [],\n",
    "            yelp_call = [])\n"
   ]
  },
  {
   "cell_type": "code",
   "execution_count": 963,
   "metadata": {},
   "outputs": [],
   "source": [
    "def get_params(rest):\n",
    "    \n",
    "    name = rest.BusinessTradeName\n",
    "    \n",
    "    house = rest.House\n",
    "    street = rest.Street\n",
    "    if rest.Unit == None:\n",
    "        unit = ''\n",
    "    else:\n",
    "        unit = rest.Unit\n",
    "    address = ' '.join([unit, house, street])\n",
    "    \n",
    "    if rest.PostalCode == None:\n",
    "        postal_code = ''\n",
    "    else:\n",
    "        postal_code = rest.PostalCode\n",
    "            \n",
    "    if rest.latitude == None:\n",
    "        latitude = None\n",
    "        longitude = None\n",
    "    else:    \n",
    "        latitude = rest.latitude\n",
    "        longitude = rest.longitude\n",
    "        \n",
    "    city = rest.City\n",
    "    \n",
    "    return name, address, postal_code, latitude, longitude, city\n",
    "\n",
    "def make_call_1(headers, params):\n",
    "    \n",
    "    request_1 = requests.get('https://api.yelp.com/v3/businesses/matches', \n",
    "                             headers = headers, params = params)\n",
    "\n",
    "    result_1 = request_1.json()\n",
    "    \n",
    "    return request_1, result_1\n",
    "\n",
    "\n",
    "def make_call_2(headers, params, request_1, result_1, recall = False):\n",
    "    # checks if the output was empty   \n",
    "    if request_1.status_code != 200 or len(result_1['businesses']) == 0:\n",
    "        result_2 = None\n",
    "        data['yelp_call'].append(result_2)\n",
    "\n",
    "\n",
    "    else:\n",
    "        rest_id = result_1['businesses'][0]['id']\n",
    "        result_2 = requests.get('https://api.yelp.com/v3/businesses/{}'\n",
    "                                 .format(rest_id), headers = headers).json()\n",
    "        if recall == True:\n",
    "            data['yelp_call'][i] = result_2\n",
    "        else:\n",
    "            data['yelp_call'].append(result_2)\n",
    "    \n",
    "    return result_2"
   ]
  },
  {
   "cell_type": "code",
   "execution_count": 964,
   "metadata": {},
   "outputs": [
    {
     "name": "stdout",
     "output_type": "stream",
     "text": [
      "0 restaurants collected\n",
      "50 restaurants collected\n",
      "100 restaurants collected\n",
      "150 restaurants collected\n",
      "200 restaurants collected\n",
      "250 restaurants collected\n",
      "300 / 5740 restaurants collected\n",
      "Data saved in data/yelp/ as rest_yelp_api.pkl\n"
     ]
    }
   ],
   "source": [
    "for i in range(len(rest_distinct_list[0:300])):\n",
    "\n",
    "    name, address, postal_code, latitude, longitude, city = get_params(rest_distinct_list[i])\n",
    "    \n",
    "    identifier = ' '.join([name, \n",
    "                           address, \n",
    "                           postal_code])\n",
    "\n",
    "    params = {'apikey': api_key,\n",
    "              'name': name,\n",
    "              'address1': address,\n",
    "              'zip_code': postal_code,\n",
    "              'latitude': latitude,\n",
    "              'longitude': longitude,\n",
    "              'city': city,\n",
    "              'state': 'BC',\n",
    "              'country': 'CA',\n",
    "              'match_threshold': 'none',\n",
    "              'limit': 1}\n",
    "    \n",
    "    # doesn't make a request if already have the data\n",
    "    if identifier not in data['identifier']:\n",
    "        data['identifier'].append(identifier)\n",
    "        \n",
    "        # for joining back to original dataframe\n",
    "        data['name'].append(name)\n",
    "        data['house'].append(rest_distinct_list[i].House)\n",
    "        data['street'].append(rest_distinct_list[i].Street)\n",
    "        data['unit'].append(rest_distinct_list[i].Unit)\n",
    "        \n",
    "        # for making more calls\n",
    "        data['address'].append(address)\n",
    "        data['postal_code'].append(postal_code)\n",
    "        data['latitude'].append(latitude)\n",
    "        data['longitude'].append(longitude)\n",
    "        data['city'].append(city)\n",
    "        \n",
    "        request_1, result_1 = make_call_1(headers, params)\n",
    "        \n",
    "        if request_1.status_code == 429:\n",
    "            print('Yelp API call limit reached')\n",
    "            print('Saving data...')\n",
    "            path = '../data/'\n",
    "            filename = 'rest_yelp_api.pkl'\n",
    "\n",
    "            with open(path + filename, 'wb') as f:\n",
    "                pickle.dump(data, f, pickle.HIGHEST_PROTOCOL)\n",
    "            print('Data saved in {} as {}'.format(path, file))\n",
    "        \n",
    "            break\n",
    "            \n",
    "        result_2 = make_call_2(headers, params, request_1, result_1)\n",
    "        \n",
    "        # sometimes the API gives an error so gotta go back and redo those calls\n",
    "        if result_2 == None:\n",
    "            pass\n",
    "        elif 'error' in result_2:\n",
    "            print('The yelp call for {} has an error'.format(name))\n",
    "            print('redoing yelp call...')\n",
    "            \n",
    "            request_1_recall, result_1_recall = make_call_1(headers, params)\n",
    "        \n",
    "            result_2_recall = make_call_2(headers, params, \n",
    "                                          request_1_recall, \n",
    "                                          result_1_recall, recall = True)\n",
    "            \n",
    "            if 'error' not in result_2_recall:\n",
    "                print('Fixed!')\n",
    "            \n",
    "    if i % 50 == 0:\n",
    "        print(i, 'restaurants collected')\n",
    "\n",
    "print('{} / {} restaurants collected'.format(i + 1, len(rest_distinct_list)))\n",
    "path = 'data/yelp/'\n",
    "filename = 'rest_yelp_api.pkl'\n",
    "with open(path + filename, 'wb') as f:\n",
    "    pickle.dump(data, f, pickle.HIGHEST_PROTOCOL)\n",
    "print('Data saved in {} as {}'.format(path, file))"
   ]
  },
  {
   "cell_type": "code",
   "execution_count": 965,
   "metadata": {},
   "outputs": [],
   "source": [
    "# sometimes the API gives an error so gotta go back and redo those calls\n",
    "\n",
    "for i in range(len(data['yelp_call'])):\n",
    "    if data['yelp_call'][i] == None:\n",
    "        pass\n",
    "    elif 'error' in data['yelp_call'][i]:\n",
    "        print('The yelp call for {} has an error'.format(data['name'][i]))\n",
    "        print('redoing yelp call...')\n",
    "        params = {'apikey': api_key,\n",
    "              'name': data['name'][i],\n",
    "              'address1': data['address'][i],\n",
    "              'zip_code': data['postal_code'][i],\n",
    "              'latitude': data['latitude'][i],\n",
    "              'longitude': data['longitude'][i],\n",
    "              'city': data['city'][i],\n",
    "              'state': 'BC',\n",
    "              'country': 'CA',\n",
    "              'match_threshold': 'none',\n",
    "              'limit': 1}\n",
    "        \n",
    "        request_1, result_1 = make_call_1(headers, params)\n",
    "        \n",
    "        result_2 = make_call_2(headers, params, request_1, result_1, recall = True)\n",
    "        if 'error' not in result_2:\n",
    "            print('Success!')"
   ]
  },
  {
   "cell_type": "code",
   "execution_count": 947,
   "metadata": {},
   "outputs": [],
   "source": [
    "with open(path + filename, 'rb') as f:\n",
    "    data = pickle.load(f)"
   ]
  },
  {
   "cell_type": "code",
   "execution_count": 930,
   "metadata": {},
   "outputs": [],
   "source": [
    "data_clean = dict(name = [],\n",
    "                  categories = [],\n",
    "                  rating = [],\n",
    "                  review_count = [],\n",
    "                  price = [])"
   ]
  },
  {
   "cell_type": "code",
   "execution_count": 931,
   "metadata": {},
   "outputs": [],
   "source": [
    "for name in data['name']:\n",
    "    data_clean['name'].append(name)\n",
    "for call in data['yelp_call']:\n",
    "    if call == None:\n",
    "        data_clean['categories'].append(None)\n",
    "        data_clean['rating'].append(None)\n",
    "        data_clean['review_count'].append(None)\n",
    "        data_clean['price'].append(None)\n",
    "    else:\n",
    "        if 'categories' not in call:\n",
    "            data_clean['categories'].append(None)\n",
    "        else:\n",
    "            data_clean['categories'].append(call['categories'])\n",
    "\n",
    "        if 'rating' not in call:\n",
    "            data_clean['rating'].append(None)\n",
    "        else:\n",
    "            data_clean['rating'].append(call['rating'])\n",
    "\n",
    "        if 'review_count' not in call:\n",
    "            data_clean['review_count'].append(None)\n",
    "        else:\n",
    "            data_clean['review_count'].append(call['review_count'])\n",
    "\n",
    "        if 'price' not in call:\n",
    "            data_clean['price'].append(None)\n",
    "        else:\n",
    "            data_clean['price'].append(call['price'])\n"
   ]
  },
  {
   "cell_type": "code",
   "execution_count": 932,
   "metadata": {},
   "outputs": [
    {
     "data": {
      "text/plain": [
       "{'name': ['George Simnos & Joakim Bostner & Stelio Loukakos',\n",
       "  'Sodexo @Vancouver Community College',\n",
       "  'Cilantro Cafe',\n",
       "  'O-Bowl',\n",
       "  'Swiss Chalet Rotisserie + Grill',\n",
       "  'Zeenaz Kitchen',\n",
       "  'Rouge Bistro Inc',\n",
       "  \"Old Xian's Food\",\n",
       "  'Cornerstone Coffee',\n",
       "  'Ivy Lounge',\n",
       "  'Kouign Cafe Inc',\n",
       "  'Buttermere Patisserie Ltd',\n",
       "  'Grillzilla Bistro',\n",
       "  'Hastings Club Hospitality Corp',\n",
       "  'Bob Likes Thai Food Inc',\n",
       "  'Come Along Chinese Seafood Restaurant',\n",
       "  'Copper Chimney',\n",
       "  'Dumpling House',\n",
       "  'Hybar Bentall',\n",
       "  'La Pache Pizza Ltd',\n",
       "  'Le Gateau Bake Shop',\n",
       "  'MIX The Bakery',\n",
       "  'Marble Slab Creamery',\n",
       "  'Mei Yee Bakery Ltd',\n",
       "  'New Bahia Sweet Shop & Restaurant Ltd',\n",
       "  'Rio Theatre',\n",
       "  'Sushi Den',\n",
       "  'Thu Hien',\n",
       "  'Tokyo John Sushi',\n",
       "  'Wing T Poon (Wing Poon)',\n",
       "  'Cray Kitchen and Bar',\n",
       "  'Kampuchea',\n",
       "  'Masala Cafe',\n",
       "  'The Burritos Bros Mexican Food Corp',\n",
       "  'Luxury Hotels International of Canada ULC / Metropolitan Hotel Vancouver',\n",
       "  '900 West Restaurant & Wine Bar',\n",
       "  'Zest Japaneses Cuisine',\n",
       "  'Book Kyung Ban Jeoun Restaurant',\n",
       "  'Chi House',\n",
       "  'Donair Land',\n",
       "  'Foret Noire Patisserie',\n",
       "  'Fresh Ideas Start Here Market Ltd',\n",
       "  'Juke Fried Chicken',\n",
       "  'Kopitiam Malaysia',\n",
       "  'Las Tortas Mexican Gourmet Sandwich',\n",
       "  'Le Crocodile Restaurant',\n",
       "  'Ma-Dang-Coul Korean Restaurant',\n",
       "  'Starbucks Coffee #4890',\n",
       "  'Szechuan Chili Restaurant',\n",
       "  'Temaki Sushi',\n",
       "  'The Soap Dispensary and Kitchen Staples',\n",
       "  \"Tim Horton's\",\n",
       "  \"Tim Horton's\",\n",
       "  \"Tim Horton's\",\n",
       "  \"Tim Horton's\",\n",
       "  \"Tim Horton's\",\n",
       "  \"Tim Horton's\",\n",
       "  \"Tim Horton's\",\n",
       "  \"Tim Horton's\",\n",
       "  \"Tim Horton's\",\n",
       "  \"Tim Horton's\",\n",
       "  \"Tim Horton's\",\n",
       "  \"Tim Horton's\",\n",
       "  \"Tim Horton's\",\n",
       "  \"Tim Horton's\",\n",
       "  'Vancouver Professional Baseball LLP',\n",
       "  'Thai Terrace',\n",
       "  'Red Racer',\n",
       "  \"Children's Zoo Concession\",\n",
       "  'Cravings Restaurant And Sports Bar',\n",
       "  'Donair Hut Plus',\n",
       "  '280 Coffee Shop Ltd',\n",
       "  'Asian Tasty Restaurant',\n",
       "  'Everything Cafe',\n",
       "  \"Let's Roll Custom Sushi Bar\",\n",
       "  'Liquid Nutrition',\n",
       "  'Cafe Phuong Truc',\n",
       "  'Kul Cup',\n",
       "  'Steel Toad Brew Pub and Dining Hall',\n",
       "  'Teriyaki Bowl Japanese Restaurant',\n",
       "  'Chit Chat Burgers Ltd',\n",
       "  'Flip Side Desserts Ltd',\n",
       "  'Milano Coffee',\n",
       "  'Nirvana Restaurant',\n",
       "  'Soup Zone Restaurant Ltd',\n",
       "  'Tuc Craft Kitchen',\n",
       "  'Big Star Donuts',\n",
       "  \"Cham's\",\n",
       "  'Thai Away Home - Cambie',\n",
       "  'The Beaver and Mullet',\n",
       "  \"Yadi's Medi Grill\",\n",
       "  'Bowls of Stars Cafe',\n",
       "  'Arbutus Village Subway',\n",
       "  'Cafe Sushi House',\n",
       "  'Island Market',\n",
       "  'Smokehouse Sandwich Co',\n",
       "  'Empire Landmark Hotel & Conference Centre',\n",
       "  'Madras Dosa Houses',\n",
       "  \"Szechuan Zeng's Restaurant\",\n",
       "  'Alenka European Food'],\n",
       " 'categories': [[{'alias': 'coffee', 'title': 'Coffee & Tea'},\n",
       "   {'alias': 'breakfast_brunch', 'title': 'Breakfast & Brunch'},\n",
       "   {'alias': 'diners', 'title': 'Diners'}],\n",
       "  [{'alias': 'collegeuniv', 'title': 'Colleges & Universities'}],\n",
       "  [{'alias': 'cafes', 'title': 'Cafes'},\n",
       "   {'alias': 'breakfast_brunch', 'title': 'Breakfast & Brunch'}],\n",
       "  [{'alias': 'asianfusion', 'title': 'Asian Fusion'}],\n",
       "  [{'alias': 'comfortfood', 'title': 'Comfort Food'},\n",
       "   {'alias': 'tradamerican', 'title': 'American (Traditional)'}],\n",
       "  None,\n",
       "  [{'alias': 'tradamerican', 'title': 'American (Traditional)'}],\n",
       "  [{'alias': 'chinese', 'title': 'Chinese'}],\n",
       "  [{'alias': 'coffee', 'title': 'Coffee & Tea'}],\n",
       "  [{'alias': 'lounges', 'title': 'Lounges'}],\n",
       "  None,\n",
       "  [{'alias': 'cakeshop', 'title': 'Patisserie/Cake Shop'},\n",
       "   {'alias': 'bakeries', 'title': 'Bakeries'},\n",
       "   {'alias': 'desserts', 'title': 'Desserts'}],\n",
       "  [{'alias': 'breakfast_brunch', 'title': 'Breakfast & Brunch'},\n",
       "   {'alias': 'chinese', 'title': 'Chinese'},\n",
       "   {'alias': 'newcanadian', 'title': 'Canadian (New)'}],\n",
       "  [{'alias': 'tikibars', 'title': 'Tiki Bars'}],\n",
       "  [{'alias': 'thai', 'title': 'Thai'}],\n",
       "  [{'alias': 'dimsum', 'title': 'Dim Sum'},\n",
       "   {'alias': 'seafood', 'title': 'Seafood'}],\n",
       "  [{'alias': 'indpak', 'title': 'Indian'}],\n",
       "  [{'alias': 'dimsum', 'title': 'Dim Sum'}],\n",
       "  [{'alias': 'physicaltherapy', 'title': 'Physical Therapy'}],\n",
       "  [{'alias': 'pizza', 'title': 'Pizza'}],\n",
       "  [{'alias': 'desserts', 'title': 'Desserts'},\n",
       "   {'alias': 'bakeries', 'title': 'Bakeries'},\n",
       "   {'alias': 'cakeshop', 'title': 'Patisserie/Cake Shop'}],\n",
       "  [{'alias': 'bakeries', 'title': 'Bakeries'},\n",
       "   {'alias': 'sandwiches', 'title': 'Sandwiches'}],\n",
       "  [{'alias': 'icecream', 'title': 'Ice Cream & Frozen Yogurt'}],\n",
       "  [{'alias': 'bakeries', 'title': 'Bakeries'}],\n",
       "  [{'alias': 'indpak', 'title': 'Indian'}],\n",
       "  [{'alias': 'movietheaters', 'title': 'Cinema'},\n",
       "   {'alias': 'theater', 'title': 'Performing Arts'}],\n",
       "  [{'alias': 'japanese', 'title': 'Japanese'},\n",
       "   {'alias': 'sushi', 'title': 'Sushi Bars'}],\n",
       "  [{'alias': 'vietnamese', 'title': 'Vietnamese'},\n",
       "   {'alias': 'delis', 'title': 'Delis'}],\n",
       "  [{'alias': 'japanese', 'title': 'Japanese'},\n",
       "   {'alias': 'sushi', 'title': 'Sushi Bars'}],\n",
       "  [{'alias': 'desserts', 'title': 'Desserts'}],\n",
       "  [{'alias': 'cajun', 'title': 'Cajun/Creole'},\n",
       "   {'alias': 'seafood', 'title': 'Seafood'},\n",
       "   {'alias': 'burgers', 'title': 'Burgers'}],\n",
       "  [],\n",
       "  [{'alias': 'indpak', 'title': 'Indian'},\n",
       "   {'alias': 'vegan', 'title': 'Vegan'},\n",
       "   {'alias': 'gluten_free', 'title': 'Gluten-Free'}],\n",
       "  [{'alias': 'mexican', 'title': 'Mexican'}],\n",
       "  None,\n",
       "  [{'alias': 'wine_bars', 'title': 'Wine Bars'}],\n",
       "  [{'alias': 'japanese', 'title': 'Japanese'}],\n",
       "  [{'alias': 'korean', 'title': 'Korean'},\n",
       "   {'alias': 'chinese', 'title': 'Chinese'}],\n",
       "  [{'alias': 'chinese', 'title': 'Chinese'}],\n",
       "  [{'alias': 'indpak', 'title': 'Indian'},\n",
       "   {'alias': 'mediterranean', 'title': 'Mediterranean'}],\n",
       "  [{'alias': 'desserts', 'title': 'Desserts'},\n",
       "   {'alias': 'cakeshop', 'title': 'Patisserie/Cake Shop'},\n",
       "   {'alias': 'coffee', 'title': 'Coffee & Tea'}],\n",
       "  [{'alias': 'seafoodmarkets', 'title': 'Seafood Markets'},\n",
       "   {'alias': 'poke', 'title': 'Poke'}],\n",
       "  [{'alias': 'tradamerican', 'title': 'American (Traditional)'},\n",
       "   {'alias': 'cocktailbars', 'title': 'Cocktail Bars'}],\n",
       "  [{'alias': 'malaysian', 'title': 'Malaysian'}],\n",
       "  [{'alias': 'mexican', 'title': 'Mexican'},\n",
       "   {'alias': 'sandwiches', 'title': 'Sandwiches'},\n",
       "   {'alias': 'latin', 'title': 'Latin American'}],\n",
       "  [{'alias': 'french', 'title': 'French'}],\n",
       "  [{'alias': 'korean', 'title': 'Korean'}],\n",
       "  [{'alias': 'coffee', 'title': 'Coffee & Tea'}],\n",
       "  [{'alias': 'chinese', 'title': 'Chinese'}],\n",
       "  [{'alias': 'sushi', 'title': 'Sushi Bars'},\n",
       "   {'alias': 'japanese', 'title': 'Japanese'}],\n",
       "  [{'alias': 'cosmetics', 'title': 'Cosmetics & Beauty Supply'}],\n",
       "  [{'alias': 'coffee', 'title': 'Coffee & Tea'},\n",
       "   {'alias': 'donuts', 'title': 'Donuts'}],\n",
       "  [{'alias': 'coffee', 'title': 'Coffee & Tea'},\n",
       "   {'alias': 'hotdogs', 'title': 'Fast Food'},\n",
       "   {'alias': 'bakeries', 'title': 'Bakeries'}],\n",
       "  None,\n",
       "  [{'alias': 'bakeries', 'title': 'Bakeries'},\n",
       "   {'alias': 'coffee', 'title': 'Coffee & Tea'}],\n",
       "  [{'alias': 'hotdogs', 'title': 'Fast Food'},\n",
       "   {'alias': 'coffee', 'title': 'Coffee & Tea'}],\n",
       "  [{'alias': 'coffee', 'title': 'Coffee & Tea'},\n",
       "   {'alias': 'donuts', 'title': 'Donuts'}],\n",
       "  [{'alias': 'coffee', 'title': 'Coffee & Tea'},\n",
       "   {'alias': 'donuts', 'title': 'Donuts'}],\n",
       "  [{'alias': 'coffee', 'title': 'Coffee & Tea'}],\n",
       "  [{'alias': 'cafes', 'title': 'Cafes'},\n",
       "   {'alias': 'hotdogs', 'title': 'Fast Food'}],\n",
       "  [{'alias': 'coffee', 'title': 'Coffee & Tea'}],\n",
       "  [{'alias': 'coffee', 'title': 'Coffee & Tea'},\n",
       "   {'alias': 'bakeries', 'title': 'Bakeries'},\n",
       "   {'alias': 'hotdogs', 'title': 'Fast Food'}],\n",
       "  [{'alias': 'coffee', 'title': 'Coffee & Tea'},\n",
       "   {'alias': 'bakeries', 'title': 'Bakeries'},\n",
       "   {'alias': 'hotdogs', 'title': 'Fast Food'}],\n",
       "  [{'alias': 'coffee', 'title': 'Coffee & Tea'},\n",
       "   {'alias': 'bakeries', 'title': 'Bakeries'}],\n",
       "  [{'alias': 'coffee', 'title': 'Coffee & Tea'},\n",
       "   {'alias': 'bakeries', 'title': 'Bakeries'}],\n",
       "  None,\n",
       "  [{'alias': 'thai', 'title': 'Thai'}],\n",
       "  [{'alias': 'brewpubs', 'title': 'Brewpubs'}],\n",
       "  None,\n",
       "  [{'alias': 'sportsbars', 'title': 'Sports Bars'},\n",
       "   {'alias': 'pubs', 'title': 'Pubs'}],\n",
       "  [{'alias': 'donairs', 'title': 'Donairs'}],\n",
       "  None,\n",
       "  [{'alias': 'chinese', 'title': 'Chinese'}],\n",
       "  [{'alias': 'coffee', 'title': 'Coffee & Tea'},\n",
       "   {'alias': 'bakeries', 'title': 'Bakeries'},\n",
       "   {'alias': 'sandwiches', 'title': 'Sandwiches'}],\n",
       "  [{'alias': 'sushi', 'title': 'Sushi Bars'}],\n",
       "  [{'alias': 'juicebars', 'title': 'Juice Bars & Smoothies'}],\n",
       "  [{'alias': 'vietnamese', 'title': 'Vietnamese'},\n",
       "   {'alias': 'noodles', 'title': 'Noodles'}],\n",
       "  [{'alias': 'icecream', 'title': 'Ice Cream & Frozen Yogurt'}],\n",
       "  [{'alias': 'brewpubs', 'title': 'Brewpubs'}],\n",
       "  [{'alias': 'japanese', 'title': 'Japanese'},\n",
       "   {'alias': 'sushi', 'title': 'Sushi Bars'}],\n",
       "  [{'alias': 'salad', 'title': 'Salad'},\n",
       "   {'alias': 'hotdogs', 'title': 'Fast Food'},\n",
       "   {'alias': 'pizza', 'title': 'Pizza'}],\n",
       "  [{'alias': 'desserts', 'title': 'Desserts'}],\n",
       "  [{'alias': 'coffee', 'title': 'Coffee & Tea'}],\n",
       "  [{'alias': 'indpak', 'title': 'Indian'}],\n",
       "  [{'alias': 'gourmet', 'title': 'Specialty Food'},\n",
       "   {'alias': 'soup', 'title': 'Soup'},\n",
       "   {'alias': 'sandwiches', 'title': 'Sandwiches'}],\n",
       "  [{'alias': 'newcanadian', 'title': 'Canadian (New)'},\n",
       "   {'alias': 'comfortfood', 'title': 'Comfort Food'},\n",
       "   {'alias': 'bars', 'title': 'Bars'}],\n",
       "  [{'alias': 'coffee', 'title': 'Coffee & Tea'}],\n",
       "  None,\n",
       "  [{'alias': 'thai', 'title': 'Thai'}],\n",
       "  [{'alias': 'tradamerican', 'title': 'American (Traditional)'},\n",
       "   {'alias': 'gastropubs', 'title': 'Gastropubs'}],\n",
       "  None,\n",
       "  [{'alias': 'chinese', 'title': 'Chinese'}],\n",
       "  None,\n",
       "  [{'alias': 'sushi', 'title': 'Sushi Bars'},\n",
       "   {'alias': 'japanese', 'title': 'Japanese'}],\n",
       "  None,\n",
       "  [{'alias': 'sandwiches', 'title': 'Sandwiches'}],\n",
       "  [{'alias': 'hotels', 'title': 'Hotels'}],\n",
       "  [{'alias': 'indpak', 'title': 'Indian'}],\n",
       "  [{'alias': 'korean', 'title': 'Korean'}],\n",
       "  [{'alias': 'delis', 'title': 'Delis'},\n",
       "   {'alias': 'importedfood', 'title': 'Imported Food'}]],\n",
       " 'rating': [3.5,\n",
       "  2.5,\n",
       "  5.0,\n",
       "  3.5,\n",
       "  2.5,\n",
       "  None,\n",
       "  4.0,\n",
       "  3.5,\n",
       "  3.0,\n",
       "  3.0,\n",
       "  None,\n",
       "  4.0,\n",
       "  3.5,\n",
       "  4.0,\n",
       "  3.5,\n",
       "  3.5,\n",
       "  3.0,\n",
       "  4.5,\n",
       "  4.5,\n",
       "  4.5,\n",
       "  4.5,\n",
       "  3.5,\n",
       "  3.5,\n",
       "  4.5,\n",
       "  3.0,\n",
       "  4.5,\n",
       "  3.0,\n",
       "  3.5,\n",
       "  3.0,\n",
       "  4.0,\n",
       "  3.0,\n",
       "  5.0,\n",
       "  4.0,\n",
       "  3.0,\n",
       "  None,\n",
       "  3.5,\n",
       "  4.5,\n",
       "  3.0,\n",
       "  4.0,\n",
       "  3.5,\n",
       "  4.5,\n",
       "  4.5,\n",
       "  3.5,\n",
       "  3.0,\n",
       "  3.5,\n",
       "  4.5,\n",
       "  3.5,\n",
       "  4.5,\n",
       "  3.5,\n",
       "  4.0,\n",
       "  4.0,\n",
       "  3.0,\n",
       "  2.5,\n",
       "  None,\n",
       "  2.5,\n",
       "  2.5,\n",
       "  2.5,\n",
       "  2.0,\n",
       "  3.0,\n",
       "  2.5,\n",
       "  1.5,\n",
       "  2.5,\n",
       "  2.0,\n",
       "  3.5,\n",
       "  2.0,\n",
       "  None,\n",
       "  3.0,\n",
       "  3.0,\n",
       "  None,\n",
       "  4.0,\n",
       "  5.0,\n",
       "  None,\n",
       "  4.0,\n",
       "  3.5,\n",
       "  4.5,\n",
       "  4.0,\n",
       "  4.0,\n",
       "  3.5,\n",
       "  2.5,\n",
       "  3.5,\n",
       "  4.5,\n",
       "  3.5,\n",
       "  4.0,\n",
       "  3.0,\n",
       "  3.0,\n",
       "  4.0,\n",
       "  4.0,\n",
       "  None,\n",
       "  3.5,\n",
       "  4.0,\n",
       "  None,\n",
       "  3.5,\n",
       "  None,\n",
       "  3.5,\n",
       "  None,\n",
       "  4.0,\n",
       "  3.0,\n",
       "  4.0,\n",
       "  4.0,\n",
       "  4.0],\n",
       " 'review_count': [49,\n",
       "  3,\n",
       "  1,\n",
       "  5,\n",
       "  40,\n",
       "  None,\n",
       "  36,\n",
       "  45,\n",
       "  34,\n",
       "  46,\n",
       "  None,\n",
       "  8,\n",
       "  19,\n",
       "  30,\n",
       "  161,\n",
       "  54,\n",
       "  92,\n",
       "  84,\n",
       "  3,\n",
       "  8,\n",
       "  27,\n",
       "  42,\n",
       "  81,\n",
       "  11,\n",
       "  38,\n",
       "  83,\n",
       "  147,\n",
       "  14,\n",
       "  17,\n",
       "  94,\n",
       "  59,\n",
       "  1,\n",
       "  20,\n",
       "  36,\n",
       "  None,\n",
       "  19,\n",
       "  54,\n",
       "  48,\n",
       "  22,\n",
       "  33,\n",
       "  40,\n",
       "  14,\n",
       "  269,\n",
       "  112,\n",
       "  93,\n",
       "  381,\n",
       "  161,\n",
       "  8,\n",
       "  40,\n",
       "  127,\n",
       "  98,\n",
       "  26,\n",
       "  17,\n",
       "  None,\n",
       "  37,\n",
       "  20,\n",
       "  32,\n",
       "  19,\n",
       "  40,\n",
       "  11,\n",
       "  8,\n",
       "  15,\n",
       "  13,\n",
       "  39,\n",
       "  1,\n",
       "  None,\n",
       "  12,\n",
       "  84,\n",
       "  None,\n",
       "  58,\n",
       "  3,\n",
       "  None,\n",
       "  5,\n",
       "  31,\n",
       "  32,\n",
       "  1,\n",
       "  49,\n",
       "  29,\n",
       "  196,\n",
       "  23,\n",
       "  55,\n",
       "  63,\n",
       "  109,\n",
       "  84,\n",
       "  8,\n",
       "  949,\n",
       "  68,\n",
       "  None,\n",
       "  90,\n",
       "  21,\n",
       "  None,\n",
       "  6,\n",
       "  None,\n",
       "  142,\n",
       "  None,\n",
       "  35,\n",
       "  81,\n",
       "  66,\n",
       "  2,\n",
       "  19],\n",
       " 'price': ['$$',\n",
       "  None,\n",
       "  None,\n",
       "  '$$',\n",
       "  '$$',\n",
       "  None,\n",
       "  '$',\n",
       "  '$$',\n",
       "  '$$',\n",
       "  '$$$',\n",
       "  None,\n",
       "  None,\n",
       "  '$',\n",
       "  '$$',\n",
       "  '$$',\n",
       "  '$$',\n",
       "  '$$',\n",
       "  '$$',\n",
       "  None,\n",
       "  None,\n",
       "  '$$',\n",
       "  '$$',\n",
       "  '$$',\n",
       "  '$',\n",
       "  '$',\n",
       "  None,\n",
       "  '$$',\n",
       "  '$',\n",
       "  '$$',\n",
       "  '$$',\n",
       "  '$$',\n",
       "  None,\n",
       "  '$$',\n",
       "  '$$',\n",
       "  None,\n",
       "  '$$$',\n",
       "  '$$$',\n",
       "  '$$',\n",
       "  '$$',\n",
       "  '$',\n",
       "  '$$',\n",
       "  '$',\n",
       "  '$$',\n",
       "  '$$',\n",
       "  '$$',\n",
       "  '$$$$',\n",
       "  '$$',\n",
       "  '$',\n",
       "  '$',\n",
       "  '$$',\n",
       "  '$$',\n",
       "  '$',\n",
       "  '$',\n",
       "  None,\n",
       "  '$',\n",
       "  '$',\n",
       "  '$',\n",
       "  '$',\n",
       "  '$',\n",
       "  '$',\n",
       "  '$',\n",
       "  '$',\n",
       "  '$',\n",
       "  '$',\n",
       "  None,\n",
       "  None,\n",
       "  '$',\n",
       "  '$$',\n",
       "  None,\n",
       "  '$$',\n",
       "  '$',\n",
       "  None,\n",
       "  None,\n",
       "  '$$',\n",
       "  '$$',\n",
       "  None,\n",
       "  '$',\n",
       "  '$',\n",
       "  '$$',\n",
       "  '$$',\n",
       "  None,\n",
       "  '$$',\n",
       "  '$$',\n",
       "  '$$',\n",
       "  '$$',\n",
       "  '$$',\n",
       "  '$$',\n",
       "  None,\n",
       "  '$$',\n",
       "  '$$',\n",
       "  None,\n",
       "  '$',\n",
       "  None,\n",
       "  '$',\n",
       "  None,\n",
       "  '$$',\n",
       "  '$$',\n",
       "  '$',\n",
       "  '$$',\n",
       "  '$']}"
      ]
     },
     "execution_count": 932,
     "metadata": {},
     "output_type": "execute_result"
    }
   ],
   "source": [
    "data_clean\n"
   ]
  },
  {
   "cell_type": "code",
   "execution_count": 561,
   "metadata": {},
   "outputs": [],
   "source": [
    "test = rest_distinct_df.filter('PostalCode is null').filter('Geom is null').collect()\n",
    "#len(data['price'])"
   ]
  },
  {
   "cell_type": "code",
   "execution_count": 563,
   "metadata": {},
   "outputs": [
    {
     "data": {
      "text/plain": [
       "[Row(BusinessTradeName=\"Purdy's Chocolates\", Geom=None, PostalCode=None, Unit=None, House='4255', Street='Arbutus St', City='Vancouver')]"
      ]
     },
     "execution_count": 563,
     "metadata": {},
     "output_type": "execute_result"
    }
   ],
   "source": [
    "test"
   ]
  },
  {
   "cell_type": "code",
   "execution_count": 401,
   "metadata": {},
   "outputs": [
    {
     "ename": "KeyError",
     "evalue": "Index(['Geom'], dtype='object')",
     "output_type": "error",
     "traceback": [
      "\u001b[0;31m---------------------------------------------------------------------------\u001b[0m",
      "\u001b[0;31mKeyError\u001b[0m                                  Traceback (most recent call last)",
      "\u001b[0;32m<ipython-input-401-08208e112e85>\u001b[0m in \u001b[0;36m<module>\u001b[0;34m\u001b[0m\n\u001b[1;32m      1\u001b[0m \u001b[0mtest\u001b[0m \u001b[0;34m=\u001b[0m \u001b[0mrest_distinct_df\u001b[0m\u001b[0;34m.\u001b[0m\u001b[0mtoPandas\u001b[0m\u001b[0;34m(\u001b[0m\u001b[0;34m)\u001b[0m\u001b[0;34m\u001b[0m\u001b[0;34m\u001b[0m\u001b[0m\n\u001b[0;32m----> 2\u001b[0;31m \u001b[0mtest\u001b[0m\u001b[0;34m[\u001b[0m\u001b[0mtest\u001b[0m\u001b[0;34m.\u001b[0m\u001b[0mduplicated\u001b[0m\u001b[0;34m(\u001b[0m\u001b[0;34m'Geom'\u001b[0m\u001b[0;34m)\u001b[0m\u001b[0;34m]\u001b[0m\u001b[0;34m\u001b[0m\u001b[0;34m\u001b[0m\u001b[0m\n\u001b[0m",
      "\u001b[0;32m~/anaconda3/lib/python3.7/site-packages/pandas/core/frame.py\u001b[0m in \u001b[0;36mduplicated\u001b[0;34m(self, subset, keep)\u001b[0m\n\u001b[1;32m   4883\u001b[0m         \u001b[0mdiff\u001b[0m \u001b[0;34m=\u001b[0m \u001b[0mIndex\u001b[0m\u001b[0;34m(\u001b[0m\u001b[0msubset\u001b[0m\u001b[0;34m)\u001b[0m\u001b[0;34m.\u001b[0m\u001b[0mdifference\u001b[0m\u001b[0;34m(\u001b[0m\u001b[0mself\u001b[0m\u001b[0;34m.\u001b[0m\u001b[0mcolumns\u001b[0m\u001b[0;34m)\u001b[0m\u001b[0;34m\u001b[0m\u001b[0;34m\u001b[0m\u001b[0m\n\u001b[1;32m   4884\u001b[0m         \u001b[0;32mif\u001b[0m \u001b[0;32mnot\u001b[0m \u001b[0mdiff\u001b[0m\u001b[0;34m.\u001b[0m\u001b[0mempty\u001b[0m\u001b[0;34m:\u001b[0m\u001b[0;34m\u001b[0m\u001b[0;34m\u001b[0m\u001b[0m\n\u001b[0;32m-> 4885\u001b[0;31m             \u001b[0;32mraise\u001b[0m \u001b[0mKeyError\u001b[0m\u001b[0;34m(\u001b[0m\u001b[0mdiff\u001b[0m\u001b[0;34m)\u001b[0m\u001b[0;34m\u001b[0m\u001b[0;34m\u001b[0m\u001b[0m\n\u001b[0m\u001b[1;32m   4886\u001b[0m \u001b[0;34m\u001b[0m\u001b[0m\n\u001b[1;32m   4887\u001b[0m         \u001b[0mvals\u001b[0m \u001b[0;34m=\u001b[0m \u001b[0;34m(\u001b[0m\u001b[0mcol\u001b[0m\u001b[0;34m.\u001b[0m\u001b[0mvalues\u001b[0m \u001b[0;32mfor\u001b[0m \u001b[0mname\u001b[0m\u001b[0;34m,\u001b[0m \u001b[0mcol\u001b[0m \u001b[0;32min\u001b[0m \u001b[0mself\u001b[0m\u001b[0;34m.\u001b[0m\u001b[0mitems\u001b[0m\u001b[0;34m(\u001b[0m\u001b[0;34m)\u001b[0m \u001b[0;32mif\u001b[0m \u001b[0mname\u001b[0m \u001b[0;32min\u001b[0m \u001b[0msubset\u001b[0m\u001b[0;34m)\u001b[0m\u001b[0;34m\u001b[0m\u001b[0;34m\u001b[0m\u001b[0m\n",
      "\u001b[0;31mKeyError\u001b[0m: Index(['Geom'], dtype='object')"
     ]
    }
   ],
   "source": [
    "test = rest_distinct_df.toPandas()"
   ]
  },
  {
   "cell_type": "code",
   "execution_count": 821,
   "metadata": {},
   "outputs": [
    {
     "data": {
      "text/html": [
       "<div>\n",
       "<style scoped>\n",
       "    .dataframe tbody tr th:only-of-type {\n",
       "        vertical-align: middle;\n",
       "    }\n",
       "\n",
       "    .dataframe tbody tr th {\n",
       "        vertical-align: top;\n",
       "    }\n",
       "\n",
       "    .dataframe thead th {\n",
       "        text-align: right;\n",
       "    }\n",
       "</style>\n",
       "<table border=\"1\" class=\"dataframe\">\n",
       "  <thead>\n",
       "    <tr style=\"text-align: right;\">\n",
       "      <th></th>\n",
       "      <th>Status</th>\n",
       "      <th>FOLDERYEAR</th>\n",
       "      <th>BusinessTradeName</th>\n",
       "      <th>PostalCode</th>\n",
       "      <th>Unit</th>\n",
       "      <th>House</th>\n",
       "      <th>Street</th>\n",
       "      <th>City</th>\n",
       "      <th>longitude</th>\n",
       "      <th>latitude</th>\n",
       "    </tr>\n",
       "  </thead>\n",
       "  <tbody>\n",
       "    <tr>\n",
       "      <th>73</th>\n",
       "      <td>2</td>\n",
       "      <td>14</td>\n",
       "      <td>Everything Cafe</td>\n",
       "      <td>V6A 1S9</td>\n",
       "      <td>None</td>\n",
       "      <td>75</td>\n",
       "      <td>E PENDER ST</td>\n",
       "      <td>Vancouver</td>\n",
       "      <td>-123.102852</td>\n",
       "      <td>49.280697</td>\n",
       "    </tr>\n",
       "    <tr>\n",
       "      <th>74</th>\n",
       "      <td>2</td>\n",
       "      <td>14</td>\n",
       "      <td>Let's Roll Custom Sushi Bar</td>\n",
       "      <td>V6G 2M9</td>\n",
       "      <td>104</td>\n",
       "      <td>1184</td>\n",
       "      <td>DENMAN ST</td>\n",
       "      <td>Vancouver</td>\n",
       "      <td>-123.141441</td>\n",
       "      <td>49.287231</td>\n",
       "    </tr>\n",
       "    <tr>\n",
       "      <th>75</th>\n",
       "      <td>2</td>\n",
       "      <td>15</td>\n",
       "      <td>Liquid Nutrition</td>\n",
       "      <td>V6C 3T3</td>\n",
       "      <td>201</td>\n",
       "      <td>610</td>\n",
       "      <td>GRANVILLE ST</td>\n",
       "      <td>Vancouver</td>\n",
       "      <td>-123.116531</td>\n",
       "      <td>49.283215</td>\n",
       "    </tr>\n",
       "    <tr>\n",
       "      <th>76</th>\n",
       "      <td>2</td>\n",
       "      <td>16</td>\n",
       "      <td>Cafe Phuong Truc</td>\n",
       "      <td>V5T 1V9</td>\n",
       "      <td>None</td>\n",
       "      <td>128</td>\n",
       "      <td>E BROADWAY</td>\n",
       "      <td>Vancouver</td>\n",
       "      <td>-123.102036</td>\n",
       "      <td>49.262653</td>\n",
       "    </tr>\n",
       "    <tr>\n",
       "      <th>77</th>\n",
       "      <td>2</td>\n",
       "      <td>18</td>\n",
       "      <td>Kul Cup</td>\n",
       "      <td>V5T 3E9</td>\n",
       "      <td>None</td>\n",
       "      <td>2751</td>\n",
       "      <td>MAIN ST</td>\n",
       "      <td>Vancouver</td>\n",
       "      <td>-123.101578</td>\n",
       "      <td>49.260353</td>\n",
       "    </tr>\n",
       "  </tbody>\n",
       "</table>\n",
       "</div>"
      ],
      "text/plain": [
       "    Status  FOLDERYEAR            BusinessTradeName PostalCode  Unit House  \\\n",
       "73       2          14              Everything Cafe    V6A 1S9  None    75   \n",
       "74       2          14  Let's Roll Custom Sushi Bar    V6G 2M9   104  1184   \n",
       "75       2          15             Liquid Nutrition    V6C 3T3   201   610   \n",
       "76       2          16             Cafe Phuong Truc    V5T 1V9  None   128   \n",
       "77       2          18                      Kul Cup    V5T 3E9  None  2751   \n",
       "\n",
       "          Street       City   longitude   latitude  \n",
       "73   E PENDER ST  Vancouver -123.102852  49.280697  \n",
       "74     DENMAN ST  Vancouver -123.141441  49.287231  \n",
       "75  GRANVILLE ST  Vancouver -123.116531  49.283215  \n",
       "76    E BROADWAY  Vancouver -123.102036  49.262653  \n",
       "77       MAIN ST  Vancouver -123.101578  49.260353  "
      ]
     },
     "execution_count": 821,
     "metadata": {},
     "output_type": "execute_result"
    }
   ],
   "source": [
    "test[73:78]"
   ]
  },
  {
   "cell_type": "code",
   "execution_count": 335,
   "metadata": {},
   "outputs": [
    {
     "data": {
      "text/plain": [
       "2152"
      ]
     },
     "execution_count": 335,
     "metadata": {},
     "output_type": "execute_result"
    }
   ],
   "source": [
    "len(test['Geom'].unique())"
   ]
  },
  {
   "cell_type": "code",
   "execution_count": 329,
   "metadata": {},
   "outputs": [
    {
     "data": {
      "text/plain": [
       "'\"{\"\"type\"\": \"\"Point\"\", \"\"coordinates\"\": [-123.115614949333, 49.2554017049308]}\"'"
      ]
     },
     "execution_count": 329,
     "metadata": {},
     "output_type": "execute_result"
    }
   ],
   "source": [
    "test.iloc[44]['Geom']"
   ]
  },
  {
   "cell_type": "code",
   "execution_count": 822,
   "metadata": {},
   "outputs": [],
   "source": [
    "    params = {'apikey': api_key,\n",
    "              'name': \"Let's Roll Custom Sushi Bar\",\n",
    "              'address1': '104 1184 DENMAN ST',\n",
    "              'zip_code': \"V6G 2M9\",\n",
    "              'longitude': -123.141441,\n",
    "              'latitude': 49.287231,\n",
    "              'city': 'Vancouver',\n",
    "              'state': 'BC',\n",
    "              'country': 'CA',\n",
    "              'match_threshold': 'none',\n",
    "              'limit': 1\n",
    "             }\n",
    "    \n",
    "    request = requests.get('https://api.yelp.com/v3/businesses/matches', \n",
    "                           headers = headers, params = params)"
   ]
  },
  {
   "cell_type": "code",
   "execution_count": 937,
   "metadata": {},
   "outputs": [
    {
     "data": {
      "text/plain": [
       "{'Date': 'Mon, 11 May 2020 08:09:07 GMT', 'Content-Type': 'application/json', 'Transfer-Encoding': 'chunked', 'Connection': 'keep-alive', 'Set-Cookie': '__cfduid=d5f8c33c38019e2340c996a968829ef1c1589184547; expires=Wed, 10-Jun-20 08:09:07 GMT; path=/; domain=.yelp.com; HttpOnly; SameSite=Lax; Secure', 'x-routing-service': '10-69-85-54-uswest2aprod; site=public_api_v3', 'ratelimit-remaining': '3692', 'x-b3-sampled': '0', 'x-zipkin-id': 'ec4c657548dd63d6', 'ratelimit-resettime': '2020-05-12T00:00:00+00:00', 'ratelimit-dailylimit': '5000', 'x-proxied': '10-69-115-22-uswest2aprod', 'content-encoding': 'gzip', 'vary': 'Accept-Encoding', 'CF-Cache-Status': 'DYNAMIC', 'Expect-CT': 'max-age=604800, report-uri=\"https://report-uri.cloudflare.com/cdn-cgi/beacon/expect-ct\"', 'Server': 'cloudflare', 'CF-RAY': '591a6a7ebc6502b4-SEA', 'cf-request-id': '02a460e331000002b40ba50200000001'}"
      ]
     },
     "execution_count": 937,
     "metadata": {},
     "output_type": "execute_result"
    }
   ],
   "source": [
    "requests.get('https://api.yelp.com/v3/businesses/{}'.format(request.json()['businesses'][0]['id']), headers = headers).headers"
   ]
  },
  {
   "cell_type": "markdown",
   "metadata": {},
   "source": [
    "# Creating the Cleaned Data"
   ]
  },
  {
   "cell_type": "markdown",
   "metadata": {},
   "source": [
    "> Here I will create a PySpark dataframe to eventually join it back to the `rest_distinct_df` dataframe."
   ]
  },
  {
   "cell_type": "code",
   "execution_count": 285,
   "metadata": {},
   "outputs": [
    {
     "data": {
      "text/html": [
       "<table border='1'>\n",
       "<tr><th>name</th><th>category</th><th>rating</th><th>review_count</th><th>price</th></tr>\n",
       "<tr><td>Morris J. Wosk Ce...</td><td>null</td><td>NaN</td><td>NaN</td><td>null</td></tr>\n",
       "<tr><td>Banana Leaf Malay...</td><td>[[title -&gt; Malays...</td><td>3.5</td><td>211.0</td><td>$$</td></tr>\n",
       "<tr><td>Top of Vancouver</td><td>[[title -&gt; Americ...</td><td>3.0</td><td>307.0</td><td>$$$$</td></tr>\n",
       "<tr><td>Portobello Ristor...</td><td>null</td><td>NaN</td><td>NaN</td><td>null</td></tr>\n",
       "<tr><td>Park Theatre</td><td>[[title -&gt; Cinema...</td><td>4.0</td><td>31.0</td><td>null</td></tr>\n",
       "<tr><td>The Bake Shop</td><td>[[title -&gt; Bakeri...</td><td>4.5</td><td>42.0</td><td>$$</td></tr>\n",
       "<tr><td>Liquid Nutrition</td><td>[[title -&gt; Juice ...</td><td>1.5</td><td>6.0</td><td>$$$$</td></tr>\n",
       "<tr><td>The Dish Fabulous...</td><td>[[title -&gt; Massag...</td><td>3.5</td><td>28.0</td><td>$$$</td></tr>\n",
       "<tr><td>Euro Bagel Cafe</td><td>[[title -&gt; Coffee...</td><td>4.0</td><td>49.0</td><td>$</td></tr>\n",
       "<tr><td>Thida Thai Restau...</td><td>[[title -&gt; Thai, ...</td><td>3.0</td><td>53.0</td><td>$$</td></tr>\n",
       "</table>\n"
      ],
      "text/plain": [
       "+--------------------+--------------------+------+------------+-----+\n",
       "|                name|            category|rating|review_count|price|\n",
       "+--------------------+--------------------+------+------------+-----+\n",
       "|Morris J. Wosk Ce...|                null|   NaN|         NaN| null|\n",
       "|Banana Leaf Malay...|[[title -> Malays...|   3.5|       211.0|   $$|\n",
       "|    Top of Vancouver|[[title -> Americ...|   3.0|       307.0| $$$$|\n",
       "|Portobello Ristor...|                null|   NaN|         NaN| null|\n",
       "|        Park Theatre|[[title -> Cinema...|   4.0|        31.0| null|\n",
       "|       The Bake Shop|[[title -> Bakeri...|   4.5|        42.0|   $$|\n",
       "|    Liquid Nutrition|[[title -> Juice ...|   1.5|         6.0| $$$$|\n",
       "|The Dish Fabulous...|[[title -> Massag...|   3.5|        28.0|  $$$|\n",
       "|     Euro Bagel Cafe|[[title -> Coffee...|   4.0|        49.0|    $|\n",
       "|Thida Thai Restau...|[[title -> Thai, ...|   3.0|        53.0|   $$|\n",
       "+--------------------+--------------------+------+------------+-----+"
      ]
     },
     "execution_count": 285,
     "metadata": {},
     "output_type": "execute_result"
    }
   ],
   "source": [
    "rest_distinct_info = spark.createDataFrame(pd.DataFrame(data))\n",
    "rest_distinct_info"
   ]
  },
  {
   "cell_type": "code",
   "execution_count": 281,
   "metadata": {},
   "outputs": [
    {
     "data": {
      "text/html": [
       "<table border='1'>\n",
       "<tr><th>BusinessTradeName</th><th>Geom</th><th>PostalCode</th><th>House</th><th>Street</th><th>name</th><th>house</th><th>street</th><th>postalcode</th><th>geom</th><th>category</th><th>rating</th><th>review_count</th><th>price</th></tr>\n",
       "<tr><td>&quot;Phnom Penh &quot;&quot;a&quot;&quot;...</td><td>&quot;{&quot;&quot;type&quot;&quot;: &quot;&quot;Poi...</td><td>V6A 1Z7</td><td>244</td><td>E Georgia St</td><td>null</td><td>null</td><td>null</td><td>null</td><td>null</td><td>null</td><td>null</td><td>null</td><td>null</td></tr>\n",
       "<tr><td>49th Parallel Cof...</td><td>&quot;{&quot;&quot;type&quot;&quot;: &quot;&quot;Poi...</td><td>V6K 1N6</td><td>2198</td><td>W 4TH AV</td><td>null</td><td>null</td><td>null</td><td>null</td><td>null</td><td>null</td><td>null</td><td>null</td><td>null</td></tr>\n",
       "<tr><td>49th Parallel Cof...</td><td>&quot;{&quot;&quot;type&quot;&quot;: &quot;&quot;Poi...</td><td>V6K 1N6</td><td>2152</td><td>W 4TH AV</td><td>null</td><td>null</td><td>null</td><td>null</td><td>null</td><td>null</td><td>null</td><td>null</td><td>null</td></tr>\n",
       "<tr><td>49th Parallel Cof...</td><td>&quot;{&quot;&quot;type&quot;&quot;: &quot;&quot;Poi...</td><td>V6E 0A1</td><td>689</td><td>THURLOW ST</td><td>null</td><td>null</td><td>null</td><td>null</td><td>null</td><td>null</td><td>null</td><td>null</td><td>null</td></tr>\n",
       "<tr><td>49th Parallel Cof...</td><td>&quot;{&quot;&quot;type&quot;&quot;: &quot;&quot;Poi...</td><td>V5T 3G3</td><td>2902</td><td>MAIN ST</td><td>null</td><td>null</td><td>null</td><td>null</td><td>null</td><td>null</td><td>null</td><td>null</td><td>null</td></tr>\n",
       "<tr><td>Annalena</td><td>&quot;{&quot;&quot;type&quot;&quot;: &quot;&quot;Poi...</td><td>V6J 5B8</td><td>1809</td><td>W 1ST AV</td><td>null</td><td>null</td><td>null</td><td>null</td><td>null</td><td>null</td><td>null</td><td>null</td><td>null</td></tr>\n",
       "<tr><td>Bing Sheng Restau...</td><td>null</td><td>V5M 3H9</td><td>1800</td><td>RENFREW ST</td><td>null</td><td>null</td><td>null</td><td>null</td><td>null</td><td>null</td><td>null</td><td>null</td><td>null</td></tr>\n",
       "<tr><td>Brado</td><td>&quot;{&quot;&quot;type&quot;&quot;: &quot;&quot;Poi...</td><td>V5L 3X5</td><td>1399</td><td>COMMERCIAL DRIVE</td><td>null</td><td>null</td><td>null</td><td>null</td><td>null</td><td>null</td><td>null</td><td>null</td><td>null</td></tr>\n",
       "<tr><td>Capstone</td><td>&quot;{&quot;&quot;type&quot;&quot;: &quot;&quot;Poi...</td><td>V6G 1C1</td><td>1429</td><td>ROBSON ST</td><td>null</td><td>null</td><td>null</td><td>null</td><td>null</td><td>null</td><td>null</td><td>null</td><td>null</td></tr>\n",
       "<tr><td>Casa Shawarma</td><td>&quot;{&quot;&quot;type&quot;&quot;: &quot;&quot;Poi...</td><td>V5V 3E3</td><td>1385</td><td>KINGSWAY</td><td>null</td><td>null</td><td>null</td><td>null</td><td>null</td><td>null</td><td>null</td><td>null</td><td>null</td></tr>\n",
       "<tr><td>Fatty Cow Seafood...</td><td>&quot;{&quot;&quot;type&quot;&quot;: &quot;&quot;Poi...</td><td>V5P 3V2</td><td>5108</td><td>VICTORIA DRIVE</td><td>null</td><td>null</td><td>null</td><td>null</td><td>null</td><td>null</td><td>null</td><td>null</td><td>null</td></tr>\n",
       "<tr><td>Flip Side Dessert...</td><td>&quot;{&quot;&quot;type&quot;&quot;: &quot;&quot;Poi...</td><td>V5R 4H6</td><td>5538</td><td>JOYCE ST</td><td>null</td><td>null</td><td>null</td><td>null</td><td>null</td><td>null</td><td>null</td><td>null</td><td>null</td></tr>\n",
       "<tr><td>Flourist Milling Inc</td><td>&quot;{&quot;&quot;type&quot;&quot;: &quot;&quot;Poi...</td><td>V5N 4E8</td><td>3433</td><td>COMMERCIAL ST</td><td>null</td><td>null</td><td>null</td><td>null</td><td>null</td><td>null</td><td>null</td><td>null</td><td>null</td></tr>\n",
       "<tr><td>Neptune Palace Se...</td><td>&quot;{&quot;&quot;type&quot;&quot;: &quot;&quot;Poi...</td><td>V5X 0C4</td><td>470</td><td>SW MARINE DRIVE</td><td>null</td><td>null</td><td>null</td><td>null</td><td>null</td><td>null</td><td>null</td><td>null</td><td>null</td></tr>\n",
       "<tr><td>O-Bowl</td><td>&quot;{&quot;&quot;type&quot;&quot;: &quot;&quot;Poi...</td><td>V6K 2H3</td><td>3132</td><td>W BROADWAY</td><td>null</td><td>null</td><td>null</td><td>null</td><td>null</td><td>null</td><td>null</td><td>null</td><td>null</td></tr>\n",
       "<tr><td>Papa John&#x27;s Alma ...</td><td>&quot;{&quot;&quot;type&quot;&quot;: &quot;&quot;Poi...</td><td>V6R 4N6</td><td>2030</td><td>ALMA ST</td><td>null</td><td>null</td><td>null</td><td>null</td><td>null</td><td>null</td><td>null</td><td>null</td><td>null</td></tr>\n",
       "<tr><td>Pirate Restaurant</td><td>&quot;{&quot;&quot;type&quot;&quot;: &quot;&quot;Poi...</td><td>V6E 1X4</td><td>1221</td><td>THURLOW ST</td><td>null</td><td>null</td><td>null</td><td>null</td><td>null</td><td>null</td><td>null</td><td>null</td><td>null</td></tr>\n",
       "<tr><td>Produce Marketplace</td><td>&quot;{&quot;&quot;type&quot;&quot;: &quot;&quot;Poi...</td><td>V5W 3A4</td><td>6350</td><td>FRASER ST</td><td>null</td><td>null</td><td>null</td><td>null</td><td>null</td><td>null</td><td>null</td><td>null</td><td>null</td></tr>\n",
       "<tr><td>Simply Thai Resta...</td><td>&quot;{&quot;&quot;type&quot;&quot;: &quot;&quot;Poi...</td><td>V6B 6K3</td><td>1211</td><td>Hamilton St</td><td>null</td><td>null</td><td>null</td><td>null</td><td>null</td><td>null</td><td>null</td><td>null</td><td>null</td></tr>\n",
       "<tr><td>Starbucks Coffee ...</td><td>&quot;{&quot;&quot;type&quot;&quot;: &quot;&quot;Poi...</td><td>V6X 1P3</td><td>1055</td><td>DUNSMUIR ST</td><td>null</td><td>null</td><td>null</td><td>null</td><td>null</td><td>null</td><td>null</td><td>null</td><td>null</td></tr>\n",
       "</table>\n",
       "only showing top 20 rows\n"
      ],
      "text/plain": [
       "+--------------------+--------------------+----------+-----+----------------+----+-----+------+----------+----+--------+------+------------+-----+\n",
       "|   BusinessTradeName|                Geom|PostalCode|House|          Street|name|house|street|postalcode|geom|category|rating|review_count|price|\n",
       "+--------------------+--------------------+----------+-----+----------------+----+-----+------+----------+----+--------+------+------------+-----+\n",
       "|\"Phnom Penh \"\"a\"\"...|\"{\"\"type\"\": \"\"Poi...|   V6A 1Z7|  244|    E Georgia St|null| null|  null|      null|null|    null|  null|        null| null|\n",
       "|49th Parallel Cof...|\"{\"\"type\"\": \"\"Poi...|   V6K 1N6| 2198|        W 4TH AV|null| null|  null|      null|null|    null|  null|        null| null|\n",
       "|49th Parallel Cof...|\"{\"\"type\"\": \"\"Poi...|   V6K 1N6| 2152|        W 4TH AV|null| null|  null|      null|null|    null|  null|        null| null|\n",
       "|49th Parallel Cof...|\"{\"\"type\"\": \"\"Poi...|   V6E 0A1|  689|      THURLOW ST|null| null|  null|      null|null|    null|  null|        null| null|\n",
       "|49th Parallel Cof...|\"{\"\"type\"\": \"\"Poi...|   V5T 3G3| 2902|         MAIN ST|null| null|  null|      null|null|    null|  null|        null| null|\n",
       "|            Annalena|\"{\"\"type\"\": \"\"Poi...|   V6J 5B8| 1809|        W 1ST AV|null| null|  null|      null|null|    null|  null|        null| null|\n",
       "|Bing Sheng Restau...|                null|   V5M 3H9| 1800|      RENFREW ST|null| null|  null|      null|null|    null|  null|        null| null|\n",
       "|               Brado|\"{\"\"type\"\": \"\"Poi...|   V5L 3X5| 1399|COMMERCIAL DRIVE|null| null|  null|      null|null|    null|  null|        null| null|\n",
       "|            Capstone|\"{\"\"type\"\": \"\"Poi...|   V6G 1C1| 1429|       ROBSON ST|null| null|  null|      null|null|    null|  null|        null| null|\n",
       "|       Casa Shawarma|\"{\"\"type\"\": \"\"Poi...|   V5V 3E3| 1385|        KINGSWAY|null| null|  null|      null|null|    null|  null|        null| null|\n",
       "|Fatty Cow Seafood...|\"{\"\"type\"\": \"\"Poi...|   V5P 3V2| 5108|  VICTORIA DRIVE|null| null|  null|      null|null|    null|  null|        null| null|\n",
       "|Flip Side Dessert...|\"{\"\"type\"\": \"\"Poi...|   V5R 4H6| 5538|        JOYCE ST|null| null|  null|      null|null|    null|  null|        null| null|\n",
       "|Flourist Milling Inc|\"{\"\"type\"\": \"\"Poi...|   V5N 4E8| 3433|   COMMERCIAL ST|null| null|  null|      null|null|    null|  null|        null| null|\n",
       "|Neptune Palace Se...|\"{\"\"type\"\": \"\"Poi...|   V5X 0C4|  470| SW MARINE DRIVE|null| null|  null|      null|null|    null|  null|        null| null|\n",
       "|              O-Bowl|\"{\"\"type\"\": \"\"Poi...|   V6K 2H3| 3132|      W BROADWAY|null| null|  null|      null|null|    null|  null|        null| null|\n",
       "|Papa John's Alma ...|\"{\"\"type\"\": \"\"Poi...|   V6R 4N6| 2030|         ALMA ST|null| null|  null|      null|null|    null|  null|        null| null|\n",
       "|   Pirate Restaurant|\"{\"\"type\"\": \"\"Poi...|   V6E 1X4| 1221|      THURLOW ST|null| null|  null|      null|null|    null|  null|        null| null|\n",
       "| Produce Marketplace|\"{\"\"type\"\": \"\"Poi...|   V5W 3A4| 6350|       FRASER ST|null| null|  null|      null|null|    null|  null|        null| null|\n",
       "|Simply Thai Resta...|\"{\"\"type\"\": \"\"Poi...|   V6B 6K3| 1211|     Hamilton St|null| null|  null|      null|null|    null|  null|        null| null|\n",
       "|Starbucks Coffee ...|\"{\"\"type\"\": \"\"Poi...|   V6X 1P3| 1055|     DUNSMUIR ST|null| null|  null|      null|null|    null|  null|        null| null|\n",
       "+--------------------+--------------------+----------+-----+----------------+----+-----+------+----------+----+--------+------+------------+-----+\n",
       "only showing top 20 rows"
      ]
     },
     "execution_count": 281,
     "metadata": {},
     "output_type": "execute_result"
    }
   ],
   "source": [
    "rest_distinct_df.join(rest_distinct_info, rest_distinct_df.BusinessTradeName == rest_distinct_info.name, how = 'left')"
   ]
  },
  {
   "cell_type": "markdown",
   "metadata": {},
   "source": [
    "> quantify similarity of restaurant cuisines to see how similar restuarants in the same proximity do"
   ]
  },
  {
   "cell_type": "code",
   "execution_count": null,
   "metadata": {},
   "outputs": [],
   "source": []
  }
 ],
 "metadata": {
  "kernelspec": {
   "display_name": "Python 3",
   "language": "python",
   "name": "python3"
  },
  "language_info": {
   "codemirror_mode": {
    "name": "ipython",
    "version": 3
   },
   "file_extension": ".py",
   "mimetype": "text/x-python",
   "name": "python",
   "nbconvert_exporter": "python",
   "pygments_lexer": "ipython3",
   "version": "3.7.6"
  }
 },
 "nbformat": 4,
 "nbformat_minor": 4
}
