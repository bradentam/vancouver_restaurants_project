{
 "cells": [
  {
   "cell_type": "markdown",
   "metadata": {},
   "source": [
    "# Exploratory Data Analysis"
   ]
  },
  {
   "cell_type": "markdown",
   "metadata": {},
   "source": [
    "In this EDA, I will be examining various data sources from [opendata.vancouver.ca](https://opendata.vancouver.ca/pages/home/)."
   ]
  },
  {
   "cell_type": "markdown",
   "metadata": {},
   "source": [
    "## Imports"
   ]
  },
  {
   "cell_type": "code",
   "execution_count": 55,
   "metadata": {},
   "outputs": [],
   "source": [
    "import numpy as np\n",
    "import pandas as pd\n",
    "import re\n",
    "import requests\n",
    "import os\n",
    "import time\n",
    "import pickle\n",
    "import json\n",
    "import matplotlib.pyplot as plt\n",
    "\n",
    "from matplotlib import pyplot as plt\n",
    "from pyspark.sql import SparkSession"
   ]
  },
  {
   "cell_type": "code",
   "execution_count": 2,
   "metadata": {},
   "outputs": [],
   "source": [
    "from pyspark.sql.functions import coalesce, max"
   ]
  },
  {
   "cell_type": "code",
   "execution_count": 3,
   "metadata": {},
   "outputs": [],
   "source": [
    "from pyspark.ml.regression import LinearRegression\n",
    "from pyspark.ml.feature import VectorAssembler\n",
    "from pyspark.sql.functions import array, col, count, mean, sum, udf, when, last, first, regexp_extract\n",
    "from pyspark.sql.types import DoubleType, IntegerType, StringType, Row\n",
    "from pyspark.sql.functions import sum, col, udf\n",
    "from pyspark.sql.types import *"
   ]
  },
  {
   "cell_type": "markdown",
   "metadata": {},
   "source": [
    "## Reading in the main dataset"
   ]
  },
  {
   "cell_type": "code",
   "execution_count": 4,
   "metadata": {},
   "outputs": [],
   "source": [
    "spark = SparkSession.builder.appName('Ops').getOrCreate()"
   ]
  },
  {
   "cell_type": "code",
   "execution_count": 5,
   "metadata": {},
   "outputs": [],
   "source": [
    "# allows for cleaner output\n",
    "spark.conf.set(\"spark.sql.repl.eagerEval.enabled\", True)"
   ]
  },
  {
   "cell_type": "markdown",
   "metadata": {},
   "source": [
    "> This creates a Spark DataFrame which is very similar to a Pandas DataFrame. Spark DataFrames build on top of RDDs and also has great SQL integration for users who are familiar with the popular language. The main difference with Spark DataFrames is that operations can run on multiple nodes and they are lazy evaluators meaning operations won't be executed until the output is needed."
   ]
  },
  {
   "cell_type": "code",
   "execution_count": 10,
   "metadata": {},
   "outputs": [],
   "source": [
    "licences_df = (spark.read\n",
    "          .option('header','true')\n",
    "          .option('inferSchema','true')\n",
    "          .option('sep', ';')\n",
    "          .csv('../data/business-licences.csv'))"
   ]
  },
  {
   "cell_type": "code",
   "execution_count": 11,
   "metadata": {},
   "outputs": [
    {
     "data": {
      "text/plain": [
       "'There are 504842 observations in this dataset'"
      ]
     },
     "execution_count": 11,
     "metadata": {},
     "output_type": "execute_result"
    }
   ],
   "source": [
    "f'There are %i observations in this dataset' % licences_df.count() "
   ]
  },
  {
   "cell_type": "code",
   "execution_count": 12,
   "metadata": {},
   "outputs": [
    {
     "name": "stdout",
     "output_type": "stream",
     "text": [
      "root\n",
      " |-- FOLDERYEAR: integer (nullable = true)\n",
      " |-- LicenceRSN: integer (nullable = true)\n",
      " |-- LicenceNumber: string (nullable = true)\n",
      " |-- LicenceRevisionNumber: integer (nullable = true)\n",
      " |-- BusinessName: string (nullable = true)\n",
      " |-- BusinessTradeName: string (nullable = true)\n",
      " |-- Status: string (nullable = true)\n",
      " |-- IssuedDate: timestamp (nullable = true)\n",
      " |-- ExpiredDate: timestamp (nullable = true)\n",
      " |-- BusinessType: string (nullable = true)\n",
      " |-- BusinessSubType: string (nullable = true)\n",
      " |-- Unit: string (nullable = true)\n",
      " |-- UnitType: string (nullable = true)\n",
      " |-- House: string (nullable = true)\n",
      " |-- Street: string (nullable = true)\n",
      " |-- City: string (nullable = true)\n",
      " |-- Province: string (nullable = true)\n",
      " |-- Country: string (nullable = true)\n",
      " |-- PostalCode: string (nullable = true)\n",
      " |-- LocalArea: string (nullable = true)\n",
      " |-- NumberofEmployees: double (nullable = true)\n",
      " |-- FeePaid: integer (nullable = true)\n",
      " |-- ExtractDate: timestamp (nullable = true)\n",
      " |-- Geom: string (nullable = true)\n",
      "\n"
     ]
    }
   ],
   "source": [
    "licences_df.printSchema()"
   ]
  },
  {
   "cell_type": "code",
   "execution_count": 13,
   "metadata": {},
   "outputs": [
    {
     "data": {
      "text/html": [
       "<table border='1'>\n",
       "<tr><th>FOLDERYEAR</th><th>LicenceRSN</th><th>LicenceNumber</th><th>LicenceRevisionNumber</th><th>BusinessName</th><th>BusinessTradeName</th><th>Status</th><th>IssuedDate</th><th>ExpiredDate</th><th>BusinessType</th><th>BusinessSubType</th><th>Unit</th><th>UnitType</th><th>House</th><th>Street</th><th>City</th><th>Province</th><th>Country</th><th>PostalCode</th><th>LocalArea</th><th>NumberofEmployees</th><th>FeePaid</th><th>ExtractDate</th><th>Geom</th></tr>\n",
       "<tr><td>15</td><td>2345113</td><td>15-115406</td><td>0</td><td>(Shun Chen)</td><td>ACC Security Syst...</td><td>Gone Out of Business</td><td>null</td><td>null</td><td>Electrical-Securi...</td><td>null</td><td>null</td><td>null</td><td>null</td><td>null</td><td>Surrey</td><td>BC</td><td>CA</td><td>null</td><td>null</td><td>2.0</td><td>null</td><td>2019-07-21 13:48:02</td><td>null</td></tr>\n",
       "<tr><td>15</td><td>2345119</td><td>15-115412</td><td>0</td><td>Praetorian Securi...</td><td>Amax Praetorian</td><td>Issued</td><td>2014-12-01 14:04:29</td><td>2015-12-31 00:00:00</td><td>Electrical-Securi...</td><td>null</td><td>null</td><td>null</td><td>null</td><td>null</td><td>Chilliwack</td><td>BC</td><td>CA</td><td>null</td><td>null</td><td>0.0</td><td>133</td><td>2019-07-21 13:48:02</td><td>null</td></tr>\n",
       "<tr><td>15</td><td>2345120</td><td>15-115413</td><td>0</td><td>Safe-Tec Security...</td><td>null</td><td>Gone Out of Business</td><td>null</td><td>null</td><td>Electrical-Securi...</td><td>null</td><td>null</td><td>null</td><td>null</td><td>null</td><td>Surrey</td><td>BC</td><td>CA</td><td>null</td><td>null</td><td>0.0</td><td>null</td><td>2019-07-21 13:48:02</td><td>null</td></tr>\n",
       "<tr><td>15</td><td>2345121</td><td>15-115414</td><td>0</td><td>Husky Alarm Integ...</td><td>null</td><td>Issued</td><td>2015-02-10 08:05:11</td><td>2015-12-31 00:00:00</td><td>Electrical-Securi...</td><td>null</td><td>null</td><td>null</td><td>null</td><td>null</td><td>Port Moody</td><td>BC</td><td>CA</td><td>null</td><td>null</td><td>2.0</td><td>173</td><td>2019-07-21 13:48:02</td><td>null</td></tr>\n",
       "<tr><td>15</td><td>2345122</td><td>15-115415</td><td>0</td><td>Sea to Sky Securi...</td><td>null</td><td>Pending</td><td>null</td><td>null</td><td>Electrical-Securi...</td><td>null</td><td>null</td><td>null</td><td>null</td><td>null</td><td>North Vancouver</td><td>BC</td><td>CA</td><td>null</td><td>null</td><td>3.0</td><td>null</td><td>2019-07-21 13:48:02</td><td>null</td></tr>\n",
       "<tr><td>15</td><td>2345188</td><td>15-115481</td><td>0</td><td>(Kenneth Bradley)</td><td>Ken Bradley Truck...</td><td>Issued</td><td>2014-11-18 11:35:48</td><td>2015-12-31 00:00:00</td><td>Equipment Operator</td><td>null</td><td>null</td><td>null</td><td>null</td><td>null</td><td>Coquitlam</td><td>BC</td><td>CA</td><td>null</td><td>null</td><td>0.0</td><td>162</td><td>2019-07-21 13:48:02</td><td>null</td></tr>\n",
       "<tr><td>15</td><td>2345191</td><td>15-115484</td><td>0</td><td>Litz Crane Servic...</td><td>null</td><td>Issued</td><td>2014-11-06 14:31:00</td><td>2015-12-31 00:00:00</td><td>Equipment Operator</td><td>null</td><td>null</td><td>null</td><td>null</td><td>null</td><td>Port Coquitlam</td><td>BC</td><td>CA</td><td>null</td><td>null</td><td>5.0</td><td>162</td><td>2019-07-21 13:48:02</td><td>null</td></tr>\n",
       "<tr><td>15</td><td>2345195</td><td>15-115488</td><td>0</td><td>(Wayne Nichols)</td><td>W Nichols Trucking</td><td>Issued</td><td>2014-11-05 12:50:58</td><td>2015-12-31 00:00:00</td><td>Equipment Operator</td><td>null</td><td>null</td><td>null</td><td>null</td><td>null</td><td>Delta</td><td>BC</td><td>CA</td><td>null</td><td>null</td><td>1.0</td><td>162</td><td>2019-07-21 13:48:02</td><td>null</td></tr>\n",
       "<tr><td>15</td><td>2345196</td><td>15-115489</td><td>0</td><td>(Harry Powar)</td><td>Harry Powar Trucking</td><td>Issued</td><td>2014-12-04 18:49:08</td><td>2015-12-31 00:00:00</td><td>Equipment Operator</td><td>null</td><td>null</td><td>null</td><td>null</td><td>null</td><td>Burnaby</td><td>BC</td><td>CA</td><td>null</td><td>null</td><td>1.0</td><td>162</td><td>2019-07-21 13:48:02</td><td>null</td></tr>\n",
       "<tr><td>15</td><td>2345203</td><td>15-115496</td><td>0</td><td>J Brown Trucking Inc</td><td>null</td><td>Issued</td><td>2014-12-06 09:23:32</td><td>2015-12-31 00:00:00</td><td>Equipment Operator</td><td>null</td><td>null</td><td>null</td><td>null</td><td>null</td><td>Delta</td><td>BC</td><td>CA</td><td>null</td><td>null</td><td>2.0</td><td>162</td><td>2019-07-21 13:48:02</td><td>null</td></tr>\n",
       "</table>\n"
      ],
      "text/plain": [
       "+----------+----------+-------------+---------------------+--------------------+--------------------+--------------------+-------------------+-------------------+--------------------+---------------+----+--------+-----+------+---------------+--------+-------+----------+---------+-----------------+-------+-------------------+----+\n",
       "|FOLDERYEAR|LicenceRSN|LicenceNumber|LicenceRevisionNumber|        BusinessName|   BusinessTradeName|              Status|         IssuedDate|        ExpiredDate|        BusinessType|BusinessSubType|Unit|UnitType|House|Street|           City|Province|Country|PostalCode|LocalArea|NumberofEmployees|FeePaid|        ExtractDate|Geom|\n",
       "+----------+----------+-------------+---------------------+--------------------+--------------------+--------------------+-------------------+-------------------+--------------------+---------------+----+--------+-----+------+---------------+--------+-------+----------+---------+-----------------+-------+-------------------+----+\n",
       "|        15|   2345113|    15-115406|                    0|         (Shun Chen)|ACC Security Syst...|Gone Out of Business|               null|               null|Electrical-Securi...|           null|null|    null| null|  null|         Surrey|      BC|     CA|      null|     null|              2.0|   null|2019-07-21 13:48:02|null|\n",
       "|        15|   2345119|    15-115412|                    0|Praetorian Securi...|     Amax Praetorian|              Issued|2014-12-01 14:04:29|2015-12-31 00:00:00|Electrical-Securi...|           null|null|    null| null|  null|     Chilliwack|      BC|     CA|      null|     null|              0.0|    133|2019-07-21 13:48:02|null|\n",
       "|        15|   2345120|    15-115413|                    0|Safe-Tec Security...|                null|Gone Out of Business|               null|               null|Electrical-Securi...|           null|null|    null| null|  null|         Surrey|      BC|     CA|      null|     null|              0.0|   null|2019-07-21 13:48:02|null|\n",
       "|        15|   2345121|    15-115414|                    0|Husky Alarm Integ...|                null|              Issued|2015-02-10 08:05:11|2015-12-31 00:00:00|Electrical-Securi...|           null|null|    null| null|  null|     Port Moody|      BC|     CA|      null|     null|              2.0|    173|2019-07-21 13:48:02|null|\n",
       "|        15|   2345122|    15-115415|                    0|Sea to Sky Securi...|                null|             Pending|               null|               null|Electrical-Securi...|           null|null|    null| null|  null|North Vancouver|      BC|     CA|      null|     null|              3.0|   null|2019-07-21 13:48:02|null|\n",
       "|        15|   2345188|    15-115481|                    0|   (Kenneth Bradley)|Ken Bradley Truck...|              Issued|2014-11-18 11:35:48|2015-12-31 00:00:00|  Equipment Operator|           null|null|    null| null|  null|      Coquitlam|      BC|     CA|      null|     null|              0.0|    162|2019-07-21 13:48:02|null|\n",
       "|        15|   2345191|    15-115484|                    0|Litz Crane Servic...|                null|              Issued|2014-11-06 14:31:00|2015-12-31 00:00:00|  Equipment Operator|           null|null|    null| null|  null| Port Coquitlam|      BC|     CA|      null|     null|              5.0|    162|2019-07-21 13:48:02|null|\n",
       "|        15|   2345195|    15-115488|                    0|     (Wayne Nichols)|  W Nichols Trucking|              Issued|2014-11-05 12:50:58|2015-12-31 00:00:00|  Equipment Operator|           null|null|    null| null|  null|          Delta|      BC|     CA|      null|     null|              1.0|    162|2019-07-21 13:48:02|null|\n",
       "|        15|   2345196|    15-115489|                    0|       (Harry Powar)|Harry Powar Trucking|              Issued|2014-12-04 18:49:08|2015-12-31 00:00:00|  Equipment Operator|           null|null|    null| null|  null|        Burnaby|      BC|     CA|      null|     null|              1.0|    162|2019-07-21 13:48:02|null|\n",
       "|        15|   2345203|    15-115496|                    0|J Brown Trucking Inc|                null|              Issued|2014-12-06 09:23:32|2015-12-31 00:00:00|  Equipment Operator|           null|null|    null| null|  null|          Delta|      BC|     CA|      null|     null|              2.0|    162|2019-07-21 13:48:02|null|\n",
       "+----------+----------+-------------+---------------------+--------------------+--------------------+--------------------+-------------------+-------------------+--------------------+---------------+----+--------+-----+------+---------------+--------+-------+----------+---------+-----------------+-------+-------------------+----+"
      ]
     },
     "execution_count": 13,
     "metadata": {},
     "output_type": "execute_result"
    }
   ],
   "source": [
    "# show the first 10 rows \n",
    "licences_df.limit(10)"
   ]
  },
  {
   "cell_type": "code",
   "execution_count": 14,
   "metadata": {},
   "outputs": [
    {
     "data": {
      "text/html": [
       "<table border='1'>\n",
       "<tr><th>FOLDERYEAR</th><th>count</th></tr>\n",
       "<tr><td>13</td><td>60915</td></tr>\n",
       "<tr><td>16</td><td>61394</td></tr>\n",
       "<tr><td>20</td><td>64003</td></tr>\n",
       "<tr><td>19</td><td>70771</td></tr>\n",
       "<tr><td>15</td><td>60938</td></tr>\n",
       "<tr><td>17</td><td>60060</td></tr>\n",
       "<tr><td>14</td><td>60581</td></tr>\n",
       "<tr><td>18</td><td>66180</td></tr>\n",
       "</table>\n"
      ],
      "text/plain": [
       "+----------+-----+\n",
       "|FOLDERYEAR|count|\n",
       "+----------+-----+\n",
       "|        13|60915|\n",
       "|        16|61394|\n",
       "|        20|64003|\n",
       "|        19|70771|\n",
       "|        15|60938|\n",
       "|        17|60060|\n",
       "|        14|60581|\n",
       "|        18|66180|\n",
       "+----------+-----+"
      ]
     },
     "execution_count": 14,
     "metadata": {},
     "output_type": "execute_result"
    }
   ],
   "source": [
    "licences_df.groupBy('FOLDERYEAR').count()"
   ]
  },
  {
   "cell_type": "markdown",
   "metadata": {},
   "source": [
    "## Initial Wrangling "
   ]
  },
  {
   "cell_type": "code",
   "execution_count": 15,
   "metadata": {},
   "outputs": [
    {
     "name": "stdout",
     "output_type": "stream",
     "text": [
      "['Manufacturer - Food with Anc. Retail', 'Ltd Service Food Establishment', 'Temp Liquor Licence Amendment', 'Liquor Delivery Services', 'Liquor Establishment Standard', 'Retail Dealer - Food', 'Restaurant Class 2', 'Food Processing', 'Liquor Establishment Extended', 'Wholesale Dealer - Food with Anc. Retail', 'Restaurant Class 1', 'Liquor License Application', 'Warehouse Operator - Food', 'Manufacturer - Food', 'Liquor Retail Store', 'Wholesale Dealer - Food']\n"
     ]
    }
   ],
   "source": [
    "business_types = licences_df.select('BusinessType').distinct().collect()\n",
    "business_list = [business_types[i].BusinessType for i in range(len(business_types))]\n",
    "\n",
    "r = re.compile(\".*[Ff]ood.*|.*[Rr]estaurant.*|.*[Ll]iquor.*\")\n",
    "relevant_list = list(filter(r.match, business_list)) \n",
    "print(relevant_list)"
   ]
  },
  {
   "cell_type": "markdown",
   "metadata": {},
   "source": [
    "> These are the list of business types that have the word food, restaurant, or liquor."
   ]
  },
  {
   "cell_type": "code",
   "execution_count": 16,
   "metadata": {},
   "outputs": [],
   "source": [
    "rest_1 = (licences_df.BusinessType == 'Restaurant Class 1')\n",
    "rest_2 = (licences_df.BusinessType == 'Restaurant Class 2')\n",
    "rest_3 = (licences_df.BusinessType == 'Ltd Service Food Establishment')\n",
    "rest_4 = (licences_df.BusinessType == 'Temp Liquor Licence Amendment') & (licences_df.BusinessSubType == 'Area Extension')\n",
    "rest_5 = (licences_df.BusinessType == 'Liquor Establishment Standard') & (licences_df.BusinessSubType == 'Class 1  0-65 Seats')\n",
    "rest_6 = (licences_df.BusinessType == 'Liquor Establishment Extended') & (licences_df.BusinessSubType == 'Class 1  0-65 Seats')\n",
    "\n",
    "\n",
    "licences_rest_df = licences_df.filter(rest_1 | rest_2 | rest_3 | rest_4 | rest_5 | rest_6)"
   ]
  },
  {
   "cell_type": "code",
   "execution_count": 17,
   "metadata": {},
   "outputs": [
    {
     "data": {
      "text/html": [
       "<table border='1'>\n",
       "<tr><th>Status</th><th>count</th></tr>\n",
       "<tr><td>Cancelled</td><td>604</td></tr>\n",
       "<tr><td>Gone Out of Business</td><td>2914</td></tr>\n",
       "<tr><td>Issued</td><td>24579</td></tr>\n",
       "<tr><td>Inactive</td><td>662</td></tr>\n",
       "<tr><td>Pending</td><td>1420</td></tr>\n",
       "</table>\n"
      ],
      "text/plain": [
       "+--------------------+-----+\n",
       "|              Status|count|\n",
       "+--------------------+-----+\n",
       "|           Cancelled|  604|\n",
       "|Gone Out of Business| 2914|\n",
       "|              Issued|24579|\n",
       "|            Inactive|  662|\n",
       "|             Pending| 1420|\n",
       "+--------------------+-----+"
      ]
     },
     "execution_count": 17,
     "metadata": {},
     "output_type": "execute_result"
    }
   ],
   "source": [
    "licences_rest_df.groupBy(\"Status\").count()"
   ]
  },
  {
   "cell_type": "code",
   "execution_count": 18,
   "metadata": {},
   "outputs": [
    {
     "data": {
      "text/plain": [
       "'There are 955 businesses with missing name values'"
      ]
     },
     "execution_count": 18,
     "metadata": {},
     "output_type": "execute_result"
    }
   ],
   "source": [
    "f'There are %i businesses with missing name values' % licences_rest_df.filter('BusinessTradeName is null').select('BusinessName').distinct().count()"
   ]
  },
  {
   "cell_type": "markdown",
   "metadata": {},
   "source": [
    "> I will replace these entries with their business names. "
   ]
  },
  {
   "cell_type": "code",
   "execution_count": 19,
   "metadata": {},
   "outputs": [],
   "source": [
    "licences_rest_df = licences_rest_df.withColumn('BusinessTradeName', coalesce('BusinessTradeName', 'BusinessName'))"
   ]
  },
  {
   "cell_type": "code",
   "execution_count": 20,
   "metadata": {},
   "outputs": [],
   "source": [
    "licences_rest_df = licences_rest_df.dropna(subset = ['BusinessName'])"
   ]
  },
  {
   "cell_type": "code",
   "execution_count": 21,
   "metadata": {},
   "outputs": [
    {
     "data": {
      "text/plain": [
       "30148"
      ]
     },
     "execution_count": 21,
     "metadata": {},
     "output_type": "execute_result"
    }
   ],
   "source": [
    "licences_rest_df.count()"
   ]
  },
  {
   "cell_type": "code",
   "execution_count": 22,
   "metadata": {},
   "outputs": [],
   "source": [
    "# Search for names using regex\n",
    "\n",
    "def search_restaurant(search_term, n = 20):\n",
    "    rows = licences_rest_df.BusinessTradeName.rlike('.*{}.*'.format(search_term))\n",
    "    return licences_rest_df.filter(rows).limit(n)"
   ]
  },
  {
   "cell_type": "code",
   "execution_count": 23,
   "metadata": {},
   "outputs": [
    {
     "data": {
      "text/html": [
       "<table border='1'>\n",
       "<tr><th>FOLDERYEAR</th><th>LicenceRSN</th><th>LicenceNumber</th><th>LicenceRevisionNumber</th><th>BusinessName</th><th>BusinessTradeName</th><th>Status</th><th>IssuedDate</th><th>ExpiredDate</th><th>BusinessType</th><th>BusinessSubType</th><th>Unit</th><th>UnitType</th><th>House</th><th>Street</th><th>City</th><th>Province</th><th>Country</th><th>PostalCode</th><th>LocalArea</th><th>NumberofEmployees</th><th>FeePaid</th><th>ExtractDate</th><th>Geom</th></tr>\n",
       "<tr><td>16</td><td>2603912</td><td>16-145075</td><td>0</td><td>Nagomi Project Ltd</td><td>Shizen Ya</td><td>Issued</td><td>2015-11-05 11:26:12</td><td>2016-12-31 00:00:00</td><td>Restaurant Class 1</td><td>With Liquor Service</td><td>null</td><td>null</td><td>1102</td><td>W BROADWAY</td><td>Vancouver</td><td>BC</td><td>CA</td><td>V6H 1G5</td><td>Fairview</td><td>10.0</td><td>1042</td><td>2019-07-21 13:49:20</td><td>&quot;{&quot;&quot;type&quot;&quot;: &quot;&quot;Poi...</td></tr>\n",
       "<tr><td>17</td><td>2819772</td><td>17-143449</td><td>0</td><td>Nagomi Project Ltd</td><td>Shizen Ya</td><td>Issued</td><td>2016-11-29 09:10:08</td><td>2017-12-31 00:00:00</td><td>Restaurant Class 1</td><td>With Liquor Service</td><td>null</td><td>null</td><td>1102</td><td>W BROADWAY</td><td>Vancouver</td><td>BC</td><td>CA</td><td>V6H 1G5</td><td>Fairview</td><td>10.0</td><td>1063</td><td>2020-01-01 02:32:04</td><td>&quot;{&quot;&quot;type&quot;&quot;: &quot;&quot;Poi...</td></tr>\n",
       "<tr><td>14</td><td>2157871</td><td>14-145460</td><td>0</td><td>Nagomi Project Ltd</td><td>Shizen Ya</td><td>Issued</td><td>2013-12-13 10:56:37</td><td>2014-12-31 00:00:00</td><td>Restaurant Class 1</td><td>With Liquor Service</td><td>null</td><td>null</td><td>1102</td><td>W BROADWAY</td><td>Vancouver</td><td>BC</td><td>CA</td><td>V6H 1G5</td><td>Fairview</td><td>8.0</td><td>999</td><td>2019-07-21 13:49:12</td><td>&quot;{&quot;&quot;type&quot;&quot;: &quot;&quot;Poi...</td></tr>\n",
       "<tr><td>15</td><td>2376219</td><td>15-146481</td><td>0</td><td>Nagomi Project Ltd</td><td>Natural Food Shiz...</td><td>Issued</td><td>2014-10-31 16:52:01</td><td>2015-12-31 00:00:00</td><td>Restaurant Class 1</td><td>With Liquor Service</td><td>null</td><td>null</td><td>985</td><td>HORNBY ST</td><td>Vancouver</td><td>BC</td><td>CA</td><td>V6Z 1V3</td><td>Downtown</td><td>10.0</td><td>878</td><td>2019-07-21 13:49:16</td><td>&quot;{&quot;&quot;type&quot;&quot;: &quot;&quot;Poi...</td></tr>\n",
       "<tr><td>14</td><td>2158834</td><td>14-146423</td><td>0</td><td>Nagomi Project Ltd</td><td>Natural Food Shiz...</td><td>Issued</td><td>2013-12-10 22:39:49</td><td>2014-12-31 00:00:00</td><td>Restaurant Class 1</td><td>With Liquor Service</td><td>null</td><td>null</td><td>985</td><td>HORNBY ST</td><td>Vancouver</td><td>BC</td><td>CA</td><td>V6Z 1V3</td><td>Downtown</td><td>7.0</td><td>860</td><td>2019-07-21 13:49:12</td><td>&quot;{&quot;&quot;type&quot;&quot;: &quot;&quot;Poi...</td></tr>\n",
       "</table>\n"
      ],
      "text/plain": [
       "+----------+----------+-------------+---------------------+------------------+--------------------+------+-------------------+-------------------+------------------+-------------------+----+--------+-----+----------+---------+--------+-------+----------+---------+-----------------+-------+-------------------+--------------------+\n",
       "|FOLDERYEAR|LicenceRSN|LicenceNumber|LicenceRevisionNumber|      BusinessName|   BusinessTradeName|Status|         IssuedDate|        ExpiredDate|      BusinessType|    BusinessSubType|Unit|UnitType|House|    Street|     City|Province|Country|PostalCode|LocalArea|NumberofEmployees|FeePaid|        ExtractDate|                Geom|\n",
       "+----------+----------+-------------+---------------------+------------------+--------------------+------+-------------------+-------------------+------------------+-------------------+----+--------+-----+----------+---------+--------+-------+----------+---------+-----------------+-------+-------------------+--------------------+\n",
       "|        16|   2603912|    16-145075|                    0|Nagomi Project Ltd|           Shizen Ya|Issued|2015-11-05 11:26:12|2016-12-31 00:00:00|Restaurant Class 1|With Liquor Service|null|    null| 1102|W BROADWAY|Vancouver|      BC|     CA|   V6H 1G5| Fairview|             10.0|   1042|2019-07-21 13:49:20|\"{\"\"type\"\": \"\"Poi...|\n",
       "|        17|   2819772|    17-143449|                    0|Nagomi Project Ltd|           Shizen Ya|Issued|2016-11-29 09:10:08|2017-12-31 00:00:00|Restaurant Class 1|With Liquor Service|null|    null| 1102|W BROADWAY|Vancouver|      BC|     CA|   V6H 1G5| Fairview|             10.0|   1063|2020-01-01 02:32:04|\"{\"\"type\"\": \"\"Poi...|\n",
       "|        14|   2157871|    14-145460|                    0|Nagomi Project Ltd|           Shizen Ya|Issued|2013-12-13 10:56:37|2014-12-31 00:00:00|Restaurant Class 1|With Liquor Service|null|    null| 1102|W BROADWAY|Vancouver|      BC|     CA|   V6H 1G5| Fairview|              8.0|    999|2019-07-21 13:49:12|\"{\"\"type\"\": \"\"Poi...|\n",
       "|        15|   2376219|    15-146481|                    0|Nagomi Project Ltd|Natural Food Shiz...|Issued|2014-10-31 16:52:01|2015-12-31 00:00:00|Restaurant Class 1|With Liquor Service|null|    null|  985| HORNBY ST|Vancouver|      BC|     CA|   V6Z 1V3| Downtown|             10.0|    878|2019-07-21 13:49:16|\"{\"\"type\"\": \"\"Poi...|\n",
       "|        14|   2158834|    14-146423|                    0|Nagomi Project Ltd|Natural Food Shiz...|Issued|2013-12-10 22:39:49|2014-12-31 00:00:00|Restaurant Class 1|With Liquor Service|null|    null|  985| HORNBY ST|Vancouver|      BC|     CA|   V6Z 1V3| Downtown|              7.0|    860|2019-07-21 13:49:12|\"{\"\"type\"\": \"\"Poi...|\n",
       "+----------+----------+-------------+---------------------+------------------+--------------------+------+-------------------+-------------------+------------------+-------------------+----+--------+-----+----------+---------+--------+-------+----------+---------+-----------------+-------+-------------------+--------------------+"
      ]
     },
     "execution_count": 23,
     "metadata": {},
     "output_type": "execute_result"
    }
   ],
   "source": [
    "search_restaurant('Shizen', 5)"
   ]
  },
  {
   "cell_type": "code",
   "execution_count": 24,
   "metadata": {},
   "outputs": [
    {
     "data": {
      "text/html": [
       "<table border='1'>\n",
       "<tr><th>FOLDERYEAR</th><th>LicenceRSN</th><th>LicenceNumber</th><th>LicenceRevisionNumber</th><th>BusinessName</th><th>BusinessTradeName</th><th>Status</th><th>IssuedDate</th><th>ExpiredDate</th><th>BusinessType</th><th>BusinessSubType</th><th>Unit</th><th>UnitType</th><th>House</th><th>Street</th><th>City</th><th>Province</th><th>Country</th><th>PostalCode</th><th>LocalArea</th><th>NumberofEmployees</th><th>FeePaid</th><th>ExtractDate</th><th>Geom</th></tr>\n",
       "<tr><td>0</td><td>0</td><td>0</td><td>0</td><td>0</td><td>0</td><td>0</td><td>3261</td><td>3260</td><td>0</td><td>12929</td><td>25242</td><td>25238</td><td>17</td><td>17</td><td>0</td><td>0</td><td>2</td><td>243</td><td>87</td><td>0</td><td>2537</td><td>0</td><td>831</td></tr>\n",
       "</table>\n"
      ],
      "text/plain": [
       "+----------+----------+-------------+---------------------+------------+-----------------+------+----------+-----------+------------+---------------+-----+--------+-----+------+----+--------+-------+----------+---------+-----------------+-------+-----------+----+\n",
       "|FOLDERYEAR|LicenceRSN|LicenceNumber|LicenceRevisionNumber|BusinessName|BusinessTradeName|Status|IssuedDate|ExpiredDate|BusinessType|BusinessSubType| Unit|UnitType|House|Street|City|Province|Country|PostalCode|LocalArea|NumberofEmployees|FeePaid|ExtractDate|Geom|\n",
       "+----------+----------+-------------+---------------------+------------+-----------------+------+----------+-----------+------------+---------------+-----+--------+-----+------+----+--------+-------+----------+---------+-----------------+-------+-----------+----+\n",
       "|         0|         0|            0|                    0|           0|                0|     0|      3261|       3260|           0|          12929|25242|   25238|   17|    17|   0|       0|      2|       243|       87|                0|   2537|          0| 831|\n",
       "+----------+----------+-------------+---------------------+------------+-----------------+------+----------+-----------+------------+---------------+-----+--------+-----+------+----+--------+-------+----------+---------+-----------------+-------+-----------+----+"
      ]
     },
     "execution_count": 24,
     "metadata": {},
     "output_type": "execute_result"
    }
   ],
   "source": [
    "# number of missing values of each column\n",
    "licences_rest_df.select(*(sum(col(c).isNull().cast(\"int\")).alias(c) for c in licences_rest_df.columns))"
   ]
  },
  {
   "cell_type": "code",
   "execution_count": 25,
   "metadata": {},
   "outputs": [],
   "source": [
    "# use this table to populate the features from yelp\n",
    "\n",
    "rest_distinct_df = licences_rest_df.select(['FOLDERYEAR', 'Status', \n",
    "                                            'BusinessTradeName', 'Geom', \n",
    "                                            'PostalCode', 'Unit', 'House', \n",
    "                                            'Street', 'City']).distinct()"
   ]
  },
  {
   "cell_type": "code",
   "execution_count": 26,
   "metadata": {},
   "outputs": [
    {
     "data": {
      "text/plain": [
       "'There are 4504 restaurant locations'"
      ]
     },
     "execution_count": 26,
     "metadata": {},
     "output_type": "execute_result"
    }
   ],
   "source": [
    "f'There are %i restaurant locations' % licences_rest_df.select(['Geom', 'PostalCode', 'Unit', \n",
    "                                                                'House', 'Street', 'City']).distinct().count()"
   ]
  },
  {
   "cell_type": "code",
   "execution_count": 27,
   "metadata": {},
   "outputs": [
    {
     "data": {
      "text/plain": [
       "'There are 6637 closed/open restaurants locations'"
      ]
     },
     "execution_count": 27,
     "metadata": {},
     "output_type": "execute_result"
    }
   ],
   "source": [
    "f'There are %i closed/open restaurants locations' % licences_rest_df.select(['BusinessTradeName', 'Geom', 'PostalCode', \n",
    "                                                                             'Unit', 'House', 'Street', 'City']).distinct().count()\n",
    "\n",
    "# this includes restuarants that changed locations"
   ]
  },
  {
   "cell_type": "code",
   "execution_count": 28,
   "metadata": {},
   "outputs": [
    {
     "data": {
      "text/html": [
       "<table border='1'>\n",
       "<tr><th>BusinessTradeName</th></tr>\n",
       "<tr><td>Fresh Counter &amp; C...</td></tr>\n",
       "<tr><td>Siga-Siga&#x27;s Chine...</td></tr>\n",
       "<tr><td>Siga-Siga&#x27;s Filip...</td></tr>\n",
       "<tr><td>Panz Veggie</td></tr>\n",
       "<tr><td>Craft Beer Market...</td></tr>\n",
       "<tr><td>Fiery Pizza</td></tr>\n",
       "</table>\n"
      ],
      "text/plain": [
       "+--------------------+\n",
       "|   BusinessTradeName|\n",
       "+--------------------+\n",
       "|Fresh Counter & C...|\n",
       "|Siga-Siga's Chine...|\n",
       "|Siga-Siga's Filip...|\n",
       "|         Panz Veggie|\n",
       "|Craft Beer Market...|\n",
       "|         Fiery Pizza|\n",
       "+--------------------+"
      ]
     },
     "execution_count": 28,
     "metadata": {},
     "output_type": "execute_result"
    }
   ],
   "source": [
    "rest_distinct_df.filter('House is null')\\\n",
    "                .filter('Street is null')\\\n",
    "                .select('BusinessTradeName')\\\n",
    "                .distinct()"
   ]
  },
  {
   "cell_type": "markdown",
   "metadata": {},
   "source": [
    "> The Yelp API requires an address of these restaurants and 6 restaurants do not have any address. Since this is an insignificant proportion of the data, I will simply remove them."
   ]
  },
  {
   "cell_type": "code",
   "execution_count": 29,
   "metadata": {},
   "outputs": [],
   "source": [
    "rest_distinct_df = rest_distinct_df.dropna(how = 'all', subset = ['House', 'Street'])"
   ]
  },
  {
   "cell_type": "markdown",
   "metadata": {},
   "source": [
    "> Problem: can't get information for old closed restuarants \n",
    "> - initial thoughts: have to find an external API that has archived webpages\n",
    "> - maybe a solution: businesses/search doesn't give closed restuarants but businesses/matches does (have to have exact address) and then get the ID from this output and input into businesses/{id}"
   ]
  },
  {
   "cell_type": "code",
   "execution_count": 30,
   "metadata": {},
   "outputs": [],
   "source": [
    "# Here I am ordering the status such that if in a single year, there are multiple statuses, I will take the greatest\n",
    "\n",
    "rest_distinct_df = rest_distinct_df.withColumn('Status', \n",
    "                            when(col('Status') == 'Inactive', 0)\n",
    "                            .when(col('Status') == 'Cancelled', 1)\n",
    "                            .when(col('Status') == 'Gone Out of Business', 2)\n",
    "                            .when(col('Status') == 'Pending', 3)\n",
    "                            .when(col('Status') == 'Issued', 4))"
   ]
  },
  {
   "cell_type": "code",
   "execution_count": 31,
   "metadata": {},
   "outputs": [],
   "source": [
    "# This will get the latest location of a restaurant\n",
    "# if in a single year, the restuarant is both cancelled and gone out of businesss, aggregate into 1 category\n",
    "# if in a single year, the restuarant is both cancelled and issued, aggregate into 1 category - this means the restuarant moved locations\n",
    "latest_year = rest_distinct_df.sort(['FOLDERYEAR', 'Status'])\\\n",
    "                              .groupBy('BusinessTradeName')\\\n",
    "                              .agg(last('Status').alias('Status'), \n",
    "                                   last('FOLDERYEAR').alias('FOLDERYEAR'))\n",
    "\n",
    "rest_distinct_df = rest_distinct_df.join(latest_year, on = ['Status', 'FOLDERYEAR', 'BusinessTradeName'], how = 'leftsemi')"
   ]
  },
  {
   "cell_type": "code",
   "execution_count": 32,
   "metadata": {},
   "outputs": [
    {
     "data": {
      "text/plain": [
       "5740"
      ]
     },
     "execution_count": 32,
     "metadata": {},
     "output_type": "execute_result"
    }
   ],
   "source": [
    "rest_distinct_df.count()"
   ]
  },
  {
   "cell_type": "code",
   "execution_count": 33,
   "metadata": {},
   "outputs": [],
   "source": [
    "# create new columns for longitude and latitude\n",
    "rest_distinct_df = rest_distinct_df.withColumn('longitude', regexp_extract(col('Geom'), '\\[(.+), (.+)\\]', 1).cast('float'))\\\n",
    "                                   .withColumn('latitude', regexp_extract(col('Geom'), '\\[(.+), (.+)\\]', 2).cast('float'))\\\n",
    "                                   .drop('Geom')"
   ]
  },
  {
   "cell_type": "code",
   "execution_count": 34,
   "metadata": {},
   "outputs": [
    {
     "data": {
      "text/html": [
       "<table border='1'>\n",
       "<tr><th>Status</th><th>FOLDERYEAR</th><th>BusinessTradeName</th><th>PostalCode</th><th>Unit</th><th>House</th><th>Street</th><th>City</th><th>longitude</th><th>latitude</th></tr>\n",
       "<tr><td>1</td><td>17</td><td>George Simnos &amp; J...</td><td>V5V 4E9</td><td>null</td><td>4153</td><td>FRASER ST</td><td>Vancouver</td><td>-123.09054</td><td>49.248013</td></tr>\n",
       "<tr><td>2</td><td>15</td><td>Sodexo @Vancouver...</td><td>V5T 4V5</td><td>null</td><td>1120</td><td>E 7TH AV</td><td>Vancouver</td><td>-123.08036</td><td>49.2633</td></tr>\n",
       "<tr><td>2</td><td>16</td><td>Cilantro Cafe</td><td>V6Z 2L2</td><td>110</td><td>840</td><td>HOWE ST</td><td>Vancouver</td><td>-123.121574</td><td>49.281162</td></tr>\n",
       "<tr><td>2</td><td>17</td><td>O-Bowl</td><td>V6K 2H3</td><td>null</td><td>3132</td><td>W BROADWAY</td><td>Vancouver</td><td>-123.17483</td><td>49.26392</td></tr>\n",
       "<tr><td>2</td><td>17</td><td>Swiss Chalet Roti...</td><td>V6K 2H4</td><td>null</td><td>3204</td><td>W BROADWAY</td><td>Vancouver</td><td>-123.176216</td><td>49.26395</td></tr>\n",
       "</table>\n"
      ],
      "text/plain": [
       "+------+----------+--------------------+----------+----+-----+----------+---------+-----------+---------+\n",
       "|Status|FOLDERYEAR|   BusinessTradeName|PostalCode|Unit|House|    Street|     City|  longitude| latitude|\n",
       "+------+----------+--------------------+----------+----+-----+----------+---------+-----------+---------+\n",
       "|     1|        17|George Simnos & J...|   V5V 4E9|null| 4153| FRASER ST|Vancouver| -123.09054|49.248013|\n",
       "|     2|        15|Sodexo @Vancouver...|   V5T 4V5|null| 1120|  E 7TH AV|Vancouver| -123.08036|  49.2633|\n",
       "|     2|        16|       Cilantro Cafe|   V6Z 2L2| 110|  840|   HOWE ST|Vancouver|-123.121574|49.281162|\n",
       "|     2|        17|              O-Bowl|   V6K 2H3|null| 3132|W BROADWAY|Vancouver| -123.17483| 49.26392|\n",
       "|     2|        17|Swiss Chalet Roti...|   V6K 2H4|null| 3204|W BROADWAY|Vancouver|-123.176216| 49.26395|\n",
       "+------+----------+--------------------+----------+----+-----+----------+---------+-----------+---------+"
      ]
     },
     "execution_count": 34,
     "metadata": {},
     "output_type": "execute_result"
    }
   ],
   "source": [
    "rest_distinct_df.limit(5)"
   ]
  },
  {
   "cell_type": "markdown",
   "metadata": {},
   "source": [
    "Is the restaurant part of a chain?  \n",
    "How many other restaurants are nearby (within one mile)?  \n",
    "How does it compare to nearby restaurants (based on price, but also its average rating — and the number of reviews)?  \n",
    "How old is the restaurants?"
   ]
  },
  {
   "cell_type": "markdown",
   "metadata": {},
   "source": [
    "## Yelp API"
   ]
  },
  {
   "cell_type": "code",
   "execution_count": null,
   "metadata": {},
   "outputs": [],
   "source": [
    "rest_distinct_list = rest_distinct_df.collect()"
   ]
  },
  {
   "cell_type": "code",
   "execution_count": 1879,
   "metadata": {},
   "outputs": [
    {
     "data": {
      "text/plain": [
       "'20 hour(s) and 13 min(s)'"
      ]
     },
     "execution_count": 1879,
     "metadata": {},
     "output_type": "execute_result"
    }
   ],
   "source": [
    "def get_params(rest):\n",
    "    \"\"\"\n",
    "    \"\"\"\n",
    "    \n",
    "    name = rest.BusinessTradeName\n",
    "    \n",
    "    house = rest.House\n",
    "    street = rest.Street\n",
    "    if rest.Unit == None:\n",
    "        unit = ''\n",
    "    else:\n",
    "        unit = rest.Unit\n",
    "    address = ' '.join([unit, house, street])\n",
    "    \n",
    "    if rest.PostalCode == None:\n",
    "        postal_code = ''\n",
    "    else:\n",
    "        postal_code = rest.PostalCode\n",
    "            \n",
    "    if rest.latitude == None:\n",
    "        latitude = None\n",
    "        longitude = None\n",
    "    else:    \n",
    "        latitude = rest.latitude\n",
    "        longitude = rest.longitude\n",
    "        \n",
    "    city = rest.City\n",
    "    \n",
    "    return {'apikey': api_key,\n",
    "            'name': name,\n",
    "            'address1': address,\n",
    "            'zip_code': postal_code,\n",
    "            'latitude': latitude,\n",
    "            'longitude': longitude,\n",
    "            'city': city,\n",
    "            'state': 'BC',\n",
    "            'country': 'CA',\n",
    "            'match_threshold': 'none',\n",
    "            'limit': 1}\n",
    "\n",
    "def make_call_1(headers, params):\n",
    "    \"\"\"\n",
    "    \n",
    "    \"\"\"\n",
    "    \n",
    "    request_1 = requests.get('https://api.yelp.com/v3/businesses/matches', \n",
    "                             headers = headers, params = params)\n",
    "\n",
    "    result_1 = request_1.json()\n",
    "    \n",
    "    if request_1.status_code == 500:\n",
    "\n",
    "        print('There was an internal yelp matches call error for: ' + params['name'])\n",
    "        print('Redoing yelp call. ', end = '')\n",
    "        time.sleep(2)\n",
    "        print('.', end = '')\n",
    "        time.sleep(2)\n",
    "        print('.', end = '')\n",
    "        time.sleep(2)\n",
    "        request_1 = requests.get('https://api.yelp.com/v3/businesses/matches', \n",
    "                                 headers = headers, params = params)\n",
    "        result_1 = request_1.json()\n",
    "        \n",
    "        if request_1.status_code != 500:\n",
    "            print('Fixed!')\n",
    "    \n",
    "    return request_1, result_1\n",
    "\n",
    "def make_call_1_recursive(headers, params):\n",
    "    \"\"\"\n",
    "    \n",
    "    \"\"\"\n",
    "    \n",
    "    request_1 = requests.get('https://api.yelp.com/v3/businesses/matches', \n",
    "                             headers = headers, params = params)\n",
    "\n",
    "    result_1 = request_1.json()\n",
    "    \n",
    "    if request_1.status_code == 500:\n",
    "        print('There was an internal yelp matches call error for: ' + params['name'])\n",
    "        print('Redoing yelp call. ', end = '')\n",
    "        time.sleep(2) # to prevent overloading the server\n",
    "        print('.', end = '')\n",
    "        time.sleep(2)\n",
    "        print('.', end = '')\n",
    "        time.sleep(2)\n",
    "        \n",
    "        request_1, result_1 = recall_1(headers, params)\n",
    "        \n",
    "        if request_1.status_code != 500:\n",
    "            print('Fixed!')\n",
    "    \n",
    "    return request_1, result_1\n",
    "\n",
    "def recall_1(headers, params):\n",
    "    request_1 = requests.get('https://api.yelp.com/v3/businesses/matches', \n",
    "                             headers = headers, params = params)\n",
    "    result_1 = request_1.json()\n",
    "\n",
    "    if request_1.status_code == 500:\n",
    "        print('again.', end = '')\n",
    "        time.sleep(2)\n",
    "        print('.', end = '')\n",
    "        time.sleep(2)\n",
    "        print('.', end = '')\n",
    "        time.sleep(2)\n",
    "        request_1, result_1 = recall_1(headers, params)\n",
    "        \n",
    "    return request_1, result_1\n",
    "    \n",
    "\n",
    "def make_call_2(headers, params, request_1, result_1):\n",
    "    \"\"\"\n",
    "    \n",
    "    \"\"\"\n",
    "    # checks if the request was bad or output was empty   \n",
    "    if request_1.status_code != 200 or len(result_1['businesses']) == 0:\n",
    "        result_2 = None\n",
    "        request_2 = request_1\n",
    "        data['yelp_call'].append(result_2)\n",
    "\n",
    "    else:\n",
    "        rest_id = result_1['businesses'][0]['id']\n",
    "        request_2 = requests.get('https://api.yelp.com/v3/businesses/{}'\n",
    "                                 .format(rest_id), headers = headers)\n",
    "        result_2 = request_2.json()\n",
    "        \n",
    "        data['yelp_call'].append(result_2)\n",
    "        \n",
    "        if request_2.status_code == 500:\n",
    "            print('There was an internal yelp businesses call error for: ' + params['name'])\n",
    "            print('Redoing yelp call. ', end = '')\n",
    "            time.sleep(2)\n",
    "            print('.', end = '')\n",
    "            time.sleep(2)\n",
    "            print('.', end = '')\n",
    "            time.sleep(2)\n",
    "            request_2 = requests.get('https://api.yelp.com/v3/businesses/{}'\n",
    "                                    .format(rest_id), headers = headers)\n",
    "            result_2 = request_2.json()\n",
    "            \n",
    "            if request_2.status_code != 500:\n",
    "                print('Fixed!')\n",
    "                \n",
    "            data['yelp_call'][i] = result_2\n",
    "\n",
    "\n",
    "def make_call_2_recursive(headers, params, request_1, result_1):\n",
    "    # checks if the request was bad or output was empty  \n",
    "    if request_1.status_code != 200 or len(result_1['businesses']) == 0:\n",
    "        request_2 = request_1\n",
    "        result_2 = None\n",
    "\n",
    "    else:\n",
    "        rest_id = result_1['businesses'][0]['id']\n",
    "        request_2 = requests.get('https://api.yelp.com/v3/businesses/{}'\n",
    "                                 .format(rest_id), headers = headers)\n",
    "        result_2 = request_2.json()\n",
    "        \n",
    "        if request_2.status_code == 500:\n",
    "            print('There was an internal yelp businesses call error for: ' + params['name'])\n",
    "            print('Redoing yelp call. ', end = '')\n",
    "            time.sleep(2)\n",
    "            print('.', end = '')\n",
    "            time.sleep(2)\n",
    "            print('.', end = '')\n",
    "            time.sleep(2)\n",
    "            \n",
    "            request_2, result_2 = recall_2(headers, params)\n",
    "            \n",
    "            if request_2.status_code != 500:\n",
    "                print('Fixed!')\n",
    "        \n",
    "    return request_2, result_2\n",
    "            \n",
    "def recall_2(headers, params):\n",
    "    request_2 = requests.get('https://api.yelp.com/v3/businesses/{}'\n",
    "                            .format(rest_id), headers = headers)\n",
    "    result_2 = request_2.json()\n",
    "    \n",
    "    if request_2.status_code == 500:\n",
    "        print('again.', end = '')\n",
    "        time.sleep(2)\n",
    "        print('.', end = '')\n",
    "        time.sleep(2)\n",
    "        print('.', end = '')\n",
    "        time.sleep(2)\n",
    "        request_2, result_2 = recall_2(headers, params)\n",
    "        \n",
    "    return request_2, result_2 \n",
    "    \n",
    "    \n",
    "def remaining_time():\n",
    "    \"\"\"\n",
    "    \"\"\"\n",
    "    \n",
    "    current_time = datetime.strptime(datetime.utcnow().strftime(\"%H:%M\"), '%H:%M')\n",
    "    reset_time = datetime.strptime('00:00', '%H:%M')\n",
    "    \n",
    "    diff = reset_time - current_time\n",
    "    hours = int(diff.seconds // (60 * 60))\n",
    "    mins = int((diff.seconds // 60) % 60)\n",
    "    \n",
    "    return '{} hour(s) and {} min(s)'.format(hours, mins)"
   ]
  },
  {
   "cell_type": "code",
   "execution_count": 53,
   "metadata": {},
   "outputs": [],
   "source": [
    "api_key = os.getenv('YELP_API_KEY')\n",
    "headers = {'Authorization': 'Bearer %s' % api_key}"
   ]
  },
  {
   "cell_type": "code",
   "execution_count": 1806,
   "metadata": {},
   "outputs": [],
   "source": [
    "# data = dict(identifier = [],\n",
    "#             name = [],\n",
    "#             postal_code = [],\n",
    "#             unit = [],\n",
    "#             house = [],\n",
    "#             street = [],\n",
    "#             yelp_call = [])\n",
    "\n",
    "# filename = 'rest_yelp_api_2020-05-13.pkl'\n",
    "# with open(path + filename, 'rb') as f:\n",
    "#     data = pickle.load(f)"
   ]
  },
  {
   "cell_type": "code",
   "execution_count": 1886,
   "metadata": {},
   "outputs": [
    {
     "name": "stdout",
     "output_type": "stream",
     "text": [
      "200 restaurants collected\n",
      "400 restaurants collected\n",
      "600 restaurants collected\n",
      "800 restaurants collected\n",
      "1000 restaurants collected\n",
      "1200 restaurants collected\n",
      "1400 restaurants collected\n",
      "1600 restaurants collected\n",
      "1800 restaurants collected\n",
      "2000 restaurants collected\n",
      "2200 restaurants collected\n",
      "2400 restaurants collected\n",
      "2600 restaurants collected\n",
      "2800 restaurants collected\n",
      "3000 restaurants collected\n",
      "3200 restaurants collected\n",
      "3400 restaurants collected\n",
      "3600 restaurants collected\n",
      "3800 restaurants collected\n",
      "4000 restaurants collected\n",
      "4200 restaurants collected\n",
      "4400 restaurants collected\n",
      "4600 restaurants collected\n",
      "4800 restaurants collected\n",
      "5000 restaurants collected\n",
      "5200 restaurants collected\n",
      "5400 restaurants collected\n",
      "5600 restaurants collected\n",
      "\n",
      "5740 / 5740 restaurants collected\n",
      "Calls remaining: 1893\n",
      "Data saved in data/yelp/ as rest_yelp_api_2020-05-15.pkl\n"
     ]
    },
    {
     "data": {
      "text/plain": [
       "0"
      ]
     },
     "execution_count": 1886,
     "metadata": {},
     "output_type": "execute_result"
    }
   ],
   "source": [
    "for i in range(len(rest_distinct_list)):\n",
    "\n",
    "    params = get_params(rest_distinct_list[i])\n",
    "    \n",
    "    identifier = ''.join([params['name'], \n",
    "                          params['address1'], \n",
    "                          params['zip_code']])\n",
    "\n",
    "    # doesn't make a request if already have the data\n",
    "    if identifier not in data['identifier']:\n",
    "        request_1, result_1 = make_call_1_recursive(headers, params)\n",
    "\n",
    "        request_2, result_2 = make_call_2_recursive(headers, params, request_1, result_1)\n",
    "        \n",
    "        if request_1.status_code == 429 or request_2.status_code == 429:\n",
    "            print('Yelp API call limit reached, re-run in {}'.format(remaining_time()))\n",
    "            break\n",
    "\n",
    "        data['identifier'].append(identifier)\n",
    "        data['yelp_call'].append(result_2)\n",
    "        \n",
    "        # for joining back to original dataframe\n",
    "        data['name'].append(rest_distinct_list[i].BusinessTradeName)\n",
    "        data['postal_code'].append(rest_distinct_list[i].PostalCode)\n",
    "        data['unit'].append(rest_distinct_list[i].Unit)\n",
    "        data['house'].append(rest_distinct_list[i].House)\n",
    "        data['street'].append(rest_distinct_list[i].Street)\n",
    "        \n",
    "    if i % 200 == 0 and i != 0:\n",
    "        print(i, 'restaurants collected')\n",
    "\n",
    "print('\\n{} / {} restaurants collected'.format(i + 1, len(rest_distinct_list)))\n",
    "print('Calls remaining:', request_2.headers['ratelimit-remaining'])\n",
    "\n",
    "path = 'data/yelp/'\n",
    "filename = 'rest_yelp_api' + time.strftime('_%Y-%m-%d') + '.pkl'\n",
    "with open(path + filename, 'wb') as f:\n",
    "    pickle.dump(data, f, pickle.HIGHEST_PROTOCOL)\n",
    "print('Data saved in {} as {}'.format(path, filename))\n",
    "os.system(\"printf '\\a'\")"
   ]
  },
  {
   "cell_type": "markdown",
   "metadata": {},
   "source": [
    "## Creating the Cleaned Dataframe"
   ]
  },
  {
   "cell_type": "code",
   "execution_count": 190,
   "metadata": {},
   "outputs": [],
   "source": [
    "with open('data/yelp/rest_yelp_api_2020-05-15.pkl', 'rb') as f:\n",
    "    data = pickle.load(f)"
   ]
  },
  {
   "cell_type": "code",
   "execution_count": 191,
   "metadata": {},
   "outputs": [],
   "source": [
    "data_clean = dict(name = [],\n",
    "                  name_yelp = [],\n",
    "                  postal_code = [],\n",
    "                  unit = [],\n",
    "                  house = [],\n",
    "                  street = [],\n",
    "                  categories = [],\n",
    "                  is_claimed = [],\n",
    "                  is_closed = [],\n",
    "                  rating = [],\n",
    "                  review_count = [],\n",
    "                  price = [])"
   ]
  },
  {
   "cell_type": "code",
   "execution_count": 192,
   "metadata": {},
   "outputs": [
    {
     "name": "stdout",
     "output_type": "stream",
     "text": [
      "Data saved in data/yelp/ as rest_cleaned_2020-06-06.pkl\n"
     ]
    }
   ],
   "source": [
    "cols = ['name', 'postal_code', 'unit', 'house', 'street']\n",
    "for col in cols:\n",
    "    for entry in data[str(col)]:\n",
    "        data_clean[str(col)].append(entry)\n",
    "\n",
    "for call in data['yelp_call']:\n",
    "    if call == None:\n",
    "        data_clean['name_yelp'].append(None)\n",
    "        data_clean['is_claimed'].append(None)\n",
    "        data_clean['is_closed'].append(None)\n",
    "        data_clean['categories'].append([])\n",
    "        data_clean['rating'].append(None)\n",
    "        data_clean['review_count'].append(None)\n",
    "        data_clean['price'].append(None)\n",
    "    else:\n",
    "        if 'name' not in call:\n",
    "            data_clean['name_yelp'].append(None)\n",
    "        else:\n",
    "            data_clean['name_yelp'].append(call['name'])\n",
    "        \n",
    "        if 'is_claimed' not in call:\n",
    "            data_clean['is_claimed'].append(None)\n",
    "        else:\n",
    "            data_clean['is_claimed'].append(call['is_claimed'])    \n",
    "\n",
    "        if 'is_closed' not in call:\n",
    "            data_clean['is_closed'].append(None)\n",
    "        else:\n",
    "            data_clean['is_closed'].append(call['is_closed'])    \n",
    "        \n",
    "        if 'categories' not in call:\n",
    "            data_clean['categories'].append([])\n",
    "        else:\n",
    "            data_clean['categories'].append(call['categories'])\n",
    "\n",
    "        if 'rating' not in call:\n",
    "            data_clean['rating'].append(None)\n",
    "        else:\n",
    "            data_clean['rating'].append(call['rating'])\n",
    "\n",
    "        if 'review_count' not in call:\n",
    "            data_clean['review_count'].append(None)\n",
    "        else:\n",
    "            data_clean['review_count'].append(call['review_count'])\n",
    "\n",
    "        if 'price' not in call:\n",
    "            data_clean['price'].append(None)\n",
    "        else:\n",
    "            data_clean['price'].append(call['price'])\n",
    "\n",
    "\n",
    "path = 'data/yelp/'\n",
    "filename = 'rest_cleaned' + time.strftime('_%Y-%m-%d') + '.pkl'\n",
    "with open(path + filename, 'wb') as f:\n",
    "    pickle.dump(data_clean, f, pickle.HIGHEST_PROTOCOL)\n",
    "print('Data saved in {} as {}'.format(path, filename))"
   ]
  },
  {
   "cell_type": "code",
   "execution_count": 201,
   "metadata": {},
   "outputs": [
    {
     "data": {
      "text/html": [
       "<div>\n",
       "<style scoped>\n",
       "    .dataframe tbody tr th:only-of-type {\n",
       "        vertical-align: middle;\n",
       "    }\n",
       "\n",
       "    .dataframe tbody tr th {\n",
       "        vertical-align: top;\n",
       "    }\n",
       "\n",
       "    .dataframe thead th {\n",
       "        text-align: right;\n",
       "    }\n",
       "</style>\n",
       "<table border=\"1\" class=\"dataframe\">\n",
       "  <thead>\n",
       "    <tr style=\"text-align: right;\">\n",
       "      <th></th>\n",
       "      <th>name</th>\n",
       "      <th>name_yelp</th>\n",
       "      <th>postal_code</th>\n",
       "      <th>unit</th>\n",
       "      <th>house</th>\n",
       "      <th>street</th>\n",
       "      <th>categories</th>\n",
       "      <th>is_claimed</th>\n",
       "      <th>is_closed</th>\n",
       "      <th>rating</th>\n",
       "      <th>review_count</th>\n",
       "      <th>price</th>\n",
       "    </tr>\n",
       "  </thead>\n",
       "  <tbody>\n",
       "    <tr>\n",
       "      <th>0</th>\n",
       "      <td>George Simnos &amp; Joakim Bostner &amp; Stelio Loukakos</td>\n",
       "      <td>Bows &amp; Arrows</td>\n",
       "      <td>V5V 4E9</td>\n",
       "      <td>None</td>\n",
       "      <td>4153</td>\n",
       "      <td>FRASER ST</td>\n",
       "      <td>[{'alias': 'coffee', 'title': 'Coffee &amp; Tea'},...</td>\n",
       "      <td>True</td>\n",
       "      <td>True</td>\n",
       "      <td>3.5</td>\n",
       "      <td>49.0</td>\n",
       "      <td>$$</td>\n",
       "    </tr>\n",
       "    <tr>\n",
       "      <th>1</th>\n",
       "      <td>Sodexo @Vancouver Community College</td>\n",
       "      <td>Vancouver Community College</td>\n",
       "      <td>V5T 4V5</td>\n",
       "      <td>None</td>\n",
       "      <td>1120</td>\n",
       "      <td>E 7TH AV</td>\n",
       "      <td>[{'alias': 'collegeuniv', 'title': 'Colleges &amp;...</td>\n",
       "      <td>False</td>\n",
       "      <td>False</td>\n",
       "      <td>2.5</td>\n",
       "      <td>3.0</td>\n",
       "      <td>None</td>\n",
       "    </tr>\n",
       "    <tr>\n",
       "      <th>2</th>\n",
       "      <td>Cilantro Cafe</td>\n",
       "      <td>Cilantro Cafe</td>\n",
       "      <td>V6Z 2L2</td>\n",
       "      <td>110</td>\n",
       "      <td>840</td>\n",
       "      <td>HOWE ST</td>\n",
       "      <td>[{'alias': 'cafes', 'title': 'Cafes'}, {'alias...</td>\n",
       "      <td>False</td>\n",
       "      <td>False</td>\n",
       "      <td>5.0</td>\n",
       "      <td>1.0</td>\n",
       "      <td>None</td>\n",
       "    </tr>\n",
       "    <tr>\n",
       "      <th>3</th>\n",
       "      <td>O-Bowl</td>\n",
       "      <td>O-bowl By Rustic Kitchen</td>\n",
       "      <td>V6K 2H3</td>\n",
       "      <td>None</td>\n",
       "      <td>3132</td>\n",
       "      <td>W BROADWAY</td>\n",
       "      <td>[{'alias': 'asianfusion', 'title': 'Asian Fusi...</td>\n",
       "      <td>True</td>\n",
       "      <td>True</td>\n",
       "      <td>3.5</td>\n",
       "      <td>5.0</td>\n",
       "      <td>$$</td>\n",
       "    </tr>\n",
       "    <tr>\n",
       "      <th>4</th>\n",
       "      <td>Swiss Chalet Rotisserie + Grill</td>\n",
       "      <td>Swiss Chalet Rotisserie &amp; Grill</td>\n",
       "      <td>V6K 2H4</td>\n",
       "      <td>None</td>\n",
       "      <td>3204</td>\n",
       "      <td>W BROADWAY</td>\n",
       "      <td>[{'alias': 'comfortfood', 'title': 'Comfort Fo...</td>\n",
       "      <td>True</td>\n",
       "      <td>True</td>\n",
       "      <td>2.5</td>\n",
       "      <td>40.0</td>\n",
       "      <td>$$</td>\n",
       "    </tr>\n",
       "    <tr>\n",
       "      <th>...</th>\n",
       "      <td>...</td>\n",
       "      <td>...</td>\n",
       "      <td>...</td>\n",
       "      <td>...</td>\n",
       "      <td>...</td>\n",
       "      <td>...</td>\n",
       "      <td>...</td>\n",
       "      <td>...</td>\n",
       "      <td>...</td>\n",
       "      <td>...</td>\n",
       "      <td>...</td>\n",
       "      <td>...</td>\n",
       "    </tr>\n",
       "    <tr>\n",
       "      <th>5735</th>\n",
       "      <td>Po Kong Vegetarian Restaurant Ltd</td>\n",
       "      <td>Po Kong Vegetarian Restaurant</td>\n",
       "      <td>V5V 3E4</td>\n",
       "      <td>None</td>\n",
       "      <td>1334</td>\n",
       "      <td>KINGSWAY</td>\n",
       "      <td>[{'alias': 'dimsum', 'title': 'Dim Sum'}, {'al...</td>\n",
       "      <td>False</td>\n",
       "      <td>False</td>\n",
       "      <td>4.0</td>\n",
       "      <td>117.0</td>\n",
       "      <td>$$</td>\n",
       "    </tr>\n",
       "    <tr>\n",
       "      <th>5736</th>\n",
       "      <td>Sushi Dining Yagoto</td>\n",
       "      <td>Yagoto Sushi Dining</td>\n",
       "      <td>V6K 2C8</td>\n",
       "      <td>None</td>\n",
       "      <td>2180</td>\n",
       "      <td>W BROADWAY</td>\n",
       "      <td>[{'alias': 'sushi', 'title': 'Sushi Bars'}, {'...</td>\n",
       "      <td>False</td>\n",
       "      <td>False</td>\n",
       "      <td>4.5</td>\n",
       "      <td>72.0</td>\n",
       "      <td>$$</td>\n",
       "    </tr>\n",
       "    <tr>\n",
       "      <th>5737</th>\n",
       "      <td>Taf's Cafe</td>\n",
       "      <td>Taf's Café</td>\n",
       "      <td>V6Z 1K7</td>\n",
       "      <td>None</td>\n",
       "      <td>829</td>\n",
       "      <td>Granville St</td>\n",
       "      <td>[{'alias': 'cafes', 'title': 'Cafes'}]</td>\n",
       "      <td>True</td>\n",
       "      <td>False</td>\n",
       "      <td>2.5</td>\n",
       "      <td>43.0</td>\n",
       "      <td>$</td>\n",
       "    </tr>\n",
       "    <tr>\n",
       "      <th>5738</th>\n",
       "      <td>Teppan Kitchen</td>\n",
       "      <td>Teppan Kitchen</td>\n",
       "      <td>V6B 4N4</td>\n",
       "      <td>FC26</td>\n",
       "      <td>555</td>\n",
       "      <td>W HASTINGS ST</td>\n",
       "      <td>[{'alias': 'japanese', 'title': 'Japanese'}, {...</td>\n",
       "      <td>True</td>\n",
       "      <td>False</td>\n",
       "      <td>3.0</td>\n",
       "      <td>15.0</td>\n",
       "      <td>None</td>\n",
       "    </tr>\n",
       "    <tr>\n",
       "      <th>5739</th>\n",
       "      <td>The Workshop Vegetarian Cafe Ltd</td>\n",
       "      <td>The Workshop Vegetarian Cafe</td>\n",
       "      <td>V5K 2A7</td>\n",
       "      <td>None</td>\n",
       "      <td>3596</td>\n",
       "      <td>E HASTINGS ST</td>\n",
       "      <td>[{'alias': 'vegetarian', 'title': 'Vegetarian'}]</td>\n",
       "      <td>True</td>\n",
       "      <td>False</td>\n",
       "      <td>4.5</td>\n",
       "      <td>18.0</td>\n",
       "      <td>None</td>\n",
       "    </tr>\n",
       "  </tbody>\n",
       "</table>\n",
       "<p>5740 rows × 12 columns</p>\n",
       "</div>"
      ],
      "text/plain": [
       "                                                  name  \\\n",
       "0     George Simnos & Joakim Bostner & Stelio Loukakos   \n",
       "1                  Sodexo @Vancouver Community College   \n",
       "2                                        Cilantro Cafe   \n",
       "3                                               O-Bowl   \n",
       "4                      Swiss Chalet Rotisserie + Grill   \n",
       "...                                                ...   \n",
       "5735                 Po Kong Vegetarian Restaurant Ltd   \n",
       "5736                               Sushi Dining Yagoto   \n",
       "5737                                        Taf's Cafe   \n",
       "5738                                    Teppan Kitchen   \n",
       "5739                  The Workshop Vegetarian Cafe Ltd   \n",
       "\n",
       "                            name_yelp postal_code  unit house         street  \\\n",
       "0                       Bows & Arrows     V5V 4E9  None  4153      FRASER ST   \n",
       "1         Vancouver Community College     V5T 4V5  None  1120       E 7TH AV   \n",
       "2                       Cilantro Cafe     V6Z 2L2   110   840        HOWE ST   \n",
       "3            O-bowl By Rustic Kitchen     V6K 2H3  None  3132     W BROADWAY   \n",
       "4     Swiss Chalet Rotisserie & Grill     V6K 2H4  None  3204     W BROADWAY   \n",
       "...                               ...         ...   ...   ...            ...   \n",
       "5735    Po Kong Vegetarian Restaurant     V5V 3E4  None  1334       KINGSWAY   \n",
       "5736              Yagoto Sushi Dining     V6K 2C8  None  2180     W BROADWAY   \n",
       "5737                       Taf's Café     V6Z 1K7  None   829   Granville St   \n",
       "5738                   Teppan Kitchen     V6B 4N4  FC26   555  W HASTINGS ST   \n",
       "5739     The Workshop Vegetarian Cafe     V5K 2A7  None  3596  E HASTINGS ST   \n",
       "\n",
       "                                             categories is_claimed is_closed  \\\n",
       "0     [{'alias': 'coffee', 'title': 'Coffee & Tea'},...       True      True   \n",
       "1     [{'alias': 'collegeuniv', 'title': 'Colleges &...      False     False   \n",
       "2     [{'alias': 'cafes', 'title': 'Cafes'}, {'alias...      False     False   \n",
       "3     [{'alias': 'asianfusion', 'title': 'Asian Fusi...       True      True   \n",
       "4     [{'alias': 'comfortfood', 'title': 'Comfort Fo...       True      True   \n",
       "...                                                 ...        ...       ...   \n",
       "5735  [{'alias': 'dimsum', 'title': 'Dim Sum'}, {'al...      False     False   \n",
       "5736  [{'alias': 'sushi', 'title': 'Sushi Bars'}, {'...      False     False   \n",
       "5737             [{'alias': 'cafes', 'title': 'Cafes'}]       True     False   \n",
       "5738  [{'alias': 'japanese', 'title': 'Japanese'}, {...       True     False   \n",
       "5739   [{'alias': 'vegetarian', 'title': 'Vegetarian'}]       True     False   \n",
       "\n",
       "      rating  review_count price  \n",
       "0        3.5          49.0    $$  \n",
       "1        2.5           3.0  None  \n",
       "2        5.0           1.0  None  \n",
       "3        3.5           5.0    $$  \n",
       "4        2.5          40.0    $$  \n",
       "...      ...           ...   ...  \n",
       "5735     4.0         117.0    $$  \n",
       "5736     4.5          72.0    $$  \n",
       "5737     2.5          43.0     $  \n",
       "5738     3.0          15.0  None  \n",
       "5739     4.5          18.0  None  \n",
       "\n",
       "[5740 rows x 12 columns]"
      ]
     },
     "execution_count": 201,
     "metadata": {},
     "output_type": "execute_result"
    }
   ],
   "source": [
    "with open('data/yelp/rest_cleaned_2020-06-06.pkl', 'rb') as f:\n",
    "    data_clean = pickle.load(f)\n",
    "data_clean = pd.DataFrame(data_clean)\n",
    "data_clean"
   ]
  },
  {
   "cell_type": "markdown",
   "metadata": {},
   "source": [
    "### Removing irrelevant categories "
   ]
  },
  {
   "cell_type": "markdown",
   "metadata": {},
   "source": [
    "Collecting the data is not 100% accurate so it may receive some incorrect businesses which should be removed."
   ]
  },
  {
   "cell_type": "code",
   "execution_count": 197,
   "metadata": {},
   "outputs": [],
   "source": [
    "categories = requests.get('https://www.yelp.com/developers/documentation/v3/all_category_list/categories.json').json()"
   ]
  },
  {
   "cell_type": "code",
   "execution_count": 198,
   "metadata": {},
   "outputs": [],
   "source": [
    "yelp_rest_cats = []\n",
    "for category in categories:\n",
    "    cat = category['parents']\n",
    "    if 'restaurants' in cat or 'food' in cat:\n",
    "        yelp_rest_cats.append(category['alias'])"
   ]
  },
  {
   "cell_type": "code",
   "execution_count": 194,
   "metadata": {},
   "outputs": [],
   "source": [
    "category_list = []\n",
    "for categories in data_clean['categories']:\n",
    "    for category in categories:\n",
    "        category_list.append(category['title'])"
   ]
  },
  {
   "cell_type": "code",
   "execution_count": 153,
   "metadata": {},
   "outputs": [
    {
     "name": "stdout",
     "output_type": "stream",
     "text": [
      "There are 260 restaurant related categories within Yelp\n",
      "There are 336 restaurant related categories within my dataset\n"
     ]
    }
   ],
   "source": [
    "print(f'There are %i restaurant related categories within Yelp' % len(rest_cats))\n",
    "print(f'There are %i restaurant related categories within my dataset' % len(list(set(category_list))))"
   ]
  },
  {
   "cell_type": "code",
   "execution_count": 222,
   "metadata": {},
   "outputs": [],
   "source": [
    "ind = []\n",
    "for i in range(len(data_clean['categories'])):\n",
    "    for category in data_clean['categories'][i]:\n",
    "        if category['alias'] not in yelp_rest_cats:\n",
    "            ind.append(i)"
   ]
  },
  {
   "cell_type": "code",
   "execution_count": 225,
   "metadata": {},
   "outputs": [
    {
     "data": {
      "text/html": [
       "<div>\n",
       "<style scoped>\n",
       "    .dataframe tbody tr th:only-of-type {\n",
       "        vertical-align: middle;\n",
       "    }\n",
       "\n",
       "    .dataframe tbody tr th {\n",
       "        vertical-align: top;\n",
       "    }\n",
       "\n",
       "    .dataframe thead th {\n",
       "        text-align: right;\n",
       "    }\n",
       "</style>\n",
       "<table border=\"1\" class=\"dataframe\">\n",
       "  <thead>\n",
       "    <tr style=\"text-align: right;\">\n",
       "      <th></th>\n",
       "      <th>name</th>\n",
       "      <th>name_yelp</th>\n",
       "      <th>postal_code</th>\n",
       "      <th>unit</th>\n",
       "      <th>house</th>\n",
       "      <th>street</th>\n",
       "      <th>categories</th>\n",
       "      <th>is_claimed</th>\n",
       "      <th>is_closed</th>\n",
       "      <th>rating</th>\n",
       "      <th>review_count</th>\n",
       "      <th>price</th>\n",
       "    </tr>\n",
       "  </thead>\n",
       "  <tbody>\n",
       "    <tr>\n",
       "      <th>0</th>\n",
       "      <td>George Simnos &amp; Joakim Bostner &amp; Stelio Loukakos</td>\n",
       "      <td>Bows &amp; Arrows</td>\n",
       "      <td>V5V 4E9</td>\n",
       "      <td>None</td>\n",
       "      <td>4153</td>\n",
       "      <td>FRASER ST</td>\n",
       "      <td>[{'alias': 'coffee', 'title': 'Coffee &amp; Tea'},...</td>\n",
       "      <td>True</td>\n",
       "      <td>True</td>\n",
       "      <td>3.5</td>\n",
       "      <td>49.0</td>\n",
       "      <td>$$</td>\n",
       "    </tr>\n",
       "    <tr>\n",
       "      <th>2</th>\n",
       "      <td>Cilantro Cafe</td>\n",
       "      <td>Cilantro Cafe</td>\n",
       "      <td>V6Z 2L2</td>\n",
       "      <td>110</td>\n",
       "      <td>840</td>\n",
       "      <td>HOWE ST</td>\n",
       "      <td>[{'alias': 'cafes', 'title': 'Cafes'}, {'alias...</td>\n",
       "      <td>False</td>\n",
       "      <td>False</td>\n",
       "      <td>5.0</td>\n",
       "      <td>1.0</td>\n",
       "      <td>None</td>\n",
       "    </tr>\n",
       "    <tr>\n",
       "      <th>3</th>\n",
       "      <td>O-Bowl</td>\n",
       "      <td>O-bowl By Rustic Kitchen</td>\n",
       "      <td>V6K 2H3</td>\n",
       "      <td>None</td>\n",
       "      <td>3132</td>\n",
       "      <td>W BROADWAY</td>\n",
       "      <td>[{'alias': 'asianfusion', 'title': 'Asian Fusi...</td>\n",
       "      <td>True</td>\n",
       "      <td>True</td>\n",
       "      <td>3.5</td>\n",
       "      <td>5.0</td>\n",
       "      <td>$$</td>\n",
       "    </tr>\n",
       "    <tr>\n",
       "      <th>4</th>\n",
       "      <td>Swiss Chalet Rotisserie + Grill</td>\n",
       "      <td>Swiss Chalet Rotisserie &amp; Grill</td>\n",
       "      <td>V6K 2H4</td>\n",
       "      <td>None</td>\n",
       "      <td>3204</td>\n",
       "      <td>W BROADWAY</td>\n",
       "      <td>[{'alias': 'comfortfood', 'title': 'Comfort Fo...</td>\n",
       "      <td>True</td>\n",
       "      <td>True</td>\n",
       "      <td>2.5</td>\n",
       "      <td>40.0</td>\n",
       "      <td>$$</td>\n",
       "    </tr>\n",
       "    <tr>\n",
       "      <th>5</th>\n",
       "      <td>Zeenaz Kitchen</td>\n",
       "      <td>None</td>\n",
       "      <td>V5X 2S4</td>\n",
       "      <td>None</td>\n",
       "      <td>225</td>\n",
       "      <td>Se Marine Drive</td>\n",
       "      <td>[]</td>\n",
       "      <td>None</td>\n",
       "      <td>None</td>\n",
       "      <td>NaN</td>\n",
       "      <td>NaN</td>\n",
       "      <td>None</td>\n",
       "    </tr>\n",
       "    <tr>\n",
       "      <th>...</th>\n",
       "      <td>...</td>\n",
       "      <td>...</td>\n",
       "      <td>...</td>\n",
       "      <td>...</td>\n",
       "      <td>...</td>\n",
       "      <td>...</td>\n",
       "      <td>...</td>\n",
       "      <td>...</td>\n",
       "      <td>...</td>\n",
       "      <td>...</td>\n",
       "      <td>...</td>\n",
       "      <td>...</td>\n",
       "    </tr>\n",
       "    <tr>\n",
       "      <th>5734</th>\n",
       "      <td>Pizza Vancouver</td>\n",
       "      <td>Pizza Vancouver</td>\n",
       "      <td>V6B 3H6</td>\n",
       "      <td>None</td>\n",
       "      <td>547</td>\n",
       "      <td>SEYMOUR ST</td>\n",
       "      <td>[{'alias': 'pizza', 'title': 'Pizza'}]</td>\n",
       "      <td>True</td>\n",
       "      <td>False</td>\n",
       "      <td>3.5</td>\n",
       "      <td>21.0</td>\n",
       "      <td>None</td>\n",
       "    </tr>\n",
       "    <tr>\n",
       "      <th>5736</th>\n",
       "      <td>Sushi Dining Yagoto</td>\n",
       "      <td>Yagoto Sushi Dining</td>\n",
       "      <td>V6K 2C8</td>\n",
       "      <td>None</td>\n",
       "      <td>2180</td>\n",
       "      <td>W BROADWAY</td>\n",
       "      <td>[{'alias': 'sushi', 'title': 'Sushi Bars'}, {'...</td>\n",
       "      <td>False</td>\n",
       "      <td>False</td>\n",
       "      <td>4.5</td>\n",
       "      <td>72.0</td>\n",
       "      <td>$$</td>\n",
       "    </tr>\n",
       "    <tr>\n",
       "      <th>5737</th>\n",
       "      <td>Taf's Cafe</td>\n",
       "      <td>Taf's Café</td>\n",
       "      <td>V6Z 1K7</td>\n",
       "      <td>None</td>\n",
       "      <td>829</td>\n",
       "      <td>Granville St</td>\n",
       "      <td>[{'alias': 'cafes', 'title': 'Cafes'}]</td>\n",
       "      <td>True</td>\n",
       "      <td>False</td>\n",
       "      <td>2.5</td>\n",
       "      <td>43.0</td>\n",
       "      <td>$</td>\n",
       "    </tr>\n",
       "    <tr>\n",
       "      <th>5738</th>\n",
       "      <td>Teppan Kitchen</td>\n",
       "      <td>Teppan Kitchen</td>\n",
       "      <td>V6B 4N4</td>\n",
       "      <td>FC26</td>\n",
       "      <td>555</td>\n",
       "      <td>W HASTINGS ST</td>\n",
       "      <td>[{'alias': 'japanese', 'title': 'Japanese'}, {...</td>\n",
       "      <td>True</td>\n",
       "      <td>False</td>\n",
       "      <td>3.0</td>\n",
       "      <td>15.0</td>\n",
       "      <td>None</td>\n",
       "    </tr>\n",
       "    <tr>\n",
       "      <th>5739</th>\n",
       "      <td>The Workshop Vegetarian Cafe Ltd</td>\n",
       "      <td>The Workshop Vegetarian Cafe</td>\n",
       "      <td>V5K 2A7</td>\n",
       "      <td>None</td>\n",
       "      <td>3596</td>\n",
       "      <td>E HASTINGS ST</td>\n",
       "      <td>[{'alias': 'vegetarian', 'title': 'Vegetarian'}]</td>\n",
       "      <td>True</td>\n",
       "      <td>False</td>\n",
       "      <td>4.5</td>\n",
       "      <td>18.0</td>\n",
       "      <td>None</td>\n",
       "    </tr>\n",
       "  </tbody>\n",
       "</table>\n",
       "<p>4680 rows × 12 columns</p>\n",
       "</div>"
      ],
      "text/plain": [
       "                                                  name  \\\n",
       "0     George Simnos & Joakim Bostner & Stelio Loukakos   \n",
       "2                                        Cilantro Cafe   \n",
       "3                                               O-Bowl   \n",
       "4                      Swiss Chalet Rotisserie + Grill   \n",
       "5                                       Zeenaz Kitchen   \n",
       "...                                                ...   \n",
       "5734                                   Pizza Vancouver   \n",
       "5736                               Sushi Dining Yagoto   \n",
       "5737                                        Taf's Cafe   \n",
       "5738                                    Teppan Kitchen   \n",
       "5739                  The Workshop Vegetarian Cafe Ltd   \n",
       "\n",
       "                            name_yelp postal_code  unit house  \\\n",
       "0                       Bows & Arrows     V5V 4E9  None  4153   \n",
       "2                       Cilantro Cafe     V6Z 2L2   110   840   \n",
       "3            O-bowl By Rustic Kitchen     V6K 2H3  None  3132   \n",
       "4     Swiss Chalet Rotisserie & Grill     V6K 2H4  None  3204   \n",
       "5                                None     V5X 2S4  None   225   \n",
       "...                               ...         ...   ...   ...   \n",
       "5734                  Pizza Vancouver     V6B 3H6  None   547   \n",
       "5736              Yagoto Sushi Dining     V6K 2C8  None  2180   \n",
       "5737                       Taf's Café     V6Z 1K7  None   829   \n",
       "5738                   Teppan Kitchen     V6B 4N4  FC26   555   \n",
       "5739     The Workshop Vegetarian Cafe     V5K 2A7  None  3596   \n",
       "\n",
       "               street                                         categories  \\\n",
       "0           FRASER ST  [{'alias': 'coffee', 'title': 'Coffee & Tea'},...   \n",
       "2             HOWE ST  [{'alias': 'cafes', 'title': 'Cafes'}, {'alias...   \n",
       "3          W BROADWAY  [{'alias': 'asianfusion', 'title': 'Asian Fusi...   \n",
       "4          W BROADWAY  [{'alias': 'comfortfood', 'title': 'Comfort Fo...   \n",
       "5     Se Marine Drive                                                 []   \n",
       "...               ...                                                ...   \n",
       "5734       SEYMOUR ST             [{'alias': 'pizza', 'title': 'Pizza'}]   \n",
       "5736       W BROADWAY  [{'alias': 'sushi', 'title': 'Sushi Bars'}, {'...   \n",
       "5737     Granville St             [{'alias': 'cafes', 'title': 'Cafes'}]   \n",
       "5738    W HASTINGS ST  [{'alias': 'japanese', 'title': 'Japanese'}, {...   \n",
       "5739    E HASTINGS ST   [{'alias': 'vegetarian', 'title': 'Vegetarian'}]   \n",
       "\n",
       "     is_claimed is_closed  rating  review_count price  \n",
       "0          True      True     3.5          49.0    $$  \n",
       "2         False     False     5.0           1.0  None  \n",
       "3          True      True     3.5           5.0    $$  \n",
       "4          True      True     2.5          40.0    $$  \n",
       "5          None      None     NaN           NaN  None  \n",
       "...         ...       ...     ...           ...   ...  \n",
       "5734       True     False     3.5          21.0  None  \n",
       "5736      False     False     4.5          72.0    $$  \n",
       "5737       True     False     2.5          43.0     $  \n",
       "5738       True     False     3.0          15.0  None  \n",
       "5739       True     False     4.5          18.0  None  \n",
       "\n",
       "[4680 rows x 12 columns]"
      ]
     },
     "execution_count": 225,
     "metadata": {},
     "output_type": "execute_result"
    }
   ],
   "source": [
    "data_clean.drop(ind)"
   ]
  },
  {
   "cell_type": "markdown",
   "metadata": {},
   "source": [
    "for rating, use laplaces rule of succession "
   ]
  },
  {
   "cell_type": "code",
   "execution_count": 2230,
   "metadata": {},
   "outputs": [
    {
     "data": {
      "text/plain": [
       "Row(Status=4, FOLDERYEAR=20, BusinessTradeName='Legends Of The Moon Gift Shop', PostalCode=None, Unit=None, House='1501', Street='STANLEY PARK DRIVE', City='Vancouver', longitude=-123.12677001953125, latitude=49.29805374145508)"
      ]
     },
     "execution_count": 2230,
     "metadata": {},
     "output_type": "execute_result"
    }
   ],
   "source": [
    "rest_distinct_list[2790]"
   ]
  },
  {
   "cell_type": "code",
   "execution_count": 2220,
   "metadata": {},
   "outputs": [
    {
     "data": {
      "text/html": [
       "<table border='1'>\n",
       "<tr><th>FOLDERYEAR</th><th>LicenceRSN</th><th>LicenceNumber</th><th>LicenceRevisionNumber</th><th>BusinessName</th><th>BusinessTradeName</th><th>Status</th><th>IssuedDate</th><th>ExpiredDate</th><th>BusinessType</th><th>BusinessSubType</th><th>Unit</th><th>UnitType</th><th>House</th><th>Street</th><th>City</th><th>Province</th><th>Country</th><th>PostalCode</th><th>LocalArea</th><th>NumberofEmployees</th><th>FeePaid</th><th>ExtractDate</th><th>Geom</th></tr>\n",
       "<tr><td>18</td><td>3178767</td><td>18-594014</td><td>0</td><td>Little Attic&#x27;s Wo...</td><td>Little Attic&#x27;s Ne...</td><td>Pending</td><td>null</td><td>null</td><td>Ltd Service Food ...</td><td>null</td><td>null</td><td>null</td><td>2797</td><td>ARBUTUS ST</td><td>Vancouver</td><td>BC</td><td>CA</td><td>V6J 3Y5</td><td>Kitsilano</td><td>0.0</td><td>56</td><td>2020-04-01 02:32:20</td><td>&quot;{&quot;&quot;type&quot;&quot;: &quot;&quot;Poi...</td></tr>\n",
       "<tr><td>19</td><td>3337239</td><td>19-198987</td><td>0</td><td>Little Attic&#x27;s Wo...</td><td>Little Attic&#x27;s Ne...</td><td>Issued</td><td>2019-02-22 16:03:08</td><td>2019-12-31 00:00:00</td><td>Ltd Service Food ...</td><td>null</td><td>null</td><td>null</td><td>2797</td><td>ARBUTUS ST</td><td>Vancouver</td><td>BC</td><td>CA</td><td>V6J 3Y5</td><td>Kitsilano</td><td>0.0</td><td>499</td><td>2020-04-01 02:32:26</td><td>&quot;{&quot;&quot;type&quot;&quot;: &quot;&quot;Poi...</td></tr>\n",
       "<tr><td>20</td><td>3493034</td><td>20-139822</td><td>0</td><td>Little Attic&#x27;s Wo...</td><td>Little Attic&#x27;s Ne...</td><td>Issued</td><td>2019-12-23 21:32:24</td><td>2020-12-31 00:00:00</td><td>Ltd Service Food ...</td><td>null</td><td>null</td><td>null</td><td>2797</td><td>ARBUTUS ST</td><td>Vancouver</td><td>BC</td><td>CA</td><td>V6J 3Y5</td><td>Kitsilano</td><td>5.0</td><td>558</td><td>2020-05-01 00:08:42</td><td>&quot;{&quot;&quot;type&quot;&quot;: &quot;&quot;Poi...</td></tr>\n",
       "</table>\n"
      ],
      "text/plain": [
       "+----------+----------+-------------+---------------------+--------------------+--------------------+-------+-------------------+-------------------+--------------------+---------------+----+--------+-----+----------+---------+--------+-------+----------+---------+-----------------+-------+-------------------+--------------------+\n",
       "|FOLDERYEAR|LicenceRSN|LicenceNumber|LicenceRevisionNumber|        BusinessName|   BusinessTradeName| Status|         IssuedDate|        ExpiredDate|        BusinessType|BusinessSubType|Unit|UnitType|House|    Street|     City|Province|Country|PostalCode|LocalArea|NumberofEmployees|FeePaid|        ExtractDate|                Geom|\n",
       "+----------+----------+-------------+---------------------+--------------------+--------------------+-------+-------------------+-------------------+--------------------+---------------+----+--------+-----+----------+---------+--------+-------+----------+---------+-----------------+-------+-------------------+--------------------+\n",
       "|        18|   3178767|    18-594014|                    0|Little Attic's Wo...|Little Attic's Ne...|Pending|               null|               null|Ltd Service Food ...|           null|null|    null| 2797|ARBUTUS ST|Vancouver|      BC|     CA|   V6J 3Y5|Kitsilano|              0.0|     56|2020-04-01 02:32:20|\"{\"\"type\"\": \"\"Poi...|\n",
       "|        19|   3337239|    19-198987|                    0|Little Attic's Wo...|Little Attic's Ne...| Issued|2019-02-22 16:03:08|2019-12-31 00:00:00|Ltd Service Food ...|           null|null|    null| 2797|ARBUTUS ST|Vancouver|      BC|     CA|   V6J 3Y5|Kitsilano|              0.0|    499|2020-04-01 02:32:26|\"{\"\"type\"\": \"\"Poi...|\n",
       "|        20|   3493034|    20-139822|                    0|Little Attic's Wo...|Little Attic's Ne...| Issued|2019-12-23 21:32:24|2020-12-31 00:00:00|Ltd Service Food ...|           null|null|    null| 2797|ARBUTUS ST|Vancouver|      BC|     CA|   V6J 3Y5|Kitsilano|              5.0|    558|2020-05-01 00:08:42|\"{\"\"type\"\": \"\"Poi...|\n",
       "+----------+----------+-------------+---------------------+--------------------+--------------------+-------+-------------------+-------------------+--------------------+---------------+----+--------+-----+----------+---------+--------+-------+----------+---------+-----------------+-------+-------------------+--------------------+"
      ]
     },
     "execution_count": 2220,
     "metadata": {},
     "output_type": "execute_result"
    }
   ],
   "source": [
    "search_restaurant('Little Attic\\'s Neverland')"
   ]
  },
  {
   "cell_type": "code",
   "execution_count": 2195,
   "metadata": {},
   "outputs": [
    {
     "data": {
      "text/plain": [
       "{'businesses': [{'id': 'rtA-pXm7O9zSFzFjI6Y_Sw',\n",
       "   'alias': 'cmo-flooring-vancouver-2',\n",
       "   'name': 'CMO Flooring',\n",
       "   'coordinates': {'latitude': 49.240202, 'longitude': -123.0379731},\n",
       "   'location': {'address1': '4866 Rupert Street',\n",
       "    'address2': '',\n",
       "    'address3': '',\n",
       "    'city': 'Vancouver',\n",
       "    'zip_code': 'V5R 5A5',\n",
       "    'country': 'CA',\n",
       "    'state': 'BC',\n",
       "    'display_address': ['4866 Rupert Street',\n",
       "     'Vancouver, BC V5R 5A5',\n",
       "     'Canada']},\n",
       "   'phone': '+17788837727',\n",
       "   'display_phone': '+1 778-883-7727'},\n",
       "  {'id': '3NFf8kMHCC0k315qftqW4w',\n",
       "   'alias': 'golden-oscar-cafe-and-restaurants-vancouver',\n",
       "   'name': 'Golden Oscar Cafe & Restaurants',\n",
       "   'coordinates': {'latitude': 49.25009, 'longitude': -123.03337},\n",
       "   'location': {'address1': '3868 Rupert St',\n",
       "    'address2': '',\n",
       "    'address3': '',\n",
       "    'city': 'Vancouver',\n",
       "    'zip_code': 'V5R 6E4',\n",
       "    'country': 'CA',\n",
       "    'state': 'BC',\n",
       "    'display_address': ['3868 Rupert St', 'Vancouver, BC V5R 6E4', 'Canada']},\n",
       "   'phone': '+16044378138',\n",
       "   'display_phone': '+1 604-437-8138'},\n",
       "  {'id': 'x6-KvnIi1LsXBnwzaTPZww',\n",
       "   'alias': 'penang-delight-cafe-vancouver',\n",
       "   'name': 'Penang Delight Cafe',\n",
       "   'coordinates': {'latitude': 49.2498839, 'longitude': -123.0341413},\n",
       "   'location': {'address1': '3885 Rupert Street',\n",
       "    'address2': '',\n",
       "    'address3': '',\n",
       "    'city': 'Vancouver',\n",
       "    'zip_code': 'V5R 2G7',\n",
       "    'country': 'CA',\n",
       "    'state': 'BC',\n",
       "    'display_address': ['3885 Rupert Street',\n",
       "     'Vancouver, BC V5R 2G7',\n",
       "     'Canada']},\n",
       "   'phone': '+16045669898',\n",
       "   'display_phone': '+1 604-566-9898'}]}"
      ]
     },
     "execution_count": 2195,
     "metadata": {},
     "output_type": "execute_result"
    }
   ],
   "source": [
    "params = {'apikey': api_key,\n",
    "            'name': 'Cafe Ngoc uyen',\n",
    "            'address1': '4866 RUPERT ST',\n",
    "            'zip_code': 'V5R 2J8',\n",
    "            'latitude': 49.240413665771484,\n",
    "            'longitude': -123.03770446777344,\n",
    "            'city': city,\n",
    "            'state': 'BC',\n",
    "            'country': 'CA',\n",
    "            'match_threshold': 'none',\n",
    "            'limit': 5}\n",
    "requests.get('https://api.yelp.com/v3/businesses/matches', \n",
    "                             headers = headers, params = params).json()"
   ]
  },
  {
   "cell_type": "markdown",
   "metadata": {},
   "source": [
    "## Adding more features"
   ]
  },
  {
   "cell_type": "code",
   "execution_count": null,
   "metadata": {},
   "outputs": [],
   "source": [
    "# bikeways\n",
    "# parking meters\n",
    "# schools"
   ]
  },
  {
   "cell_type": "markdown",
   "metadata": {},
   "source": [
    "## Visualizations"
   ]
  },
  {
   "cell_type": "code",
   "execution_count": 2024,
   "metadata": {},
   "outputs": [
    {
     "data": {
      "text/plain": [
       "Text(0, 0.5, 'Count')"
      ]
     },
     "execution_count": 2024,
     "metadata": {},
     "output_type": "execute_result"
    },
    {
     "data": {
      "image/png": "[encoded data removed]",
      "text/plain": [
       "<Figure size 432x288 with 1 Axes>"
      ]
     },
     "metadata": {
      "needs_background": "light"
     },
     "output_type": "display_data"
    }
   ],
   "source": [
    "objects = (\"\\$\", \"\\$\\$\", \"\\$\\$\\$\", \"\\$\\$\\$\\$\", \"NA\")\n",
    "y_pos = np.arange(len(objects))\n",
    "\n",
    "values = [np.sum((data_clean['price'] == \"$\").values),\n",
    "          np.sum((data_clean['price'] == \"$$\").values),\n",
    "          np.sum((data_clean['price'] == \"$$$\").values),\n",
    "          np.sum((data_clean['price'] == \"$$$$\").values),\n",
    "          np.sum((data_clean['price'].isna()).values)]\n",
    "\n",
    "plt.bar(y_pos, values, align='center', alpha=0.5)\n",
    "plt.xticks(y_pos, objects)\n",
    "plt.ylabel('Count')\n",
    "\n"
   ]
  },
  {
   "cell_type": "code",
   "execution_count": 2032,
   "metadata": {},
   "outputs": [
    {
     "data": {
      "image/png": "[encoded data removed]",
      "text/plain": [
       "<Figure size 432x288 with 1 Axes>"
      ]
     },
     "metadata": {
      "needs_background": "light"
     },
     "output_type": "display_data"
    }
   ],
   "source": [
    "x = data_clean['rating'].values\n",
    "plt.hist(x, bins = 30);"
   ]
  },
  {
   "cell_type": "code",
   "execution_count": 2035,
   "metadata": {},
   "outputs": [
    {
     "data": {
      "image/png": "[encoded data removed]",
      "text/plain": [
       "<Figure size 432x288 with 1 Axes>"
      ]
     },
     "metadata": {
      "needs_background": "light"
     },
     "output_type": "display_data"
    }
   ],
   "source": [
    "x = data_clean['review_count'].values\n",
    "plt.hist(x, bins = 100);"
   ]
  },
  {
   "cell_type": "code",
   "execution_count": 2043,
   "metadata": {},
   "outputs": [
    {
     "data": {
      "text/plain": [
       "2279.0"
      ]
     },
     "execution_count": 2043,
     "metadata": {},
     "output_type": "execute_result"
    }
   ],
   "source": [
    "np.nanmax(x)"
   ]
  },
  {
   "cell_type": "markdown",
   "metadata": {},
   "source": [
    "## Merging Back to the Original Dataframe"
   ]
  },
  {
   "cell_type": "markdown",
   "metadata": {},
   "source": [
    "> Here I will create a PySpark dataframe to eventually join it back to the `rest_distinct_df` dataframe."
   ]
  },
  {
   "cell_type": "code",
   "execution_count": 2046,
   "metadata": {},
   "outputs": [],
   "source": [
    "rest_distinct_info = spark.createDataFrame(data_clean)"
   ]
  },
  {
   "cell_type": "code",
   "execution_count": 281,
   "metadata": {},
   "outputs": [
    {
     "data": {
      "text/html": [
       "<table border='1'>\n",
       "<tr><th>BusinessTradeName</th><th>Geom</th><th>PostalCode</th><th>House</th><th>Street</th><th>name</th><th>house</th><th>street</th><th>postalcode</th><th>geom</th><th>category</th><th>rating</th><th>review_count</th><th>price</th></tr>\n",
       "<tr><td>&quot;Phnom Penh &quot;&quot;a&quot;&quot;...</td><td>&quot;{&quot;&quot;type&quot;&quot;: &quot;&quot;Poi...</td><td>V6A 1Z7</td><td>244</td><td>E Georgia St</td><td>null</td><td>null</td><td>null</td><td>null</td><td>null</td><td>null</td><td>null</td><td>null</td><td>null</td></tr>\n",
       "<tr><td>49th Parallel Cof...</td><td>&quot;{&quot;&quot;type&quot;&quot;: &quot;&quot;Poi...</td><td>V6K 1N6</td><td>2198</td><td>W 4TH AV</td><td>null</td><td>null</td><td>null</td><td>null</td><td>null</td><td>null</td><td>null</td><td>null</td><td>null</td></tr>\n",
       "<tr><td>49th Parallel Cof...</td><td>&quot;{&quot;&quot;type&quot;&quot;: &quot;&quot;Poi...</td><td>V6K 1N6</td><td>2152</td><td>W 4TH AV</td><td>null</td><td>null</td><td>null</td><td>null</td><td>null</td><td>null</td><td>null</td><td>null</td><td>null</td></tr>\n",
       "<tr><td>49th Parallel Cof...</td><td>&quot;{&quot;&quot;type&quot;&quot;: &quot;&quot;Poi...</td><td>V6E 0A1</td><td>689</td><td>THURLOW ST</td><td>null</td><td>null</td><td>null</td><td>null</td><td>null</td><td>null</td><td>null</td><td>null</td><td>null</td></tr>\n",
       "<tr><td>49th Parallel Cof...</td><td>&quot;{&quot;&quot;type&quot;&quot;: &quot;&quot;Poi...</td><td>V5T 3G3</td><td>2902</td><td>MAIN ST</td><td>null</td><td>null</td><td>null</td><td>null</td><td>null</td><td>null</td><td>null</td><td>null</td><td>null</td></tr>\n",
       "<tr><td>Annalena</td><td>&quot;{&quot;&quot;type&quot;&quot;: &quot;&quot;Poi...</td><td>V6J 5B8</td><td>1809</td><td>W 1ST AV</td><td>null</td><td>null</td><td>null</td><td>null</td><td>null</td><td>null</td><td>null</td><td>null</td><td>null</td></tr>\n",
       "<tr><td>Bing Sheng Restau...</td><td>null</td><td>V5M 3H9</td><td>1800</td><td>RENFREW ST</td><td>null</td><td>null</td><td>null</td><td>null</td><td>null</td><td>null</td><td>null</td><td>null</td><td>null</td></tr>\n",
       "<tr><td>Brado</td><td>&quot;{&quot;&quot;type&quot;&quot;: &quot;&quot;Poi...</td><td>V5L 3X5</td><td>1399</td><td>COMMERCIAL DRIVE</td><td>null</td><td>null</td><td>null</td><td>null</td><td>null</td><td>null</td><td>null</td><td>null</td><td>null</td></tr>\n",
       "<tr><td>Capstone</td><td>&quot;{&quot;&quot;type&quot;&quot;: &quot;&quot;Poi...</td><td>V6G 1C1</td><td>1429</td><td>ROBSON ST</td><td>null</td><td>null</td><td>null</td><td>null</td><td>null</td><td>null</td><td>null</td><td>null</td><td>null</td></tr>\n",
       "<tr><td>Casa Shawarma</td><td>&quot;{&quot;&quot;type&quot;&quot;: &quot;&quot;Poi...</td><td>V5V 3E3</td><td>1385</td><td>KINGSWAY</td><td>null</td><td>null</td><td>null</td><td>null</td><td>null</td><td>null</td><td>null</td><td>null</td><td>null</td></tr>\n",
       "<tr><td>Fatty Cow Seafood...</td><td>&quot;{&quot;&quot;type&quot;&quot;: &quot;&quot;Poi...</td><td>V5P 3V2</td><td>5108</td><td>VICTORIA DRIVE</td><td>null</td><td>null</td><td>null</td><td>null</td><td>null</td><td>null</td><td>null</td><td>null</td><td>null</td></tr>\n",
       "<tr><td>Flip Side Dessert...</td><td>&quot;{&quot;&quot;type&quot;&quot;: &quot;&quot;Poi...</td><td>V5R 4H6</td><td>5538</td><td>JOYCE ST</td><td>null</td><td>null</td><td>null</td><td>null</td><td>null</td><td>null</td><td>null</td><td>null</td><td>null</td></tr>\n",
       "<tr><td>Flourist Milling Inc</td><td>&quot;{&quot;&quot;type&quot;&quot;: &quot;&quot;Poi...</td><td>V5N 4E8</td><td>3433</td><td>COMMERCIAL ST</td><td>null</td><td>null</td><td>null</td><td>null</td><td>null</td><td>null</td><td>null</td><td>null</td><td>null</td></tr>\n",
       "<tr><td>Neptune Palace Se...</td><td>&quot;{&quot;&quot;type&quot;&quot;: &quot;&quot;Poi...</td><td>V5X 0C4</td><td>470</td><td>SW MARINE DRIVE</td><td>null</td><td>null</td><td>null</td><td>null</td><td>null</td><td>null</td><td>null</td><td>null</td><td>null</td></tr>\n",
       "<tr><td>O-Bowl</td><td>&quot;{&quot;&quot;type&quot;&quot;: &quot;&quot;Poi...</td><td>V6K 2H3</td><td>3132</td><td>W BROADWAY</td><td>null</td><td>null</td><td>null</td><td>null</td><td>null</td><td>null</td><td>null</td><td>null</td><td>null</td></tr>\n",
       "<tr><td>Papa John&#x27;s Alma ...</td><td>&quot;{&quot;&quot;type&quot;&quot;: &quot;&quot;Poi...</td><td>V6R 4N6</td><td>2030</td><td>ALMA ST</td><td>null</td><td>null</td><td>null</td><td>null</td><td>null</td><td>null</td><td>null</td><td>null</td><td>null</td></tr>\n",
       "<tr><td>Pirate Restaurant</td><td>&quot;{&quot;&quot;type&quot;&quot;: &quot;&quot;Poi...</td><td>V6E 1X4</td><td>1221</td><td>THURLOW ST</td><td>null</td><td>null</td><td>null</td><td>null</td><td>null</td><td>null</td><td>null</td><td>null</td><td>null</td></tr>\n",
       "<tr><td>Produce Marketplace</td><td>&quot;{&quot;&quot;type&quot;&quot;: &quot;&quot;Poi...</td><td>V5W 3A4</td><td>6350</td><td>FRASER ST</td><td>null</td><td>null</td><td>null</td><td>null</td><td>null</td><td>null</td><td>null</td><td>null</td><td>null</td></tr>\n",
       "<tr><td>Simply Thai Resta...</td><td>&quot;{&quot;&quot;type&quot;&quot;: &quot;&quot;Poi...</td><td>V6B 6K3</td><td>1211</td><td>Hamilton St</td><td>null</td><td>null</td><td>null</td><td>null</td><td>null</td><td>null</td><td>null</td><td>null</td><td>null</td></tr>\n",
       "<tr><td>Starbucks Coffee ...</td><td>&quot;{&quot;&quot;type&quot;&quot;: &quot;&quot;Poi...</td><td>V6X 1P3</td><td>1055</td><td>DUNSMUIR ST</td><td>null</td><td>null</td><td>null</td><td>null</td><td>null</td><td>null</td><td>null</td><td>null</td><td>null</td></tr>\n",
       "</table>\n",
       "only showing top 20 rows\n"
      ],
      "text/plain": [
       "+--------------------+--------------------+----------+-----+----------------+----+-----+------+----------+----+--------+------+------------+-----+\n",
       "|   BusinessTradeName|                Geom|PostalCode|House|          Street|name|house|street|postalcode|geom|category|rating|review_count|price|\n",
       "+--------------------+--------------------+----------+-----+----------------+----+-----+------+----------+----+--------+------+------------+-----+\n",
       "|\"Phnom Penh \"\"a\"\"...|\"{\"\"type\"\": \"\"Poi...|   V6A 1Z7|  244|    E Georgia St|null| null|  null|      null|null|    null|  null|        null| null|\n",
       "|49th Parallel Cof...|\"{\"\"type\"\": \"\"Poi...|   V6K 1N6| 2198|        W 4TH AV|null| null|  null|      null|null|    null|  null|        null| null|\n",
       "|49th Parallel Cof...|\"{\"\"type\"\": \"\"Poi...|   V6K 1N6| 2152|        W 4TH AV|null| null|  null|      null|null|    null|  null|        null| null|\n",
       "|49th Parallel Cof...|\"{\"\"type\"\": \"\"Poi...|   V6E 0A1|  689|      THURLOW ST|null| null|  null|      null|null|    null|  null|        null| null|\n",
       "|49th Parallel Cof...|\"{\"\"type\"\": \"\"Poi...|   V5T 3G3| 2902|         MAIN ST|null| null|  null|      null|null|    null|  null|        null| null|\n",
       "|            Annalena|\"{\"\"type\"\": \"\"Poi...|   V6J 5B8| 1809|        W 1ST AV|null| null|  null|      null|null|    null|  null|        null| null|\n",
       "|Bing Sheng Restau...|                null|   V5M 3H9| 1800|      RENFREW ST|null| null|  null|      null|null|    null|  null|        null| null|\n",
       "|               Brado|\"{\"\"type\"\": \"\"Poi...|   V5L 3X5| 1399|COMMERCIAL DRIVE|null| null|  null|      null|null|    null|  null|        null| null|\n",
       "|            Capstone|\"{\"\"type\"\": \"\"Poi...|   V6G 1C1| 1429|       ROBSON ST|null| null|  null|      null|null|    null|  null|        null| null|\n",
       "|       Casa Shawarma|\"{\"\"type\"\": \"\"Poi...|   V5V 3E3| 1385|        KINGSWAY|null| null|  null|      null|null|    null|  null|        null| null|\n",
       "|Fatty Cow Seafood...|\"{\"\"type\"\": \"\"Poi...|   V5P 3V2| 5108|  VICTORIA DRIVE|null| null|  null|      null|null|    null|  null|        null| null|\n",
       "|Flip Side Dessert...|\"{\"\"type\"\": \"\"Poi...|   V5R 4H6| 5538|        JOYCE ST|null| null|  null|      null|null|    null|  null|        null| null|\n",
       "|Flourist Milling Inc|\"{\"\"type\"\": \"\"Poi...|   V5N 4E8| 3433|   COMMERCIAL ST|null| null|  null|      null|null|    null|  null|        null| null|\n",
       "|Neptune Palace Se...|\"{\"\"type\"\": \"\"Poi...|   V5X 0C4|  470| SW MARINE DRIVE|null| null|  null|      null|null|    null|  null|        null| null|\n",
       "|              O-Bowl|\"{\"\"type\"\": \"\"Poi...|   V6K 2H3| 3132|      W BROADWAY|null| null|  null|      null|null|    null|  null|        null| null|\n",
       "|Papa John's Alma ...|\"{\"\"type\"\": \"\"Poi...|   V6R 4N6| 2030|         ALMA ST|null| null|  null|      null|null|    null|  null|        null| null|\n",
       "|   Pirate Restaurant|\"{\"\"type\"\": \"\"Poi...|   V6E 1X4| 1221|      THURLOW ST|null| null|  null|      null|null|    null|  null|        null| null|\n",
       "| Produce Marketplace|\"{\"\"type\"\": \"\"Poi...|   V5W 3A4| 6350|       FRASER ST|null| null|  null|      null|null|    null|  null|        null| null|\n",
       "|Simply Thai Resta...|\"{\"\"type\"\": \"\"Poi...|   V6B 6K3| 1211|     Hamilton St|null| null|  null|      null|null|    null|  null|        null| null|\n",
       "|Starbucks Coffee ...|\"{\"\"type\"\": \"\"Poi...|   V6X 1P3| 1055|     DUNSMUIR ST|null| null|  null|      null|null|    null|  null|        null| null|\n",
       "+--------------------+--------------------+----------+-----+----------------+----+-----+------+----------+----+--------+------+------------+-----+\n",
       "only showing top 20 rows"
      ]
     },
     "execution_count": 281,
     "metadata": {},
     "output_type": "execute_result"
    }
   ],
   "source": [
    "rest_distinct_df.join(rest_distinct_info, rest_distinct_df.BusinessTradeName == rest_distinct_info.name, how = 'left')"
   ]
  },
  {
   "cell_type": "markdown",
   "metadata": {},
   "source": [
    "> quantify similarity of restaurant cuisines to see how similar restuarants in the same proximity do"
   ]
  },
  {
   "cell_type": "code",
   "execution_count": null,
   "metadata": {},
   "outputs": [],
   "source": []
  }
 ],
 "metadata": {
  "kernelspec": {
   "display_name": "Python 3",
   "language": "python",
   "name": "python3"
  },
  "language_info": {
   "codemirror_mode": {
    "name": "ipython",
    "version": 3
   },
   "file_extension": ".py",
   "mimetype": "text/x-python",
   "name": "python",
   "nbconvert_exporter": "python",
   "pygments_lexer": "ipython3",
   "version": "3.7.6"
  }
 },
 "nbformat": 4,
 "nbformat_minor": 4
}
