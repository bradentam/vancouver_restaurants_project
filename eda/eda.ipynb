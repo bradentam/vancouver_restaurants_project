{
 "cells": [
  {
   "cell_type": "markdown",
   "metadata": {},
   "source": [
    "# Exploratory Data Analysis"
   ]
  },
  {
   "cell_type": "markdown",
   "metadata": {},
   "source": [
    "In this EDA, I will be examining various data sources from [opendata.vancouver.ca](https://opendata.vancouver.ca/pages/home/)."
   ]
  },
  {
   "cell_type": "markdown",
   "metadata": {},
   "source": [
    "## Imports"
   ]
  },
  {
   "cell_type": "code",
   "execution_count": 528,
   "metadata": {},
   "outputs": [],
   "source": [
    "import numpy as np\n",
    "import pandas as pd\n",
    "import re\n",
    "import requests\n",
    "import os\n",
    "import time\n",
    "import pickle\n",
    "\n",
    "from matplotlib import pyplot as plt\n",
    "from pyspark.sql import SparkSession"
   ]
  },
  {
   "cell_type": "code",
   "execution_count": 38,
   "metadata": {},
   "outputs": [],
   "source": [
    "from pyspark.sql.functions import coalesce, max"
   ]
  },
  {
   "cell_type": "code",
   "execution_count": 264,
   "metadata": {},
   "outputs": [],
   "source": [
    "from pyspark.ml.regression import LinearRegression\n",
    "from pyspark.ml.feature import VectorAssembler\n",
    "from pyspark.sql.functions import array, col, count, mean, sum, udf, when, last, first, regexp_extract\n",
    "from pyspark.sql.types import DoubleType, IntegerType, StringType, Row\n",
    "from pyspark.sql.functions import sum, col, udf\n",
    "from pyspark.sql.types import *"
   ]
  },
  {
   "cell_type": "markdown",
   "metadata": {},
   "source": [
    "## Reading in the main dataset"
   ]
  },
  {
   "cell_type": "code",
   "execution_count": 4,
   "metadata": {},
   "outputs": [],
   "source": [
    "spark = SparkSession.builder.appName('Ops').getOrCreate()"
   ]
  },
  {
   "cell_type": "code",
   "execution_count": 5,
   "metadata": {},
   "outputs": [],
   "source": [
    "# allows for cleaner output\n",
    "spark.conf.set(\"spark.sql.repl.eagerEval.enabled\", True)"
   ]
  },
  {
   "cell_type": "markdown",
   "metadata": {},
   "source": [
    "> This creates a Spark DataFrame which is very similar to a Pandas DataFrame. Spark DataFrames build on top of RDDs and also has great SQL integration for users who are familiar with the popular language. The main difference with Spark DataFrames is that operations can run on multiple nodes and they are lazy evaluators meaning operations won't be executed until the output is needed."
   ]
  },
  {
   "cell_type": "code",
   "execution_count": 6,
   "metadata": {},
   "outputs": [],
   "source": [
    "licences_df = (spark.read\n",
    "          .option('header','true')\n",
    "          .option('inferSchema','true')\n",
    "          .option('sep', ';')\n",
    "          .csv('data/business-licences-2.csv'))"
   ]
  },
  {
   "cell_type": "code",
   "execution_count": 7,
   "metadata": {},
   "outputs": [
    {
     "data": {
      "text/plain": [
       "'There are 504842 observations in this dataset'"
      ]
     },
     "execution_count": 7,
     "metadata": {},
     "output_type": "execute_result"
    }
   ],
   "source": [
    "f'There are %i observations in this dataset' % licences_df.count() "
   ]
  },
  {
   "cell_type": "code",
   "execution_count": 8,
   "metadata": {},
   "outputs": [
    {
     "name": "stdout",
     "output_type": "stream",
     "text": [
      "root\n",
      " |-- FOLDERYEAR: integer (nullable = true)\n",
      " |-- LicenceRSN: integer (nullable = true)\n",
      " |-- LicenceNumber: string (nullable = true)\n",
      " |-- LicenceRevisionNumber: integer (nullable = true)\n",
      " |-- BusinessName: string (nullable = true)\n",
      " |-- BusinessTradeName: string (nullable = true)\n",
      " |-- Status: string (nullable = true)\n",
      " |-- IssuedDate: timestamp (nullable = true)\n",
      " |-- ExpiredDate: timestamp (nullable = true)\n",
      " |-- BusinessType: string (nullable = true)\n",
      " |-- BusinessSubType: string (nullable = true)\n",
      " |-- Unit: string (nullable = true)\n",
      " |-- UnitType: string (nullable = true)\n",
      " |-- House: string (nullable = true)\n",
      " |-- Street: string (nullable = true)\n",
      " |-- City: string (nullable = true)\n",
      " |-- Province: string (nullable = true)\n",
      " |-- Country: string (nullable = true)\n",
      " |-- PostalCode: string (nullable = true)\n",
      " |-- LocalArea: string (nullable = true)\n",
      " |-- NumberofEmployees: double (nullable = true)\n",
      " |-- FeePaid: integer (nullable = true)\n",
      " |-- ExtractDate: timestamp (nullable = true)\n",
      " |-- Geom: string (nullable = true)\n",
      "\n"
     ]
    }
   ],
   "source": [
    "licences_df.printSchema()"
   ]
  },
  {
   "cell_type": "code",
   "execution_count": 196,
   "metadata": {},
   "outputs": [
    {
     "data": {
      "text/html": [
       "<table border='1'>\n",
       "<tr><th>FOLDERYEAR</th><th>LicenceRSN</th><th>LicenceNumber</th><th>LicenceRevisionNumber</th><th>BusinessName</th><th>BusinessTradeName</th><th>Status</th><th>IssuedDate</th><th>ExpiredDate</th><th>BusinessType</th><th>BusinessSubType</th><th>Unit</th><th>UnitType</th><th>House</th><th>Street</th><th>City</th><th>Province</th><th>Country</th><th>PostalCode</th><th>LocalArea</th><th>NumberofEmployees</th><th>FeePaid</th><th>ExtractDate</th><th>Geom</th></tr>\n",
       "<tr><td>15</td><td>2345113</td><td>15-115406</td><td>0</td><td>(Shun Chen)</td><td>ACC Security Syst...</td><td>Gone Out of Business</td><td>null</td><td>null</td><td>Electrical-Securi...</td><td>null</td><td>null</td><td>null</td><td>null</td><td>null</td><td>Surrey</td><td>BC</td><td>CA</td><td>null</td><td>null</td><td>2.0</td><td>null</td><td>2019-07-21 13:48:02</td><td>null</td></tr>\n",
       "<tr><td>15</td><td>2345119</td><td>15-115412</td><td>0</td><td>Praetorian Securi...</td><td>Amax Praetorian</td><td>Issued</td><td>2014-12-01 14:04:29</td><td>2015-12-31 00:00:00</td><td>Electrical-Securi...</td><td>null</td><td>null</td><td>null</td><td>null</td><td>null</td><td>Chilliwack</td><td>BC</td><td>CA</td><td>null</td><td>null</td><td>0.0</td><td>133</td><td>2019-07-21 13:48:02</td><td>null</td></tr>\n",
       "<tr><td>15</td><td>2345120</td><td>15-115413</td><td>0</td><td>Safe-Tec Security...</td><td>null</td><td>Gone Out of Business</td><td>null</td><td>null</td><td>Electrical-Securi...</td><td>null</td><td>null</td><td>null</td><td>null</td><td>null</td><td>Surrey</td><td>BC</td><td>CA</td><td>null</td><td>null</td><td>0.0</td><td>null</td><td>2019-07-21 13:48:02</td><td>null</td></tr>\n",
       "<tr><td>15</td><td>2345121</td><td>15-115414</td><td>0</td><td>Husky Alarm Integ...</td><td>null</td><td>Issued</td><td>2015-02-10 08:05:11</td><td>2015-12-31 00:00:00</td><td>Electrical-Securi...</td><td>null</td><td>null</td><td>null</td><td>null</td><td>null</td><td>Port Moody</td><td>BC</td><td>CA</td><td>null</td><td>null</td><td>2.0</td><td>173</td><td>2019-07-21 13:48:02</td><td>null</td></tr>\n",
       "<tr><td>15</td><td>2345122</td><td>15-115415</td><td>0</td><td>Sea to Sky Securi...</td><td>null</td><td>Pending</td><td>null</td><td>null</td><td>Electrical-Securi...</td><td>null</td><td>null</td><td>null</td><td>null</td><td>null</td><td>North Vancouver</td><td>BC</td><td>CA</td><td>null</td><td>null</td><td>3.0</td><td>null</td><td>2019-07-21 13:48:02</td><td>null</td></tr>\n",
       "<tr><td>15</td><td>2345188</td><td>15-115481</td><td>0</td><td>(Kenneth Bradley)</td><td>Ken Bradley Truck...</td><td>Issued</td><td>2014-11-18 11:35:48</td><td>2015-12-31 00:00:00</td><td>Equipment Operator</td><td>null</td><td>null</td><td>null</td><td>null</td><td>null</td><td>Coquitlam</td><td>BC</td><td>CA</td><td>null</td><td>null</td><td>0.0</td><td>162</td><td>2019-07-21 13:48:02</td><td>null</td></tr>\n",
       "<tr><td>15</td><td>2345191</td><td>15-115484</td><td>0</td><td>Litz Crane Servic...</td><td>null</td><td>Issued</td><td>2014-11-06 14:31:00</td><td>2015-12-31 00:00:00</td><td>Equipment Operator</td><td>null</td><td>null</td><td>null</td><td>null</td><td>null</td><td>Port Coquitlam</td><td>BC</td><td>CA</td><td>null</td><td>null</td><td>5.0</td><td>162</td><td>2019-07-21 13:48:02</td><td>null</td></tr>\n",
       "<tr><td>15</td><td>2345195</td><td>15-115488</td><td>0</td><td>(Wayne Nichols)</td><td>W Nichols Trucking</td><td>Issued</td><td>2014-11-05 12:50:58</td><td>2015-12-31 00:00:00</td><td>Equipment Operator</td><td>null</td><td>null</td><td>null</td><td>null</td><td>null</td><td>Delta</td><td>BC</td><td>CA</td><td>null</td><td>null</td><td>1.0</td><td>162</td><td>2019-07-21 13:48:02</td><td>null</td></tr>\n",
       "<tr><td>15</td><td>2345196</td><td>15-115489</td><td>0</td><td>(Harry Powar)</td><td>Harry Powar Trucking</td><td>Issued</td><td>2014-12-04 18:49:08</td><td>2015-12-31 00:00:00</td><td>Equipment Operator</td><td>null</td><td>null</td><td>null</td><td>null</td><td>null</td><td>Burnaby</td><td>BC</td><td>CA</td><td>null</td><td>null</td><td>1.0</td><td>162</td><td>2019-07-21 13:48:02</td><td>null</td></tr>\n",
       "<tr><td>15</td><td>2345203</td><td>15-115496</td><td>0</td><td>J Brown Trucking Inc</td><td>null</td><td>Issued</td><td>2014-12-06 09:23:32</td><td>2015-12-31 00:00:00</td><td>Equipment Operator</td><td>null</td><td>null</td><td>null</td><td>null</td><td>null</td><td>Delta</td><td>BC</td><td>CA</td><td>null</td><td>null</td><td>2.0</td><td>162</td><td>2019-07-21 13:48:02</td><td>null</td></tr>\n",
       "</table>\n"
      ],
      "text/plain": [
       "+----------+----------+-------------+---------------------+--------------------+--------------------+--------------------+-------------------+-------------------+--------------------+---------------+----+--------+-----+------+---------------+--------+-------+----------+---------+-----------------+-------+-------------------+----+\n",
       "|FOLDERYEAR|LicenceRSN|LicenceNumber|LicenceRevisionNumber|        BusinessName|   BusinessTradeName|              Status|         IssuedDate|        ExpiredDate|        BusinessType|BusinessSubType|Unit|UnitType|House|Street|           City|Province|Country|PostalCode|LocalArea|NumberofEmployees|FeePaid|        ExtractDate|Geom|\n",
       "+----------+----------+-------------+---------------------+--------------------+--------------------+--------------------+-------------------+-------------------+--------------------+---------------+----+--------+-----+------+---------------+--------+-------+----------+---------+-----------------+-------+-------------------+----+\n",
       "|        15|   2345113|    15-115406|                    0|         (Shun Chen)|ACC Security Syst...|Gone Out of Business|               null|               null|Electrical-Securi...|           null|null|    null| null|  null|         Surrey|      BC|     CA|      null|     null|              2.0|   null|2019-07-21 13:48:02|null|\n",
       "|        15|   2345119|    15-115412|                    0|Praetorian Securi...|     Amax Praetorian|              Issued|2014-12-01 14:04:29|2015-12-31 00:00:00|Electrical-Securi...|           null|null|    null| null|  null|     Chilliwack|      BC|     CA|      null|     null|              0.0|    133|2019-07-21 13:48:02|null|\n",
       "|        15|   2345120|    15-115413|                    0|Safe-Tec Security...|                null|Gone Out of Business|               null|               null|Electrical-Securi...|           null|null|    null| null|  null|         Surrey|      BC|     CA|      null|     null|              0.0|   null|2019-07-21 13:48:02|null|\n",
       "|        15|   2345121|    15-115414|                    0|Husky Alarm Integ...|                null|              Issued|2015-02-10 08:05:11|2015-12-31 00:00:00|Electrical-Securi...|           null|null|    null| null|  null|     Port Moody|      BC|     CA|      null|     null|              2.0|    173|2019-07-21 13:48:02|null|\n",
       "|        15|   2345122|    15-115415|                    0|Sea to Sky Securi...|                null|             Pending|               null|               null|Electrical-Securi...|           null|null|    null| null|  null|North Vancouver|      BC|     CA|      null|     null|              3.0|   null|2019-07-21 13:48:02|null|\n",
       "|        15|   2345188|    15-115481|                    0|   (Kenneth Bradley)|Ken Bradley Truck...|              Issued|2014-11-18 11:35:48|2015-12-31 00:00:00|  Equipment Operator|           null|null|    null| null|  null|      Coquitlam|      BC|     CA|      null|     null|              0.0|    162|2019-07-21 13:48:02|null|\n",
       "|        15|   2345191|    15-115484|                    0|Litz Crane Servic...|                null|              Issued|2014-11-06 14:31:00|2015-12-31 00:00:00|  Equipment Operator|           null|null|    null| null|  null| Port Coquitlam|      BC|     CA|      null|     null|              5.0|    162|2019-07-21 13:48:02|null|\n",
       "|        15|   2345195|    15-115488|                    0|     (Wayne Nichols)|  W Nichols Trucking|              Issued|2014-11-05 12:50:58|2015-12-31 00:00:00|  Equipment Operator|           null|null|    null| null|  null|          Delta|      BC|     CA|      null|     null|              1.0|    162|2019-07-21 13:48:02|null|\n",
       "|        15|   2345196|    15-115489|                    0|       (Harry Powar)|Harry Powar Trucking|              Issued|2014-12-04 18:49:08|2015-12-31 00:00:00|  Equipment Operator|           null|null|    null| null|  null|        Burnaby|      BC|     CA|      null|     null|              1.0|    162|2019-07-21 13:48:02|null|\n",
       "|        15|   2345203|    15-115496|                    0|J Brown Trucking Inc|                null|              Issued|2014-12-06 09:23:32|2015-12-31 00:00:00|  Equipment Operator|           null|null|    null| null|  null|          Delta|      BC|     CA|      null|     null|              2.0|    162|2019-07-21 13:48:02|null|\n",
       "+----------+----------+-------------+---------------------+--------------------+--------------------+--------------------+-------------------+-------------------+--------------------+---------------+----+--------+-----+------+---------------+--------+-------+----------+---------+-----------------+-------+-------------------+----+"
      ]
     },
     "execution_count": 196,
     "metadata": {},
     "output_type": "execute_result"
    }
   ],
   "source": [
    "# show the first 10 rows \n",
    "licences_df.limit(10)"
   ]
  },
  {
   "cell_type": "code",
   "execution_count": 197,
   "metadata": {},
   "outputs": [
    {
     "data": {
      "text/html": [
       "<table border='1'>\n",
       "<tr><th>FOLDERYEAR</th><th>count</th></tr>\n",
       "<tr><td>13</td><td>60915</td></tr>\n",
       "<tr><td>16</td><td>61394</td></tr>\n",
       "<tr><td>20</td><td>64003</td></tr>\n",
       "<tr><td>19</td><td>70771</td></tr>\n",
       "<tr><td>15</td><td>60938</td></tr>\n",
       "<tr><td>17</td><td>60060</td></tr>\n",
       "<tr><td>14</td><td>60581</td></tr>\n",
       "<tr><td>18</td><td>66180</td></tr>\n",
       "</table>\n"
      ],
      "text/plain": [
       "+----------+-----+\n",
       "|FOLDERYEAR|count|\n",
       "+----------+-----+\n",
       "|        13|60915|\n",
       "|        16|61394|\n",
       "|        20|64003|\n",
       "|        19|70771|\n",
       "|        15|60938|\n",
       "|        17|60060|\n",
       "|        14|60581|\n",
       "|        18|66180|\n",
       "+----------+-----+"
      ]
     },
     "execution_count": 197,
     "metadata": {},
     "output_type": "execute_result"
    }
   ],
   "source": [
    "licences_df.groupBy('FOLDERYEAR').count()"
   ]
  },
  {
   "cell_type": "markdown",
   "metadata": {},
   "source": [
    "## Initial Wrangling "
   ]
  },
  {
   "cell_type": "code",
   "execution_count": 10,
   "metadata": {},
   "outputs": [
    {
     "name": "stdout",
     "output_type": "stream",
     "text": [
      "['Manufacturer - Food with Anc. Retail', 'Ltd Service Food Establishment', 'Temp Liquor Licence Amendment', 'Liquor Delivery Services', 'Liquor Establishment Standard', 'Retail Dealer - Food', 'Restaurant Class 2', 'Food Processing', 'Liquor Establishment Extended', 'Wholesale Dealer - Food with Anc. Retail', 'Restaurant Class 1', 'Liquor License Application', 'Warehouse Operator - Food', 'Manufacturer - Food', 'Liquor Retail Store', 'Wholesale Dealer - Food']\n"
     ]
    }
   ],
   "source": [
    "business_types = licences_df.select('BusinessType').distinct().collect()\n",
    "business_list = [business_types[i].BusinessType for i in range(len(business_types))]\n",
    "\n",
    "r = re.compile(\".*[Ff]ood.*|.*[Rr]estaurant.*|.*[Ll]iquor.*\")\n",
    "relevant_list = list(filter(r.match, business_list)) \n",
    "print(relevant_list)"
   ]
  },
  {
   "cell_type": "markdown",
   "metadata": {},
   "source": [
    "> These are the list of business types that have the word food, restaurant, or liquor."
   ]
  },
  {
   "cell_type": "code",
   "execution_count": 11,
   "metadata": {},
   "outputs": [],
   "source": [
    "rest_1 = (licences_df.BusinessType == 'Restaurant Class 1')\n",
    "rest_2 = (licences_df.BusinessType == 'Restaurant Class 2')\n",
    "rest_3 = (licences_df.BusinessType == 'Ltd Service Food Establishment')\n",
    "rest_4 = (licences_df.BusinessType == 'Temp Liquor Licence Amendment') & (licences_df.BusinessSubType == 'Area Extension')\n",
    "rest_5 = (licences_df.BusinessType == 'Liquor Establishment Standard') & (licences_df.BusinessSubType == 'Class 1  0-65 Seats')\n",
    "rest_6 = (licences_df.BusinessType == 'Liquor Establishment Extended') & (licences_df.BusinessSubType == 'Class 1  0-65 Seats')\n",
    "\n",
    "\n",
    "licences_rest_df = licences_df.filter(rest_1 | rest_2 | rest_3 | rest_4 | rest_5 | rest_6)"
   ]
  },
  {
   "cell_type": "code",
   "execution_count": 12,
   "metadata": {},
   "outputs": [
    {
     "data": {
      "text/html": [
       "<table border='1'>\n",
       "<tr><th>Status</th><th>count</th></tr>\n",
       "<tr><td>Cancelled</td><td>604</td></tr>\n",
       "<tr><td>Gone Out of Business</td><td>2914</td></tr>\n",
       "<tr><td>Issued</td><td>24579</td></tr>\n",
       "<tr><td>Inactive</td><td>662</td></tr>\n",
       "<tr><td>Pending</td><td>1420</td></tr>\n",
       "</table>\n"
      ],
      "text/plain": [
       "+--------------------+-----+\n",
       "|              Status|count|\n",
       "+--------------------+-----+\n",
       "|           Cancelled|  604|\n",
       "|Gone Out of Business| 2914|\n",
       "|              Issued|24579|\n",
       "|            Inactive|  662|\n",
       "|             Pending| 1420|\n",
       "+--------------------+-----+"
      ]
     },
     "execution_count": 12,
     "metadata": {},
     "output_type": "execute_result"
    }
   ],
   "source": [
    "licences_rest_df.groupBy(\"Status\").count()"
   ]
  },
  {
   "cell_type": "code",
   "execution_count": 13,
   "metadata": {},
   "outputs": [
    {
     "data": {
      "text/plain": [
       "'There are 955 businesses with missing name values'"
      ]
     },
     "execution_count": 13,
     "metadata": {},
     "output_type": "execute_result"
    }
   ],
   "source": [
    "f'There are %i businesses with missing name values' % licences_rest_df.filter('BusinessTradeName is null').select('BusinessName').distinct().count()"
   ]
  },
  {
   "cell_type": "markdown",
   "metadata": {},
   "source": [
    "> I will replace these entries with their business names. "
   ]
  },
  {
   "cell_type": "code",
   "execution_count": 14,
   "metadata": {},
   "outputs": [],
   "source": [
    "licences_rest_df = licences_rest_df.withColumn('BusinessTradeName', coalesce('BusinessTradeName', 'BusinessName'))"
   ]
  },
  {
   "cell_type": "code",
   "execution_count": 15,
   "metadata": {},
   "outputs": [],
   "source": [
    "licences_rest_df = licences_rest_df.dropna(subset = ['BusinessName'])"
   ]
  },
  {
   "cell_type": "code",
   "execution_count": 16,
   "metadata": {},
   "outputs": [
    {
     "data": {
      "text/plain": [
       "30148"
      ]
     },
     "execution_count": 16,
     "metadata": {},
     "output_type": "execute_result"
    }
   ],
   "source": [
    "licences_rest_df.count()"
   ]
  },
  {
   "cell_type": "code",
   "execution_count": 17,
   "metadata": {},
   "outputs": [],
   "source": [
    "# Search for names using regex\n",
    "\n",
    "def search_restaurant(search_term, n = 20):\n",
    "    rows = licences_rest_df.BusinessTradeName.rlike('.*{}.*'.format(search_term))\n",
    "    return licences_rest_df.filter(rows).limit(n)"
   ]
  },
  {
   "cell_type": "code",
   "execution_count": 24,
   "metadata": {},
   "outputs": [
    {
     "data": {
      "text/html": [
       "<table border='1'>\n",
       "<tr><th>FOLDERYEAR</th><th>LicenceRSN</th><th>LicenceNumber</th><th>LicenceRevisionNumber</th><th>BusinessName</th><th>BusinessTradeName</th><th>Status</th><th>IssuedDate</th><th>ExpiredDate</th><th>BusinessType</th><th>BusinessSubType</th><th>Unit</th><th>UnitType</th><th>House</th><th>Street</th><th>City</th><th>Province</th><th>Country</th><th>PostalCode</th><th>LocalArea</th><th>NumberofEmployees</th><th>FeePaid</th><th>ExtractDate</th><th>Geom</th></tr>\n",
       "<tr><td>16</td><td>2603912</td><td>16-145075</td><td>0</td><td>Nagomi Project Ltd</td><td>Shizen Ya</td><td>Issued</td><td>2015-11-05 11:26:12</td><td>2016-12-31 00:00:00</td><td>Restaurant Class 1</td><td>With Liquor Service</td><td>null</td><td>null</td><td>1102</td><td>W BROADWAY</td><td>Vancouver</td><td>BC</td><td>CA</td><td>V6H 1G5</td><td>Fairview</td><td>10.0</td><td>1042</td><td>2019-07-21 13:49:20</td><td>&quot;{&quot;&quot;type&quot;&quot;: &quot;&quot;Poi...</td></tr>\n",
       "<tr><td>17</td><td>2819772</td><td>17-143449</td><td>0</td><td>Nagomi Project Ltd</td><td>Shizen Ya</td><td>Issued</td><td>2016-11-29 09:10:08</td><td>2017-12-31 00:00:00</td><td>Restaurant Class 1</td><td>With Liquor Service</td><td>null</td><td>null</td><td>1102</td><td>W BROADWAY</td><td>Vancouver</td><td>BC</td><td>CA</td><td>V6H 1G5</td><td>Fairview</td><td>10.0</td><td>1063</td><td>2020-01-01 02:32:04</td><td>&quot;{&quot;&quot;type&quot;&quot;: &quot;&quot;Poi...</td></tr>\n",
       "<tr><td>14</td><td>2157871</td><td>14-145460</td><td>0</td><td>Nagomi Project Ltd</td><td>Shizen Ya</td><td>Issued</td><td>2013-12-13 10:56:37</td><td>2014-12-31 00:00:00</td><td>Restaurant Class 1</td><td>With Liquor Service</td><td>null</td><td>null</td><td>1102</td><td>W BROADWAY</td><td>Vancouver</td><td>BC</td><td>CA</td><td>V6H 1G5</td><td>Fairview</td><td>8.0</td><td>999</td><td>2019-07-21 13:49:12</td><td>&quot;{&quot;&quot;type&quot;&quot;: &quot;&quot;Poi...</td></tr>\n",
       "<tr><td>15</td><td>2376219</td><td>15-146481</td><td>0</td><td>Nagomi Project Ltd</td><td>Natural Food Shiz...</td><td>Issued</td><td>2014-10-31 16:52:01</td><td>2015-12-31 00:00:00</td><td>Restaurant Class 1</td><td>With Liquor Service</td><td>null</td><td>null</td><td>985</td><td>HORNBY ST</td><td>Vancouver</td><td>BC</td><td>CA</td><td>V6Z 1V3</td><td>Downtown</td><td>10.0</td><td>878</td><td>2019-07-21 13:49:16</td><td>&quot;{&quot;&quot;type&quot;&quot;: &quot;&quot;Poi...</td></tr>\n",
       "<tr><td>14</td><td>2158834</td><td>14-146423</td><td>0</td><td>Nagomi Project Ltd</td><td>Natural Food Shiz...</td><td>Issued</td><td>2013-12-10 22:39:49</td><td>2014-12-31 00:00:00</td><td>Restaurant Class 1</td><td>With Liquor Service</td><td>null</td><td>null</td><td>985</td><td>HORNBY ST</td><td>Vancouver</td><td>BC</td><td>CA</td><td>V6Z 1V3</td><td>Downtown</td><td>7.0</td><td>860</td><td>2019-07-21 13:49:12</td><td>&quot;{&quot;&quot;type&quot;&quot;: &quot;&quot;Poi...</td></tr>\n",
       "</table>\n"
      ],
      "text/plain": [
       "+----------+----------+-------------+---------------------+------------------+--------------------+------+-------------------+-------------------+------------------+-------------------+----+--------+-----+----------+---------+--------+-------+----------+---------+-----------------+-------+-------------------+--------------------+\n",
       "|FOLDERYEAR|LicenceRSN|LicenceNumber|LicenceRevisionNumber|      BusinessName|   BusinessTradeName|Status|         IssuedDate|        ExpiredDate|      BusinessType|    BusinessSubType|Unit|UnitType|House|    Street|     City|Province|Country|PostalCode|LocalArea|NumberofEmployees|FeePaid|        ExtractDate|                Geom|\n",
       "+----------+----------+-------------+---------------------+------------------+--------------------+------+-------------------+-------------------+------------------+-------------------+----+--------+-----+----------+---------+--------+-------+----------+---------+-----------------+-------+-------------------+--------------------+\n",
       "|        16|   2603912|    16-145075|                    0|Nagomi Project Ltd|           Shizen Ya|Issued|2015-11-05 11:26:12|2016-12-31 00:00:00|Restaurant Class 1|With Liquor Service|null|    null| 1102|W BROADWAY|Vancouver|      BC|     CA|   V6H 1G5| Fairview|             10.0|   1042|2019-07-21 13:49:20|\"{\"\"type\"\": \"\"Poi...|\n",
       "|        17|   2819772|    17-143449|                    0|Nagomi Project Ltd|           Shizen Ya|Issued|2016-11-29 09:10:08|2017-12-31 00:00:00|Restaurant Class 1|With Liquor Service|null|    null| 1102|W BROADWAY|Vancouver|      BC|     CA|   V6H 1G5| Fairview|             10.0|   1063|2020-01-01 02:32:04|\"{\"\"type\"\": \"\"Poi...|\n",
       "|        14|   2157871|    14-145460|                    0|Nagomi Project Ltd|           Shizen Ya|Issued|2013-12-13 10:56:37|2014-12-31 00:00:00|Restaurant Class 1|With Liquor Service|null|    null| 1102|W BROADWAY|Vancouver|      BC|     CA|   V6H 1G5| Fairview|              8.0|    999|2019-07-21 13:49:12|\"{\"\"type\"\": \"\"Poi...|\n",
       "|        15|   2376219|    15-146481|                    0|Nagomi Project Ltd|Natural Food Shiz...|Issued|2014-10-31 16:52:01|2015-12-31 00:00:00|Restaurant Class 1|With Liquor Service|null|    null|  985| HORNBY ST|Vancouver|      BC|     CA|   V6Z 1V3| Downtown|             10.0|    878|2019-07-21 13:49:16|\"{\"\"type\"\": \"\"Poi...|\n",
       "|        14|   2158834|    14-146423|                    0|Nagomi Project Ltd|Natural Food Shiz...|Issued|2013-12-10 22:39:49|2014-12-31 00:00:00|Restaurant Class 1|With Liquor Service|null|    null|  985| HORNBY ST|Vancouver|      BC|     CA|   V6Z 1V3| Downtown|              7.0|    860|2019-07-21 13:49:12|\"{\"\"type\"\": \"\"Poi...|\n",
       "+----------+----------+-------------+---------------------+------------------+--------------------+------+-------------------+-------------------+------------------+-------------------+----+--------+-----+----------+---------+--------+-------+----------+---------+-----------------+-------+-------------------+--------------------+"
      ]
     },
     "execution_count": 24,
     "metadata": {},
     "output_type": "execute_result"
    }
   ],
   "source": [
    "search_restaurant('Shizen', 5)"
   ]
  },
  {
   "cell_type": "code",
   "execution_count": 106,
   "metadata": {},
   "outputs": [
    {
     "data": {
      "text/html": [
       "<table border='1'>\n",
       "<tr><th>FOLDERYEAR</th><th>LicenceRSN</th><th>LicenceNumber</th><th>LicenceRevisionNumber</th><th>BusinessName</th><th>BusinessTradeName</th><th>Status</th><th>IssuedDate</th><th>ExpiredDate</th><th>BusinessType</th><th>BusinessSubType</th><th>Unit</th><th>UnitType</th><th>House</th><th>Street</th><th>City</th><th>Province</th><th>Country</th><th>PostalCode</th><th>LocalArea</th><th>NumberofEmployees</th><th>FeePaid</th><th>ExtractDate</th><th>Geom</th></tr>\n",
       "<tr><td>0</td><td>0</td><td>0</td><td>0</td><td>0</td><td>0</td><td>0</td><td>3261</td><td>3260</td><td>0</td><td>12929</td><td>25242</td><td>25238</td><td>17</td><td>17</td><td>0</td><td>0</td><td>2</td><td>243</td><td>87</td><td>0</td><td>2537</td><td>0</td><td>831</td></tr>\n",
       "</table>\n"
      ],
      "text/plain": [
       "+----------+----------+-------------+---------------------+------------+-----------------+------+----------+-----------+------------+---------------+-----+--------+-----+------+----+--------+-------+----------+---------+-----------------+-------+-----------+----+\n",
       "|FOLDERYEAR|LicenceRSN|LicenceNumber|LicenceRevisionNumber|BusinessName|BusinessTradeName|Status|IssuedDate|ExpiredDate|BusinessType|BusinessSubType| Unit|UnitType|House|Street|City|Province|Country|PostalCode|LocalArea|NumberofEmployees|FeePaid|ExtractDate|Geom|\n",
       "+----------+----------+-------------+---------------------+------------+-----------------+------+----------+-----------+------------+---------------+-----+--------+-----+------+----+--------+-------+----------+---------+-----------------+-------+-----------+----+\n",
       "|         0|         0|            0|                    0|           0|                0|     0|      3261|       3260|           0|          12929|25242|   25238|   17|    17|   0|       0|      2|       243|       87|                0|   2537|          0| 831|\n",
       "+----------+----------+-------------+---------------------+------------+-----------------+------+----------+-----------+------------+---------------+-----+--------+-----+------+----+--------+-------+----------+---------+-----------------+-------+-----------+----+"
      ]
     },
     "execution_count": 106,
     "metadata": {},
     "output_type": "execute_result"
    }
   ],
   "source": [
    "# number of missing values of each column\n",
    "licences_rest_df.select(*(sum(col(c).isNull().cast(\"int\")).alias(c) for c in licences_rest_df.columns))"
   ]
  },
  {
   "cell_type": "code",
   "execution_count": 751,
   "metadata": {},
   "outputs": [],
   "source": [
    "# use this table to populate the features from yelp\n",
    "\n",
    "rest_distinct_df = licences_rest_df.select(['FOLDERYEAR', 'Status', \n",
    "                                            'BusinessTradeName', 'Geom', \n",
    "                                            'PostalCode', 'Unit', 'House', \n",
    "                                            'Street', 'City']).distinct()"
   ]
  },
  {
   "cell_type": "code",
   "execution_count": 736,
   "metadata": {},
   "outputs": [
    {
     "data": {
      "text/plain": [
       "'There are 4504 restaurant locations'"
      ]
     },
     "execution_count": 736,
     "metadata": {},
     "output_type": "execute_result"
    }
   ],
   "source": [
    "f'There are %i restaurant locations' % licences_rest_df.select(['Geom', 'PostalCode', 'Unit', \n",
    "                                                                'House', 'Street', 'City']).distinct().count()"
   ]
  },
  {
   "cell_type": "code",
   "execution_count": 733,
   "metadata": {},
   "outputs": [
    {
     "data": {
      "text/plain": [
       "'There are 6637 closed/open restaurants locations'"
      ]
     },
     "execution_count": 733,
     "metadata": {},
     "output_type": "execute_result"
    }
   ],
   "source": [
    "f'There are %i closed/open restaurants locations' % licences_rest_df.select(['BusinessTradeName', 'Geom', 'PostalCode', \n",
    "                                                                             'Unit', 'House', 'Street', 'City']).distinct().count()\n",
    "\n",
    "# this includes restuarants that changed locations"
   ]
  },
  {
   "cell_type": "code",
   "execution_count": 441,
   "metadata": {},
   "outputs": [
    {
     "data": {
      "text/html": [
       "<table border='1'>\n",
       "<tr><th>BusinessTradeName</th></tr>\n",
       "<tr><td>Fresh Counter &amp; C...</td></tr>\n",
       "<tr><td>Siga-Siga&#x27;s Chine...</td></tr>\n",
       "<tr><td>Siga-Siga&#x27;s Filip...</td></tr>\n",
       "<tr><td>Panz Veggie</td></tr>\n",
       "<tr><td>Craft Beer Market...</td></tr>\n",
       "<tr><td>Fiery Pizza</td></tr>\n",
       "</table>\n"
      ],
      "text/plain": [
       "+--------------------+\n",
       "|   BusinessTradeName|\n",
       "+--------------------+\n",
       "|Fresh Counter & C...|\n",
       "|Siga-Siga's Chine...|\n",
       "|Siga-Siga's Filip...|\n",
       "|         Panz Veggie|\n",
       "|Craft Beer Market...|\n",
       "|         Fiery Pizza|\n",
       "+--------------------+"
      ]
     },
     "execution_count": 441,
     "metadata": {},
     "output_type": "execute_result"
    }
   ],
   "source": [
    "rest_distinct_df.filter('House is null')\\\n",
    "                .filter('Street is null')\\\n",
    "                .select('BusinessTradeName')\\\n",
    "                .distinct()"
   ]
  },
  {
   "cell_type": "markdown",
   "metadata": {},
   "source": [
    "> The Yelp API requires an address of these restaurants and 6 restaurants do not have any address. Since this is an insignificant proportion of the data, I will simply remove them."
   ]
  },
  {
   "cell_type": "code",
   "execution_count": 752,
   "metadata": {},
   "outputs": [],
   "source": [
    "rest_distinct_df = rest_distinct_df.dropna(how = 'all', subset = ['House', 'Street'])"
   ]
  },
  {
   "cell_type": "markdown",
   "metadata": {},
   "source": [
    "> Problem: can't get information for old closed restuarants \n",
    "> - initial thoughts: have to find an external API that has archived webpages\n",
    "> - maybe a solution: businesses/search doesn't give closed restuarants but businesses/matches does (have to have exact address) and then get the ID from this output and input into businesses/{id}"
   ]
  },
  {
   "cell_type": "code",
   "execution_count": 753,
   "metadata": {},
   "outputs": [],
   "source": [
    "# Here I am ordering the status such that if in a single year, there are multiple statuses, I will take the greatest\n",
    "\n",
    "rest_distinct_df = rest_distinct_df.withColumn('Status', \n",
    "                            when(col('Status') == 'Inactive', 0)\n",
    "                            .when(col('Status') == 'Cancelled', 1)\n",
    "                            .when(col('Status') == 'Gone Out of Business', 2)\n",
    "                            .when(col('Status') == 'Pending', 3)\n",
    "                            .when(col('Status') == 'Issued', 4))"
   ]
  },
  {
   "cell_type": "code",
   "execution_count": 754,
   "metadata": {},
   "outputs": [],
   "source": [
    "# This will get the latest location of a restaurant\n",
    "# if in a single year, the restuarant is both cancelled and gone out of businesss, aggregate into 1 category\n",
    "# if in a single year, the restuarant is both cancelled and issued, aggregate into 1 category - this means the restuarant moved locations\n",
    "latest_year = rest_distinct_df.sort(['FOLDERYEAR', 'Status'])\\\n",
    "                              .groupBy('BusinessTradeName')\\\n",
    "                              .agg(last('Status').alias('Status'), \n",
    "                                   last('FOLDERYEAR').alias('FOLDERYEAR'))\n",
    "\n",
    "rest_distinct_df = rest_distinct_df.join(latest_year, on = ['Status', 'FOLDERYEAR', 'BusinessTradeName'], how = 'leftsemi')"
   ]
  },
  {
   "cell_type": "code",
   "execution_count": 445,
   "metadata": {},
   "outputs": [
    {
     "data": {
      "text/plain": [
       "5740"
      ]
     },
     "execution_count": 445,
     "metadata": {},
     "output_type": "execute_result"
    }
   ],
   "source": [
    "rest_distinct_df.count()"
   ]
  },
  {
   "cell_type": "code",
   "execution_count": 446,
   "metadata": {},
   "outputs": [],
   "source": [
    "# create new columns for longitude and latitude\n",
    "rest_distinct_df = rest_distinct_df.withColumn('longitude', regexp_extract(col('Geom'), '\\[(.+), (.+)\\]', 1).cast('float'))\\\n",
    "                                   .withColumn('latitude', regexp_extract(col('Geom'), '\\[(.+), (.+)\\]', 2).cast('float'))\\\n",
    "                                   .drop('Geom')"
   ]
  },
  {
   "cell_type": "code",
   "execution_count": 447,
   "metadata": {},
   "outputs": [
    {
     "data": {
      "text/html": [
       "<table border='1'>\n",
       "<tr><th>Status</th><th>FOLDERYEAR</th><th>BusinessTradeName</th><th>PostalCode</th><th>Unit</th><th>House</th><th>Street</th><th>City</th><th>longitude</th><th>latitude</th></tr>\n",
       "<tr><td>1</td><td>17</td><td>George Simnos &amp; J...</td><td>V5V 4E9</td><td>null</td><td>4153</td><td>FRASER ST</td><td>Vancouver</td><td>-123.09054</td><td>49.248013</td></tr>\n",
       "<tr><td>2</td><td>15</td><td>Sodexo @Vancouver...</td><td>V5T 4V5</td><td>null</td><td>1120</td><td>E 7TH AV</td><td>Vancouver</td><td>-123.08036</td><td>49.2633</td></tr>\n",
       "<tr><td>2</td><td>16</td><td>Cilantro Cafe</td><td>V6Z 2L2</td><td>110</td><td>840</td><td>HOWE ST</td><td>Vancouver</td><td>-123.121574</td><td>49.281162</td></tr>\n",
       "<tr><td>2</td><td>17</td><td>O-Bowl</td><td>V6K 2H3</td><td>null</td><td>3132</td><td>W BROADWAY</td><td>Vancouver</td><td>-123.17483</td><td>49.26392</td></tr>\n",
       "<tr><td>2</td><td>17</td><td>Swiss Chalet Roti...</td><td>V6K 2H4</td><td>null</td><td>3204</td><td>W BROADWAY</td><td>Vancouver</td><td>-123.176216</td><td>49.26395</td></tr>\n",
       "</table>\n"
      ],
      "text/plain": [
       "+------+----------+--------------------+----------+----+-----+----------+---------+-----------+---------+\n",
       "|Status|FOLDERYEAR|   BusinessTradeName|PostalCode|Unit|House|    Street|     City|  longitude| latitude|\n",
       "+------+----------+--------------------+----------+----+-----+----------+---------+-----------+---------+\n",
       "|     1|        17|George Simnos & J...|   V5V 4E9|null| 4153| FRASER ST|Vancouver| -123.09054|49.248013|\n",
       "|     2|        15|Sodexo @Vancouver...|   V5T 4V5|null| 1120|  E 7TH AV|Vancouver| -123.08036|  49.2633|\n",
       "|     2|        16|       Cilantro Cafe|   V6Z 2L2| 110|  840|   HOWE ST|Vancouver|-123.121574|49.281162|\n",
       "|     2|        17|              O-Bowl|   V6K 2H3|null| 3132|W BROADWAY|Vancouver| -123.17483| 49.26392|\n",
       "|     2|        17|Swiss Chalet Roti...|   V6K 2H4|null| 3204|W BROADWAY|Vancouver|-123.176216| 49.26395|\n",
       "+------+----------+--------------------+----------+----+-----+----------+---------+-----------+---------+"
      ]
     },
     "execution_count": 447,
     "metadata": {},
     "output_type": "execute_result"
    }
   ],
   "source": [
    "rest_distinct_df.limit(5)"
   ]
  },
  {
   "cell_type": "markdown",
   "metadata": {},
   "source": [
    "Is the restaurant part of a chain?  \n",
    "How many other restaurants are nearby (within one mile)?  \n",
    "How does it compare to nearby restaurants (based on price, but also its average rating — and the number of reviews)?  \n",
    "How old is the restaurants?"
   ]
  },
  {
   "cell_type": "markdown",
   "metadata": {},
   "source": [
    "## YELP API\n",
    "\n",
    "https://www.yelp.ca/developers/documentation/v3/get_started   \n",
    "https://github.com/Yelp/yelp-fusion#code-samples\n"
   ]
  },
  {
   "cell_type": "code",
   "execution_count": null,
   "metadata": {},
   "outputs": [],
   "source": [
    "rest_distinct_list = rest_distinct_df.collect()"
   ]
  },
  {
   "cell_type": "code",
   "execution_count": 1550,
   "metadata": {},
   "outputs": [],
   "source": [
    "def get_params(rest):\n",
    "    \n",
    "    name = rest.BusinessTradeName\n",
    "    \n",
    "    house = rest.House\n",
    "    street = rest.Street\n",
    "    if rest.Unit == None:\n",
    "        unit = ''\n",
    "    else:\n",
    "        unit = rest.Unit\n",
    "    address = ' '.join([unit, house, street])\n",
    "    \n",
    "    if rest.PostalCode == None:\n",
    "        postal_code = ''\n",
    "    else:\n",
    "        postal_code = rest.PostalCode\n",
    "            \n",
    "    if rest.latitude == None:\n",
    "        latitude = None\n",
    "        longitude = None\n",
    "    else:    \n",
    "        latitude = rest.latitude\n",
    "        longitude = rest.longitude\n",
    "        \n",
    "    city = rest.City\n",
    "    \n",
    "    return {'apikey': api_key,\n",
    "            'name': name,\n",
    "            'address1': address,\n",
    "            'zip_code': postal_code,\n",
    "            'latitude': latitude,\n",
    "            'longitude': longitude,\n",
    "            'city': city,\n",
    "            'state': 'BC',\n",
    "            'country': 'CA',\n",
    "            'match_threshold': 'none',\n",
    "            'limit': 1}\n",
    "\n",
    "def make_call_1(headers, params):\n",
    "    \n",
    "    request_1 = requests.get('https://api.yelp.com/v3/businesses/matches', \n",
    "                             headers = headers, params = params)\n",
    "\n",
    "    result_1 = request_1.json()\n",
    "    \n",
    "    if request_1.status_code == 500:\n",
    "\n",
    "        print('There was an internal yelp matches call error for: ' + params['name'])\n",
    "        print('Redoing yelp call... ', end = '')\n",
    "        time.sleep(5)\n",
    "        request_1 = requests.get('https://api.yelp.com/v3/businesses/matches', \n",
    "                                 headers = headers, params = params)\n",
    "        result_1 = request_1.json()\n",
    "        \n",
    "        if request_1.status_code != 500:\n",
    "            print('Fixed!')\n",
    "    \n",
    "    return request_1, result_1\n",
    "\n",
    "\n",
    "def make_call_2(headers, params, request_1, result_1):\n",
    "    # checks if the request was bad or output was empty   \n",
    "    if request_1.status_code != 200 or len(result_1['businesses']) == 0:\n",
    "        result_2 = None\n",
    "        request_2 = request_1\n",
    "        data['yelp_call'].append(result_2)\n",
    "\n",
    "    else:\n",
    "        rest_id = result_1['businesses'][0]['id']\n",
    "        request_2 = requests.get('https://api.yelp.com/v3/businesses/{}'\n",
    "                                 .format(rest_id), headers = headers)\n",
    "        result_2 = request_2.json()\n",
    "        \n",
    "        data['yelp_call'].append(result_2)\n",
    "        \n",
    "        if request_2.status_code == 500:\n",
    "            print('There was an internal yelp businesses call error for: ' + params['name'])\n",
    "            print('Redoing yelp call... ', end = '')\n",
    "            time.sleep(5)\n",
    "            request_2 = requests.get('https://api.yelp.com/v3/businesses/{}'\n",
    "                                    .format(rest_id), headers = headers)\n",
    "            result_2 = request_2.json()\n",
    "            \n",
    "            if request_2.status_code != 500:\n",
    "                print('Fixed!')\n",
    "                \n",
    "            data['yelp_call'][i] = result_2\n",
    "\n",
    "    return request_2\n",
    "    \n",
    "def remaining_time():\n",
    "    \n",
    "    current_time = datetime.strptime(datetime.utcnow().strftime(\"%H:%M\"), '%H:%M')\n",
    "    reset_time = datetime.strptime('00:00', '%H:%M')\n",
    "    \n",
    "    diff = reset_time - current_time\n",
    "    hours = int(diff.seconds // (60 * 60))\n",
    "    mins = int((diff.seconds // 60) % 60)\n",
    "    \n",
    "    return '{} hour(s) and {} min(s)'.format(hours, mins)"
   ]
  },
  {
   "cell_type": "code",
   "execution_count": 1551,
   "metadata": {},
   "outputs": [],
   "source": [
    "api_key = os.getenv('YELP_API_KEY')\n",
    "headers = {'Authorization': 'Bearer %s' % api_key}\n",
    "\n",
    "data = dict(identifier = [],\n",
    "            name = [],\n",
    "            unit = [],\n",
    "            house = [],\n",
    "            street = [],\n",
    "            yelp_call = [])"
   ]
  },
  {
   "cell_type": "code",
   "execution_count": 1603,
   "metadata": {},
   "outputs": [
    {
     "name": "stdout",
     "output_type": "stream",
     "text": [
      "200 restaurants collected\n",
      "400 restaurants collected\n",
      "600 restaurants collected\n",
      "800 restaurants collected\n",
      "1000 restaurants collected\n",
      "1200 restaurants collected\n",
      "Yelp API call limit reached, re-run in 19 hour(s) and 10 min(s)\n",
      "\n",
      "1228 / 5740 restaurants collected\n",
      "Calls remaining: 0\n",
      "Data saved in data/yelp/ as rest_yelp_api_2020-05-11.pkl\n"
     ]
    }
   ],
   "source": [
    "for i in range(len(rest_distinct_list)):\n",
    "\n",
    "    params = get_params(rest_distinct_list[i])\n",
    "    \n",
    "    identifier = ''.join([params['name'], \n",
    "                          params['address1'], \n",
    "                          params['zip_code']])\n",
    "\n",
    "    # doesn't make a request if already have the data\n",
    "    if identifier not in data['identifier']:\n",
    "        request_1, result_1 = make_call_1(headers, params)\n",
    "        \n",
    "        time.sleep(0.5)\n",
    "\n",
    "        if request_1.status_code == 429:\n",
    "            print('Yelp API call limit reached, re-run in {}'.format(remaining_time()))\n",
    "            break\n",
    "\n",
    "        data['identifier'].append(identifier)\n",
    "        \n",
    "        # for joining back to original dataframe\n",
    "        data['name'].append(rest_distinct_list[i].BusinessTradeName)\n",
    "        data['house'].append(rest_distinct_list[i].House)\n",
    "        data['street'].append(rest_distinct_list[i].Street)\n",
    "        data['unit'].append(rest_distinct_list[i].Unit)\n",
    "        \n",
    "        request_2 = make_call_2(headers, params, request_1, result_1)\n",
    "        \n",
    "        time.sleep(0.5)\n",
    "        \n",
    "    if (i % 200 == 0) & (i != 0):\n",
    "        print(i, 'restaurants collected')\n",
    "\n",
    "print('\\n{} / {} restaurants collected'.format(i, len(rest_distinct_list)))\n",
    "print('Calls remaining:', request_2.headers['ratelimit-remaining'])\n",
    "path = 'data/yelp/'\n",
    "filename = 'rest_yelp_api' + time.strftime('_%Y-%m-%d') + '.pkl'\n",
    "with open(path + filename, 'wb') as f:\n",
    "    pickle.dump(data, f, pickle.HIGHEST_PROTOCOL)\n",
    "print('Data saved in {} as {}'.format(path, filename))\n"
   ]
  },
  {
   "cell_type": "markdown",
   "metadata": {},
   "source": [
    "# Creating the Cleaned Data"
   ]
  },
  {
   "cell_type": "code",
   "execution_count": 1070,
   "metadata": {},
   "outputs": [],
   "source": [
    "with open(path + filename, 'rb') as f:\n",
    "    data = pickle.load(f)"
   ]
  },
  {
   "cell_type": "code",
   "execution_count": 1599,
   "metadata": {},
   "outputs": [],
   "source": [
    "data_clean = dict(name = [],\n",
    "                  categories = [],\n",
    "                  rating = [],\n",
    "                  review_count = [],\n",
    "                  price = [])"
   ]
  },
  {
   "cell_type": "code",
   "execution_count": 1602,
   "metadata": {},
   "outputs": [
    {
     "name": "stdout",
     "output_type": "stream",
     "text": [
      "Data saved in data/yelp/ as rest_cleaned_2020-05-11.pkl\n"
     ]
    }
   ],
   "source": [
    "for name in data['name']:\n",
    "    data_clean['name'].append(name)\n",
    "for call in data['yelp_call']:\n",
    "    if call == None:\n",
    "        data_clean['categories'].append(None)\n",
    "        data_clean['rating'].append(None)\n",
    "        data_clean['review_count'].append(None)\n",
    "        data_clean['price'].append(None)\n",
    "    else:\n",
    "        if 'categories' not in call:\n",
    "            data_clean['categories'].append(None)\n",
    "        else:\n",
    "            data_clean['categories'].append(call['categories'])\n",
    "\n",
    "        if 'rating' not in call:\n",
    "            data_clean['rating'].append(None)\n",
    "        else:\n",
    "            data_clean['rating'].append(call['rating'])\n",
    "\n",
    "        if 'review_count' not in call:\n",
    "            data_clean['review_count'].append(None)\n",
    "        else:\n",
    "            data_clean['review_count'].append(call['review_count'])\n",
    "\n",
    "        if 'price' not in call:\n",
    "            data_clean['price'].append(None)\n",
    "        else:\n",
    "            data_clean['price'].append(call['price'])\n",
    "\n",
    "path = 'data/yelp/'\n",
    "filename = 'rest_cleaned' + time.strftime('_%Y-%m-%d') + '.pkl'\n",
    "with open(path + filename, 'wb') as f:\n",
    "    pickle.dump(data, f, pickle.HIGHEST_PROTOCOL)\n",
    "print('Data saved in {} as {}'.format(path, filename))"
   ]
  },
  {
   "cell_type": "code",
   "execution_count": 1601,
   "metadata": {},
   "outputs": [
    {
     "data": {
      "text/html": [
       "<div>\n",
       "<style scoped>\n",
       "    .dataframe tbody tr th:only-of-type {\n",
       "        vertical-align: middle;\n",
       "    }\n",
       "\n",
       "    .dataframe tbody tr th {\n",
       "        vertical-align: top;\n",
       "    }\n",
       "\n",
       "    .dataframe thead th {\n",
       "        text-align: right;\n",
       "    }\n",
       "</style>\n",
       "<table border=\"1\" class=\"dataframe\">\n",
       "  <thead>\n",
       "    <tr style=\"text-align: right;\">\n",
       "      <th></th>\n",
       "      <th>name</th>\n",
       "      <th>categories</th>\n",
       "      <th>rating</th>\n",
       "      <th>review_count</th>\n",
       "      <th>price</th>\n",
       "    </tr>\n",
       "  </thead>\n",
       "  <tbody>\n",
       "    <tr>\n",
       "      <th>0</th>\n",
       "      <td>George Simnos &amp; Joakim Bostner &amp; Stelio Loukakos</td>\n",
       "      <td>[{'alias': 'coffee', 'title': 'Coffee &amp; Tea'},...</td>\n",
       "      <td>3.5</td>\n",
       "      <td>49.0</td>\n",
       "      <td>$$</td>\n",
       "    </tr>\n",
       "    <tr>\n",
       "      <th>1</th>\n",
       "      <td>Sodexo @Vancouver Community College</td>\n",
       "      <td>[{'alias': 'collegeuniv', 'title': 'Colleges &amp;...</td>\n",
       "      <td>2.5</td>\n",
       "      <td>3.0</td>\n",
       "      <td>None</td>\n",
       "    </tr>\n",
       "    <tr>\n",
       "      <th>2</th>\n",
       "      <td>Cilantro Cafe</td>\n",
       "      <td>[{'alias': 'cafes', 'title': 'Cafes'}, {'alias...</td>\n",
       "      <td>5.0</td>\n",
       "      <td>1.0</td>\n",
       "      <td>None</td>\n",
       "    </tr>\n",
       "    <tr>\n",
       "      <th>3</th>\n",
       "      <td>O-Bowl</td>\n",
       "      <td>[{'alias': 'asianfusion', 'title': 'Asian Fusi...</td>\n",
       "      <td>3.5</td>\n",
       "      <td>5.0</td>\n",
       "      <td>$$</td>\n",
       "    </tr>\n",
       "    <tr>\n",
       "      <th>4</th>\n",
       "      <td>Swiss Chalet Rotisserie + Grill</td>\n",
       "      <td>[{'alias': 'comfortfood', 'title': 'Comfort Fo...</td>\n",
       "      <td>2.5</td>\n",
       "      <td>40.0</td>\n",
       "      <td>$$</td>\n",
       "    </tr>\n",
       "    <tr>\n",
       "      <th>...</th>\n",
       "      <td>...</td>\n",
       "      <td>...</td>\n",
       "      <td>...</td>\n",
       "      <td>...</td>\n",
       "      <td>...</td>\n",
       "    </tr>\n",
       "    <tr>\n",
       "      <th>1223</th>\n",
       "      <td>Junsei River Japanese Restaurant</td>\n",
       "      <td>[{'alias': 'japanese', 'title': 'Japanese'}]</td>\n",
       "      <td>2.5</td>\n",
       "      <td>35.0</td>\n",
       "      <td>$$</td>\n",
       "    </tr>\n",
       "    <tr>\n",
       "      <th>1224</th>\n",
       "      <td>D's Cafe And Roasting</td>\n",
       "      <td>None</td>\n",
       "      <td>NaN</td>\n",
       "      <td>NaN</td>\n",
       "      <td>None</td>\n",
       "    </tr>\n",
       "    <tr>\n",
       "      <th>1225</th>\n",
       "      <td>House of Canton Chinese Restaurant</td>\n",
       "      <td>[{'alias': 'chinese', 'title': 'Chinese'}]</td>\n",
       "      <td>3.0</td>\n",
       "      <td>14.0</td>\n",
       "      <td>$$</td>\n",
       "    </tr>\n",
       "    <tr>\n",
       "      <th>1226</th>\n",
       "      <td>Martteoh Enterprises Inc</td>\n",
       "      <td>[{'alias': 'coffee', 'title': 'Coffee &amp; Tea'},...</td>\n",
       "      <td>2.5</td>\n",
       "      <td>11.0</td>\n",
       "      <td>$</td>\n",
       "    </tr>\n",
       "    <tr>\n",
       "      <th>1227</th>\n",
       "      <td>Milestone's</td>\n",
       "      <td>None</td>\n",
       "      <td>NaN</td>\n",
       "      <td>NaN</td>\n",
       "      <td>None</td>\n",
       "    </tr>\n",
       "  </tbody>\n",
       "</table>\n",
       "<p>1228 rows × 5 columns</p>\n",
       "</div>"
      ],
      "text/plain": [
       "                                                  name  \\\n",
       "0     George Simnos & Joakim Bostner & Stelio Loukakos   \n",
       "1                  Sodexo @Vancouver Community College   \n",
       "2                                        Cilantro Cafe   \n",
       "3                                               O-Bowl   \n",
       "4                      Swiss Chalet Rotisserie + Grill   \n",
       "...                                                ...   \n",
       "1223                  Junsei River Japanese Restaurant   \n",
       "1224                             D's Cafe And Roasting   \n",
       "1225                House of Canton Chinese Restaurant   \n",
       "1226                          Martteoh Enterprises Inc   \n",
       "1227                                       Milestone's   \n",
       "\n",
       "                                             categories  rating  review_count  \\\n",
       "0     [{'alias': 'coffee', 'title': 'Coffee & Tea'},...     3.5          49.0   \n",
       "1     [{'alias': 'collegeuniv', 'title': 'Colleges &...     2.5           3.0   \n",
       "2     [{'alias': 'cafes', 'title': 'Cafes'}, {'alias...     5.0           1.0   \n",
       "3     [{'alias': 'asianfusion', 'title': 'Asian Fusi...     3.5           5.0   \n",
       "4     [{'alias': 'comfortfood', 'title': 'Comfort Fo...     2.5          40.0   \n",
       "...                                                 ...     ...           ...   \n",
       "1223       [{'alias': 'japanese', 'title': 'Japanese'}]     2.5          35.0   \n",
       "1224                                               None     NaN           NaN   \n",
       "1225         [{'alias': 'chinese', 'title': 'Chinese'}]     3.0          14.0   \n",
       "1226  [{'alias': 'coffee', 'title': 'Coffee & Tea'},...     2.5          11.0   \n",
       "1227                                               None     NaN           NaN   \n",
       "\n",
       "     price  \n",
       "0       $$  \n",
       "1     None  \n",
       "2     None  \n",
       "3       $$  \n",
       "4       $$  \n",
       "...    ...  \n",
       "1223    $$  \n",
       "1224  None  \n",
       "1225    $$  \n",
       "1226     $  \n",
       "1227  None  \n",
       "\n",
       "[1228 rows x 5 columns]"
      ]
     },
     "execution_count": 1601,
     "metadata": {},
     "output_type": "execute_result"
    }
   ],
   "source": [
    "pd.DataFrame(data_clean)"
   ]
  },
  {
   "cell_type": "markdown",
   "metadata": {},
   "source": [
    "> Here I will create a PySpark dataframe to eventually join it back to the `rest_distinct_df` dataframe."
   ]
  },
  {
   "cell_type": "code",
   "execution_count": 285,
   "metadata": {},
   "outputs": [
    {
     "data": {
      "text/html": [
       "<table border='1'>\n",
       "<tr><th>name</th><th>category</th><th>rating</th><th>review_count</th><th>price</th></tr>\n",
       "<tr><td>Morris J. Wosk Ce...</td><td>null</td><td>NaN</td><td>NaN</td><td>null</td></tr>\n",
       "<tr><td>Banana Leaf Malay...</td><td>[[title -&gt; Malays...</td><td>3.5</td><td>211.0</td><td>$$</td></tr>\n",
       "<tr><td>Top of Vancouver</td><td>[[title -&gt; Americ...</td><td>3.0</td><td>307.0</td><td>$$$$</td></tr>\n",
       "<tr><td>Portobello Ristor...</td><td>null</td><td>NaN</td><td>NaN</td><td>null</td></tr>\n",
       "<tr><td>Park Theatre</td><td>[[title -&gt; Cinema...</td><td>4.0</td><td>31.0</td><td>null</td></tr>\n",
       "<tr><td>The Bake Shop</td><td>[[title -&gt; Bakeri...</td><td>4.5</td><td>42.0</td><td>$$</td></tr>\n",
       "<tr><td>Liquid Nutrition</td><td>[[title -&gt; Juice ...</td><td>1.5</td><td>6.0</td><td>$$$$</td></tr>\n",
       "<tr><td>The Dish Fabulous...</td><td>[[title -&gt; Massag...</td><td>3.5</td><td>28.0</td><td>$$$</td></tr>\n",
       "<tr><td>Euro Bagel Cafe</td><td>[[title -&gt; Coffee...</td><td>4.0</td><td>49.0</td><td>$</td></tr>\n",
       "<tr><td>Thida Thai Restau...</td><td>[[title -&gt; Thai, ...</td><td>3.0</td><td>53.0</td><td>$$</td></tr>\n",
       "</table>\n"
      ],
      "text/plain": [
       "+--------------------+--------------------+------+------------+-----+\n",
       "|                name|            category|rating|review_count|price|\n",
       "+--------------------+--------------------+------+------------+-----+\n",
       "|Morris J. Wosk Ce...|                null|   NaN|         NaN| null|\n",
       "|Banana Leaf Malay...|[[title -> Malays...|   3.5|       211.0|   $$|\n",
       "|    Top of Vancouver|[[title -> Americ...|   3.0|       307.0| $$$$|\n",
       "|Portobello Ristor...|                null|   NaN|         NaN| null|\n",
       "|        Park Theatre|[[title -> Cinema...|   4.0|        31.0| null|\n",
       "|       The Bake Shop|[[title -> Bakeri...|   4.5|        42.0|   $$|\n",
       "|    Liquid Nutrition|[[title -> Juice ...|   1.5|         6.0| $$$$|\n",
       "|The Dish Fabulous...|[[title -> Massag...|   3.5|        28.0|  $$$|\n",
       "|     Euro Bagel Cafe|[[title -> Coffee...|   4.0|        49.0|    $|\n",
       "|Thida Thai Restau...|[[title -> Thai, ...|   3.0|        53.0|   $$|\n",
       "+--------------------+--------------------+------+------------+-----+"
      ]
     },
     "execution_count": 285,
     "metadata": {},
     "output_type": "execute_result"
    }
   ],
   "source": [
    "rest_distinct_info = spark.createDataFrame(pd.DataFrame(data))\n",
    "rest_distinct_info"
   ]
  },
  {
   "cell_type": "code",
   "execution_count": 281,
   "metadata": {},
   "outputs": [
    {
     "data": {
      "text/html": [
       "<table border='1'>\n",
       "<tr><th>BusinessTradeName</th><th>Geom</th><th>PostalCode</th><th>House</th><th>Street</th><th>name</th><th>house</th><th>street</th><th>postalcode</th><th>geom</th><th>category</th><th>rating</th><th>review_count</th><th>price</th></tr>\n",
       "<tr><td>&quot;Phnom Penh &quot;&quot;a&quot;&quot;...</td><td>&quot;{&quot;&quot;type&quot;&quot;: &quot;&quot;Poi...</td><td>V6A 1Z7</td><td>244</td><td>E Georgia St</td><td>null</td><td>null</td><td>null</td><td>null</td><td>null</td><td>null</td><td>null</td><td>null</td><td>null</td></tr>\n",
       "<tr><td>49th Parallel Cof...</td><td>&quot;{&quot;&quot;type&quot;&quot;: &quot;&quot;Poi...</td><td>V6K 1N6</td><td>2198</td><td>W 4TH AV</td><td>null</td><td>null</td><td>null</td><td>null</td><td>null</td><td>null</td><td>null</td><td>null</td><td>null</td></tr>\n",
       "<tr><td>49th Parallel Cof...</td><td>&quot;{&quot;&quot;type&quot;&quot;: &quot;&quot;Poi...</td><td>V6K 1N6</td><td>2152</td><td>W 4TH AV</td><td>null</td><td>null</td><td>null</td><td>null</td><td>null</td><td>null</td><td>null</td><td>null</td><td>null</td></tr>\n",
       "<tr><td>49th Parallel Cof...</td><td>&quot;{&quot;&quot;type&quot;&quot;: &quot;&quot;Poi...</td><td>V6E 0A1</td><td>689</td><td>THURLOW ST</td><td>null</td><td>null</td><td>null</td><td>null</td><td>null</td><td>null</td><td>null</td><td>null</td><td>null</td></tr>\n",
       "<tr><td>49th Parallel Cof...</td><td>&quot;{&quot;&quot;type&quot;&quot;: &quot;&quot;Poi...</td><td>V5T 3G3</td><td>2902</td><td>MAIN ST</td><td>null</td><td>null</td><td>null</td><td>null</td><td>null</td><td>null</td><td>null</td><td>null</td><td>null</td></tr>\n",
       "<tr><td>Annalena</td><td>&quot;{&quot;&quot;type&quot;&quot;: &quot;&quot;Poi...</td><td>V6J 5B8</td><td>1809</td><td>W 1ST AV</td><td>null</td><td>null</td><td>null</td><td>null</td><td>null</td><td>null</td><td>null</td><td>null</td><td>null</td></tr>\n",
       "<tr><td>Bing Sheng Restau...</td><td>null</td><td>V5M 3H9</td><td>1800</td><td>RENFREW ST</td><td>null</td><td>null</td><td>null</td><td>null</td><td>null</td><td>null</td><td>null</td><td>null</td><td>null</td></tr>\n",
       "<tr><td>Brado</td><td>&quot;{&quot;&quot;type&quot;&quot;: &quot;&quot;Poi...</td><td>V5L 3X5</td><td>1399</td><td>COMMERCIAL DRIVE</td><td>null</td><td>null</td><td>null</td><td>null</td><td>null</td><td>null</td><td>null</td><td>null</td><td>null</td></tr>\n",
       "<tr><td>Capstone</td><td>&quot;{&quot;&quot;type&quot;&quot;: &quot;&quot;Poi...</td><td>V6G 1C1</td><td>1429</td><td>ROBSON ST</td><td>null</td><td>null</td><td>null</td><td>null</td><td>null</td><td>null</td><td>null</td><td>null</td><td>null</td></tr>\n",
       "<tr><td>Casa Shawarma</td><td>&quot;{&quot;&quot;type&quot;&quot;: &quot;&quot;Poi...</td><td>V5V 3E3</td><td>1385</td><td>KINGSWAY</td><td>null</td><td>null</td><td>null</td><td>null</td><td>null</td><td>null</td><td>null</td><td>null</td><td>null</td></tr>\n",
       "<tr><td>Fatty Cow Seafood...</td><td>&quot;{&quot;&quot;type&quot;&quot;: &quot;&quot;Poi...</td><td>V5P 3V2</td><td>5108</td><td>VICTORIA DRIVE</td><td>null</td><td>null</td><td>null</td><td>null</td><td>null</td><td>null</td><td>null</td><td>null</td><td>null</td></tr>\n",
       "<tr><td>Flip Side Dessert...</td><td>&quot;{&quot;&quot;type&quot;&quot;: &quot;&quot;Poi...</td><td>V5R 4H6</td><td>5538</td><td>JOYCE ST</td><td>null</td><td>null</td><td>null</td><td>null</td><td>null</td><td>null</td><td>null</td><td>null</td><td>null</td></tr>\n",
       "<tr><td>Flourist Milling Inc</td><td>&quot;{&quot;&quot;type&quot;&quot;: &quot;&quot;Poi...</td><td>V5N 4E8</td><td>3433</td><td>COMMERCIAL ST</td><td>null</td><td>null</td><td>null</td><td>null</td><td>null</td><td>null</td><td>null</td><td>null</td><td>null</td></tr>\n",
       "<tr><td>Neptune Palace Se...</td><td>&quot;{&quot;&quot;type&quot;&quot;: &quot;&quot;Poi...</td><td>V5X 0C4</td><td>470</td><td>SW MARINE DRIVE</td><td>null</td><td>null</td><td>null</td><td>null</td><td>null</td><td>null</td><td>null</td><td>null</td><td>null</td></tr>\n",
       "<tr><td>O-Bowl</td><td>&quot;{&quot;&quot;type&quot;&quot;: &quot;&quot;Poi...</td><td>V6K 2H3</td><td>3132</td><td>W BROADWAY</td><td>null</td><td>null</td><td>null</td><td>null</td><td>null</td><td>null</td><td>null</td><td>null</td><td>null</td></tr>\n",
       "<tr><td>Papa John&#x27;s Alma ...</td><td>&quot;{&quot;&quot;type&quot;&quot;: &quot;&quot;Poi...</td><td>V6R 4N6</td><td>2030</td><td>ALMA ST</td><td>null</td><td>null</td><td>null</td><td>null</td><td>null</td><td>null</td><td>null</td><td>null</td><td>null</td></tr>\n",
       "<tr><td>Pirate Restaurant</td><td>&quot;{&quot;&quot;type&quot;&quot;: &quot;&quot;Poi...</td><td>V6E 1X4</td><td>1221</td><td>THURLOW ST</td><td>null</td><td>null</td><td>null</td><td>null</td><td>null</td><td>null</td><td>null</td><td>null</td><td>null</td></tr>\n",
       "<tr><td>Produce Marketplace</td><td>&quot;{&quot;&quot;type&quot;&quot;: &quot;&quot;Poi...</td><td>V5W 3A4</td><td>6350</td><td>FRASER ST</td><td>null</td><td>null</td><td>null</td><td>null</td><td>null</td><td>null</td><td>null</td><td>null</td><td>null</td></tr>\n",
       "<tr><td>Simply Thai Resta...</td><td>&quot;{&quot;&quot;type&quot;&quot;: &quot;&quot;Poi...</td><td>V6B 6K3</td><td>1211</td><td>Hamilton St</td><td>null</td><td>null</td><td>null</td><td>null</td><td>null</td><td>null</td><td>null</td><td>null</td><td>null</td></tr>\n",
       "<tr><td>Starbucks Coffee ...</td><td>&quot;{&quot;&quot;type&quot;&quot;: &quot;&quot;Poi...</td><td>V6X 1P3</td><td>1055</td><td>DUNSMUIR ST</td><td>null</td><td>null</td><td>null</td><td>null</td><td>null</td><td>null</td><td>null</td><td>null</td><td>null</td></tr>\n",
       "</table>\n",
       "only showing top 20 rows\n"
      ],
      "text/plain": [
       "+--------------------+--------------------+----------+-----+----------------+----+-----+------+----------+----+--------+------+------------+-----+\n",
       "|   BusinessTradeName|                Geom|PostalCode|House|          Street|name|house|street|postalcode|geom|category|rating|review_count|price|\n",
       "+--------------------+--------------------+----------+-----+----------------+----+-----+------+----------+----+--------+------+------------+-----+\n",
       "|\"Phnom Penh \"\"a\"\"...|\"{\"\"type\"\": \"\"Poi...|   V6A 1Z7|  244|    E Georgia St|null| null|  null|      null|null|    null|  null|        null| null|\n",
       "|49th Parallel Cof...|\"{\"\"type\"\": \"\"Poi...|   V6K 1N6| 2198|        W 4TH AV|null| null|  null|      null|null|    null|  null|        null| null|\n",
       "|49th Parallel Cof...|\"{\"\"type\"\": \"\"Poi...|   V6K 1N6| 2152|        W 4TH AV|null| null|  null|      null|null|    null|  null|        null| null|\n",
       "|49th Parallel Cof...|\"{\"\"type\"\": \"\"Poi...|   V6E 0A1|  689|      THURLOW ST|null| null|  null|      null|null|    null|  null|        null| null|\n",
       "|49th Parallel Cof...|\"{\"\"type\"\": \"\"Poi...|   V5T 3G3| 2902|         MAIN ST|null| null|  null|      null|null|    null|  null|        null| null|\n",
       "|            Annalena|\"{\"\"type\"\": \"\"Poi...|   V6J 5B8| 1809|        W 1ST AV|null| null|  null|      null|null|    null|  null|        null| null|\n",
       "|Bing Sheng Restau...|                null|   V5M 3H9| 1800|      RENFREW ST|null| null|  null|      null|null|    null|  null|        null| null|\n",
       "|               Brado|\"{\"\"type\"\": \"\"Poi...|   V5L 3X5| 1399|COMMERCIAL DRIVE|null| null|  null|      null|null|    null|  null|        null| null|\n",
       "|            Capstone|\"{\"\"type\"\": \"\"Poi...|   V6G 1C1| 1429|       ROBSON ST|null| null|  null|      null|null|    null|  null|        null| null|\n",
       "|       Casa Shawarma|\"{\"\"type\"\": \"\"Poi...|   V5V 3E3| 1385|        KINGSWAY|null| null|  null|      null|null|    null|  null|        null| null|\n",
       "|Fatty Cow Seafood...|\"{\"\"type\"\": \"\"Poi...|   V5P 3V2| 5108|  VICTORIA DRIVE|null| null|  null|      null|null|    null|  null|        null| null|\n",
       "|Flip Side Dessert...|\"{\"\"type\"\": \"\"Poi...|   V5R 4H6| 5538|        JOYCE ST|null| null|  null|      null|null|    null|  null|        null| null|\n",
       "|Flourist Milling Inc|\"{\"\"type\"\": \"\"Poi...|   V5N 4E8| 3433|   COMMERCIAL ST|null| null|  null|      null|null|    null|  null|        null| null|\n",
       "|Neptune Palace Se...|\"{\"\"type\"\": \"\"Poi...|   V5X 0C4|  470| SW MARINE DRIVE|null| null|  null|      null|null|    null|  null|        null| null|\n",
       "|              O-Bowl|\"{\"\"type\"\": \"\"Poi...|   V6K 2H3| 3132|      W BROADWAY|null| null|  null|      null|null|    null|  null|        null| null|\n",
       "|Papa John's Alma ...|\"{\"\"type\"\": \"\"Poi...|   V6R 4N6| 2030|         ALMA ST|null| null|  null|      null|null|    null|  null|        null| null|\n",
       "|   Pirate Restaurant|\"{\"\"type\"\": \"\"Poi...|   V6E 1X4| 1221|      THURLOW ST|null| null|  null|      null|null|    null|  null|        null| null|\n",
       "| Produce Marketplace|\"{\"\"type\"\": \"\"Poi...|   V5W 3A4| 6350|       FRASER ST|null| null|  null|      null|null|    null|  null|        null| null|\n",
       "|Simply Thai Resta...|\"{\"\"type\"\": \"\"Poi...|   V6B 6K3| 1211|     Hamilton St|null| null|  null|      null|null|    null|  null|        null| null|\n",
       "|Starbucks Coffee ...|\"{\"\"type\"\": \"\"Poi...|   V6X 1P3| 1055|     DUNSMUIR ST|null| null|  null|      null|null|    null|  null|        null| null|\n",
       "+--------------------+--------------------+----------+-----+----------------+----+-----+------+----------+----+--------+------+------------+-----+\n",
       "only showing top 20 rows"
      ]
     },
     "execution_count": 281,
     "metadata": {},
     "output_type": "execute_result"
    }
   ],
   "source": [
    "rest_distinct_df.join(rest_distinct_info, rest_distinct_df.BusinessTradeName == rest_distinct_info.name, how = 'left')"
   ]
  },
  {
   "cell_type": "markdown",
   "metadata": {},
   "source": [
    "> quantify similarity of restaurant cuisines to see how similar restuarants in the same proximity do"
   ]
  },
  {
   "cell_type": "code",
   "execution_count": null,
   "metadata": {},
   "outputs": [],
   "source": []
  }
 ],
 "metadata": {
  "kernelspec": {
   "display_name": "Python 3",
   "language": "python",
   "name": "python3"
  },
  "language_info": {
   "codemirror_mode": {
    "name": "ipython",
    "version": 3
   },
   "file_extension": ".py",
   "mimetype": "text/x-python",
   "name": "python",
   "nbconvert_exporter": "python",
   "pygments_lexer": "ipython3",
   "version": "3.7.6"
  }
 },
 "nbformat": 4,
 "nbformat_minor": 4
}
