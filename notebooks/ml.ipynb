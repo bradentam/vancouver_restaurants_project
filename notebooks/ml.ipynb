{
 "cells": [
  {
   "cell_type": "code",
   "execution_count": 5,
   "metadata": {},
   "outputs": [],
   "source": [
    "import numpy as np\n",
    "import pandas as pd\n",
    "import re\n",
    "import requests\n",
    "import os\n",
    "import time\n",
    "import pickle\n",
    "import json\n",
    "import matplotlib.pyplot as plt\n",
    "from datetime import datetime\n",
    "from geopy.distance import geodesic\n",
    "\n",
    "from matplotlib import pyplot as plt\n",
    "from pyspark.sql import SparkSession"
   ]
  },
  {
   "cell_type": "code",
   "execution_count": 6,
   "metadata": {},
   "outputs": [],
   "source": [
    "from pyspark.sql.functions import coalesce, max"
   ]
  },
  {
   "cell_type": "code",
   "execution_count": 7,
   "metadata": {},
   "outputs": [],
   "source": [
    "from pyspark.ml.regression import LinearRegression\n",
    "from pyspark.ml.feature import VectorAssembler\n",
    "from pyspark.sql.functions import array, col, count, mean, sum, udf, when, last, first, regexp_extract\n",
    "from pyspark.sql.types import DoubleType, IntegerType, StringType, Row\n",
    "from pyspark.sql.types import *"
   ]
  },
  {
   "cell_type": "code",
   "execution_count": 8,
   "metadata": {},
   "outputs": [],
   "source": [
    "spark = SparkSession.builder.appName('Ops').getOrCreate()\n",
    "\n",
    "# allows for cleaner output\n",
    "spark.conf.set(\"spark.sql.repl.eagerEval.enabled\", True)\n",
    "\n",
    "licences_df = (spark.read\n",
    "          .option('header','true')\n",
    "          .option('inferSchema','true')\n",
    "          .option('sep', ';')\n",
    "          .csv('../data/business-licences.csv'))\n",
    "\n",
    "licences_df = licences_df.withColumnRenamed('FOLDERYEAR', 'year')\\\n",
    "           .withColumnRenamed('LicenceRSN', 'licence_rsn')\\\n",
    "           .withColumnRenamed('LicenceNumber', 'licence_num')\\\n",
    "           .withColumnRenamed('LicenceRevisionNumber', 'licence_revision_num')\\\n",
    "           .withColumnRenamed('BusinessName', 'owner_name')\\\n",
    "           .withColumnRenamed('BusinessTradeName', 'name')\\\n",
    "           .withColumnRenamed('Status', 'status')\\\n",
    "           .withColumnRenamed('IssuedDate', 'issued_date')\\\n",
    "           .withColumnRenamed('ExpiredDate', 'expired_date')\\\n",
    "           .withColumnRenamed('BusinessType', 'type')\\\n",
    "           .withColumnRenamed('BusinessSubType', 'subtype')\\\n",
    "           .withColumnRenamed('Unit', 'unit')\\\n",
    "           .withColumnRenamed('UnitType', 'unit_type')\\\n",
    "           .withColumnRenamed('House', 'house')\\\n",
    "           .withColumnRenamed('Street', 'street')\\\n",
    "           .withColumnRenamed('City', 'city')\\\n",
    "           .withColumnRenamed('Province', 'province')\\\n",
    "           .withColumnRenamed('Country', 'country')\\\n",
    "           .withColumnRenamed('PostalCode', 'postal_code')\\\n",
    "           .withColumnRenamed('LocalArea', 'area')\\\n",
    "           .withColumnRenamed('NumberofEmployees', 'n_employees')\\\n",
    "           .withColumnRenamed('FeePaid', 'fee')\\\n",
    "           .withColumnRenamed('ExtractDate', 'extract_date')\\\n",
    "           .withColumnRenamed('Geom', 'geom')\n",
    "\n",
    "rest_1 = (licences_df.type == 'Restaurant Class 1')\n",
    "rest_2 = (licences_df.type == 'Restaurant Class 2')\n",
    "rest_3 = (licences_df.type == 'Ltd Service Food Establishment')\n",
    "rest_4 = (licences_df.type == 'Temp Liquor Licence Amendment') & (licences_df.subtype == 'Area Extension')\n",
    "rest_5 = (licences_df.type == 'Liquor Establishment Standard') & (licences_df.subtype == 'Class 1  0-65 Seats')\n",
    "rest_6 = (licences_df.type == 'Liquor Establishment Extended') & (licences_df.subtype == 'Class 1  0-65 Seats')\n",
    "\n",
    "\n",
    "licences_rest_df = licences_df.filter(rest_1 | rest_2 | rest_3 | rest_4 | rest_5 | rest_6)\n",
    "licences_rest_df = licences_rest_df.withColumn('name', coalesce('name', 'owner_name'))\n",
    "licences_rest_df = licences_rest_df.dropna(subset = ['owner_name'])\n",
    "\n",
    "# create new columns for longitude and latitude\n",
    "licences_rest_df = licences_rest_df.withColumn('longitude', regexp_extract(col('geom'), '\\[(.+), (.+)\\]', 1).cast('float'))\\\n",
    "                                   .withColumn('latitude', regexp_extract(col('geom'), '\\[(.+), (.+)\\]', 2).cast('float'))\\\n",
    "                                   .drop('geom')\n",
    "\n",
    "# rest_distinct_df = licences_rest_df.select(['year', 'status', \n",
    "#                                             'name', 'longitude', 'latitude', \n",
    "#                                             'postal_code', 'unit', 'house', \n",
    "#                                             'street', 'city']).distinct()\n",
    "# rest_distinct_df = rest_distinct_df.dropna(how = 'all', subset = ['longitude', 'latitude', 'house', 'street'])\n",
    "# rest_distinct_df = rest_distinct_df.withColumn('status', \n",
    "#                             when(col('status') == 'Inactive', 0)\n",
    "#                             .when(col('status') == 'Cancelled', 1)\n",
    "#                             .when(col('status') == 'Gone Out of Business', 2)\n",
    "#                             .when(col('status') == 'Pending', 3)\n",
    "#                             .when(col('status') == 'Issued', 4))\n",
    "\n",
    "# latest_year = rest_distinct_df.sort(['year', 'status'])\\\n",
    "#                               .groupBy('name')\\\n",
    "#                               .agg(last('status').alias('status'), \n",
    "#                                    last('year').alias('year'))\n",
    "\n",
    "# rest_distinct_df = rest_distinct_df.join(latest_year, on = ['status', 'year', 'name'], how = 'leftsemi')"
   ]
  },
  {
   "cell_type": "code",
   "execution_count": 9,
   "metadata": {},
   "outputs": [
    {
     "data": {
      "text/html": [
       "<table border='1'>\n",
       "<tr><th>year</th><th>licence_rsn</th><th>licence_num</th><th>licence_revision_num</th><th>owner_name</th><th>name</th><th>status</th><th>issued_date</th><th>expired_date</th><th>type</th><th>subtype</th><th>unit</th><th>unit_type</th><th>house</th><th>street</th><th>city</th><th>province</th><th>country</th><th>postal_code</th><th>area</th><th>n_employees</th><th>fee</th><th>extract_date</th><th>longitude</th><th>latitude</th></tr>\n",
       "<tr><td>14</td><td>2146519</td><td>14-134109</td><td>0</td><td>Penner &amp; Associat...</td><td>Penner &amp; Associat...</td><td>Gone Out of Business</td><td>2014-01-10 14:29:53</td><td>2014-12-31 00:00:00</td><td>Ltd Service Food ...</td><td>null</td><td>null</td><td>null</td><td>159</td><td>W HASTINGS ST</td><td>Vancouver</td><td>BC</td><td>CA</td><td>V6B 1H4</td><td>Downtown</td><td>1.0</td><td>130</td><td>2019-07-21 13:49:12</td><td>-123.10915</td><td>49.282604</td></tr>\n",
       "<tr><td>15</td><td>2610766</td><td>15-309912</td><td>0</td><td>Tuck Shoppe Inc</td><td>The Tuck Shoppe</td><td>Issued</td><td>2016-01-07 12:09:20</td><td>2015-12-31 00:00:00</td><td>Restaurant Class 1</td><td>With Liquor Service</td><td>null</td><td>null</td><td>237</td><td>UNION ST</td><td>Vancouver</td><td>BC</td><td>CA</td><td>V6A 2B2</td><td>Strathcona</td><td>6.0</td><td>133</td><td>2019-07-21 13:49:21</td><td>-123.09864</td><td>49.277897</td></tr>\n",
       "<tr><td>15</td><td>2610959</td><td>15-310101</td><td>0</td><td>Thi Kim Trang Le ...</td><td>Pho Win Vietnames...</td><td>Pending</td><td>null</td><td>null</td><td>Ltd Service Food ...</td><td>null</td><td>null</td><td>null</td><td>2138</td><td>E HASTINGS ST</td><td>Vancouver</td><td>BC</td><td>CA</td><td>V5L 1V1</td><td>Grandview-Woodland</td><td>2.0</td><td>52</td><td>2019-07-21 13:49:21</td><td>-123.060555</td><td>49.280895</td></tr>\n",
       "<tr><td>15</td><td>2610959</td><td>15-310101</td><td>0</td><td>Thi Kim Trang Le ...</td><td>Pho Win Vietnames...</td><td>Pending</td><td>null</td><td>null</td><td>Ltd Service Food ...</td><td>null</td><td>null</td><td>null</td><td>2690</td><td>MCGILL ST</td><td>Vancouver</td><td>BC</td><td>CA</td><td>V5K 1H3</td><td>Grandview-Woodland</td><td>2.0</td><td>52</td><td>2019-07-21 13:49:21</td><td>-123.04977</td><td>49.288372</td></tr>\n",
       "<tr><td>15</td><td>2611426</td><td>15-310562</td><td>0</td><td>Happy 8 Healthier...</td><td>Happy 8 Healthier...</td><td>Issued</td><td>2015-11-10 14:14:15</td><td>2015-12-31 00:00:00</td><td>Ltd Service Food ...</td><td>null</td><td>110</td><td>Unit</td><td>1610</td><td>ROBSON ST</td><td>Vancouver</td><td>BC</td><td>CA</td><td>V6G 1C7</td><td>West End</td><td>0.0</td><td>92</td><td>2019-07-21 13:49:21</td><td>-123.132935</td><td>49.289455</td></tr>\n",
       "<tr><td>16</td><td>2612012</td><td>16-151523</td><td>0</td><td>0980081 BC Ltd</td><td>Forum Gold Court</td><td>Gone Out of Business</td><td>2016-01-11 10:08:02</td><td>2016-12-31 00:00:00</td><td>Restaurant Class 1</td><td>No Liquor Service</td><td>null</td><td>null</td><td>5155</td><td>VICTORIA DRIVE</td><td>Vancouver</td><td>BC</td><td>CA</td><td>V5P 3V1</td><td>Kensington-Cedar ...</td><td>0.0</td><td>714</td><td>2019-07-21 13:49:21</td><td>-123.065796</td><td>49.237865</td></tr>\n",
       "<tr><td>16</td><td>2612180</td><td>16-151536</td><td>0</td><td>Papillon Cafe &amp; B...</td><td>Papillon Cafe &amp; B...</td><td>Inactive</td><td>2015-10-30 15:46:48</td><td>2016-12-31 00:00:00</td><td>Restaurant Class 1</td><td>No Liquor Service</td><td>null</td><td>null</td><td>3403</td><td>W BROADWAY</td><td>Vancouver</td><td>BC</td><td>CA</td><td>V6R 2B4</td><td>Kitsilano</td><td>7.0</td><td>714</td><td>2019-07-21 13:49:21</td><td>-123.18019</td><td>49.264526</td></tr>\n",
       "<tr><td>15</td><td>2616490</td><td>15-315321</td><td>0</td><td>BS4U Japanese Res...</td><td>Broadway Station ...</td><td>Issued</td><td>2015-12-02 09:28:39</td><td>2015-12-31 00:00:00</td><td>Restaurant Class 1</td><td>With Liquor Service</td><td>101</td><td>Unit</td><td>1638</td><td>E BROADWAY</td><td>Vancouver</td><td>BC</td><td>CA</td><td>V5N 1W1</td><td>Kensington-Cedar ...</td><td>7.0</td><td>234</td><td>2019-07-21 13:49:21</td><td>-123.07069</td><td>49.262005</td></tr>\n",
       "<tr><td>15</td><td>2616789</td><td>15-315500</td><td>0</td><td>CBH Enterprise Ltd</td><td>Waves Coffee Hous...</td><td>Issued</td><td>2015-11-23 14:38:10</td><td>2015-12-31 00:00:00</td><td>Ltd Service Food ...</td><td>null</td><td>null</td><td>null</td><td>590</td><td>BEATTY ST</td><td>Vancouver</td><td>BC</td><td>CA</td><td>NOT APPLIC</td><td>Downtown</td><td>0.0</td><td>133</td><td>2019-07-21 13:49:21</td><td>-123.11008</td><td>49.27979</td></tr>\n",
       "<tr><td>15</td><td>2617227</td><td>15-181071</td><td>1</td><td>Hongdae Chicken E...</td><td>Hongdae Pocha Cafe</td><td>Issued</td><td>2015-11-05 09:11:59</td><td>2015-12-31 00:00:00</td><td>Restaurant Class 1</td><td>With Liquor Service</td><td>null</td><td>null</td><td>1642</td><td>ROBSON ST</td><td>Vancouver</td><td>BC</td><td>CA</td><td>V6G 1C7</td><td>West End</td><td>6.0</td><td>10</td><td>2019-07-21 13:49:21</td><td>-123.13331</td><td>49.289722</td></tr>\n",
       "<tr><td>16</td><td>2617231</td><td>16-152084</td><td>0</td><td>Hongdae Chicken E...</td><td>Hongdae Pocha Cafe</td><td>Issued</td><td>2015-11-05 13:15:23</td><td>2016-12-31 00:00:00</td><td>Restaurant Class 1</td><td>With Liquor Service</td><td>null</td><td>null</td><td>1642</td><td>ROBSON ST</td><td>Vancouver</td><td>BC</td><td>CA</td><td>V6G 1C7</td><td>West End</td><td>6.0</td><td>1790</td><td>2019-07-21 13:49:21</td><td>-123.13331</td><td>49.289722</td></tr>\n",
       "<tr><td>15</td><td>2617238</td><td>15-315831</td><td>0</td><td>The Blind Sparrow...</td><td>The Blind Sparrow</td><td>Issued</td><td>2015-11-20 16:11:06</td><td>2015-12-31 00:00:00</td><td>Restaurant Class 1</td><td>With Liquor Service</td><td>null</td><td>null</td><td>751</td><td>DENMAN ST</td><td>Vancouver</td><td>BC</td><td>CA</td><td>V6G 2L6</td><td>West End</td><td>12.0</td><td>133</td><td>2019-07-21 13:49:21</td><td>null</td><td>null</td></tr>\n",
       "<tr><td>15</td><td>2617328</td><td>15-315911</td><td>0</td><td>Bubble Waffle Noo...</td><td>Bubble Waffle Cafe</td><td>Issued</td><td>2015-12-01 15:46:03</td><td>2015-12-31 00:00:00</td><td>Restaurant Class 1</td><td>With Liquor Service</td><td>null</td><td>null</td><td>2279</td><td>W 41ST AV</td><td>Vancouver</td><td>BC</td><td>CA</td><td>V6M 2A3</td><td>Arbutus-Ridge</td><td>6.0</td><td>133</td><td>2019-07-21 13:49:21</td><td>-123.15916</td><td>49.234882</td></tr>\n",
       "<tr><td>15</td><td>2617374</td><td>15-315957</td><td>0</td><td>Goldies Pizza Inc</td><td>Goldies Pizza</td><td>Issued</td><td>2015-11-05 14:23:31</td><td>2015-12-31 00:00:00</td><td>Restaurant Class 1</td><td>With Liquor Service</td><td>null</td><td>null</td><td>1020</td><td>GRANVILLE ST</td><td>Vancouver</td><td>BC</td><td>CA</td><td>V6Z 1L5</td><td>Downtown</td><td>12.0</td><td>240</td><td>2019-07-21 13:49:21</td><td>-123.12315</td><td>49.278767</td></tr>\n",
       "<tr><td>16</td><td>2617384</td><td>16-152107</td><td>0</td><td>Goldies Pizza Inc</td><td>Goldies Pizza</td><td>Issued</td><td>2016-04-26 15:32:33</td><td>2016-12-31 00:00:00</td><td>Restaurant Class 1</td><td>With Liquor Service</td><td>null</td><td>null</td><td>1020</td><td>GRANVILLE ST</td><td>Vancouver</td><td>BC</td><td>CA</td><td>V6Z 1L5</td><td>Downtown</td><td>12.0</td><td>1237</td><td>2019-07-21 13:49:21</td><td>-123.12315</td><td>49.278767</td></tr>\n",
       "<tr><td>15</td><td>2617872</td><td>15-316313</td><td>0</td><td>Meet In Gastown H...</td><td>Meet In Gastown</td><td>Issued</td><td>2016-02-02 10:53:59</td><td>2015-12-31 00:00:00</td><td>Restaurant Class 1</td><td>With Liquor Service</td><td>115</td><td>Unit</td><td>12</td><td>WATER ST</td><td>Vancouver</td><td>BC</td><td>CA</td><td>V6B 1A5</td><td>Downtown</td><td>20.0</td><td>133</td><td>2019-07-21 13:49:21</td><td>-123.10496</td><td>49.28332</td></tr>\n",
       "<tr><td>15</td><td>2617955</td><td>15-316393</td><td>0</td><td>1018214 BC Ltd</td><td>Savio Volpe</td><td>Issued</td><td>2015-11-06 16:34:05</td><td>2015-12-31 00:00:00</td><td>Restaurant Class 1</td><td>With Liquor Service</td><td>null</td><td>null</td><td>615</td><td>KINGSWAY</td><td>Vancouver</td><td>BC</td><td>CA</td><td>V5T 3K5</td><td>Mount Pleasant</td><td>0.0</td><td>305</td><td>2019-07-21 13:49:21</td><td>-123.090935</td><td>49.257492</td></tr>\n",
       "<tr><td>15</td><td>2619299</td><td>15-317170</td><td>0</td><td>1049368 BC Ltd</td><td>Belachan Kitchen</td><td>Issued</td><td>2016-01-04 08:20:02</td><td>2015-12-31 00:00:00</td><td>Restaurant Class 1</td><td>With Liquor Service</td><td>null</td><td>null</td><td>1128</td><td>ROBSON ST</td><td>Vancouver</td><td>BC</td><td>CA</td><td>V6E 1B2</td><td>West End</td><td>8.0</td><td>167</td><td>2019-07-21 13:49:21</td><td>-123.12592</td><td>49.284943</td></tr>\n",
       "<tr><td>16</td><td>2620466</td><td>16-153423</td><td>0</td><td>Yolks Holdings Ltd</td><td>Yolks Breakfast</td><td>Issued</td><td>2015-12-04 13:46:13</td><td>2016-12-31 00:00:00</td><td>Restaurant Class 1</td><td>With Liquor Service</td><td>null</td><td>null</td><td>546</td><td>W BROADWAY</td><td>Vancouver</td><td>BC</td><td>CA</td><td>V5Z 1E9</td><td>Fairview</td><td>21.0</td><td>1169</td><td>2019-07-21 13:49:21</td><td>-123.116554</td><td>49.262928</td></tr>\n",
       "<tr><td>15</td><td>2621443</td><td>15-318389</td><td>0</td><td>(Dipsy Bains)</td><td>Art Of Spice</td><td>Pending</td><td>null</td><td>null</td><td>Restaurant Class 1</td><td>No Liquor Service</td><td>null</td><td>null</td><td>1355</td><td>HORNBY ST</td><td>Vancouver</td><td>BC</td><td>CA</td><td>V6Z 1W7</td><td>Downtown</td><td>5.0</td><td>52</td><td>2019-07-21 13:49:21</td><td>-123.13092</td><td>49.27706</td></tr>\n",
       "</table>\n",
       "only showing top 20 rows\n"
      ],
      "text/plain": [
       "+----+-----------+-----------+--------------------+--------------------+--------------------+--------------------+-------------------+-------------------+--------------------+-------------------+----+---------+-----+--------------+---------+--------+-------+-----------+--------------------+-----------+----+-------------------+-----------+---------+\n",
       "|year|licence_rsn|licence_num|licence_revision_num|          owner_name|                name|              status|        issued_date|       expired_date|                type|            subtype|unit|unit_type|house|        street|     city|province|country|postal_code|                area|n_employees| fee|       extract_date|  longitude| latitude|\n",
       "+----+-----------+-----------+--------------------+--------------------+--------------------+--------------------+-------------------+-------------------+--------------------+-------------------+----+---------+-----+--------------+---------+--------+-------+-----------+--------------------+-----------+----+-------------------+-----------+---------+\n",
       "|  14|    2146519|  14-134109|                   0|Penner & Associat...|Penner & Associat...|Gone Out of Business|2014-01-10 14:29:53|2014-12-31 00:00:00|Ltd Service Food ...|               null|null|     null|  159| W HASTINGS ST|Vancouver|      BC|     CA|    V6B 1H4|            Downtown|        1.0| 130|2019-07-21 13:49:12| -123.10915|49.282604|\n",
       "|  15|    2610766|  15-309912|                   0|     Tuck Shoppe Inc|     The Tuck Shoppe|              Issued|2016-01-07 12:09:20|2015-12-31 00:00:00|  Restaurant Class 1|With Liquor Service|null|     null|  237|      UNION ST|Vancouver|      BC|     CA|    V6A 2B2|          Strathcona|        6.0| 133|2019-07-21 13:49:21| -123.09864|49.277897|\n",
       "|  15|    2610959|  15-310101|                   0|Thi Kim Trang Le ...|Pho Win Vietnames...|             Pending|               null|               null|Ltd Service Food ...|               null|null|     null| 2138| E HASTINGS ST|Vancouver|      BC|     CA|    V5L 1V1|  Grandview-Woodland|        2.0|  52|2019-07-21 13:49:21|-123.060555|49.280895|\n",
       "|  15|    2610959|  15-310101|                   0|Thi Kim Trang Le ...|Pho Win Vietnames...|             Pending|               null|               null|Ltd Service Food ...|               null|null|     null| 2690|     MCGILL ST|Vancouver|      BC|     CA|    V5K 1H3|  Grandview-Woodland|        2.0|  52|2019-07-21 13:49:21| -123.04977|49.288372|\n",
       "|  15|    2611426|  15-310562|                   0|Happy 8 Healthier...|Happy 8 Healthier...|              Issued|2015-11-10 14:14:15|2015-12-31 00:00:00|Ltd Service Food ...|               null| 110|     Unit| 1610|     ROBSON ST|Vancouver|      BC|     CA|    V6G 1C7|            West End|        0.0|  92|2019-07-21 13:49:21|-123.132935|49.289455|\n",
       "|  16|    2612012|  16-151523|                   0|      0980081 BC Ltd|    Forum Gold Court|Gone Out of Business|2016-01-11 10:08:02|2016-12-31 00:00:00|  Restaurant Class 1|  No Liquor Service|null|     null| 5155|VICTORIA DRIVE|Vancouver|      BC|     CA|    V5P 3V1|Kensington-Cedar ...|        0.0| 714|2019-07-21 13:49:21|-123.065796|49.237865|\n",
       "|  16|    2612180|  16-151536|                   0|Papillon Cafe & B...|Papillon Cafe & B...|            Inactive|2015-10-30 15:46:48|2016-12-31 00:00:00|  Restaurant Class 1|  No Liquor Service|null|     null| 3403|    W BROADWAY|Vancouver|      BC|     CA|    V6R 2B4|           Kitsilano|        7.0| 714|2019-07-21 13:49:21| -123.18019|49.264526|\n",
       "|  15|    2616490|  15-315321|                   0|BS4U Japanese Res...|Broadway Station ...|              Issued|2015-12-02 09:28:39|2015-12-31 00:00:00|  Restaurant Class 1|With Liquor Service| 101|     Unit| 1638|    E BROADWAY|Vancouver|      BC|     CA|    V5N 1W1|Kensington-Cedar ...|        7.0| 234|2019-07-21 13:49:21| -123.07069|49.262005|\n",
       "|  15|    2616789|  15-315500|                   0|  CBH Enterprise Ltd|Waves Coffee Hous...|              Issued|2015-11-23 14:38:10|2015-12-31 00:00:00|Ltd Service Food ...|               null|null|     null|  590|     BEATTY ST|Vancouver|      BC|     CA| NOT APPLIC|            Downtown|        0.0| 133|2019-07-21 13:49:21| -123.11008| 49.27979|\n",
       "|  15|    2617227|  15-181071|                   1|Hongdae Chicken E...|  Hongdae Pocha Cafe|              Issued|2015-11-05 09:11:59|2015-12-31 00:00:00|  Restaurant Class 1|With Liquor Service|null|     null| 1642|     ROBSON ST|Vancouver|      BC|     CA|    V6G 1C7|            West End|        6.0|  10|2019-07-21 13:49:21| -123.13331|49.289722|\n",
       "|  16|    2617231|  16-152084|                   0|Hongdae Chicken E...|  Hongdae Pocha Cafe|              Issued|2015-11-05 13:15:23|2016-12-31 00:00:00|  Restaurant Class 1|With Liquor Service|null|     null| 1642|     ROBSON ST|Vancouver|      BC|     CA|    V6G 1C7|            West End|        6.0|1790|2019-07-21 13:49:21| -123.13331|49.289722|\n",
       "|  15|    2617238|  15-315831|                   0|The Blind Sparrow...|   The Blind Sparrow|              Issued|2015-11-20 16:11:06|2015-12-31 00:00:00|  Restaurant Class 1|With Liquor Service|null|     null|  751|     DENMAN ST|Vancouver|      BC|     CA|    V6G 2L6|            West End|       12.0| 133|2019-07-21 13:49:21|       null|     null|\n",
       "|  15|    2617328|  15-315911|                   0|Bubble Waffle Noo...|  Bubble Waffle Cafe|              Issued|2015-12-01 15:46:03|2015-12-31 00:00:00|  Restaurant Class 1|With Liquor Service|null|     null| 2279|     W 41ST AV|Vancouver|      BC|     CA|    V6M 2A3|       Arbutus-Ridge|        6.0| 133|2019-07-21 13:49:21| -123.15916|49.234882|\n",
       "|  15|    2617374|  15-315957|                   0|   Goldies Pizza Inc|       Goldies Pizza|              Issued|2015-11-05 14:23:31|2015-12-31 00:00:00|  Restaurant Class 1|With Liquor Service|null|     null| 1020|  GRANVILLE ST|Vancouver|      BC|     CA|    V6Z 1L5|            Downtown|       12.0| 240|2019-07-21 13:49:21| -123.12315|49.278767|\n",
       "|  16|    2617384|  16-152107|                   0|   Goldies Pizza Inc|       Goldies Pizza|              Issued|2016-04-26 15:32:33|2016-12-31 00:00:00|  Restaurant Class 1|With Liquor Service|null|     null| 1020|  GRANVILLE ST|Vancouver|      BC|     CA|    V6Z 1L5|            Downtown|       12.0|1237|2019-07-21 13:49:21| -123.12315|49.278767|\n",
       "|  15|    2617872|  15-316313|                   0|Meet In Gastown H...|     Meet In Gastown|              Issued|2016-02-02 10:53:59|2015-12-31 00:00:00|  Restaurant Class 1|With Liquor Service| 115|     Unit|   12|      WATER ST|Vancouver|      BC|     CA|    V6B 1A5|            Downtown|       20.0| 133|2019-07-21 13:49:21| -123.10496| 49.28332|\n",
       "|  15|    2617955|  15-316393|                   0|      1018214 BC Ltd|         Savio Volpe|              Issued|2015-11-06 16:34:05|2015-12-31 00:00:00|  Restaurant Class 1|With Liquor Service|null|     null|  615|      KINGSWAY|Vancouver|      BC|     CA|    V5T 3K5|      Mount Pleasant|        0.0| 305|2019-07-21 13:49:21|-123.090935|49.257492|\n",
       "|  15|    2619299|  15-317170|                   0|      1049368 BC Ltd|    Belachan Kitchen|              Issued|2016-01-04 08:20:02|2015-12-31 00:00:00|  Restaurant Class 1|With Liquor Service|null|     null| 1128|     ROBSON ST|Vancouver|      BC|     CA|    V6E 1B2|            West End|        8.0| 167|2019-07-21 13:49:21| -123.12592|49.284943|\n",
       "|  16|    2620466|  16-153423|                   0|  Yolks Holdings Ltd|     Yolks Breakfast|              Issued|2015-12-04 13:46:13|2016-12-31 00:00:00|  Restaurant Class 1|With Liquor Service|null|     null|  546|    W BROADWAY|Vancouver|      BC|     CA|    V5Z 1E9|            Fairview|       21.0|1169|2019-07-21 13:49:21|-123.116554|49.262928|\n",
       "|  15|    2621443|  15-318389|                   0|       (Dipsy Bains)|        Art Of Spice|             Pending|               null|               null|  Restaurant Class 1|  No Liquor Service|null|     null| 1355|     HORNBY ST|Vancouver|      BC|     CA|    V6Z 1W7|            Downtown|        5.0|  52|2019-07-21 13:49:21| -123.13092| 49.27706|\n",
       "+----+-----------+-----------+--------------------+--------------------+--------------------+--------------------+-------------------+-------------------+--------------------+-------------------+----+---------+-----+--------------+---------+--------+-------+-----------+--------------------+-----------+----+-------------------+-----------+---------+\n",
       "only showing top 20 rows"
      ]
     },
     "execution_count": 9,
     "metadata": {},
     "output_type": "execute_result"
    }
   ],
   "source": [
    "licences_rest_df"
   ]
  },
  {
   "cell_type": "code",
   "execution_count": 10,
   "metadata": {},
   "outputs": [],
   "source": [
    "with open('../data/data_cleaned_2020-08-26.pkl', 'rb') as f:\n",
    "    data = pickle.load(f)"
   ]
  },
  {
   "cell_type": "code",
   "execution_count": 19,
   "metadata": {},
   "outputs": [],
   "source": [
    "data = data.drop(columns = \"cord\")"
   ]
  },
  {
   "cell_type": "code",
   "execution_count": 21,
   "metadata": {},
   "outputs": [],
   "source": [
    "rest_features = spark.createDataFrame(data)"
   ]
  },
  {
   "cell_type": "code",
   "execution_count": 30,
   "metadata": {},
   "outputs": [
    {
     "data": {
      "text/html": [
       "<table border='1'>\n",
       "<tr><th>name</th><th>name_yelp</th><th>postal_code</th><th>unit</th><th>house</th><th>street</th><th>categories</th><th>is_claimed</th><th>is_closed</th><th>rating</th><th>review_count</th><th>price</th><th>city</th><th>distance_from_bike</th><th>distance_from_meter</th><th>avg_meter_price</th><th>is_chain</th><th>density</th></tr>\n",
       "<tr><td>George Simnos &amp; J...</td><td>Bows &amp; Arrows</td><td>V5V 4E9</td><td>null</td><td>4153</td><td>FRASER ST</td><td>[Coffee &amp; Tea, Br...</td><td>true</td><td>true</td><td>3.5</td><td>48.0</td><td>2.0</td><td>Vancouver</td><td>484.2691754472128</td><td>737.8257296024146</td><td>3.5</td><td>false</td><td>45</td></tr>\n",
       "<tr><td>Cilantro Cafe</td><td>Cilantro Cafe</td><td>V6Z 2L2</td><td>110</td><td>840</td><td>HOWE ST</td><td>[Cafes, Breakfast...</td><td>false</td><td>false</td><td>5.0</td><td>1.0</td><td>NaN</td><td>Vancouver</td><td>139.56780655131266</td><td>20.701937073581217</td><td>5.0</td><td>false</td><td>335</td></tr>\n",
       "<tr><td>O-Bowl</td><td>O-bowl By Rustic ...</td><td>V6K 2H3</td><td>null</td><td>3132</td><td>W BROADWAY</td><td>[Asian Fusion]</td><td>true</td><td>true</td><td>3.5</td><td>5.0</td><td>2.0</td><td>Vancouver</td><td>67.98454403785654</td><td>20.196598532042703</td><td>2.0</td><td>false</td><td>84</td></tr>\n",
       "<tr><td>Swiss Chalet Roti...</td><td>Swiss Chalet Roti...</td><td>V6K 2H4</td><td>null</td><td>3204</td><td>W BROADWAY</td><td>[Comfort Food, Am...</td><td>true</td><td>true</td><td>2.5</td><td>40.0</td><td>2.0</td><td>Vancouver</td><td>125.78171845506905</td><td>17.6601663847749</td><td>2.0</td><td>false</td><td>79</td></tr>\n",
       "<tr><td>Rouge Bistro Inc</td><td>Rouge Bistro</td><td>V5Y 1B1</td><td>null</td><td>91</td><td>W 2ND AV</td><td>[American (Tradit...</td><td>true</td><td>true</td><td>4.0</td><td>36.0</td><td>1.0</td><td>Vancouver</td><td>89.99906972522209</td><td>22.75352193411247</td><td>1.0</td><td>false</td><td>49</td></tr>\n",
       "<tr><td>Old Xian&#x27;s Food</td><td>Old Xian&#x27;s Food</td><td>V5R 5L7</td><td>null</td><td>3510</td><td>KINGSWAY</td><td>[Chinese]</td><td>true</td><td>true</td><td>3.5</td><td>45.0</td><td>2.0</td><td>Vancouver</td><td>245.88966413022936</td><td>339.0376057014121</td><td>1.0</td><td>false</td><td>65</td></tr>\n",
       "<tr><td>Cornerstone Coffee</td><td>Cornerstone Coffee</td><td>V6K 1P7</td><td>null</td><td>2698</td><td>W 4TH AV</td><td>[Coffee &amp; Tea]</td><td>false</td><td>true</td><td>3.0</td><td>34.0</td><td>2.0</td><td>Vancouver</td><td>92.0675647037376</td><td>23.382429963619824</td><td>1.0</td><td>false</td><td>60</td></tr>\n",
       "<tr><td>Buttermere Patiss...</td><td>Buttermere Café</td><td>V6A 2V3</td><td>null</td><td>636</td><td>MAIN ST</td><td>[Patisserie/Cake ...</td><td>false</td><td>false</td><td>4.0</td><td>12.0</td><td>NaN</td><td>Vancouver</td><td>33.1631618333977</td><td>19.77814909942711</td><td>3.0</td><td>false</td><td>114</td></tr>\n",
       "<tr><td>Grillzilla Bistro</td><td>Victoria Restaurant</td><td>V5P 3X7</td><td>null</td><td>6482</td><td>VICTORIA DRIVE</td><td>[Breakfast &amp; Brun...</td><td>true</td><td>true</td><td>3.5</td><td>19.0</td><td>1.0</td><td>Vancouver</td><td>241.93793838832</td><td>1821.8254537861617</td><td>1.0</td><td>false</td><td>15</td></tr>\n",
       "<tr><td>Bob Likes Thai Fo...</td><td>Bob Likes Thai Food</td><td>V5V 3N8</td><td>null</td><td>3755</td><td>MAIN ST</td><td>[Thai]</td><td>true</td><td>false</td><td>3.5</td><td>162.0</td><td>2.0</td><td>Vancouver</td><td>32.31496423025161</td><td>25.716383658415815</td><td>1.0</td><td>false</td><td>63</td></tr>\n",
       "<tr><td>Copper Chimney</td><td>Copper Chimney In...</td><td>V5C 2E8</td><td>null</td><td>581</td><td>HORNBY ST</td><td>[Indian]</td><td>true</td><td>false</td><td>3.5</td><td>91.0</td><td>2.0</td><td>Vancouver</td><td>30.906131259976437</td><td>33.99295823124601</td><td>6.5</td><td>false</td><td>391</td></tr>\n",
       "<tr><td>La Pache Pizza Ltd</td><td>La Pache Pizza</td><td>V5N 4B2</td><td>null</td><td>2082</td><td>COMMERCIAL DRIVE</td><td>[Pizza]</td><td>true</td><td>false</td><td>4.5</td><td>11.0</td><td>NaN</td><td>Vancouver</td><td>260.8644570757878</td><td>15.615225996743343</td><td>1.5</td><td>false</td><td>83</td></tr>\n",
       "<tr><td>Le Gateau Bake Shop</td><td>Le Gateau Bakeshop</td><td>V5K 2A6</td><td>null</td><td>3458</td><td>E HASTINGS ST</td><td>[Desserts, Bakeri...</td><td>true</td><td>false</td><td>4.5</td><td>27.0</td><td>2.0</td><td>Vancouver</td><td>128.35108516726118</td><td>1860.4206520420405</td><td>1.0</td><td>false</td><td>11</td></tr>\n",
       "<tr><td>MIX The Bakery</td><td>Mix the Bakery</td><td>V6R 2H9</td><td>null</td><td>4430</td><td>W 10TH AV</td><td>[Bakeries, Sandwi...</td><td>true</td><td>false</td><td>3.5</td><td>42.0</td><td>2.0</td><td>Vancouver</td><td>236.69844258322146</td><td>23.191927061522463</td><td>1.0</td><td>false</td><td>37</td></tr>\n",
       "<tr><td>Marble Slab Creamery</td><td>Marble Slab Creamery</td><td>V6G 2M9</td><td>103</td><td>1184</td><td>DENMAN ST</td><td>[Ice Cream &amp; Froz...</td><td>true</td><td>false</td><td>3.5</td><td>81.0</td><td>2.0</td><td>Vancouver</td><td>79.03412540914024</td><td>60.13745809111517</td><td>4.0</td><td>false</td><td>101</td></tr>\n",
       "<tr><td>Mei Yee Bakery Ltd</td><td>Mei Yee Bakery</td><td>V5P 3W4</td><td>null</td><td>5692</td><td>VICTORIA DRIVE</td><td>[Bakeries]</td><td>false</td><td>false</td><td>4.5</td><td>11.0</td><td>1.0</td><td>Vancouver</td><td>316.5715403186397</td><td>1828.9563543586657</td><td>1.0</td><td>false</td><td>43</td></tr>\n",
       "<tr><td>New Bahia Sweet S...</td><td>New Bhaia Sweets ...</td><td>V5W 2Z5</td><td>null</td><td>5740</td><td>Fraser St</td><td>[Indian]</td><td>true</td><td>false</td><td>3.0</td><td>39.0</td><td>1.0</td><td>Vancouver</td><td>352.3567056373527</td><td>21.91061570868165</td><td>1.0</td><td>false</td><td>37</td></tr>\n",
       "<tr><td>Sushi Den</td><td>Sushi Den</td><td>V6B 0J4</td><td>null</td><td>609</td><td>ABBOTT ST</td><td>[Japanese, Sushi ...</td><td>false</td><td>false</td><td>3.0</td><td>147.0</td><td>2.0</td><td>Vancouver</td><td>75.13738942504636</td><td>59.274274833859444</td><td>1.0</td><td>false</td><td>172</td></tr>\n",
       "<tr><td>Thu Hien</td><td>Thu Hien Deli &amp; S...</td><td>V5V 3E4</td><td>null</td><td>1388</td><td>KINGSWAY</td><td>[Vietnamese, Delis]</td><td>false</td><td>false</td><td>4.0</td><td>16.0</td><td>1.0</td><td>Vancouver</td><td>246.28965347505306</td><td>1187.9788760384956</td><td>2.0</td><td>false</td><td>39</td></tr>\n",
       "<tr><td>Tokyo John Sushi</td><td>Tokyo John</td><td>V5Z 2W6</td><td>null</td><td>3365</td><td>CAMBIE ST</td><td>[Japanese, Sushi ...</td><td>true</td><td>false</td><td>3.5</td><td>18.0</td><td>2.0</td><td>Vancouver</td><td>223.0792877368982</td><td>24.928747555903694</td><td>1.0</td><td>false</td><td>67</td></tr>\n",
       "</table>\n",
       "only showing top 20 rows\n"
      ],
      "text/plain": [
       "DataFrame[name: string, name_yelp: string, postal_code: string, unit: string, house: string, street: string, categories: array<string>, is_claimed: boolean, is_closed: boolean, rating: double, review_count: double, price: double, city: string, distance_from_bike: double, distance_from_meter: double, avg_meter_price: double, is_chain: boolean, density: bigint]"
      ]
     },
     "execution_count": 30,
     "metadata": {},
     "output_type": "execute_result"
    }
   ],
   "source": [
    "rest_features"
   ]
  },
  {
   "cell_type": "code",
   "execution_count": 39,
   "metadata": {},
   "outputs": [
    {
     "data": {
      "text/html": [
       "<table border='1'>\n",
       "<tr><th>name</th><th>postal_code</th><th>house</th><th>street</th><th>city</th><th>year</th><th>licence_rsn</th><th>licence_num</th><th>licence_revision_num</th><th>owner_name</th><th>status</th><th>issued_date</th><th>expired_date</th><th>type</th><th>subtype</th><th>unit</th><th>unit_type</th><th>province</th><th>country</th><th>area</th><th>n_employees</th><th>fee</th><th>extract_date</th><th>longitude</th><th>latitude</th><th>name_yelp</th><th>unit</th><th>categories</th><th>is_claimed</th><th>is_closed</th><th>rating</th><th>review_count</th><th>price</th><th>distance_from_bike</th><th>distance_from_meter</th><th>avg_meter_price</th><th>is_chain</th><th>density</th></tr>\n",
       "<tr><td>A&amp;W Restaurant (7...</td><td>V6Z 1A1</td><td>778</td><td>ROBSON ST</td><td>Vancouver</td><td>16</td><td>2604146</td><td>16-145308</td><td>0</td><td>Fast Urban Foods Inc</td><td>Issued</td><td>2015-11-05 12:03:07</td><td>2016-12-31 00:00:00</td><td>Restaurant Class 1</td><td>No Liquor Service</td><td>null</td><td>null</td><td>BC</td><td>CA</td><td>Downtown</td><td>16.0</td><td>714</td><td>2019-07-21 13:49:20</td><td>-123.12095</td><td>49.281548</td><td>A&amp;W</td><td>null</td><td>[Fast Food, Burgers]</td><td>true</td><td>false</td><td>2.5</td><td>27.0</td><td>1.0</td><td>135.5136388303206</td><td>23.458617408143432</td><td>5.0</td><td>false</td><td>352</td></tr>\n",
       "<tr><td>A&amp;W Restaurant (7...</td><td>V6Z 1A1</td><td>778</td><td>ROBSON ST</td><td>Vancouver</td><td>15</td><td>2375592</td><td>15-145854</td><td>0</td><td>Fast Urban Foods Inc</td><td>Issued</td><td>2014-11-07 15:43:47</td><td>2015-12-31 00:00:00</td><td>Restaurant Class 1</td><td>No Liquor Service</td><td>null</td><td>null</td><td>BC</td><td>CA</td><td>Downtown</td><td>16.0</td><td>700</td><td>2019-07-21 13:49:16</td><td>-123.12095</td><td>49.281548</td><td>A&amp;W</td><td>null</td><td>[Fast Food, Burgers]</td><td>true</td><td>false</td><td>2.5</td><td>27.0</td><td>1.0</td><td>135.5136388303206</td><td>23.458617408143432</td><td>5.0</td><td>false</td><td>352</td></tr>\n",
       "<tr><td>A&amp;W Restaurant (7...</td><td>V6Z 1A1</td><td>778</td><td>ROBSON ST</td><td>Vancouver</td><td>14</td><td>2158137</td><td>14-145726</td><td>0</td><td>Fast Urban Foods Inc</td><td>Issued</td><td>2013-11-21 17:26:06</td><td>2014-12-31 00:00:00</td><td>Restaurant Class 1</td><td>No Liquor Service</td><td>null</td><td>null</td><td>BC</td><td>CA</td><td>Downtown</td><td>14.0</td><td>686</td><td>2019-07-21 13:49:12</td><td>-123.12095</td><td>49.281548</td><td>A&amp;W</td><td>null</td><td>[Fast Food, Burgers]</td><td>true</td><td>false</td><td>2.5</td><td>27.0</td><td>1.0</td><td>135.5136388303206</td><td>23.458617408143432</td><td>5.0</td><td>false</td><td>352</td></tr>\n",
       "<tr><td>A&amp;W Restaurant (7...</td><td>V6Z 1A1</td><td>778</td><td>ROBSON ST</td><td>Vancouver</td><td>17</td><td>2819990</td><td>17-143667</td><td>0</td><td>Fast Urban Foods Inc</td><td>Issued</td><td>2016-11-16 16:07:03</td><td>2017-12-31 00:00:00</td><td>Restaurant Class 1</td><td>No Liquor Service</td><td>null</td><td>null</td><td>BC</td><td>CA</td><td>Downtown</td><td>16.0</td><td>728</td><td>2020-01-01 02:32:04</td><td>-123.12095</td><td>49.281548</td><td>A&amp;W</td><td>null</td><td>[Fast Food, Burgers]</td><td>true</td><td>false</td><td>2.5</td><td>27.0</td><td>1.0</td><td>135.5136388303206</td><td>23.458617408143432</td><td>5.0</td><td>false</td><td>352</td></tr>\n",
       "<tr><td>A&amp;W Restaurant (7...</td><td>V6Z 1A1</td><td>778</td><td>ROBSON ST</td><td>Vancouver</td><td>13</td><td>1817007</td><td>13-197588</td><td>0</td><td>Fast Urban Foods Inc</td><td>Issued</td><td>2012-12-04 13:38:05</td><td>2013-12-31 00:00:00</td><td>Restaurant Class 1</td><td>No Liquor Service</td><td>null</td><td>null</td><td>BC</td><td>CA</td><td>Downtown</td><td>14.0</td><td>679</td><td>2019-07-21 13:49:08</td><td>-123.12095</td><td>49.281548</td><td>A&amp;W</td><td>null</td><td>[Fast Food, Burgers]</td><td>true</td><td>false</td><td>2.5</td><td>27.0</td><td>1.0</td><td>135.5136388303206</td><td>23.458617408143432</td><td>5.0</td><td>false</td><td>352</td></tr>\n",
       "<tr><td>A&amp;W Restaurant (7...</td><td>V6Z 1A1</td><td>778</td><td>ROBSON ST</td><td>Vancouver</td><td>19</td><td>3273995</td><td>19-148235</td><td>0</td><td>Fast Urban Foods Inc</td><td>Issued</td><td>2018-11-24 00:35:46</td><td>2019-12-31 00:00:00</td><td>Restaurant Class 1</td><td>No Liquor Service</td><td>null</td><td>null</td><td>BC</td><td>CA</td><td>Downtown</td><td>16.0</td><td>787</td><td>2020-04-01 02:32:25</td><td>-123.12095</td><td>49.281548</td><td>A&amp;W</td><td>null</td><td>[Fast Food, Burgers]</td><td>true</td><td>false</td><td>2.5</td><td>27.0</td><td>1.0</td><td>135.5136388303206</td><td>23.458617408143432</td><td>5.0</td><td>false</td><td>352</td></tr>\n",
       "<tr><td>A&amp;W Restaurant (7...</td><td>V6Z 1A1</td><td>778</td><td>ROBSON ST</td><td>Vancouver</td><td>18</td><td>3040045</td><td>18-471714</td><td>0</td><td>Fast Urban Foods Inc</td><td>Issued</td><td>2017-11-07 13:59:35</td><td>2018-12-31 00:00:00</td><td>Restaurant Class 1</td><td>No Liquor Service</td><td>null</td><td>null</td><td>BC</td><td>CA</td><td>Downtown</td><td>16.0</td><td>757</td><td>2020-04-01 02:32:19</td><td>-123.12095</td><td>49.281548</td><td>A&amp;W</td><td>null</td><td>[Fast Food, Burgers]</td><td>true</td><td>false</td><td>2.5</td><td>27.0</td><td>1.0</td><td>135.5136388303206</td><td>23.458617408143432</td><td>5.0</td><td>false</td><td>352</td></tr>\n",
       "<tr><td>A&amp;W Restaurant (7...</td><td>V6Z 1A1</td><td>778</td><td>ROBSON ST</td><td>Vancouver</td><td>20</td><td>3503656</td><td>20-150415</td><td>0</td><td>Fast Urban Foods Inc</td><td>Issued</td><td>2019-12-23 19:39:37</td><td>2020-12-31 00:00:00</td><td>Restaurant Class 1</td><td>No Liquor Service</td><td>null</td><td>null</td><td>BC</td><td>CA</td><td>Downtown</td><td>16.0</td><td>807</td><td>2020-05-01 00:08:43</td><td>-123.12095</td><td>49.281548</td><td>A&amp;W</td><td>null</td><td>[Fast Food, Burgers]</td><td>true</td><td>false</td><td>2.5</td><td>27.0</td><td>1.0</td><td>135.5136388303206</td><td>23.458617408143432</td><td>5.0</td><td>false</td><td>352</td></tr>\n",
       "<tr><td>Addis Cafe</td><td>V5N 4B1</td><td>2017</td><td>COMMERCIAL DRIVE</td><td>Vancouver</td><td>17</td><td>2801084</td><td>17-124787</td><td>0</td><td>Fitsum Alemu Tari...</td><td>Issued</td><td>2016-12-24 17:57:21</td><td>2017-12-31 00:00:00</td><td>Ltd Service Food ...</td><td>null</td><td>null</td><td>null</td><td>BC</td><td>CA</td><td>Grandview-Woodland</td><td>2.0</td><td>503</td><td>2020-01-01 02:32:03</td><td>-123.07007</td><td>49.26663</td><td>Addis Cafe Ethiop...</td><td>null</td><td>[Ethiopian, Veget...</td><td>true</td><td>false</td><td>4.5</td><td>29.0</td><td>2.0</td><td>254.21374987351174</td><td>37.58309347043261</td><td>1.5</td><td>false</td><td>84</td></tr>\n",
       "<tr><td>Addis Cafe</td><td>V5N 4B1</td><td>2017</td><td>COMMERCIAL DRIVE</td><td>Vancouver</td><td>16</td><td>2669019</td><td>16-126212</td><td>1</td><td>Fitsum Alemu Tari...</td><td>Cancelled</td><td>null</td><td>null</td><td>Restaurant Class 1</td><td>With Liquor Service</td><td>null</td><td>null</td><td>BC</td><td>CA</td><td>Grandview-Woodland</td><td>0.0</td><td>10</td><td>2019-07-21 13:49:21</td><td>-123.07007</td><td>49.26663</td><td>Addis Cafe Ethiop...</td><td>null</td><td>[Ethiopian, Veget...</td><td>true</td><td>false</td><td>4.5</td><td>29.0</td><td>2.0</td><td>254.21374987351174</td><td>37.58309347043261</td><td>1.5</td><td>false</td><td>84</td></tr>\n",
       "<tr><td>Addis Cafe</td><td>V5N 4B1</td><td>2017</td><td>COMMERCIAL DRIVE</td><td>Vancouver</td><td>15</td><td>2455170</td><td>15-206277</td><td>0</td><td>Fitsum Alemu Tari...</td><td>Issued</td><td>2015-03-27 15:04:36</td><td>2015-12-31 00:00:00</td><td>Ltd Service Food ...</td><td>null</td><td>null</td><td>null</td><td>BC</td><td>CA</td><td>Grandview-Woodland</td><td>2.0</td><td>133</td><td>2019-07-21 13:49:17</td><td>-123.07007</td><td>49.26663</td><td>Addis Cafe Ethiop...</td><td>null</td><td>[Ethiopian, Veget...</td><td>true</td><td>false</td><td>4.5</td><td>29.0</td><td>2.0</td><td>254.21374987351174</td><td>37.58309347043261</td><td>1.5</td><td>false</td><td>84</td></tr>\n",
       "<tr><td>Addis Cafe</td><td>V5N 4B1</td><td>2017</td><td>COMMERCIAL DRIVE</td><td>Vancouver</td><td>15</td><td>2355895</td><td>15-126181</td><td>0</td><td>Mesfin A Demessie...</td><td>Gone Out of Business</td><td>2014-12-30 14:12:26</td><td>2015-12-31 00:00:00</td><td>Ltd Service Food ...</td><td>null</td><td>null</td><td>null</td><td>BC</td><td>CA</td><td>Grandview-Woodland</td><td>1.0</td><td>483</td><td>2019-07-21 13:49:15</td><td>-123.07007</td><td>49.26663</td><td>Addis Cafe Ethiop...</td><td>null</td><td>[Ethiopian, Veget...</td><td>true</td><td>false</td><td>4.5</td><td>29.0</td><td>2.0</td><td>254.21374987351174</td><td>37.58309347043261</td><td>1.5</td><td>false</td><td>84</td></tr>\n",
       "<tr><td>Addis Cafe</td><td>V5N 4B1</td><td>2017</td><td>COMMERCIAL DRIVE</td><td>Vancouver</td><td>13</td><td>1797337</td><td>13-177918</td><td>0</td><td>Mesfin A Demessie...</td><td>Issued</td><td>2012-12-24 11:50:53</td><td>2013-12-31 00:00:00</td><td>Ltd Service Food ...</td><td>null</td><td>null</td><td>null</td><td>BC</td><td>CA</td><td>Grandview-Woodland</td><td>0.0</td><td>479</td><td>2019-07-21 13:49:07</td><td>-123.07007</td><td>49.26663</td><td>Addis Cafe Ethiop...</td><td>null</td><td>[Ethiopian, Veget...</td><td>true</td><td>false</td><td>4.5</td><td>29.0</td><td>2.0</td><td>254.21374987351174</td><td>37.58309347043261</td><td>1.5</td><td>false</td><td>84</td></tr>\n",
       "<tr><td>Addis Cafe</td><td>V5N 4B1</td><td>2017</td><td>COMMERCIAL DRIVE</td><td>Vancouver</td><td>16</td><td>2585031</td><td>16-126212</td><td>0</td><td>Fitsum Alemu Tari...</td><td>Issued</td><td>2016-02-26 10:42:50</td><td>2016-12-31 00:00:00</td><td>Ltd Service Food ...</td><td>null</td><td>null</td><td>null</td><td>BC</td><td>CA</td><td>Grandview-Woodland</td><td>2.0</td><td>493</td><td>2019-07-21 13:49:19</td><td>-123.07007</td><td>49.26663</td><td>Addis Cafe Ethiop...</td><td>null</td><td>[Ethiopian, Veget...</td><td>true</td><td>false</td><td>4.5</td><td>29.0</td><td>2.0</td><td>254.21374987351174</td><td>37.58309347043261</td><td>1.5</td><td>false</td><td>84</td></tr>\n",
       "<tr><td>Addis Cafe</td><td>V5N 4B1</td><td>2017</td><td>COMMERCIAL DRIVE</td><td>Vancouver</td><td>14</td><td>2138575</td><td>14-126165</td><td>0</td><td>Mesfin A Demessie...</td><td>Issued</td><td>2013-12-06 11:18:44</td><td>2014-12-31 00:00:00</td><td>Ltd Service Food ...</td><td>null</td><td>null</td><td>null</td><td>BC</td><td>CA</td><td>Grandview-Woodland</td><td>0.0</td><td>484</td><td>2019-07-21 13:49:11</td><td>-123.07007</td><td>49.26663</td><td>Addis Cafe Ethiop...</td><td>null</td><td>[Ethiopian, Veget...</td><td>true</td><td>false</td><td>4.5</td><td>29.0</td><td>2.0</td><td>254.21374987351174</td><td>37.58309347043261</td><td>1.5</td><td>false</td><td>84</td></tr>\n",
       "<tr><td>Addis Cafe</td><td>V5N 4B1</td><td>2017</td><td>COMMERCIAL DRIVE</td><td>Vancouver</td><td>19</td><td>3253935</td><td>19-128331</td><td>0</td><td>Fitsum Alemu Tari...</td><td>Issued</td><td>2019-01-04 17:00:07</td><td>2019-12-31 00:00:00</td><td>Ltd Service Food ...</td><td>null</td><td>null</td><td>null</td><td>BC</td><td>CA</td><td>Grandview-Woodland</td><td>2.0</td><td>544</td><td>2020-04-01 02:32:23</td><td>-123.07007</td><td>49.26663</td><td>Addis Cafe Ethiop...</td><td>null</td><td>[Ethiopian, Veget...</td><td>true</td><td>false</td><td>4.5</td><td>29.0</td><td>2.0</td><td>254.21374987351174</td><td>37.58309347043261</td><td>1.5</td><td>false</td><td>84</td></tr>\n",
       "<tr><td>Addis Cafe</td><td>V5N 4B1</td><td>2017</td><td>COMMERCIAL DRIVE</td><td>Vancouver</td><td>18</td><td>3020669</td><td>18-452385</td><td>0</td><td>Fitsum Alemu Tari...</td><td>Issued</td><td>2017-12-09 12:20:53</td><td>2018-12-31 00:00:00</td><td>Ltd Service Food ...</td><td>null</td><td>null</td><td>null</td><td>BC</td><td>CA</td><td>Grandview-Woodland</td><td>2.0</td><td>523</td><td>2020-04-01 02:32:17</td><td>-123.07007</td><td>49.26663</td><td>Addis Cafe Ethiop...</td><td>null</td><td>[Ethiopian, Veget...</td><td>true</td><td>false</td><td>4.5</td><td>29.0</td><td>2.0</td><td>254.21374987351174</td><td>37.58309347043261</td><td>1.5</td><td>false</td><td>84</td></tr>\n",
       "<tr><td>Addis Cafe</td><td>V5N 4B1</td><td>2017</td><td>COMMERCIAL DRIVE</td><td>Vancouver</td><td>20</td><td>3492515</td><td>20-139303</td><td>0</td><td>Fitsum Alemu Tari...</td><td>Issued</td><td>2019-12-31 16:31:54</td><td>2020-12-31 00:00:00</td><td>Ltd Service Food ...</td><td>null</td><td>null</td><td>null</td><td>BC</td><td>CA</td><td>Grandview-Woodland</td><td>2.0</td><td>558</td><td>2020-05-01 00:08:42</td><td>-123.07007</td><td>49.26663</td><td>Addis Cafe Ethiop...</td><td>null</td><td>[Ethiopian, Veget...</td><td>true</td><td>false</td><td>4.5</td><td>29.0</td><td>2.0</td><td>254.21374987351174</td><td>37.58309347043261</td><td>1.5</td><td>false</td><td>84</td></tr>\n",
       "<tr><td>Anna Elizabeth Cakes</td><td>V5K 2A6</td><td>3458</td><td>E HASTINGS ST</td><td>Vancouver</td><td>14</td><td>2138904</td><td>14-126494</td><td>0</td><td>Anna Elizabeth Lo...</td><td>Gone Out of Business</td><td>null</td><td>null</td><td>Ltd Service Food ...</td><td>null</td><td>null</td><td>null</td><td>BC</td><td>CA</td><td>Hastings-Sunrise</td><td>1.0</td><td>null</td><td>2019-07-21 13:49:11</td><td>-123.02909</td><td>49.28085</td><td>null</td><td>null</td><td>null</td><td>null</td><td>null</td><td>null</td><td>null</td><td>null</td><td>null</td><td>null</td><td>null</td><td>null</td><td>null</td></tr>\n",
       "<tr><td>Anna Elizabeth Cakes</td><td>V5K 2A6</td><td>3458</td><td>E HASTINGS ST</td><td>Vancouver</td><td>13</td><td>1797760</td><td>13-178341</td><td>0</td><td>Anna Elizabeth Lo...</td><td>Issued</td><td>2012-12-18 11:51:04</td><td>2013-12-31 00:00:00</td><td>Ltd Service Food ...</td><td>null</td><td>null</td><td>null</td><td>BC</td><td>CA</td><td>Hastings-Sunrise</td><td>1.0</td><td>469</td><td>2019-07-21 13:49:07</td><td>-123.02909</td><td>49.28085</td><td>null</td><td>null</td><td>null</td><td>null</td><td>null</td><td>null</td><td>null</td><td>null</td><td>null</td><td>null</td><td>null</td><td>null</td><td>null</td></tr>\n",
       "</table>\n",
       "only showing top 20 rows\n"
      ],
      "text/plain": [
       "+--------------------+-----------+-----+----------------+---------+----+-----------+-----------+--------------------+--------------------+--------------------+-------------------+-------------------+--------------------+-------------------+----+---------+--------+-------+------------------+-----------+----+-------------------+----------+---------+--------------------+----+--------------------+----------+---------+------+------------+-----+------------------+-------------------+---------------+--------+-------+\n",
       "|                name|postal_code|house|          street|     city|year|licence_rsn|licence_num|licence_revision_num|          owner_name|              status|        issued_date|       expired_date|                type|            subtype|unit|unit_type|province|country|              area|n_employees| fee|       extract_date| longitude| latitude|           name_yelp|unit|          categories|is_claimed|is_closed|rating|review_count|price|distance_from_bike|distance_from_meter|avg_meter_price|is_chain|density|\n",
       "+--------------------+-----------+-----+----------------+---------+----+-----------+-----------+--------------------+--------------------+--------------------+-------------------+-------------------+--------------------+-------------------+----+---------+--------+-------+------------------+-----------+----+-------------------+----------+---------+--------------------+----+--------------------+----------+---------+------+------------+-----+------------------+-------------------+---------------+--------+-------+\n",
       "|A&W Restaurant (7...|    V6Z 1A1|  778|       ROBSON ST|Vancouver|  16|    2604146|  16-145308|                   0|Fast Urban Foods Inc|              Issued|2015-11-05 12:03:07|2016-12-31 00:00:00|  Restaurant Class 1|  No Liquor Service|null|     null|      BC|     CA|          Downtown|       16.0| 714|2019-07-21 13:49:20|-123.12095|49.281548|                 A&W|null|[Fast Food, Burgers]|      true|    false|   2.5|        27.0|  1.0| 135.5136388303206| 23.458617408143432|            5.0|   false|    352|\n",
       "|A&W Restaurant (7...|    V6Z 1A1|  778|       ROBSON ST|Vancouver|  15|    2375592|  15-145854|                   0|Fast Urban Foods Inc|              Issued|2014-11-07 15:43:47|2015-12-31 00:00:00|  Restaurant Class 1|  No Liquor Service|null|     null|      BC|     CA|          Downtown|       16.0| 700|2019-07-21 13:49:16|-123.12095|49.281548|                 A&W|null|[Fast Food, Burgers]|      true|    false|   2.5|        27.0|  1.0| 135.5136388303206| 23.458617408143432|            5.0|   false|    352|\n",
       "|A&W Restaurant (7...|    V6Z 1A1|  778|       ROBSON ST|Vancouver|  14|    2158137|  14-145726|                   0|Fast Urban Foods Inc|              Issued|2013-11-21 17:26:06|2014-12-31 00:00:00|  Restaurant Class 1|  No Liquor Service|null|     null|      BC|     CA|          Downtown|       14.0| 686|2019-07-21 13:49:12|-123.12095|49.281548|                 A&W|null|[Fast Food, Burgers]|      true|    false|   2.5|        27.0|  1.0| 135.5136388303206| 23.458617408143432|            5.0|   false|    352|\n",
       "|A&W Restaurant (7...|    V6Z 1A1|  778|       ROBSON ST|Vancouver|  17|    2819990|  17-143667|                   0|Fast Urban Foods Inc|              Issued|2016-11-16 16:07:03|2017-12-31 00:00:00|  Restaurant Class 1|  No Liquor Service|null|     null|      BC|     CA|          Downtown|       16.0| 728|2020-01-01 02:32:04|-123.12095|49.281548|                 A&W|null|[Fast Food, Burgers]|      true|    false|   2.5|        27.0|  1.0| 135.5136388303206| 23.458617408143432|            5.0|   false|    352|\n",
       "|A&W Restaurant (7...|    V6Z 1A1|  778|       ROBSON ST|Vancouver|  13|    1817007|  13-197588|                   0|Fast Urban Foods Inc|              Issued|2012-12-04 13:38:05|2013-12-31 00:00:00|  Restaurant Class 1|  No Liquor Service|null|     null|      BC|     CA|          Downtown|       14.0| 679|2019-07-21 13:49:08|-123.12095|49.281548|                 A&W|null|[Fast Food, Burgers]|      true|    false|   2.5|        27.0|  1.0| 135.5136388303206| 23.458617408143432|            5.0|   false|    352|\n",
       "|A&W Restaurant (7...|    V6Z 1A1|  778|       ROBSON ST|Vancouver|  19|    3273995|  19-148235|                   0|Fast Urban Foods Inc|              Issued|2018-11-24 00:35:46|2019-12-31 00:00:00|  Restaurant Class 1|  No Liquor Service|null|     null|      BC|     CA|          Downtown|       16.0| 787|2020-04-01 02:32:25|-123.12095|49.281548|                 A&W|null|[Fast Food, Burgers]|      true|    false|   2.5|        27.0|  1.0| 135.5136388303206| 23.458617408143432|            5.0|   false|    352|\n",
       "|A&W Restaurant (7...|    V6Z 1A1|  778|       ROBSON ST|Vancouver|  18|    3040045|  18-471714|                   0|Fast Urban Foods Inc|              Issued|2017-11-07 13:59:35|2018-12-31 00:00:00|  Restaurant Class 1|  No Liquor Service|null|     null|      BC|     CA|          Downtown|       16.0| 757|2020-04-01 02:32:19|-123.12095|49.281548|                 A&W|null|[Fast Food, Burgers]|      true|    false|   2.5|        27.0|  1.0| 135.5136388303206| 23.458617408143432|            5.0|   false|    352|\n",
       "|A&W Restaurant (7...|    V6Z 1A1|  778|       ROBSON ST|Vancouver|  20|    3503656|  20-150415|                   0|Fast Urban Foods Inc|              Issued|2019-12-23 19:39:37|2020-12-31 00:00:00|  Restaurant Class 1|  No Liquor Service|null|     null|      BC|     CA|          Downtown|       16.0| 807|2020-05-01 00:08:43|-123.12095|49.281548|                 A&W|null|[Fast Food, Burgers]|      true|    false|   2.5|        27.0|  1.0| 135.5136388303206| 23.458617408143432|            5.0|   false|    352|\n",
       "|          Addis Cafe|    V5N 4B1| 2017|COMMERCIAL DRIVE|Vancouver|  17|    2801084|  17-124787|                   0|Fitsum Alemu Tari...|              Issued|2016-12-24 17:57:21|2017-12-31 00:00:00|Ltd Service Food ...|               null|null|     null|      BC|     CA|Grandview-Woodland|        2.0| 503|2020-01-01 02:32:03|-123.07007| 49.26663|Addis Cafe Ethiop...|null|[Ethiopian, Veget...|      true|    false|   4.5|        29.0|  2.0|254.21374987351174|  37.58309347043261|            1.5|   false|     84|\n",
       "|          Addis Cafe|    V5N 4B1| 2017|COMMERCIAL DRIVE|Vancouver|  16|    2669019|  16-126212|                   1|Fitsum Alemu Tari...|           Cancelled|               null|               null|  Restaurant Class 1|With Liquor Service|null|     null|      BC|     CA|Grandview-Woodland|        0.0|  10|2019-07-21 13:49:21|-123.07007| 49.26663|Addis Cafe Ethiop...|null|[Ethiopian, Veget...|      true|    false|   4.5|        29.0|  2.0|254.21374987351174|  37.58309347043261|            1.5|   false|     84|\n",
       "|          Addis Cafe|    V5N 4B1| 2017|COMMERCIAL DRIVE|Vancouver|  15|    2455170|  15-206277|                   0|Fitsum Alemu Tari...|              Issued|2015-03-27 15:04:36|2015-12-31 00:00:00|Ltd Service Food ...|               null|null|     null|      BC|     CA|Grandview-Woodland|        2.0| 133|2019-07-21 13:49:17|-123.07007| 49.26663|Addis Cafe Ethiop...|null|[Ethiopian, Veget...|      true|    false|   4.5|        29.0|  2.0|254.21374987351174|  37.58309347043261|            1.5|   false|     84|\n",
       "|          Addis Cafe|    V5N 4B1| 2017|COMMERCIAL DRIVE|Vancouver|  15|    2355895|  15-126181|                   0|Mesfin A Demessie...|Gone Out of Business|2014-12-30 14:12:26|2015-12-31 00:00:00|Ltd Service Food ...|               null|null|     null|      BC|     CA|Grandview-Woodland|        1.0| 483|2019-07-21 13:49:15|-123.07007| 49.26663|Addis Cafe Ethiop...|null|[Ethiopian, Veget...|      true|    false|   4.5|        29.0|  2.0|254.21374987351174|  37.58309347043261|            1.5|   false|     84|\n",
       "|          Addis Cafe|    V5N 4B1| 2017|COMMERCIAL DRIVE|Vancouver|  13|    1797337|  13-177918|                   0|Mesfin A Demessie...|              Issued|2012-12-24 11:50:53|2013-12-31 00:00:00|Ltd Service Food ...|               null|null|     null|      BC|     CA|Grandview-Woodland|        0.0| 479|2019-07-21 13:49:07|-123.07007| 49.26663|Addis Cafe Ethiop...|null|[Ethiopian, Veget...|      true|    false|   4.5|        29.0|  2.0|254.21374987351174|  37.58309347043261|            1.5|   false|     84|\n",
       "|          Addis Cafe|    V5N 4B1| 2017|COMMERCIAL DRIVE|Vancouver|  16|    2585031|  16-126212|                   0|Fitsum Alemu Tari...|              Issued|2016-02-26 10:42:50|2016-12-31 00:00:00|Ltd Service Food ...|               null|null|     null|      BC|     CA|Grandview-Woodland|        2.0| 493|2019-07-21 13:49:19|-123.07007| 49.26663|Addis Cafe Ethiop...|null|[Ethiopian, Veget...|      true|    false|   4.5|        29.0|  2.0|254.21374987351174|  37.58309347043261|            1.5|   false|     84|\n",
       "|          Addis Cafe|    V5N 4B1| 2017|COMMERCIAL DRIVE|Vancouver|  14|    2138575|  14-126165|                   0|Mesfin A Demessie...|              Issued|2013-12-06 11:18:44|2014-12-31 00:00:00|Ltd Service Food ...|               null|null|     null|      BC|     CA|Grandview-Woodland|        0.0| 484|2019-07-21 13:49:11|-123.07007| 49.26663|Addis Cafe Ethiop...|null|[Ethiopian, Veget...|      true|    false|   4.5|        29.0|  2.0|254.21374987351174|  37.58309347043261|            1.5|   false|     84|\n",
       "|          Addis Cafe|    V5N 4B1| 2017|COMMERCIAL DRIVE|Vancouver|  19|    3253935|  19-128331|                   0|Fitsum Alemu Tari...|              Issued|2019-01-04 17:00:07|2019-12-31 00:00:00|Ltd Service Food ...|               null|null|     null|      BC|     CA|Grandview-Woodland|        2.0| 544|2020-04-01 02:32:23|-123.07007| 49.26663|Addis Cafe Ethiop...|null|[Ethiopian, Veget...|      true|    false|   4.5|        29.0|  2.0|254.21374987351174|  37.58309347043261|            1.5|   false|     84|\n",
       "|          Addis Cafe|    V5N 4B1| 2017|COMMERCIAL DRIVE|Vancouver|  18|    3020669|  18-452385|                   0|Fitsum Alemu Tari...|              Issued|2017-12-09 12:20:53|2018-12-31 00:00:00|Ltd Service Food ...|               null|null|     null|      BC|     CA|Grandview-Woodland|        2.0| 523|2020-04-01 02:32:17|-123.07007| 49.26663|Addis Cafe Ethiop...|null|[Ethiopian, Veget...|      true|    false|   4.5|        29.0|  2.0|254.21374987351174|  37.58309347043261|            1.5|   false|     84|\n",
       "|          Addis Cafe|    V5N 4B1| 2017|COMMERCIAL DRIVE|Vancouver|  20|    3492515|  20-139303|                   0|Fitsum Alemu Tari...|              Issued|2019-12-31 16:31:54|2020-12-31 00:00:00|Ltd Service Food ...|               null|null|     null|      BC|     CA|Grandview-Woodland|        2.0| 558|2020-05-01 00:08:42|-123.07007| 49.26663|Addis Cafe Ethiop...|null|[Ethiopian, Veget...|      true|    false|   4.5|        29.0|  2.0|254.21374987351174|  37.58309347043261|            1.5|   false|     84|\n",
       "|Anna Elizabeth Cakes|    V5K 2A6| 3458|   E HASTINGS ST|Vancouver|  14|    2138904|  14-126494|                   0|Anna Elizabeth Lo...|Gone Out of Business|               null|               null|Ltd Service Food ...|               null|null|     null|      BC|     CA|  Hastings-Sunrise|        1.0|null|2019-07-21 13:49:11|-123.02909| 49.28085|                null|null|                null|      null|     null|  null|        null| null|              null|               null|           null|    null|   null|\n",
       "|Anna Elizabeth Cakes|    V5K 2A6| 3458|   E HASTINGS ST|Vancouver|  13|    1797760|  13-178341|                   0|Anna Elizabeth Lo...|              Issued|2012-12-18 11:51:04|2013-12-31 00:00:00|Ltd Service Food ...|               null|null|     null|      BC|     CA|  Hastings-Sunrise|        1.0| 469|2019-07-21 13:49:07|-123.02909| 49.28085|                null|null|                null|      null|     null|  null|        null| null|              null|               null|           null|    null|   null|\n",
       "+--------------------+-----------+-----+----------------+---------+----+-----------+-----------+--------------------+--------------------+--------------------+-------------------+-------------------+--------------------+-------------------+----+---------+--------+-------+------------------+-----------+----+-------------------+----------+---------+--------------------+----+--------------------+----------+---------+------+------------+-----+------------------+-------------------+---------------+--------+-------+\n",
       "only showing top 20 rows"
      ]
     },
     "execution_count": 39,
     "metadata": {},
     "output_type": "execute_result"
    }
   ],
   "source": [
    "\n",
    "licences_rest_df.join(rest_features, on = ['name', 'postal_code', 'house', 'street', 'city'], how = 'left')"
   ]
  },
  {
   "cell_type": "code",
   "execution_count": null,
   "metadata": {},
   "outputs": [],
   "source": [
    "# sort by \n",
    "# what about cafes that close and return "
   ]
  },
  {
   "cell_type": "markdown",
   "metadata": {},
   "source": [
    "## Merging Back to the Original Dataframe"
   ]
  },
  {
   "cell_type": "markdown",
   "metadata": {},
   "source": [
    "> Here I will create a PySpark dataframe to eventually join it back to the `rest_distinct_df` dataframe."
   ]
  },
  {
   "cell_type": "code",
   "execution_count": 6,
   "metadata": {},
   "outputs": [
    {
     "ename": "NameError",
     "evalue": "name 'licences_rest_df' is not defined",
     "output_type": "error",
     "traceback": [
      "\u001b[0;31m---------------------------------------------------------------------------\u001b[0m",
      "\u001b[0;31mNameError\u001b[0m                                 Traceback (most recent call last)",
      "\u001b[0;32m<ipython-input-6-749ad8ff0323>\u001b[0m in \u001b[0;36m<module>\u001b[0;34m\u001b[0m\n\u001b[0;32m----> 1\u001b[0;31m \u001b[0mlicences_rest_df\u001b[0m \u001b[0;34m=\u001b[0m \u001b[0mlicences_rest_df\u001b[0m\u001b[0;34m.\u001b[0m\u001b[0mtoPandas\u001b[0m\u001b[0;34m(\u001b[0m\u001b[0;34m)\u001b[0m\u001b[0;34m\u001b[0m\u001b[0;34m\u001b[0m\u001b[0m\n\u001b[0m",
      "\u001b[0;31mNameError\u001b[0m: name 'licences_rest_df' is not defined"
     ]
    }
   ],
   "source": [
    "licences_rest_df = licences_rest_df.toPandas()"
   ]
  },
  {
   "cell_type": "code",
   "execution_count": 1068,
   "metadata": {},
   "outputs": [],
   "source": [
    "licences_rest_info = pd.merge(data_clean, licences_rest_df, on = ['name', 'postal_code', 'unit', 'house', 'street'], how = 'left')"
   ]
  },
  {
   "cell_type": "markdown",
   "metadata": {},
   "source": [
    "> quantify similarity of restaurant cuisines to see how similar restuarants in the same proximity do"
   ]
  }
 ],
 "metadata": {
  "kernelspec": {
   "display_name": "Python 3",
   "language": "python",
   "name": "python3"
  },
  "language_info": {
   "codemirror_mode": {
    "name": "ipython",
    "version": 3
   },
   "file_extension": ".py",
   "mimetype": "text/x-python",
   "name": "python",
   "nbconvert_exporter": "python",
   "pygments_lexer": "ipython3",
   "version": "3.7.6"
  }
 },
 "nbformat": 4,
 "nbformat_minor": 4
}
