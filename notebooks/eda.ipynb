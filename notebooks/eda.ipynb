{
 "cells": [
  {
   "cell_type": "markdown",
   "metadata": {},
   "source": [
    "# Exploratory Data Analysis"
   ]
  },
  {
   "cell_type": "markdown",
   "metadata": {},
   "source": [
    "In this EDA, I will be examining various data sources from [opendata.vancouver.ca](https://opendata.vancouver.ca/pages/home/)."
   ]
  },
  {
   "cell_type": "markdown",
   "metadata": {},
   "source": [
    "## Imports"
   ]
  },
  {
   "cell_type": "code",
   "execution_count": 1,
   "metadata": {},
   "outputs": [],
   "source": [
    "import numpy as np\n",
    "import pandas as pd\n",
    "import re\n",
    "import requests\n",
    "import os\n",
    "import time\n",
    "import pickle\n",
    "import json\n",
    "import matplotlib.pyplot as plt\n",
    "from datetime import datetime\n",
    "from geopy.distance import geodesic\n",
    "\n",
    "from matplotlib import pyplot as plt\n",
    "from pyspark.sql import SparkSession"
   ]
  },
  {
   "cell_type": "code",
   "execution_count": 2,
   "metadata": {},
   "outputs": [],
   "source": [
    "from pyspark.sql.functions import coalesce, max"
   ]
  },
  {
   "cell_type": "code",
   "execution_count": 3,
   "metadata": {},
   "outputs": [],
   "source": [
    "from pyspark.ml.regression import LinearRegression\n",
    "from pyspark.ml.feature import VectorAssembler\n",
    "from pyspark.sql.functions import array, col, count, mean, sum, udf, when, last, first, regexp_extract\n",
    "from pyspark.sql.types import DoubleType, IntegerType, StringType, Row\n",
    "from pyspark.sql.types import *"
   ]
  },
  {
   "cell_type": "markdown",
   "metadata": {},
   "source": [
    "## Reading in the main dataset"
   ]
  },
  {
   "cell_type": "code",
   "execution_count": 4,
   "metadata": {},
   "outputs": [],
   "source": [
    "spark = SparkSession.builder.appName('Ops').getOrCreate()"
   ]
  },
  {
   "cell_type": "code",
   "execution_count": 5,
   "metadata": {},
   "outputs": [],
   "source": [
    "# allows for cleaner output\n",
    "spark.conf.set(\"spark.sql.repl.eagerEval.enabled\", True)"
   ]
  },
  {
   "cell_type": "markdown",
   "metadata": {},
   "source": [
    "> This creates a Spark DataFrame which is very similar to a Pandas DataFrame. Spark DataFrames build on top of RDDs and also has great SQL integration for users who are familiar with the popular language. The main difference with Spark DataFrames is that operations can run on multiple nodes and they are lazy evaluators meaning operations won't be executed until the output is needed."
   ]
  },
  {
   "cell_type": "code",
   "execution_count": 257,
   "metadata": {},
   "outputs": [],
   "source": [
    "licences_df = (spark.read\n",
    "          .option('header','true')\n",
    "          .option('inferSchema','true')\n",
    "          .option('sep', ';')\n",
    "          .csv('../data/business-licences.csv'))"
   ]
  },
  {
   "cell_type": "code",
   "execution_count": 258,
   "metadata": {},
   "outputs": [
    {
     "data": {
      "text/plain": [
       "'There are 504842 observations in this dataset'"
      ]
     },
     "execution_count": 258,
     "metadata": {},
     "output_type": "execute_result"
    }
   ],
   "source": [
    "f'There are %i observations in this dataset' % licences_df.count() "
   ]
  },
  {
   "cell_type": "code",
   "execution_count": 259,
   "metadata": {},
   "outputs": [
    {
     "name": "stdout",
     "output_type": "stream",
     "text": [
      "root\n",
      " |-- FOLDERYEAR: integer (nullable = true)\n",
      " |-- LicenceRSN: integer (nullable = true)\n",
      " |-- LicenceNumber: string (nullable = true)\n",
      " |-- LicenceRevisionNumber: integer (nullable = true)\n",
      " |-- BusinessName: string (nullable = true)\n",
      " |-- BusinessTradeName: string (nullable = true)\n",
      " |-- Status: string (nullable = true)\n",
      " |-- IssuedDate: timestamp (nullable = true)\n",
      " |-- ExpiredDate: timestamp (nullable = true)\n",
      " |-- BusinessType: string (nullable = true)\n",
      " |-- BusinessSubType: string (nullable = true)\n",
      " |-- Unit: string (nullable = true)\n",
      " |-- UnitType: string (nullable = true)\n",
      " |-- House: string (nullable = true)\n",
      " |-- Street: string (nullable = true)\n",
      " |-- City: string (nullable = true)\n",
      " |-- Province: string (nullable = true)\n",
      " |-- Country: string (nullable = true)\n",
      " |-- PostalCode: string (nullable = true)\n",
      " |-- LocalArea: string (nullable = true)\n",
      " |-- NumberofEmployees: double (nullable = true)\n",
      " |-- FeePaid: integer (nullable = true)\n",
      " |-- ExtractDate: timestamp (nullable = true)\n",
      " |-- Geom: string (nullable = true)\n",
      "\n"
     ]
    }
   ],
   "source": [
    "licences_df.printSchema()"
   ]
  },
  {
   "cell_type": "code",
   "execution_count": 260,
   "metadata": {},
   "outputs": [],
   "source": [
    "licences_df = licences_df.withColumnRenamed('FOLDERYEAR', 'year')\\\n",
    "           .withColumnRenamed('LicenceRSN', 'licence_rsn')\\\n",
    "           .withColumnRenamed('LicenceNumber', 'licence_num')\\\n",
    "           .withColumnRenamed('LicenceRevisionNumber', 'licence_revision_num')\\\n",
    "           .withColumnRenamed('BusinessName', 'owner_name')\\\n",
    "           .withColumnRenamed('BusinessTradeName', 'name')\\\n",
    "           .withColumnRenamed('Status', 'status')\\\n",
    "           .withColumnRenamed('IssuedDate', 'issued_date')\\\n",
    "           .withColumnRenamed('ExpiredDate', 'expired_date')\\\n",
    "           .withColumnRenamed('BusinessType', 'type')\\\n",
    "           .withColumnRenamed('BusinessSubType', 'subtype')\\\n",
    "           .withColumnRenamed('Unit', 'unit')\\\n",
    "           .withColumnRenamed('UnitType', 'unit_type')\\\n",
    "           .withColumnRenamed('House', 'house')\\\n",
    "           .withColumnRenamed('Street', 'street')\\\n",
    "           .withColumnRenamed('City', 'city')\\\n",
    "           .withColumnRenamed('Province', 'province')\\\n",
    "           .withColumnRenamed('Country', 'country')\\\n",
    "           .withColumnRenamed('PostalCode', 'postal_code')\\\n",
    "           .withColumnRenamed('LocalArea', 'area')\\\n",
    "           .withColumnRenamed('NumberofEmployees', 'n_employees')\\\n",
    "           .withColumnRenamed('FeePaid', 'fee')\\\n",
    "           .withColumnRenamed('ExtractDate', 'extract_date')\\\n",
    "           .withColumnRenamed('Geom', 'geom')"
   ]
  },
  {
   "cell_type": "code",
   "execution_count": 261,
   "metadata": {},
   "outputs": [
    {
     "data": {
      "text/html": [
       "<table border='1'>\n",
       "<tr><th>year</th><th>licence_rsn</th><th>licence_num</th><th>licence_revision_num</th><th>owner_name</th><th>name</th><th>status</th><th>issued_date</th><th>expired_date</th><th>type</th><th>subtype</th><th>unit</th><th>unit_type</th><th>house</th><th>street</th><th>city</th><th>province</th><th>country</th><th>postal_code</th><th>area</th><th>n_employees</th><th>fee</th><th>extract_date</th><th>geom</th></tr>\n",
       "<tr><td>15</td><td>2345113</td><td>15-115406</td><td>0</td><td>(Shun Chen)</td><td>ACC Security Syst...</td><td>Gone Out of Business</td><td>null</td><td>null</td><td>Electrical-Securi...</td><td>null</td><td>null</td><td>null</td><td>null</td><td>null</td><td>Surrey</td><td>BC</td><td>CA</td><td>null</td><td>null</td><td>2.0</td><td>null</td><td>2019-07-21 13:48:02</td><td>null</td></tr>\n",
       "<tr><td>15</td><td>2345119</td><td>15-115412</td><td>0</td><td>Praetorian Securi...</td><td>Amax Praetorian</td><td>Issued</td><td>2014-12-01 14:04:29</td><td>2015-12-31 00:00:00</td><td>Electrical-Securi...</td><td>null</td><td>null</td><td>null</td><td>null</td><td>null</td><td>Chilliwack</td><td>BC</td><td>CA</td><td>null</td><td>null</td><td>0.0</td><td>133</td><td>2019-07-21 13:48:02</td><td>null</td></tr>\n",
       "<tr><td>15</td><td>2345120</td><td>15-115413</td><td>0</td><td>Safe-Tec Security...</td><td>null</td><td>Gone Out of Business</td><td>null</td><td>null</td><td>Electrical-Securi...</td><td>null</td><td>null</td><td>null</td><td>null</td><td>null</td><td>Surrey</td><td>BC</td><td>CA</td><td>null</td><td>null</td><td>0.0</td><td>null</td><td>2019-07-21 13:48:02</td><td>null</td></tr>\n",
       "<tr><td>15</td><td>2345121</td><td>15-115414</td><td>0</td><td>Husky Alarm Integ...</td><td>null</td><td>Issued</td><td>2015-02-10 08:05:11</td><td>2015-12-31 00:00:00</td><td>Electrical-Securi...</td><td>null</td><td>null</td><td>null</td><td>null</td><td>null</td><td>Port Moody</td><td>BC</td><td>CA</td><td>null</td><td>null</td><td>2.0</td><td>173</td><td>2019-07-21 13:48:02</td><td>null</td></tr>\n",
       "<tr><td>15</td><td>2345122</td><td>15-115415</td><td>0</td><td>Sea to Sky Securi...</td><td>null</td><td>Pending</td><td>null</td><td>null</td><td>Electrical-Securi...</td><td>null</td><td>null</td><td>null</td><td>null</td><td>null</td><td>North Vancouver</td><td>BC</td><td>CA</td><td>null</td><td>null</td><td>3.0</td><td>null</td><td>2019-07-21 13:48:02</td><td>null</td></tr>\n",
       "<tr><td>15</td><td>2345188</td><td>15-115481</td><td>0</td><td>(Kenneth Bradley)</td><td>Ken Bradley Truck...</td><td>Issued</td><td>2014-11-18 11:35:48</td><td>2015-12-31 00:00:00</td><td>Equipment Operator</td><td>null</td><td>null</td><td>null</td><td>null</td><td>null</td><td>Coquitlam</td><td>BC</td><td>CA</td><td>null</td><td>null</td><td>0.0</td><td>162</td><td>2019-07-21 13:48:02</td><td>null</td></tr>\n",
       "<tr><td>15</td><td>2345191</td><td>15-115484</td><td>0</td><td>Litz Crane Servic...</td><td>null</td><td>Issued</td><td>2014-11-06 14:31:00</td><td>2015-12-31 00:00:00</td><td>Equipment Operator</td><td>null</td><td>null</td><td>null</td><td>null</td><td>null</td><td>Port Coquitlam</td><td>BC</td><td>CA</td><td>null</td><td>null</td><td>5.0</td><td>162</td><td>2019-07-21 13:48:02</td><td>null</td></tr>\n",
       "<tr><td>15</td><td>2345195</td><td>15-115488</td><td>0</td><td>(Wayne Nichols)</td><td>W Nichols Trucking</td><td>Issued</td><td>2014-11-05 12:50:58</td><td>2015-12-31 00:00:00</td><td>Equipment Operator</td><td>null</td><td>null</td><td>null</td><td>null</td><td>null</td><td>Delta</td><td>BC</td><td>CA</td><td>null</td><td>null</td><td>1.0</td><td>162</td><td>2019-07-21 13:48:02</td><td>null</td></tr>\n",
       "<tr><td>15</td><td>2345196</td><td>15-115489</td><td>0</td><td>(Harry Powar)</td><td>Harry Powar Trucking</td><td>Issued</td><td>2014-12-04 18:49:08</td><td>2015-12-31 00:00:00</td><td>Equipment Operator</td><td>null</td><td>null</td><td>null</td><td>null</td><td>null</td><td>Burnaby</td><td>BC</td><td>CA</td><td>null</td><td>null</td><td>1.0</td><td>162</td><td>2019-07-21 13:48:02</td><td>null</td></tr>\n",
       "<tr><td>15</td><td>2345203</td><td>15-115496</td><td>0</td><td>J Brown Trucking Inc</td><td>null</td><td>Issued</td><td>2014-12-06 09:23:32</td><td>2015-12-31 00:00:00</td><td>Equipment Operator</td><td>null</td><td>null</td><td>null</td><td>null</td><td>null</td><td>Delta</td><td>BC</td><td>CA</td><td>null</td><td>null</td><td>2.0</td><td>162</td><td>2019-07-21 13:48:02</td><td>null</td></tr>\n",
       "</table>\n"
      ],
      "text/plain": [
       "+----+-----------+-----------+--------------------+--------------------+--------------------+--------------------+-------------------+-------------------+--------------------+-------+----+---------+-----+------+---------------+--------+-------+-----------+----+-----------+----+-------------------+----+\n",
       "|year|licence_rsn|licence_num|licence_revision_num|          owner_name|                name|              status|        issued_date|       expired_date|                type|subtype|unit|unit_type|house|street|           city|province|country|postal_code|area|n_employees| fee|       extract_date|geom|\n",
       "+----+-----------+-----------+--------------------+--------------------+--------------------+--------------------+-------------------+-------------------+--------------------+-------+----+---------+-----+------+---------------+--------+-------+-----------+----+-----------+----+-------------------+----+\n",
       "|  15|    2345113|  15-115406|                   0|         (Shun Chen)|ACC Security Syst...|Gone Out of Business|               null|               null|Electrical-Securi...|   null|null|     null| null|  null|         Surrey|      BC|     CA|       null|null|        2.0|null|2019-07-21 13:48:02|null|\n",
       "|  15|    2345119|  15-115412|                   0|Praetorian Securi...|     Amax Praetorian|              Issued|2014-12-01 14:04:29|2015-12-31 00:00:00|Electrical-Securi...|   null|null|     null| null|  null|     Chilliwack|      BC|     CA|       null|null|        0.0| 133|2019-07-21 13:48:02|null|\n",
       "|  15|    2345120|  15-115413|                   0|Safe-Tec Security...|                null|Gone Out of Business|               null|               null|Electrical-Securi...|   null|null|     null| null|  null|         Surrey|      BC|     CA|       null|null|        0.0|null|2019-07-21 13:48:02|null|\n",
       "|  15|    2345121|  15-115414|                   0|Husky Alarm Integ...|                null|              Issued|2015-02-10 08:05:11|2015-12-31 00:00:00|Electrical-Securi...|   null|null|     null| null|  null|     Port Moody|      BC|     CA|       null|null|        2.0| 173|2019-07-21 13:48:02|null|\n",
       "|  15|    2345122|  15-115415|                   0|Sea to Sky Securi...|                null|             Pending|               null|               null|Electrical-Securi...|   null|null|     null| null|  null|North Vancouver|      BC|     CA|       null|null|        3.0|null|2019-07-21 13:48:02|null|\n",
       "|  15|    2345188|  15-115481|                   0|   (Kenneth Bradley)|Ken Bradley Truck...|              Issued|2014-11-18 11:35:48|2015-12-31 00:00:00|  Equipment Operator|   null|null|     null| null|  null|      Coquitlam|      BC|     CA|       null|null|        0.0| 162|2019-07-21 13:48:02|null|\n",
       "|  15|    2345191|  15-115484|                   0|Litz Crane Servic...|                null|              Issued|2014-11-06 14:31:00|2015-12-31 00:00:00|  Equipment Operator|   null|null|     null| null|  null| Port Coquitlam|      BC|     CA|       null|null|        5.0| 162|2019-07-21 13:48:02|null|\n",
       "|  15|    2345195|  15-115488|                   0|     (Wayne Nichols)|  W Nichols Trucking|              Issued|2014-11-05 12:50:58|2015-12-31 00:00:00|  Equipment Operator|   null|null|     null| null|  null|          Delta|      BC|     CA|       null|null|        1.0| 162|2019-07-21 13:48:02|null|\n",
       "|  15|    2345196|  15-115489|                   0|       (Harry Powar)|Harry Powar Trucking|              Issued|2014-12-04 18:49:08|2015-12-31 00:00:00|  Equipment Operator|   null|null|     null| null|  null|        Burnaby|      BC|     CA|       null|null|        1.0| 162|2019-07-21 13:48:02|null|\n",
       "|  15|    2345203|  15-115496|                   0|J Brown Trucking Inc|                null|              Issued|2014-12-06 09:23:32|2015-12-31 00:00:00|  Equipment Operator|   null|null|     null| null|  null|          Delta|      BC|     CA|       null|null|        2.0| 162|2019-07-21 13:48:02|null|\n",
       "+----+-----------+-----------+--------------------+--------------------+--------------------+--------------------+-------------------+-------------------+--------------------+-------+----+---------+-----+------+---------------+--------+-------+-----------+----+-----------+----+-------------------+----+"
      ]
     },
     "execution_count": 261,
     "metadata": {},
     "output_type": "execute_result"
    }
   ],
   "source": [
    "# show the first 10 rows \n",
    "licences_df.limit(10)"
   ]
  },
  {
   "cell_type": "code",
   "execution_count": 262,
   "metadata": {},
   "outputs": [
    {
     "data": {
      "text/html": [
       "<table border='1'>\n",
       "<tr><th>year</th><th>count</th></tr>\n",
       "<tr><td>13</td><td>60915</td></tr>\n",
       "<tr><td>16</td><td>61394</td></tr>\n",
       "<tr><td>20</td><td>64003</td></tr>\n",
       "<tr><td>19</td><td>70771</td></tr>\n",
       "<tr><td>15</td><td>60938</td></tr>\n",
       "<tr><td>17</td><td>60060</td></tr>\n",
       "<tr><td>14</td><td>60581</td></tr>\n",
       "<tr><td>18</td><td>66180</td></tr>\n",
       "</table>\n"
      ],
      "text/plain": [
       "+----+-----+\n",
       "|year|count|\n",
       "+----+-----+\n",
       "|  13|60915|\n",
       "|  16|61394|\n",
       "|  20|64003|\n",
       "|  19|70771|\n",
       "|  15|60938|\n",
       "|  17|60060|\n",
       "|  14|60581|\n",
       "|  18|66180|\n",
       "+----+-----+"
      ]
     },
     "execution_count": 262,
     "metadata": {},
     "output_type": "execute_result"
    }
   ],
   "source": [
    "licences_df.groupBy('year').count()"
   ]
  },
  {
   "cell_type": "markdown",
   "metadata": {},
   "source": [
    "## Initial Wrangling "
   ]
  },
  {
   "cell_type": "code",
   "execution_count": 263,
   "metadata": {},
   "outputs": [
    {
     "name": "stdout",
     "output_type": "stream",
     "text": [
      "['Manufacturer - Food with Anc. Retail', 'Ltd Service Food Establishment', 'Temp Liquor Licence Amendment', 'Liquor Delivery Services', 'Liquor Establishment Standard', 'Retail Dealer - Food', 'Restaurant Class 2', 'Food Processing', 'Liquor Establishment Extended', 'Wholesale Dealer - Food with Anc. Retail', 'Restaurant Class 1', 'Liquor License Application', 'Warehouse Operator - Food', 'Manufacturer - Food', 'Liquor Retail Store', 'Wholesale Dealer - Food']\n"
     ]
    }
   ],
   "source": [
    "business_types = licences_df.select('type').distinct().collect()\n",
    "business_list = [business_types[i].type for i in range(len(business_types))]\n",
    "\n",
    "r = re.compile(\".*[Ff]ood.*|.*[Rr]estaurant.*|.*[Ll]iquor.*\")\n",
    "relevant_list = list(filter(r.match, business_list)) \n",
    "print(relevant_list)"
   ]
  },
  {
   "cell_type": "markdown",
   "metadata": {},
   "source": [
    "> These are the list of business types that have the word food, restaurant, or liquor."
   ]
  },
  {
   "cell_type": "code",
   "execution_count": 264,
   "metadata": {},
   "outputs": [],
   "source": [
    "rest_1 = (licences_df.type == 'Restaurant Class 1')\n",
    "rest_2 = (licences_df.type == 'Restaurant Class 2')\n",
    "rest_3 = (licences_df.type == 'Ltd Service Food Establishment')\n",
    "rest_4 = (licences_df.type == 'Temp Liquor Licence Amendment') & (licences_df.subtype == 'Area Extension')\n",
    "rest_5 = (licences_df.type == 'Liquor Establishment Standard') & (licences_df.subtype == 'Class 1  0-65 Seats')\n",
    "rest_6 = (licences_df.type == 'Liquor Establishment Extended') & (licences_df.subtype == 'Class 1  0-65 Seats')\n",
    "\n",
    "\n",
    "licences_rest_df = licences_df.filter(rest_1 | rest_2 | rest_3 | rest_4 | rest_5 | rest_6)"
   ]
  },
  {
   "cell_type": "code",
   "execution_count": 265,
   "metadata": {},
   "outputs": [
    {
     "data": {
      "text/html": [
       "<table border='1'>\n",
       "<tr><th>status</th><th>count</th></tr>\n",
       "<tr><td>Cancelled</td><td>604</td></tr>\n",
       "<tr><td>Gone Out of Business</td><td>2914</td></tr>\n",
       "<tr><td>Issued</td><td>24579</td></tr>\n",
       "<tr><td>Inactive</td><td>662</td></tr>\n",
       "<tr><td>Pending</td><td>1420</td></tr>\n",
       "</table>\n"
      ],
      "text/plain": [
       "+--------------------+-----+\n",
       "|              status|count|\n",
       "+--------------------+-----+\n",
       "|           Cancelled|  604|\n",
       "|Gone Out of Business| 2914|\n",
       "|              Issued|24579|\n",
       "|            Inactive|  662|\n",
       "|             Pending| 1420|\n",
       "+--------------------+-----+"
      ]
     },
     "execution_count": 265,
     "metadata": {},
     "output_type": "execute_result"
    }
   ],
   "source": [
    "licences_rest_df.groupBy(\"status\").count()"
   ]
  },
  {
   "cell_type": "code",
   "execution_count": 266,
   "metadata": {},
   "outputs": [
    {
     "data": {
      "text/plain": [
       "'There are 955 businesses with missing name values'"
      ]
     },
     "execution_count": 266,
     "metadata": {},
     "output_type": "execute_result"
    }
   ],
   "source": [
    "f'There are %i businesses with missing name values' % licences_rest_df.filter('name is null').select('owner_name').distinct().count()"
   ]
  },
  {
   "cell_type": "markdown",
   "metadata": {},
   "source": [
    "> I will replace these entries with their business names. "
   ]
  },
  {
   "cell_type": "code",
   "execution_count": 267,
   "metadata": {},
   "outputs": [],
   "source": [
    "licences_rest_df = licences_rest_df.withColumn('name', coalesce('name', 'owner_name'))"
   ]
  },
  {
   "cell_type": "code",
   "execution_count": 268,
   "metadata": {},
   "outputs": [],
   "source": [
    "licences_rest_df = licences_rest_df.dropna(subset = ['owner_name'])"
   ]
  },
  {
   "cell_type": "code",
   "execution_count": 269,
   "metadata": {},
   "outputs": [],
   "source": [
    "# create new columns for longitude and latitude\n",
    "licences_rest_df = licences_rest_df.withColumn('longitude', regexp_extract(col('geom'), '\\[(.+), (.+)\\]', 1).cast('float'))\\\n",
    "                                   .withColumn('latitude', regexp_extract(col('geom'), '\\[(.+), (.+)\\]', 2).cast('float'))\\\n",
    "                                   .drop('geom')"
   ]
  },
  {
   "cell_type": "code",
   "execution_count": 270,
   "metadata": {},
   "outputs": [
    {
     "data": {
      "text/plain": [
       "30148"
      ]
     },
     "execution_count": 270,
     "metadata": {},
     "output_type": "execute_result"
    }
   ],
   "source": [
    "licences_rest_df.count()"
   ]
  },
  {
   "cell_type": "code",
   "execution_count": 271,
   "metadata": {},
   "outputs": [],
   "source": [
    "# Search for names using regex\n",
    "\n",
    "def search_restaurant(search_term, n = 20):\n",
    "    rows = licences_rest_df.name.rlike('.*{}.*'.format(search_term))\n",
    "    return licences_rest_df.filter(rows).limit(n)"
   ]
  },
  {
   "cell_type": "code",
   "execution_count": 272,
   "metadata": {},
   "outputs": [
    {
     "data": {
      "text/html": [
       "<table border='1'>\n",
       "<tr><th>year</th><th>licence_rsn</th><th>licence_num</th><th>licence_revision_num</th><th>owner_name</th><th>name</th><th>status</th><th>issued_date</th><th>expired_date</th><th>type</th><th>subtype</th><th>unit</th><th>unit_type</th><th>house</th><th>street</th><th>city</th><th>province</th><th>country</th><th>postal_code</th><th>area</th><th>n_employees</th><th>fee</th><th>extract_date</th><th>longitude</th><th>latitude</th></tr>\n",
       "<tr><td>16</td><td>2584151</td><td>16-125333</td><td>0</td><td>Brian Turko &amp; Lin...</td><td>Turk&#x27;s Coffee House</td><td>Issued</td><td>2016-01-31 13:58:05</td><td>2016-12-31 00:00:00</td><td>Ltd Service Food ...</td><td>null</td><td>null</td><td>null</td><td>1276</td><td>Commercial Dr</td><td>Vancouver</td><td>BC</td><td>CA</td><td>V5L 3X4</td><td>Grandview-Woodland</td><td>7.0</td><td>542</td><td>2019-07-21 13:49:19</td><td>null</td><td>null</td></tr>\n",
       "<tr><td>13</td><td>1796918</td><td>13-177499</td><td>0</td><td>Brian Turko &amp; Lin...</td><td>Turk&#x27;s Coffee House</td><td>Issued</td><td>2012-12-31 14:00:53</td><td>2013-12-31 00:00:00</td><td>Ltd Service Food ...</td><td>null</td><td>null</td><td>null</td><td>1276</td><td>Commercial Dr</td><td>Vancouver</td><td>BC</td><td>CA</td><td>V5L 3X4</td><td>Grandview-Woodland</td><td>7.0</td><td>469</td><td>2019-07-21 13:49:07</td><td>null</td><td>null</td></tr>\n",
       "<tr><td>15</td><td>2355590</td><td>15-125876</td><td>0</td><td>Brian Turko &amp; Lin...</td><td>Turk&#x27;s Coffee House</td><td>Issued</td><td>2014-10-31 15:52:55</td><td>2015-12-31 00:00:00</td><td>Ltd Service Food ...</td><td>null</td><td>null</td><td>null</td><td>1276</td><td>Commercial Dr</td><td>Vancouver</td><td>BC</td><td>CA</td><td>V5L 3X4</td><td>Grandview-Woodland</td><td>7.0</td><td>483</td><td>2019-07-21 13:49:15</td><td>null</td><td>null</td></tr>\n",
       "<tr><td>17</td><td>2800337</td><td>17-124040</td><td>0</td><td>Brian Turko &amp; Lin...</td><td>Turk&#x27;s Coffee House</td><td>Issued</td><td>2016-12-23 11:42:28</td><td>2017-12-31 00:00:00</td><td>Ltd Service Food ...</td><td>null</td><td>null</td><td>null</td><td>1276</td><td>Commercial Dr</td><td>Vancouver</td><td>BC</td><td>CA</td><td>V5L 3X4</td><td>Grandview-Woodland</td><td>7.0</td><td>503</td><td>2020-01-01 02:32:03</td><td>null</td><td>null</td></tr>\n",
       "<tr><td>14</td><td>2138220</td><td>14-125810</td><td>0</td><td>Brian Turko &amp; Lin...</td><td>Turk&#x27;s Coffee House</td><td>Issued</td><td>2013-12-31 14:05:50</td><td>2014-12-31 00:00:00</td><td>Ltd Service Food ...</td><td>null</td><td>null</td><td>null</td><td>1276</td><td>Commercial Dr</td><td>Vancouver</td><td>BC</td><td>CA</td><td>V5L 3X4</td><td>Grandview-Woodland</td><td>7.0</td><td>474</td><td>2019-07-21 13:49:11</td><td>null</td><td>null</td></tr>\n",
       "</table>\n"
      ],
      "text/plain": [
       "+----+-----------+-----------+--------------------+--------------------+-------------------+------+-------------------+-------------------+--------------------+-------+----+---------+-----+-------------+---------+--------+-------+-----------+------------------+-----------+---+-------------------+---------+--------+\n",
       "|year|licence_rsn|licence_num|licence_revision_num|          owner_name|               name|status|        issued_date|       expired_date|                type|subtype|unit|unit_type|house|       street|     city|province|country|postal_code|              area|n_employees|fee|       extract_date|longitude|latitude|\n",
       "+----+-----------+-----------+--------------------+--------------------+-------------------+------+-------------------+-------------------+--------------------+-------+----+---------+-----+-------------+---------+--------+-------+-----------+------------------+-----------+---+-------------------+---------+--------+\n",
       "|  16|    2584151|  16-125333|                   0|Brian Turko & Lin...|Turk's Coffee House|Issued|2016-01-31 13:58:05|2016-12-31 00:00:00|Ltd Service Food ...|   null|null|     null| 1276|Commercial Dr|Vancouver|      BC|     CA|    V5L 3X4|Grandview-Woodland|        7.0|542|2019-07-21 13:49:19|     null|    null|\n",
       "|  13|    1796918|  13-177499|                   0|Brian Turko & Lin...|Turk's Coffee House|Issued|2012-12-31 14:00:53|2013-12-31 00:00:00|Ltd Service Food ...|   null|null|     null| 1276|Commercial Dr|Vancouver|      BC|     CA|    V5L 3X4|Grandview-Woodland|        7.0|469|2019-07-21 13:49:07|     null|    null|\n",
       "|  15|    2355590|  15-125876|                   0|Brian Turko & Lin...|Turk's Coffee House|Issued|2014-10-31 15:52:55|2015-12-31 00:00:00|Ltd Service Food ...|   null|null|     null| 1276|Commercial Dr|Vancouver|      BC|     CA|    V5L 3X4|Grandview-Woodland|        7.0|483|2019-07-21 13:49:15|     null|    null|\n",
       "|  17|    2800337|  17-124040|                   0|Brian Turko & Lin...|Turk's Coffee House|Issued|2016-12-23 11:42:28|2017-12-31 00:00:00|Ltd Service Food ...|   null|null|     null| 1276|Commercial Dr|Vancouver|      BC|     CA|    V5L 3X4|Grandview-Woodland|        7.0|503|2020-01-01 02:32:03|     null|    null|\n",
       "|  14|    2138220|  14-125810|                   0|Brian Turko & Lin...|Turk's Coffee House|Issued|2013-12-31 14:05:50|2014-12-31 00:00:00|Ltd Service Food ...|   null|null|     null| 1276|Commercial Dr|Vancouver|      BC|     CA|    V5L 3X4|Grandview-Woodland|        7.0|474|2019-07-21 13:49:11|     null|    null|\n",
       "+----+-----------+-----------+--------------------+--------------------+-------------------+------+-------------------+-------------------+--------------------+-------+----+---------+-----+-------------+---------+--------+-------+-----------+------------------+-----------+---+-------------------+---------+--------+"
      ]
     },
     "execution_count": 272,
     "metadata": {},
     "output_type": "execute_result"
    }
   ],
   "source": [
    "search_restaurant(\"Turk's Coffee House\", 5)"
   ]
  },
  {
   "cell_type": "code",
   "execution_count": 273,
   "metadata": {},
   "outputs": [
    {
     "data": {
      "text/html": [
       "<table border='1'>\n",
       "<tr><th>year</th><th>licence_rsn</th><th>licence_num</th><th>licence_revision_num</th><th>owner_name</th><th>name</th><th>status</th><th>issued_date</th><th>expired_date</th><th>type</th><th>subtype</th><th>unit</th><th>unit_type</th><th>house</th><th>street</th><th>city</th><th>province</th><th>country</th><th>postal_code</th><th>area</th><th>n_employees</th><th>fee</th><th>extract_date</th><th>longitude</th><th>latitude</th></tr>\n",
       "<tr><td>0</td><td>0</td><td>0</td><td>0</td><td>0</td><td>0</td><td>0</td><td>3261</td><td>3260</td><td>0</td><td>12929</td><td>25242</td><td>25238</td><td>17</td><td>17</td><td>0</td><td>0</td><td>2</td><td>243</td><td>87</td><td>0</td><td>2537</td><td>0</td><td>831</td><td>831</td></tr>\n",
       "</table>\n"
      ],
      "text/plain": [
       "+----+-----------+-----------+--------------------+----------+----+------+-----------+------------+----+-------+-----+---------+-----+------+----+--------+-------+-----------+----+-----------+----+------------+---------+--------+\n",
       "|year|licence_rsn|licence_num|licence_revision_num|owner_name|name|status|issued_date|expired_date|type|subtype| unit|unit_type|house|street|city|province|country|postal_code|area|n_employees| fee|extract_date|longitude|latitude|\n",
       "+----+-----------+-----------+--------------------+----------+----+------+-----------+------------+----+-------+-----+---------+-----+------+----+--------+-------+-----------+----+-----------+----+------------+---------+--------+\n",
       "|   0|          0|          0|                   0|         0|   0|     0|       3261|        3260|   0|  12929|25242|    25238|   17|    17|   0|       0|      2|        243|  87|          0|2537|           0|      831|     831|\n",
       "+----+-----------+-----------+--------------------+----------+----+------+-----------+------------+----+-------+-----+---------+-----+------+----+--------+-------+-----------+----+-----------+----+------------+---------+--------+"
      ]
     },
     "execution_count": 273,
     "metadata": {},
     "output_type": "execute_result"
    }
   ],
   "source": [
    "# number of missing values of each column\n",
    "licences_rest_df.select(*(sum(col(c).isNull().cast(\"int\")).alias(c) for c in licences_rest_df.columns))"
   ]
  },
  {
   "cell_type": "code",
   "execution_count": 274,
   "metadata": {},
   "outputs": [],
   "source": [
    "# use this table to populate the features from yelp\n",
    "\n",
    "rest_distinct_df = licences_rest_df.select(['year', 'status', \n",
    "                                            'name', 'longitude', 'latitude', \n",
    "                                            'postal_code', 'unit', 'house', \n",
    "                                            'street', 'city']).distinct()"
   ]
  },
  {
   "cell_type": "code",
   "execution_count": 275,
   "metadata": {},
   "outputs": [
    {
     "data": {
      "text/plain": [
       "'There are 4504 restaurant locations'"
      ]
     },
     "execution_count": 275,
     "metadata": {},
     "output_type": "execute_result"
    }
   ],
   "source": [
    "f'There are %i restaurant locations' % licences_rest_df.select(['longitude', 'latitude', 'postal_code', 'unit', \n",
    "                                                                'house', 'street', 'city']).distinct().count()"
   ]
  },
  {
   "cell_type": "code",
   "execution_count": 276,
   "metadata": {},
   "outputs": [
    {
     "data": {
      "text/plain": [
       "'There are 6637 closed/open restaurants locations'"
      ]
     },
     "execution_count": 276,
     "metadata": {},
     "output_type": "execute_result"
    }
   ],
   "source": [
    "f'There are %i closed/open restaurants locations' % licences_rest_df.select(['name', 'longitude', 'latitude', 'postal_code', \n",
    "                                                                             'unit', 'house', 'street', 'city']).distinct().count()\n",
    "\n",
    "# this includes restuarants that changed locations"
   ]
  },
  {
   "cell_type": "code",
   "execution_count": 278,
   "metadata": {},
   "outputs": [
    {
     "data": {
      "text/html": [
       "<table border='1'>\n",
       "<tr><th>name</th></tr>\n",
       "<tr><td>Fresh Counter &amp; C...</td></tr>\n",
       "<tr><td>Siga-Siga&#x27;s Chine...</td></tr>\n",
       "<tr><td>Siga-Siga&#x27;s Filip...</td></tr>\n",
       "<tr><td>Panz Veggie</td></tr>\n",
       "<tr><td>Craft Beer Market...</td></tr>\n",
       "<tr><td>Fiery Pizza</td></tr>\n",
       "</table>\n"
      ],
      "text/plain": [
       "+--------------------+\n",
       "|                name|\n",
       "+--------------------+\n",
       "|Fresh Counter & C...|\n",
       "|Siga-Siga's Chine...|\n",
       "|Siga-Siga's Filip...|\n",
       "|         Panz Veggie|\n",
       "|Craft Beer Market...|\n",
       "|         Fiery Pizza|\n",
       "+--------------------+"
      ]
     },
     "execution_count": 278,
     "metadata": {},
     "output_type": "execute_result"
    }
   ],
   "source": [
    "rest_distinct_df.filter('house is null')\\\n",
    "                .filter('street is null')\\\n",
    "                .select('name')\\\n",
    "                .distinct()"
   ]
  },
  {
   "cell_type": "markdown",
   "metadata": {},
   "source": [
    "> The Yelp API requires an address of these restaurants and 6 restaurants do not have any address. Since this is an insignificant proportion of the data, I will simply remove them."
   ]
  },
  {
   "cell_type": "code",
   "execution_count": 279,
   "metadata": {},
   "outputs": [],
   "source": [
    "rest_distinct_df = rest_distinct_df.dropna(how = 'all', subset = ['longitude', 'latitude', 'house', 'street'])"
   ]
  },
  {
   "cell_type": "markdown",
   "metadata": {},
   "source": [
    "> Problem: can't get information for old closed restuarants \n",
    "> - initial thoughts: have to find an external API that has archived webpages\n",
    "> - maybe a solution: businesses/search doesn't give closed restuarants but businesses/matches does (have to have exact address) and then get the ID from this output and input into businesses/{id}"
   ]
  },
  {
   "cell_type": "code",
   "execution_count": 280,
   "metadata": {},
   "outputs": [],
   "source": [
    "# Here I am ordering the status such that if in a single year, there are multiple statuses, I will take the greatest\n",
    "\n",
    "rest_distinct_df = rest_distinct_df.withColumn('status', \n",
    "                            when(col('status') == 'Inactive', 0)\n",
    "                            .when(col('status') == 'Cancelled', 1)\n",
    "                            .when(col('status') == 'Gone Out of Business', 2)\n",
    "                            .when(col('status') == 'Pending', 3)\n",
    "                            .when(col('status') == 'Issued', 4))"
   ]
  },
  {
   "cell_type": "code",
   "execution_count": 281,
   "metadata": {},
   "outputs": [],
   "source": [
    "# This will get the latest location of a restaurant\n",
    "# if in a single year, the restuarant is both cancelled and gone out of businesss, aggregate into 1 category\n",
    "# if in a single year, the restuarant is both cancelled and issued, aggregate into 1 category - this means the restuarant moved locations\n",
    "latest_year = rest_distinct_df.sort(['year', 'status'])\\\n",
    "                              .groupBy('name')\\\n",
    "                              .agg(last('status').alias('status'), \n",
    "                                   last('year').alias('year'))\n",
    "\n",
    "rest_distinct_df = rest_distinct_df.join(latest_year, on = ['status', 'year', 'name'], how = 'leftsemi')"
   ]
  },
  {
   "cell_type": "code",
   "execution_count": 282,
   "metadata": {},
   "outputs": [
    {
     "data": {
      "text/plain": [
       "5740"
      ]
     },
     "execution_count": 282,
     "metadata": {},
     "output_type": "execute_result"
    }
   ],
   "source": [
    "rest_distinct_df.count()"
   ]
  },
  {
   "cell_type": "code",
   "execution_count": 283,
   "metadata": {},
   "outputs": [
    {
     "data": {
      "text/html": [
       "<table border='1'>\n",
       "<tr><th>status</th><th>year</th><th>name</th><th>longitude</th><th>latitude</th><th>postal_code</th><th>unit</th><th>house</th><th>street</th><th>city</th></tr>\n",
       "<tr><td>1</td><td>17</td><td>George Simnos &amp; J...</td><td>-123.09054</td><td>49.248013</td><td>V5V 4E9</td><td>null</td><td>4153</td><td>FRASER ST</td><td>Vancouver</td></tr>\n",
       "<tr><td>2</td><td>15</td><td>Sodexo @Vancouver...</td><td>-123.08036</td><td>49.2633</td><td>V5T 4V5</td><td>null</td><td>1120</td><td>E 7TH AV</td><td>Vancouver</td></tr>\n",
       "<tr><td>2</td><td>16</td><td>Cilantro Cafe</td><td>-123.121574</td><td>49.281162</td><td>V6Z 2L2</td><td>110</td><td>840</td><td>HOWE ST</td><td>Vancouver</td></tr>\n",
       "<tr><td>2</td><td>17</td><td>O-Bowl</td><td>-123.17483</td><td>49.26392</td><td>V6K 2H3</td><td>null</td><td>3132</td><td>W BROADWAY</td><td>Vancouver</td></tr>\n",
       "<tr><td>2</td><td>17</td><td>Swiss Chalet Roti...</td><td>-123.176216</td><td>49.26395</td><td>V6K 2H4</td><td>null</td><td>3204</td><td>W BROADWAY</td><td>Vancouver</td></tr>\n",
       "</table>\n"
      ],
      "text/plain": [
       "+------+----+--------------------+-----------+---------+-----------+----+-----+----------+---------+\n",
       "|status|year|                name|  longitude| latitude|postal_code|unit|house|    street|     city|\n",
       "+------+----+--------------------+-----------+---------+-----------+----+-----+----------+---------+\n",
       "|     1|  17|George Simnos & J...| -123.09054|49.248013|    V5V 4E9|null| 4153| FRASER ST|Vancouver|\n",
       "|     2|  15|Sodexo @Vancouver...| -123.08036|  49.2633|    V5T 4V5|null| 1120|  E 7TH AV|Vancouver|\n",
       "|     2|  16|       Cilantro Cafe|-123.121574|49.281162|    V6Z 2L2| 110|  840|   HOWE ST|Vancouver|\n",
       "|     2|  17|              O-Bowl| -123.17483| 49.26392|    V6K 2H3|null| 3132|W BROADWAY|Vancouver|\n",
       "|     2|  17|Swiss Chalet Roti...|-123.176216| 49.26395|    V6K 2H4|null| 3204|W BROADWAY|Vancouver|\n",
       "+------+----+--------------------+-----------+---------+-----------+----+-----+----------+---------+"
      ]
     },
     "execution_count": 283,
     "metadata": {},
     "output_type": "execute_result"
    }
   ],
   "source": [
    "rest_distinct_df.limit(5)"
   ]
  },
  {
   "cell_type": "code",
   "execution_count": 287,
   "metadata": {},
   "outputs": [],
   "source": [
    "rest_distinct_df_pd = rest_distinct_df.toPandas()\n",
    "path = '../data/'\n",
    "filename = 'rest_distinct_df' + time.strftime('_%Y-%m-%d') + '.pkl'\n",
    "with open(path + filename, 'wb') as f:\n",
    "    pickle.dump(rest_distinct_df_pd, f, pickle.HIGHEST_PROTOCOL)"
   ]
  },
  {
   "cell_type": "markdown",
   "metadata": {},
   "source": [
    "Is the restaurant part of a chain?  \n",
    "How many other restaurants are nearby (within one mile)?  \n",
    "How does it compare to nearby restaurants (based on price, but also its average rating — and the number of reviews)?  \n",
    "How old is the restaurants?"
   ]
  },
  {
   "cell_type": "markdown",
   "metadata": {},
   "source": [
    "## Yelp API"
   ]
  },
  {
   "cell_type": "code",
   "execution_count": 285,
   "metadata": {},
   "outputs": [],
   "source": [
    "rest_distinct_list = rest_distinct_df.collect()"
   ]
  },
  {
   "cell_type": "code",
   "execution_count": 513,
   "metadata": {},
   "outputs": [],
   "source": [
    "def get_params(rest):\n",
    "    \"\"\"\n",
    "    \"\"\"\n",
    "    \n",
    "    name = rest.name\n",
    "    \n",
    "    house = rest.house\n",
    "    street = rest.street\n",
    "    if rest.unit == None:\n",
    "        unit = ''\n",
    "    else:\n",
    "        unit = rest.unit\n",
    "    address = ' '.join([unit, house, street])\n",
    "    \n",
    "    if rest.postal_code == None:\n",
    "        postal_code = ''\n",
    "    else:\n",
    "        postal_code = rest.postal_code\n",
    "            \n",
    "    if rest.latitude == None:\n",
    "        latitude = None\n",
    "        longitude = None\n",
    "    else:    \n",
    "        latitude = rest.latitude\n",
    "        longitude = rest.longitude\n",
    "        \n",
    "    city = rest.city\n",
    "    \n",
    "    return {'apikey': api_key,\n",
    "            'name': name,\n",
    "            'address1': address,\n",
    "            'zip_code': postal_code,\n",
    "            'latitude': latitude,\n",
    "            'longitude': longitude,\n",
    "            'city': city,\n",
    "            'state': 'BC',\n",
    "            'country': 'CA',\n",
    "            'match_threshold': 'none',\n",
    "            'limit': 1}\n",
    "\n",
    "def make_call_1(headers, params):\n",
    "    \"\"\"\n",
    "    \n",
    "    \"\"\"\n",
    "    request_1 = requests.get('https://api.yelp.com/v3/businesses/matches', \n",
    "                             headers = headers, params = params)\n",
    "\n",
    "    result_1 = request_1.json()\n",
    "    \n",
    "    if request_1.status_code == 500:\n",
    "        print('There was an internal yelp matches call error for: ' + params['name'])\n",
    "        print('Redoing yelp call. ', end = '')\n",
    "        time.sleep(2) # to prevent overloading the server\n",
    "        print('.', end = '')\n",
    "        time.sleep(2)\n",
    "        print('.', end = '')\n",
    "        time.sleep(2)\n",
    "        \n",
    "        request_1, result_1 = recall_1(headers, params)\n",
    "        \n",
    "        if request_1.status_code != 500:\n",
    "            print('Fixed!')\n",
    "    \n",
    "    return request_1, result_1\n",
    "\n",
    "def recall_1(headers, params):\n",
    "    request_1 = requests.get('https://api.yelp.com/v3/businesses/matches', \n",
    "                             headers = headers, params = params)\n",
    "    result_1 = request_1.json()\n",
    "\n",
    "    if request_1.status_code == 500:\n",
    "        print('again.', end = '')\n",
    "        time.sleep(2)\n",
    "        print('.', end = '')\n",
    "        time.sleep(2)\n",
    "        print('.', end = '')\n",
    "        time.sleep(2)\n",
    "        request_1, result_1 = recall_1(headers, params)\n",
    "        \n",
    "    return request_1, result_1\n",
    "\n",
    "def make_call_2(headers, params, request_1, result_1):\n",
    "    # checks if the request was bad or output was empty  \n",
    "    if request_1.status_code != 200 or len(result_1['businesses']) == 0:\n",
    "        request_2 = request_1\n",
    "        result_2 = None\n",
    "\n",
    "    else:\n",
    "        rest_id = result_1['businesses'][0]['id']\n",
    "        request_2 = requests.get('https://api.yelp.com/v3/businesses/{}'\n",
    "                                 .format(rest_id), headers = headers)\n",
    "        result_2 = request_2.json()\n",
    "        \n",
    "        if request_2.status_code == 500:\n",
    "            print('There was an internal yelp businesses call error for: ' + params['name'])\n",
    "            print('Redoing yelp call. ', end = '')\n",
    "            time.sleep(2)\n",
    "            print('.', end = '')\n",
    "            time.sleep(2)\n",
    "            print('.', end = '')\n",
    "            time.sleep(2)\n",
    "            \n",
    "            request_2, result_2 = recall_2(headers, params)\n",
    "            \n",
    "            if request_2.status_code != 500:\n",
    "                print('Fixed!')\n",
    "        \n",
    "    return request_2, result_2\n",
    "            \n",
    "def recall_2(headers, params):\n",
    "    request_2 = requests.get('https://api.yelp.com/v3/businesses/{}'\n",
    "                            .format(rest_id), headers = headers)\n",
    "    result_2 = request_2.json()\n",
    "    \n",
    "    if request_2.status_code == 500:\n",
    "        print('again.', end = '')\n",
    "        time.sleep(2)\n",
    "        print('.', end = '')\n",
    "        time.sleep(2)\n",
    "        print('.', end = '')\n",
    "        time.sleep(2)\n",
    "        request_2, result_2 = recall_2(headers, params)\n",
    "        \n",
    "    return request_2, result_2 \n",
    "    \n",
    "def remaining_time():\n",
    "    \"\"\"\n",
    "    \"\"\"\n",
    "    \n",
    "    current_time = datetime.strptime(datetime.utcnow().strftime(\"%H:%M\"), '%H:%M')\n",
    "    reset_time = datetime.strptime('00:00', '%H:%M')\n",
    "    \n",
    "    diff = reset_time - current_time\n",
    "    hours = int(diff.seconds // (60 * 60))\n",
    "    mins = int((diff.seconds // 60) % 60)\n",
    "    \n",
    "    return '{} hour(s) and {} min(s)'.format(hours, mins)"
   ]
  },
  {
   "cell_type": "code",
   "execution_count": 1032,
   "metadata": {},
   "outputs": [
    {
     "data": {
      "text/plain": [
       "'1 hour(s) and 16 min(s)'"
      ]
     },
     "execution_count": 1032,
     "metadata": {},
     "output_type": "execute_result"
    }
   ],
   "source": [
    "remaining_time()"
   ]
  },
  {
   "cell_type": "code",
   "execution_count": 514,
   "metadata": {},
   "outputs": [],
   "source": [
    "api_key = os.getenv('YELP_API_KEY')\n",
    "headers = {'Authorization': 'Bearer %s' % api_key}"
   ]
  },
  {
   "cell_type": "code",
   "execution_count": 855,
   "metadata": {},
   "outputs": [],
   "source": [
    "data = dict(identifier = [],\n",
    "            name = [],\n",
    "            postal_code = [],\n",
    "            unit = [],\n",
    "            house = [],\n",
    "            street = [],\n",
    "            yelp_call = [])\n",
    "\n",
    "filename = 'rest_yelp_api_2020-07-21.pkl'\n",
    "with open(path + filename, 'rb') as f:\n",
    "    data = pickle.load(f)"
   ]
  },
  {
   "cell_type": "code",
   "execution_count": 1071,
   "metadata": {},
   "outputs": [
    {
     "name": "stdout",
     "output_type": "stream",
     "text": [
      "200 restaurants collected\n",
      "400 restaurants collected\n",
      "600 restaurants collected\n",
      "800 restaurants collected\n",
      "1000 restaurants collected\n",
      "1200 restaurants collected\n",
      "1400 restaurants collected\n",
      "1600 restaurants collected\n",
      "1800 restaurants collected\n",
      "2000 restaurants collected\n",
      "2200 restaurants collected\n",
      "2400 restaurants collected\n",
      "2600 restaurants collected\n",
      "2800 restaurants collected\n",
      "3000 restaurants collected\n",
      "3200 restaurants collected\n",
      "3400 restaurants collected\n",
      "3600 restaurants collected\n",
      "3800 restaurants collected\n",
      "4000 restaurants collected\n",
      "4200 restaurants collected\n",
      "4400 restaurants collected\n",
      "4600 restaurants collected\n",
      "4800 restaurants collected\n",
      "5000 restaurants collected\n",
      "5200 restaurants collected\n",
      "5400 restaurants collected\n",
      "5600 restaurants collected\n",
      "\n",
      "5740 / 5740 restaurants collected\n",
      "Calls remaining: 3942\n",
      "Data saved in ../data/yelp/ as rest_yelp_api_2020-07-24.pkl\n"
     ]
    },
    {
     "data": {
      "text/plain": [
       "0"
      ]
     },
     "execution_count": 1071,
     "metadata": {},
     "output_type": "execute_result"
    }
   ],
   "source": [
    "for i in range(len(rest_distinct_list)):\n",
    "\n",
    "    params = get_params(rest_distinct_list[i])\n",
    "    \n",
    "    identifier = ''.join([params['name'], \n",
    "                          params['address1'], \n",
    "                          params['zip_code']])\n",
    "\n",
    "    # doesn't make a request if already have the data\n",
    "    if identifier not in data['identifier']:\n",
    "        request_1, result_1 = make_call_1(headers, params)\n",
    "\n",
    "        request_2, result_2 = make_call_2(headers, params, request_1, result_1)\n",
    "        \n",
    "        if request_1.status_code == 429 or request_2.status_code == 429:\n",
    "            print('Yelp API call limit reached, re-run in {}'.format(remaining_time()))\n",
    "            break\n",
    "\n",
    "        data['identifier'].append(identifier)\n",
    "        data['yelp_call'].append(result_2)\n",
    "        \n",
    "        # for joining back to original dataframe\n",
    "        data['name'].append(rest_distinct_list[i].name)\n",
    "        data['postal_code'].append(rest_distinct_list[i].postal_code)\n",
    "        data['unit'].append(rest_distinct_list[i].unit)\n",
    "        data['house'].append(rest_distinct_list[i].house)\n",
    "        data['street'].append(rest_distinct_list[i].street)\n",
    "        \n",
    "    if i % 200 == 0 and i != 0:\n",
    "        print(i, 'restaurants collected')\n",
    "\n",
    "print('\\n{} / {} restaurants collected'.format(i + 1, len(rest_distinct_list)))\n",
    "print('Calls remaining:', request_2.headers['ratelimit-remaining'])\n",
    "\n",
    "path = '../data/yelp/'\n",
    "filename = 'rest_yelp_api' + time.strftime('_%Y-%m-%d') + '.pkl'\n",
    "with open(path + filename, 'wb') as f:\n",
    "    pickle.dump(data, f, pickle.HIGHEST_PROTOCOL)\n",
    "print('Data saved in {} as {}'.format(path, filename))\n",
    "\n",
    "# makes a sound\n",
    "os.system(\"printf '\\a'\")"
   ]
  },
  {
   "cell_type": "markdown",
   "metadata": {},
   "source": [
    "## Creating the Cleaned Dataframe"
   ]
  },
  {
   "cell_type": "code",
   "execution_count": 65,
   "metadata": {},
   "outputs": [],
   "source": [
    "with open('../data/yelp/rest_yelp_api_2020-07-24.pkl', 'rb') as f:\n",
    "    data = pickle.load(f)"
   ]
  },
  {
   "cell_type": "code",
   "execution_count": 66,
   "metadata": {},
   "outputs": [
    {
     "data": {
      "text/html": [
       "<div>\n",
       "<style scoped>\n",
       "    .dataframe tbody tr th:only-of-type {\n",
       "        vertical-align: middle;\n",
       "    }\n",
       "\n",
       "    .dataframe tbody tr th {\n",
       "        vertical-align: top;\n",
       "    }\n",
       "\n",
       "    .dataframe thead th {\n",
       "        text-align: right;\n",
       "    }\n",
       "</style>\n",
       "<table border=\"1\" class=\"dataframe\">\n",
       "  <thead>\n",
       "    <tr style=\"text-align: right;\">\n",
       "      <th></th>\n",
       "      <th>identifier</th>\n",
       "      <th>name</th>\n",
       "      <th>postal_code</th>\n",
       "      <th>unit</th>\n",
       "      <th>house</th>\n",
       "      <th>street</th>\n",
       "      <th>yelp_call</th>\n",
       "    </tr>\n",
       "  </thead>\n",
       "  <tbody>\n",
       "    <tr>\n",
       "      <th>0</th>\n",
       "      <td>George Simnos &amp; Joakim Bostner &amp; Stelio Loukak...</td>\n",
       "      <td>George Simnos &amp; Joakim Bostner &amp; Stelio Loukakos</td>\n",
       "      <td>V5V 4E9</td>\n",
       "      <td>None</td>\n",
       "      <td>4153</td>\n",
       "      <td>FRASER ST</td>\n",
       "      <td>{'id': 'BmXmppx7LPtEBITArIPQRA', 'alias': 'bow...</td>\n",
       "    </tr>\n",
       "    <tr>\n",
       "      <th>1</th>\n",
       "      <td>Sodexo @Vancouver Community College 1120 E 7TH...</td>\n",
       "      <td>Sodexo @Vancouver Community College</td>\n",
       "      <td>V5T 4V5</td>\n",
       "      <td>None</td>\n",
       "      <td>1120</td>\n",
       "      <td>E 7TH AV</td>\n",
       "      <td>None</td>\n",
       "    </tr>\n",
       "    <tr>\n",
       "      <th>2</th>\n",
       "      <td>Cilantro Cafe110 840 HOWE STV6Z 2L2</td>\n",
       "      <td>Cilantro Cafe</td>\n",
       "      <td>V6Z 2L2</td>\n",
       "      <td>110</td>\n",
       "      <td>840</td>\n",
       "      <td>HOWE ST</td>\n",
       "      <td>{'id': 'H9xTl17WiyS57yxDVdxKkA', 'alias': 'cil...</td>\n",
       "    </tr>\n",
       "    <tr>\n",
       "      <th>3</th>\n",
       "      <td>O-Bowl 3132 W BROADWAYV6K 2H3</td>\n",
       "      <td>O-Bowl</td>\n",
       "      <td>V6K 2H3</td>\n",
       "      <td>None</td>\n",
       "      <td>3132</td>\n",
       "      <td>W BROADWAY</td>\n",
       "      <td>{'id': 'SgwIcOBw733SYai71LOUDw', 'alias': 'o-b...</td>\n",
       "    </tr>\n",
       "    <tr>\n",
       "      <th>4</th>\n",
       "      <td>Swiss Chalet Rotisserie + Grill 3204 W BROADWA...</td>\n",
       "      <td>Swiss Chalet Rotisserie + Grill</td>\n",
       "      <td>V6K 2H4</td>\n",
       "      <td>None</td>\n",
       "      <td>3204</td>\n",
       "      <td>W BROADWAY</td>\n",
       "      <td>{'id': 'r4BuAOfRI74lgvSKghUq3w', 'alias': 'swi...</td>\n",
       "    </tr>\n",
       "    <tr>\n",
       "      <th>...</th>\n",
       "      <td>...</td>\n",
       "      <td>...</td>\n",
       "      <td>...</td>\n",
       "      <td>...</td>\n",
       "      <td>...</td>\n",
       "      <td>...</td>\n",
       "      <td>...</td>\n",
       "    </tr>\n",
       "    <tr>\n",
       "      <th>5735</th>\n",
       "      <td>Po Kong Vegetarian Restaurant Ltd 1334 KINGSWA...</td>\n",
       "      <td>Po Kong Vegetarian Restaurant Ltd</td>\n",
       "      <td>V5V 3E4</td>\n",
       "      <td>None</td>\n",
       "      <td>1334</td>\n",
       "      <td>KINGSWAY</td>\n",
       "      <td>{'id': 'mfgRqzZPPthaSaGGfOf2bw', 'alias': 'po-...</td>\n",
       "    </tr>\n",
       "    <tr>\n",
       "      <th>5736</th>\n",
       "      <td>Sushi Dining Yagoto 2180 W BROADWAYV6K 2C8</td>\n",
       "      <td>Sushi Dining Yagoto</td>\n",
       "      <td>V6K 2C8</td>\n",
       "      <td>None</td>\n",
       "      <td>2180</td>\n",
       "      <td>W BROADWAY</td>\n",
       "      <td>{'id': 'HhJyqNI0VOge4euARmlN7A', 'alias': 'yag...</td>\n",
       "    </tr>\n",
       "    <tr>\n",
       "      <th>5737</th>\n",
       "      <td>Taf's Cafe 829 Granville StV6Z 1K7</td>\n",
       "      <td>Taf's Cafe</td>\n",
       "      <td>V6Z 1K7</td>\n",
       "      <td>None</td>\n",
       "      <td>829</td>\n",
       "      <td>Granville St</td>\n",
       "      <td>{'id': 'n-ogm0lCwPeWJ758QMhlNw', 'alias': 'taf...</td>\n",
       "    </tr>\n",
       "    <tr>\n",
       "      <th>5738</th>\n",
       "      <td>Teppan KitchenFC26 555 W HASTINGS STV6B 4N4</td>\n",
       "      <td>Teppan Kitchen</td>\n",
       "      <td>V6B 4N4</td>\n",
       "      <td>FC26</td>\n",
       "      <td>555</td>\n",
       "      <td>W HASTINGS ST</td>\n",
       "      <td>{'id': 'ibM9mR5BAJJxl3d2CgQf2w', 'alias': 'tep...</td>\n",
       "    </tr>\n",
       "    <tr>\n",
       "      <th>5739</th>\n",
       "      <td>The Workshop Vegetarian Cafe Ltd 3596 E HASTIN...</td>\n",
       "      <td>The Workshop Vegetarian Cafe Ltd</td>\n",
       "      <td>V5K 2A7</td>\n",
       "      <td>None</td>\n",
       "      <td>3596</td>\n",
       "      <td>E HASTINGS ST</td>\n",
       "      <td>{'id': 'KdIVd3fmnmHFtqRBo2Ai-w', 'alias': 'the...</td>\n",
       "    </tr>\n",
       "  </tbody>\n",
       "</table>\n",
       "<p>5740 rows × 7 columns</p>\n",
       "</div>"
      ],
      "text/plain": [
       "                                             identifier  \\\n",
       "0     George Simnos & Joakim Bostner & Stelio Loukak...   \n",
       "1     Sodexo @Vancouver Community College 1120 E 7TH...   \n",
       "2                   Cilantro Cafe110 840 HOWE STV6Z 2L2   \n",
       "3                         O-Bowl 3132 W BROADWAYV6K 2H3   \n",
       "4     Swiss Chalet Rotisserie + Grill 3204 W BROADWA...   \n",
       "...                                                 ...   \n",
       "5735  Po Kong Vegetarian Restaurant Ltd 1334 KINGSWA...   \n",
       "5736         Sushi Dining Yagoto 2180 W BROADWAYV6K 2C8   \n",
       "5737                 Taf's Cafe 829 Granville StV6Z 1K7   \n",
       "5738        Teppan KitchenFC26 555 W HASTINGS STV6B 4N4   \n",
       "5739  The Workshop Vegetarian Cafe Ltd 3596 E HASTIN...   \n",
       "\n",
       "                                                  name postal_code  unit  \\\n",
       "0     George Simnos & Joakim Bostner & Stelio Loukakos     V5V 4E9  None   \n",
       "1                  Sodexo @Vancouver Community College     V5T 4V5  None   \n",
       "2                                        Cilantro Cafe     V6Z 2L2   110   \n",
       "3                                               O-Bowl     V6K 2H3  None   \n",
       "4                      Swiss Chalet Rotisserie + Grill     V6K 2H4  None   \n",
       "...                                                ...         ...   ...   \n",
       "5735                 Po Kong Vegetarian Restaurant Ltd     V5V 3E4  None   \n",
       "5736                               Sushi Dining Yagoto     V6K 2C8  None   \n",
       "5737                                        Taf's Cafe     V6Z 1K7  None   \n",
       "5738                                    Teppan Kitchen     V6B 4N4  FC26   \n",
       "5739                  The Workshop Vegetarian Cafe Ltd     V5K 2A7  None   \n",
       "\n",
       "     house         street                                          yelp_call  \n",
       "0     4153      FRASER ST  {'id': 'BmXmppx7LPtEBITArIPQRA', 'alias': 'bow...  \n",
       "1     1120       E 7TH AV                                               None  \n",
       "2      840        HOWE ST  {'id': 'H9xTl17WiyS57yxDVdxKkA', 'alias': 'cil...  \n",
       "3     3132     W BROADWAY  {'id': 'SgwIcOBw733SYai71LOUDw', 'alias': 'o-b...  \n",
       "4     3204     W BROADWAY  {'id': 'r4BuAOfRI74lgvSKghUq3w', 'alias': 'swi...  \n",
       "...    ...            ...                                                ...  \n",
       "5735  1334       KINGSWAY  {'id': 'mfgRqzZPPthaSaGGfOf2bw', 'alias': 'po-...  \n",
       "5736  2180     W BROADWAY  {'id': 'HhJyqNI0VOge4euARmlN7A', 'alias': 'yag...  \n",
       "5737   829   Granville St  {'id': 'n-ogm0lCwPeWJ758QMhlNw', 'alias': 'taf...  \n",
       "5738   555  W HASTINGS ST  {'id': 'ibM9mR5BAJJxl3d2CgQf2w', 'alias': 'tep...  \n",
       "5739  3596  E HASTINGS ST  {'id': 'KdIVd3fmnmHFtqRBo2Ai-w', 'alias': 'the...  \n",
       "\n",
       "[5740 rows x 7 columns]"
      ]
     },
     "execution_count": 66,
     "metadata": {},
     "output_type": "execute_result"
    }
   ],
   "source": [
    "pd.DataFrame(data)"
   ]
  },
  {
   "cell_type": "code",
   "execution_count": 1072,
   "metadata": {},
   "outputs": [],
   "source": [
    "data_clean = dict(name = [],\n",
    "                  name_yelp = [],\n",
    "                  postal_code = [],\n",
    "                  unit = [],\n",
    "                  house = [],\n",
    "                  street = [],\n",
    "                  categories = [],\n",
    "                  is_claimed = [],\n",
    "                  is_closed = [],\n",
    "                  rating = [],\n",
    "                  review_count = [],\n",
    "                  price = [])"
   ]
  },
  {
   "cell_type": "code",
   "execution_count": 1073,
   "metadata": {},
   "outputs": [
    {
     "name": "stdout",
     "output_type": "stream",
     "text": [
      "Data saved in ../data/yelp/ as rest_cleaned_2020-07-24.pkl\n"
     ]
    }
   ],
   "source": [
    "cols = ['name', 'postal_code', 'unit', 'house', 'street']\n",
    "for col in cols:\n",
    "    for entry in data[str(col)]:\n",
    "        data_clean[str(col)].append(entry)\n",
    "\n",
    "for call in data['yelp_call']:\n",
    "    if call == None:\n",
    "        data_clean['name_yelp'].append(None)\n",
    "        data_clean['is_claimed'].append(None)\n",
    "        data_clean['is_closed'].append(None)\n",
    "        data_clean['categories'].append([])\n",
    "        data_clean['rating'].append(None)\n",
    "        data_clean['review_count'].append(None)\n",
    "        data_clean['price'].append(None)\n",
    "    else:\n",
    "        if 'name' not in call:\n",
    "            data_clean['name_yelp'].append(None)\n",
    "        else:\n",
    "            data_clean['name_yelp'].append(call['name'])\n",
    "        \n",
    "        if 'is_claimed' not in call:\n",
    "            data_clean['is_claimed'].append(None)\n",
    "        else:\n",
    "            data_clean['is_claimed'].append(call['is_claimed'])    \n",
    "\n",
    "        if 'is_closed' not in call:\n",
    "            data_clean['is_closed'].append(None)\n",
    "        else:\n",
    "            data_clean['is_closed'].append(call['is_closed'])    \n",
    "        \n",
    "        if 'categories' not in call:\n",
    "            data_clean['categories'].append([])\n",
    "        else:\n",
    "            data_clean['categories'].append(call['categories'])\n",
    "\n",
    "        if 'rating' not in call:\n",
    "            data_clean['rating'].append(None)\n",
    "        else:\n",
    "            data_clean['rating'].append(call['rating'])\n",
    "\n",
    "        if 'review_count' not in call:\n",
    "            data_clean['review_count'].append(None)\n",
    "        else:\n",
    "            data_clean['review_count'].append(call['review_count'])\n",
    "\n",
    "        if 'price' not in call:\n",
    "            data_clean['price'].append(None)\n",
    "        else:\n",
    "            data_clean['price'].append(call['price'])\n",
    "\n",
    "\n",
    "path = '../data/yelp/'\n",
    "filename = 'rest_cleaned' + time.strftime('_%Y-%m-%d') + '.pkl'\n",
    "with open(path + filename, 'wb') as f:\n",
    "    pickle.dump(data_clean, f, pickle.HIGHEST_PROTOCOL)\n",
    "print('Data saved in {} as {}'.format(path, filename))"
   ]
  },
  {
   "cell_type": "code",
   "execution_count": 94,
   "metadata": {},
   "outputs": [],
   "source": [
    "with open('../data/yelp/rest_cleaned_2020-07-24.pkl', 'rb') as f:\n",
    "    data_clean = pickle.load(f)\n",
    "data_clean = pd.DataFrame(data_clean)"
   ]
  },
  {
   "cell_type": "markdown",
   "metadata": {},
   "source": [
    "Collecting the data is not 100% accurate so it may receive some incorrect businesses which should be removed."
   ]
  },
  {
   "cell_type": "code",
   "execution_count": 95,
   "metadata": {},
   "outputs": [],
   "source": [
    "categories = requests.get('https://www.yelp.com/developers/documentation/v3/all_category_list/categories.json').json()"
   ]
  },
  {
   "cell_type": "code",
   "execution_count": 96,
   "metadata": {},
   "outputs": [],
   "source": [
    "yelp_rest_cats = []\n",
    "for category in categories:\n",
    "    cat = category['parents']\n",
    "    if 'restaurants' in cat or 'food' in cat:\n",
    "        yelp_rest_cats.append(category['alias'])"
   ]
  },
  {
   "cell_type": "code",
   "execution_count": 97,
   "metadata": {},
   "outputs": [],
   "source": [
    "category_list = []\n",
    "for categories in data_clean['categories']:\n",
    "    for category in categories:\n",
    "        category_list.append(category['title'])"
   ]
  },
  {
   "cell_type": "code",
   "execution_count": 98,
   "metadata": {},
   "outputs": [
    {
     "name": "stdout",
     "output_type": "stream",
     "text": [
      "There are 260 restaurant related categories within Yelp\n",
      "There are 338 restaurant related categories within my dataset\n"
     ]
    }
   ],
   "source": [
    "print(f'There are %i restaurant related categories within Yelp' % len(yelp_rest_cats))\n",
    "print(f'There are %i restaurant related categories within my dataset' % len(list(set(category_list))))"
   ]
  },
  {
   "cell_type": "code",
   "execution_count": 99,
   "metadata": {},
   "outputs": [],
   "source": [
    "ind = []\n",
    "for i in range(len(data_clean['categories'])):\n",
    "    for category in data_clean['categories'][i]:\n",
    "        if category['alias'] not in yelp_rest_cats:\n",
    "            ind.append(i)"
   ]
  },
  {
   "cell_type": "code",
   "execution_count": 100,
   "metadata": {},
   "outputs": [],
   "source": [
    "data_clean = data_clean.drop(ind)"
   ]
  },
  {
   "cell_type": "code",
   "execution_count": 101,
   "metadata": {},
   "outputs": [],
   "source": [
    "data_clean = data_clean.dropna(how = 'all', subset = ['is_claimed', 'is_closed', 'rating', 'review_count', 'price'])"
   ]
  },
  {
   "cell_type": "code",
   "execution_count": 102,
   "metadata": {},
   "outputs": [
    {
     "data": {
      "text/html": [
       "<div>\n",
       "<style scoped>\n",
       "    .dataframe tbody tr th:only-of-type {\n",
       "        vertical-align: middle;\n",
       "    }\n",
       "\n",
       "    .dataframe tbody tr th {\n",
       "        vertical-align: top;\n",
       "    }\n",
       "\n",
       "    .dataframe thead th {\n",
       "        text-align: right;\n",
       "    }\n",
       "</style>\n",
       "<table border=\"1\" class=\"dataframe\">\n",
       "  <thead>\n",
       "    <tr style=\"text-align: right;\">\n",
       "      <th></th>\n",
       "      <th>name</th>\n",
       "      <th>name_yelp</th>\n",
       "      <th>postal_code</th>\n",
       "      <th>unit</th>\n",
       "      <th>house</th>\n",
       "      <th>street</th>\n",
       "      <th>categories</th>\n",
       "      <th>is_claimed</th>\n",
       "      <th>is_closed</th>\n",
       "      <th>rating</th>\n",
       "      <th>review_count</th>\n",
       "      <th>price</th>\n",
       "    </tr>\n",
       "  </thead>\n",
       "  <tbody>\n",
       "    <tr>\n",
       "      <th>0</th>\n",
       "      <td>George Simnos &amp; Joakim Bostner &amp; Stelio Loukakos</td>\n",
       "      <td>Bows &amp; Arrows</td>\n",
       "      <td>V5V 4E9</td>\n",
       "      <td>None</td>\n",
       "      <td>4153</td>\n",
       "      <td>FRASER ST</td>\n",
       "      <td>[{'alias': 'coffee', 'title': 'Coffee &amp; Tea'},...</td>\n",
       "      <td>True</td>\n",
       "      <td>True</td>\n",
       "      <td>3.5</td>\n",
       "      <td>48.0</td>\n",
       "      <td>$$</td>\n",
       "    </tr>\n",
       "    <tr>\n",
       "      <th>2</th>\n",
       "      <td>Cilantro Cafe</td>\n",
       "      <td>Cilantro Cafe</td>\n",
       "      <td>V6Z 2L2</td>\n",
       "      <td>110</td>\n",
       "      <td>840</td>\n",
       "      <td>HOWE ST</td>\n",
       "      <td>[{'alias': 'cafes', 'title': 'Cafes'}, {'alias...</td>\n",
       "      <td>False</td>\n",
       "      <td>False</td>\n",
       "      <td>5.0</td>\n",
       "      <td>1.0</td>\n",
       "      <td>None</td>\n",
       "    </tr>\n",
       "    <tr>\n",
       "      <th>3</th>\n",
       "      <td>O-Bowl</td>\n",
       "      <td>O-bowl By Rustic Kitchen</td>\n",
       "      <td>V6K 2H3</td>\n",
       "      <td>None</td>\n",
       "      <td>3132</td>\n",
       "      <td>W BROADWAY</td>\n",
       "      <td>[{'alias': 'asianfusion', 'title': 'Asian Fusi...</td>\n",
       "      <td>True</td>\n",
       "      <td>True</td>\n",
       "      <td>3.5</td>\n",
       "      <td>5.0</td>\n",
       "      <td>$$</td>\n",
       "    </tr>\n",
       "    <tr>\n",
       "      <th>4</th>\n",
       "      <td>Swiss Chalet Rotisserie + Grill</td>\n",
       "      <td>Swiss Chalet Rotisserie &amp; Grill</td>\n",
       "      <td>V6K 2H4</td>\n",
       "      <td>None</td>\n",
       "      <td>3204</td>\n",
       "      <td>W BROADWAY</td>\n",
       "      <td>[{'alias': 'comfortfood', 'title': 'Comfort Fo...</td>\n",
       "      <td>True</td>\n",
       "      <td>True</td>\n",
       "      <td>2.5</td>\n",
       "      <td>40.0</td>\n",
       "      <td>$$</td>\n",
       "    </tr>\n",
       "    <tr>\n",
       "      <th>6</th>\n",
       "      <td>Rouge Bistro Inc</td>\n",
       "      <td>Rouge Bistro</td>\n",
       "      <td>V5Y 1B1</td>\n",
       "      <td>None</td>\n",
       "      <td>91</td>\n",
       "      <td>W 2ND AV</td>\n",
       "      <td>[{'alias': 'tradamerican', 'title': 'American ...</td>\n",
       "      <td>True</td>\n",
       "      <td>True</td>\n",
       "      <td>4.0</td>\n",
       "      <td>36.0</td>\n",
       "      <td>$</td>\n",
       "    </tr>\n",
       "    <tr>\n",
       "      <th>...</th>\n",
       "      <td>...</td>\n",
       "      <td>...</td>\n",
       "      <td>...</td>\n",
       "      <td>...</td>\n",
       "      <td>...</td>\n",
       "      <td>...</td>\n",
       "      <td>...</td>\n",
       "      <td>...</td>\n",
       "      <td>...</td>\n",
       "      <td>...</td>\n",
       "      <td>...</td>\n",
       "      <td>...</td>\n",
       "    </tr>\n",
       "    <tr>\n",
       "      <th>5734</th>\n",
       "      <td>Pizza Vancouver</td>\n",
       "      <td>Pizza Vancouver</td>\n",
       "      <td>V6B 3H6</td>\n",
       "      <td>None</td>\n",
       "      <td>547</td>\n",
       "      <td>SEYMOUR ST</td>\n",
       "      <td>[{'alias': 'pizza', 'title': 'Pizza'}]</td>\n",
       "      <td>True</td>\n",
       "      <td>False</td>\n",
       "      <td>3.5</td>\n",
       "      <td>21.0</td>\n",
       "      <td>None</td>\n",
       "    </tr>\n",
       "    <tr>\n",
       "      <th>5736</th>\n",
       "      <td>Sushi Dining Yagoto</td>\n",
       "      <td>Yagoto Sushi Dining</td>\n",
       "      <td>V6K 2C8</td>\n",
       "      <td>None</td>\n",
       "      <td>2180</td>\n",
       "      <td>W BROADWAY</td>\n",
       "      <td>[{'alias': 'sushi', 'title': 'Sushi Bars'}, {'...</td>\n",
       "      <td>False</td>\n",
       "      <td>False</td>\n",
       "      <td>4.5</td>\n",
       "      <td>73.0</td>\n",
       "      <td>$$</td>\n",
       "    </tr>\n",
       "    <tr>\n",
       "      <th>5737</th>\n",
       "      <td>Taf's Cafe</td>\n",
       "      <td>Taf's Café</td>\n",
       "      <td>V6Z 1K7</td>\n",
       "      <td>None</td>\n",
       "      <td>829</td>\n",
       "      <td>Granville St</td>\n",
       "      <td>[{'alias': 'cafes', 'title': 'Cafes'}]</td>\n",
       "      <td>True</td>\n",
       "      <td>False</td>\n",
       "      <td>2.5</td>\n",
       "      <td>43.0</td>\n",
       "      <td>$</td>\n",
       "    </tr>\n",
       "    <tr>\n",
       "      <th>5738</th>\n",
       "      <td>Teppan Kitchen</td>\n",
       "      <td>Teppan Kitchen</td>\n",
       "      <td>V6B 4N4</td>\n",
       "      <td>FC26</td>\n",
       "      <td>555</td>\n",
       "      <td>W HASTINGS ST</td>\n",
       "      <td>[{'alias': 'japanese', 'title': 'Japanese'}, {...</td>\n",
       "      <td>True</td>\n",
       "      <td>False</td>\n",
       "      <td>3.0</td>\n",
       "      <td>15.0</td>\n",
       "      <td>None</td>\n",
       "    </tr>\n",
       "    <tr>\n",
       "      <th>5739</th>\n",
       "      <td>The Workshop Vegetarian Cafe Ltd</td>\n",
       "      <td>The Workshop Vegetarian Cafe</td>\n",
       "      <td>V5K 2A7</td>\n",
       "      <td>None</td>\n",
       "      <td>3596</td>\n",
       "      <td>E HASTINGS ST</td>\n",
       "      <td>[{'alias': 'vegetarian', 'title': 'Vegetarian'}]</td>\n",
       "      <td>True</td>\n",
       "      <td>False</td>\n",
       "      <td>4.0</td>\n",
       "      <td>19.0</td>\n",
       "      <td>None</td>\n",
       "    </tr>\n",
       "  </tbody>\n",
       "</table>\n",
       "<p>4274 rows × 12 columns</p>\n",
       "</div>"
      ],
      "text/plain": [
       "                                                  name  \\\n",
       "0     George Simnos & Joakim Bostner & Stelio Loukakos   \n",
       "2                                        Cilantro Cafe   \n",
       "3                                               O-Bowl   \n",
       "4                      Swiss Chalet Rotisserie + Grill   \n",
       "6                                     Rouge Bistro Inc   \n",
       "...                                                ...   \n",
       "5734                                   Pizza Vancouver   \n",
       "5736                               Sushi Dining Yagoto   \n",
       "5737                                        Taf's Cafe   \n",
       "5738                                    Teppan Kitchen   \n",
       "5739                  The Workshop Vegetarian Cafe Ltd   \n",
       "\n",
       "                            name_yelp postal_code  unit house         street  \\\n",
       "0                       Bows & Arrows     V5V 4E9  None  4153      FRASER ST   \n",
       "2                       Cilantro Cafe     V6Z 2L2   110   840        HOWE ST   \n",
       "3            O-bowl By Rustic Kitchen     V6K 2H3  None  3132     W BROADWAY   \n",
       "4     Swiss Chalet Rotisserie & Grill     V6K 2H4  None  3204     W BROADWAY   \n",
       "6                        Rouge Bistro     V5Y 1B1  None    91       W 2ND AV   \n",
       "...                               ...         ...   ...   ...            ...   \n",
       "5734                  Pizza Vancouver     V6B 3H6  None   547     SEYMOUR ST   \n",
       "5736              Yagoto Sushi Dining     V6K 2C8  None  2180     W BROADWAY   \n",
       "5737                       Taf's Café     V6Z 1K7  None   829   Granville St   \n",
       "5738                   Teppan Kitchen     V6B 4N4  FC26   555  W HASTINGS ST   \n",
       "5739     The Workshop Vegetarian Cafe     V5K 2A7  None  3596  E HASTINGS ST   \n",
       "\n",
       "                                             categories is_claimed is_closed  \\\n",
       "0     [{'alias': 'coffee', 'title': 'Coffee & Tea'},...       True      True   \n",
       "2     [{'alias': 'cafes', 'title': 'Cafes'}, {'alias...      False     False   \n",
       "3     [{'alias': 'asianfusion', 'title': 'Asian Fusi...       True      True   \n",
       "4     [{'alias': 'comfortfood', 'title': 'Comfort Fo...       True      True   \n",
       "6     [{'alias': 'tradamerican', 'title': 'American ...       True      True   \n",
       "...                                                 ...        ...       ...   \n",
       "5734             [{'alias': 'pizza', 'title': 'Pizza'}]       True     False   \n",
       "5736  [{'alias': 'sushi', 'title': 'Sushi Bars'}, {'...      False     False   \n",
       "5737             [{'alias': 'cafes', 'title': 'Cafes'}]       True     False   \n",
       "5738  [{'alias': 'japanese', 'title': 'Japanese'}, {...       True     False   \n",
       "5739   [{'alias': 'vegetarian', 'title': 'Vegetarian'}]       True     False   \n",
       "\n",
       "      rating  review_count price  \n",
       "0        3.5          48.0    $$  \n",
       "2        5.0           1.0  None  \n",
       "3        3.5           5.0    $$  \n",
       "4        2.5          40.0    $$  \n",
       "6        4.0          36.0     $  \n",
       "...      ...           ...   ...  \n",
       "5734     3.5          21.0  None  \n",
       "5736     4.5          73.0    $$  \n",
       "5737     2.5          43.0     $  \n",
       "5738     3.0          15.0  None  \n",
       "5739     4.0          19.0  None  \n",
       "\n",
       "[4274 rows x 12 columns]"
      ]
     },
     "execution_count": 102,
     "metadata": {},
     "output_type": "execute_result"
    }
   ],
   "source": [
    "data_clean"
   ]
  },
  {
   "cell_type": "markdown",
   "metadata": {},
   "source": [
    "## Visualizations"
   ]
  },
  {
   "cell_type": "code",
   "execution_count": 2024,
   "metadata": {},
   "outputs": [
    {
     "data": {
      "text/plain": [
       "Text(0, 0.5, 'Count')"
      ]
     },
     "execution_count": 2024,
     "metadata": {},
     "output_type": "execute_result"
    },
    {
     "data": {
      "image/png": "[encoded data removed]",
      "text/plain": [
       "<Figure size 432x288 with 1 Axes>"
      ]
     },
     "metadata": {
      "needs_background": "light"
     },
     "output_type": "display_data"
    }
   ],
   "source": [
    "objects = (\"\\$\", \"\\$\\$\", \"\\$\\$\\$\", \"\\$\\$\\$\\$\", \"NA\")\n",
    "y_pos = np.arange(len(objects))\n",
    "\n",
    "values = [np.sum((data_clean['price'] == \"$\").values),\n",
    "          np.sum((data_clean['price'] == \"$$\").values),\n",
    "          np.sum((data_clean['price'] == \"$$$\").values),\n",
    "          np.sum((data_clean['price'] == \"$$$$\").values),\n",
    "          np.sum((data_clean['price'].isna()).values)]\n",
    "\n",
    "plt.bar(y_pos, values, align='center', alpha=0.5)\n",
    "plt.xticks(y_pos, objects)\n",
    "plt.ylabel('Count')\n",
    "\n"
   ]
  },
  {
   "cell_type": "code",
   "execution_count": 2032,
   "metadata": {},
   "outputs": [
    {
     "data": {
      "image/png": "[encoded data removed]",
      "text/plain": [
       "<Figure size 432x288 with 1 Axes>"
      ]
     },
     "metadata": {
      "needs_background": "light"
     },
     "output_type": "display_data"
    }
   ],
   "source": [
    "x = data_clean['rating'].values\n",
    "plt.hist(x, bins = 30);"
   ]
  },
  {
   "cell_type": "code",
   "execution_count": 2035,
   "metadata": {},
   "outputs": [
    {
     "data": {
      "image/png": "[encoded data removed]",
      "text/plain": [
       "<Figure size 432x288 with 1 Axes>"
      ]
     },
     "metadata": {
      "needs_background": "light"
     },
     "output_type": "display_data"
    }
   ],
   "source": [
    "x = data_clean['review_count'].values\n",
    "plt.hist(x, bins = 100);"
   ]
  },
  {
   "cell_type": "code",
   "execution_count": 2043,
   "metadata": {},
   "outputs": [
    {
     "data": {
      "text/plain": [
       "2279.0"
      ]
     },
     "execution_count": 2043,
     "metadata": {},
     "output_type": "execute_result"
    }
   ],
   "source": [
    "np.nanmax(x)"
   ]
  }
 ],
 "metadata": {
  "kernelspec": {
   "display_name": "Python 3",
   "language": "python",
   "name": "python3"
  },
  "language_info": {
   "codemirror_mode": {
    "name": "ipython",
    "version": 3
   },
   "file_extension": ".py",
   "mimetype": "text/x-python",
   "name": "python",
   "nbconvert_exporter": "python",
   "pygments_lexer": "ipython3",
   "version": "3.7.6"
  }
 },
 "nbformat": 4,
 "nbformat_minor": 4
}
