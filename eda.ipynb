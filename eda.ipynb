{
 "cells": [
  {
   "cell_type": "markdown",
   "metadata": {},
   "source": [
    "# Exploratory Data Analysis"
   ]
  },
  {
   "cell_type": "markdown",
   "metadata": {},
   "source": [
    "In this EDA, I will be examining various data sources from [opendata.vancouver.ca](https://opendata.vancouver.ca/pages/home/)."
   ]
  },
  {
   "cell_type": "code",
   "execution_count": 32,
   "metadata": {},
   "outputs": [],
   "source": [
    "import numpy as np\n",
    "import pandas as pd\n",
    "import re\n",
    "\n",
    "from matplotlib import pyplot as plt\n",
    "from pyspark.sql import SparkSession"
   ]
  },
  {
   "cell_type": "code",
   "execution_count": 230,
   "metadata": {},
   "outputs": [],
   "source": [
    "from pyspark.sql.functions import coalesce"
   ]
  },
  {
   "cell_type": "code",
   "execution_count": 3,
   "metadata": {},
   "outputs": [],
   "source": [
    "from pyspark.ml.regression import LinearRegression\n",
    "from pyspark.ml.feature import VectorAssembler\n",
    "from pyspark.sql.functions import array, col, count, mean, sum, udf, when\n",
    "from pyspark.sql.types import DoubleType, IntegerType, StringType, Row\n",
    "from pyspark.sql.functions import sum, col, udf\n",
    "from pyspark.sql.types import *"
   ]
  },
  {
   "cell_type": "code",
   "execution_count": 4,
   "metadata": {},
   "outputs": [],
   "source": [
    "spark = SparkSession.builder.appName('Ops').getOrCreate()"
   ]
  },
  {
   "cell_type": "code",
   "execution_count": 5,
   "metadata": {},
   "outputs": [],
   "source": [
    "# allows for cleaner output\n",
    "spark.conf.set(\"spark.sql.repl.eagerEval.enabled\", True)"
   ]
  },
  {
   "cell_type": "code",
   "execution_count": 6,
   "metadata": {},
   "outputs": [],
   "source": [
    "licences_df = (spark.read\n",
    "          .option('header','true')\n",
    "          .option('inferSchema','true')\n",
    "          .option('sep', ';')\n",
    "          .csv('data/business-licences.csv'))"
   ]
  },
  {
   "cell_type": "code",
   "execution_count": 120,
   "metadata": {},
   "outputs": [
    {
     "data": {
      "text/plain": [
       "443158"
      ]
     },
     "execution_count": 120,
     "metadata": {},
     "output_type": "execute_result"
    }
   ],
   "source": [
    "licences_df.count()"
   ]
  },
  {
   "cell_type": "markdown",
   "metadata": {},
   "source": [
    "> There are 443 158 observations in this dataset. "
   ]
  },
  {
   "cell_type": "code",
   "execution_count": 7,
   "metadata": {},
   "outputs": [
    {
     "name": "stdout",
     "output_type": "stream",
     "text": [
      "root\n",
      " |-- FOLDERYEAR: integer (nullable = true)\n",
      " |-- LicenceRSN: integer (nullable = true)\n",
      " |-- LicenceNumber: string (nullable = true)\n",
      " |-- LicenceRevisionNumber: integer (nullable = true)\n",
      " |-- BusinessName: string (nullable = true)\n",
      " |-- BusinessTradeName: string (nullable = true)\n",
      " |-- Status: string (nullable = true)\n",
      " |-- IssuedDate: timestamp (nullable = true)\n",
      " |-- ExpiredDate: timestamp (nullable = true)\n",
      " |-- BusinessType: string (nullable = true)\n",
      " |-- BusinessSubType: string (nullable = true)\n",
      " |-- Unit: string (nullable = true)\n",
      " |-- UnitType: string (nullable = true)\n",
      " |-- House: string (nullable = true)\n",
      " |-- Street: string (nullable = true)\n",
      " |-- City: string (nullable = true)\n",
      " |-- Province: string (nullable = true)\n",
      " |-- Country: string (nullable = true)\n",
      " |-- PostalCode: string (nullable = true)\n",
      " |-- LocalArea: string (nullable = true)\n",
      " |-- NumberofEmployees: double (nullable = true)\n",
      " |-- FeePaid: integer (nullable = true)\n",
      " |-- ExtractDate: timestamp (nullable = true)\n",
      " |-- Geom: string (nullable = true)\n",
      "\n"
     ]
    }
   ],
   "source": [
    "licences_df.printSchema()"
   ]
  },
  {
   "cell_type": "code",
   "execution_count": 19,
   "metadata": {},
   "outputs": [
    {
     "data": {
      "text/html": [
       "<table border='1'>\n",
       "<tr><th>FOLDERYEAR</th><th>LicenceRSN</th><th>LicenceNumber</th><th>LicenceRevisionNumber</th><th>BusinessName</th><th>BusinessTradeName</th><th>Status</th><th>IssuedDate</th><th>ExpiredDate</th><th>BusinessType</th><th>BusinessSubType</th><th>Unit</th><th>UnitType</th><th>House</th><th>Street</th><th>City</th><th>Province</th><th>Country</th><th>PostalCode</th><th>LocalArea</th><th>NumberofEmployees</th><th>FeePaid</th><th>ExtractDate</th><th>Geom</th></tr>\n",
       "<tr><td>15</td><td>2380055</td><td>15-150315</td><td>0</td><td>Brandi Nicole Eue...</td><td>Spa Haven Boutiqu...</td><td>Gone Out of Business</td><td>null</td><td>null</td><td>Therapeutic Touch...</td><td>null</td><td>null</td><td>null</td><td>null</td><td>null</td><td>Vancouver</td><td>BC</td><td>CA</td><td>null</td><td>Kensington-Cedar ...</td><td>1.0</td><td>null</td><td>2019-07-21 13:49:17</td><td>null</td></tr>\n",
       "<tr><td>15</td><td>2380056</td><td>15-150316</td><td>0</td><td>Kelly Ashley Bake...</td><td>null</td><td>Pending</td><td>null</td><td>null</td><td>Therapeutic Touch...</td><td>null</td><td>null</td><td>null</td><td>null</td><td>null</td><td>Vancouver</td><td>BC</td><td>CA</td><td>null</td><td>Kitsilano</td><td>1.0</td><td>null</td><td>2019-07-21 13:49:17</td><td>null</td></tr>\n",
       "<tr><td>15</td><td>2380058</td><td>15-150318</td><td>0</td><td>Heart To Mind Cra...</td><td>Heart To Mind</td><td>Issued</td><td>2014-12-20 10:39:10</td><td>2015-12-31 00:00:00</td><td>Therapeutic Touch...</td><td>null</td><td>null</td><td>null</td><td>null</td><td>null</td><td>Vancouver</td><td>BC</td><td>CA</td><td>null</td><td>Kerrisdale</td><td>1.0</td><td>133</td><td>2019-07-21 13:49:17</td><td>null</td></tr>\n",
       "<tr><td>15</td><td>2380062</td><td>15-150322</td><td>0</td><td>(Donna Sam)</td><td>null</td><td>Issued</td><td>2014-12-02 15:12:32</td><td>2015-12-31 00:00:00</td><td>Therapeutic Touch...</td><td>null</td><td>null</td><td>null</td><td>null</td><td>null</td><td>Vancouver</td><td>BC</td><td>CA</td><td>null</td><td>South Cambie</td><td>0.0</td><td>155</td><td>2019-07-21 13:49:17</td><td>null</td></tr>\n",
       "<tr><td>15</td><td>2380065</td><td>15-150325</td><td>0</td><td>James Joseph Thom...</td><td>James Thompson RST</td><td>Gone Out of Business</td><td>null</td><td>null</td><td>Therapeutic Touch...</td><td>null</td><td>null</td><td>null</td><td>null</td><td>null</td><td>Vancouver</td><td>BC</td><td>CA</td><td>null</td><td>Grandview-Woodland</td><td>0.0</td><td>null</td><td>2019-07-21 13:49:17</td><td>null</td></tr>\n",
       "<tr><td>15</td><td>2380066</td><td>15-150326</td><td>0</td><td>(Bunchu Praichit)</td><td>Bunchu Praichit T...</td><td>Issued</td><td>2014-12-09 21:26:32</td><td>2015-12-31 00:00:00</td><td>Therapeutic Touch...</td><td>null</td><td>null</td><td>null</td><td>null</td><td>null</td><td>Vancouver</td><td>BC</td><td>CA</td><td>null</td><td>Kensington-Cedar ...</td><td>0.0</td><td>133</td><td>2019-07-21 13:49:17</td><td>null</td></tr>\n",
       "<tr><td>15</td><td>2380078</td><td>15-150338</td><td>0</td><td>Tourland Travel Ltd</td><td>null</td><td>Issued</td><td>2014-11-24 10:30:17</td><td>2015-12-31 00:00:00</td><td>Travel Agent</td><td>null</td><td>7</td><td>Unit</td><td>900</td><td>W GEORGIA ST</td><td>Vancouver</td><td>BC</td><td>CA</td><td>V6C 2W6</td><td>Downtown</td><td>2.0</td><td>133</td><td>2019-07-21 13:49:17</td><td>&quot;{&quot;&quot;type&quot;&quot;: &quot;&quot;Poi...</td></tr>\n",
       "<tr><td>15</td><td>2380079</td><td>15-150339</td><td>0</td><td>Jetway Travel Inc</td><td>null</td><td>Issued</td><td>2015-02-27 14:16:59</td><td>2015-12-31 00:00:00</td><td>Travel Agent</td><td>null</td><td>null</td><td>null</td><td>1796</td><td>RENFREW ST</td><td>Vancouver</td><td>BC</td><td>CA</td><td>V5M 3H8</td><td>Hastings-Sunrise</td><td>2.0</td><td>173</td><td>2019-07-21 13:49:17</td><td>&quot;{&quot;&quot;type&quot;&quot;: &quot;&quot;Poi...</td></tr>\n",
       "<tr><td>15</td><td>2380080</td><td>15-150340</td><td>0</td><td>Skyline Connectio...</td><td>null</td><td>Issued</td><td>2014-12-29 11:34:29</td><td>2015-12-31 00:00:00</td><td>Travel Agent</td><td>null</td><td>null</td><td>null</td><td>5318</td><td>VICTORIA DRIVE</td><td>Vancouver</td><td>BC</td><td>CA</td><td>V5P 3V7</td><td>Kensington-Cedar ...</td><td>2.0</td><td>133</td><td>2019-07-21 13:49:17</td><td>&quot;{&quot;&quot;type&quot;&quot;: &quot;&quot;Poi...</td></tr>\n",
       "<tr><td>15</td><td>2380082</td><td>15-150342</td><td>0</td><td>The Flight Shops Inc</td><td>Flight Centre</td><td>Issued</td><td>2014-12-03 09:37:03</td><td>2015-12-31 00:00:00</td><td>Travel Agent</td><td>null</td><td>null</td><td>null</td><td>1232</td><td>DAVIE ST</td><td>Vancouver</td><td>BC</td><td>CA</td><td>V6E 1N3</td><td>West End</td><td>4.0</td><td>133</td><td>2019-07-21 13:49:17</td><td>&quot;{&quot;&quot;type&quot;&quot;: &quot;&quot;Poi...</td></tr>\n",
       "<tr><td>15</td><td>2380083</td><td>15-150343</td><td>0</td><td>The Flight Shops Inc</td><td>Flight Centre</td><td>Issued</td><td>2014-12-03 09:38:40</td><td>2015-12-31 00:00:00</td><td>Travel Agent</td><td>null</td><td>201</td><td>Unit</td><td>555</td><td>BURRARD ST</td><td>Vancouver</td><td>BC</td><td>CA</td><td>V7X 1M7</td><td>Downtown</td><td>4.0</td><td>133</td><td>2019-07-21 13:49:17</td><td>&quot;{&quot;&quot;type&quot;&quot;: &quot;&quot;Poi...</td></tr>\n",
       "<tr><td>15</td><td>2380086</td><td>15-150346</td><td>0</td><td>The Flight Shops Inc</td><td>Flight Centre</td><td>Issued</td><td>2014-12-03 09:43:35</td><td>2015-12-31 00:00:00</td><td>Travel Agent</td><td>null</td><td>125</td><td>Unit</td><td>625</td><td>HOWE ST</td><td>Vancouver</td><td>BC</td><td>CA</td><td>V6C 2T6</td><td>Downtown</td><td>4.0</td><td>133</td><td>2019-07-21 13:49:17</td><td>&quot;{&quot;&quot;type&quot;&quot;: &quot;&quot;Poi...</td></tr>\n",
       "<tr><td>15</td><td>2380088</td><td>15-150348</td><td>0</td><td>The Flight Shops Inc</td><td>Library Square Fl...</td><td>Issued</td><td>2014-12-03 09:46:33</td><td>2015-12-31 00:00:00</td><td>Travel Agent</td><td>null</td><td>203</td><td>Unit</td><td>345</td><td>ROBSON ST</td><td>Vancouver</td><td>BC</td><td>CA</td><td>V6B 6B3</td><td>Downtown</td><td>4.0</td><td>133</td><td>2019-07-21 13:49:17</td><td>&quot;{&quot;&quot;type&quot;&quot;: &quot;&quot;Poi...</td></tr>\n",
       "<tr><td>15</td><td>2380092</td><td>15-150352</td><td>0</td><td>The Flight Shops Inc</td><td>Flight Centre</td><td>Issued</td><td>2014-12-03 09:52:03</td><td>2015-12-31 00:00:00</td><td>Travel Agent</td><td>null</td><td>null</td><td>null</td><td>2790</td><td>W BROADWAY</td><td>Vancouver</td><td>BC</td><td>CA</td><td>V6K 2G4</td><td>Kitsilano</td><td>4.0</td><td>133</td><td>2019-07-21 13:49:17</td><td>&quot;{&quot;&quot;type&quot;&quot;: &quot;&quot;Poi...</td></tr>\n",
       "<tr><td>15</td><td>2380095</td><td>15-150355</td><td>0</td><td>The Flight Shops Inc</td><td>Yaletown Flight C...</td><td>Issued</td><td>2014-12-03 09:55:32</td><td>2015-12-31 00:00:00</td><td>Travel Agent</td><td>null</td><td>null</td><td>null</td><td>1138</td><td>PACIFIC BOULEVARD</td><td>Vancouver</td><td>BC</td><td>CA</td><td>V6Z 2X7</td><td>Downtown</td><td>4.0</td><td>133</td><td>2019-07-21 13:49:17</td><td>&quot;{&quot;&quot;type&quot;&quot;: &quot;&quot;Poi...</td></tr>\n",
       "<tr><td>15</td><td>2380096</td><td>15-150356</td><td>0</td><td>The Flight Shops Inc</td><td>Flight Centre - M...</td><td>Issued</td><td>2014-12-03 09:56:52</td><td>2015-12-31 00:00:00</td><td>Travel Agent</td><td>null</td><td>null</td><td>null</td><td>2821</td><td>MAIN ST</td><td>Vancouver</td><td>BC</td><td>CA</td><td>V5T 3G1</td><td>Mount Pleasant</td><td>4.0</td><td>133</td><td>2019-07-21 13:49:17</td><td>&quot;{&quot;&quot;type&quot;&quot;: &quot;&quot;Poi...</td></tr>\n",
       "<tr><td>15</td><td>2380098</td><td>15-150358</td><td>0</td><td>The Flight Shops Inc</td><td>Flight Centre Wes...</td><td>Issued</td><td>2014-12-03 09:59:36</td><td>2015-12-31 00:00:00</td><td>Travel Agent</td><td>null</td><td>null</td><td>null</td><td>4546</td><td>W 10TH AV</td><td>Vancouver</td><td>BC</td><td>CA</td><td>V6R 2J1</td><td>West Point Grey</td><td>4.0</td><td>133</td><td>2019-07-21 13:49:17</td><td>&quot;{&quot;&quot;type&quot;&quot;: &quot;&quot;Poi...</td></tr>\n",
       "<tr><td>15</td><td>2380101</td><td>15-150361</td><td>0</td><td>Transat Distribut...</td><td>Marlin Travel</td><td>Issued</td><td>2014-12-08 13:59:35</td><td>2015-12-31 00:00:00</td><td>Travel Agent</td><td>null</td><td>null</td><td>null</td><td>2175</td><td>W 41ST AV</td><td>Vancouver</td><td>BC</td><td>CA</td><td>V6M 1Z6</td><td>Arbutus-Ridge</td><td>0.0</td><td>133</td><td>2019-07-21 13:49:17</td><td>&quot;{&quot;&quot;type&quot;&quot;: &quot;&quot;Poi...</td></tr>\n",
       "<tr><td>15</td><td>2380102</td><td>15-150362</td><td>0</td><td>Transat Distribut...</td><td>Marlin Travel</td><td>Issued</td><td>2014-12-08 13:59:35</td><td>2015-12-31 00:00:00</td><td>Travel Agent</td><td>null</td><td>null</td><td>null</td><td>7126</td><td>KERR ST</td><td>Vancouver</td><td>BC</td><td>CA</td><td>V5S 4W2</td><td>Killarney</td><td>0.0</td><td>133</td><td>2019-07-21 13:49:17</td><td>&quot;{&quot;&quot;type&quot;&quot;: &quot;&quot;Poi...</td></tr>\n",
       "<tr><td>15</td><td>2380103</td><td>15-150363</td><td>0</td><td>Griffin Marine Lo...</td><td>Griffin Marine an...</td><td>Issued</td><td>2015-01-27 09:50:51</td><td>2015-12-31 00:00:00</td><td>Travel Agent</td><td>null</td><td>406</td><td>Unit</td><td>1155</td><td>ROBSON ST</td><td>Vancouver</td><td>BC</td><td>CA</td><td>V6E 1B5</td><td>West End</td><td>5.0</td><td>173</td><td>2019-07-21 13:49:17</td><td>&quot;{&quot;&quot;type&quot;&quot;: &quot;&quot;Poi...</td></tr>\n",
       "</table>\n",
       "only showing top 20 rows\n"
      ],
      "text/plain": [
       "DataFrame[FOLDERYEAR: int, LicenceRSN: int, LicenceNumber: string, LicenceRevisionNumber: int, BusinessName: string, BusinessTradeName: string, Status: string, IssuedDate: timestamp, ExpiredDate: timestamp, BusinessType: string, BusinessSubType: string, Unit: string, UnitType: string, House: string, Street: string, City: string, Province: string, Country: string, PostalCode: string, LocalArea: string, NumberofEmployees: double, FeePaid: int, ExtractDate: timestamp, Geom: string]"
      ]
     },
     "execution_count": 19,
     "metadata": {},
     "output_type": "execute_result"
    }
   ],
   "source": [
    "licences_df"
   ]
  },
  {
   "cell_type": "code",
   "execution_count": 9,
   "metadata": {},
   "outputs": [
    {
     "data": {
      "text/html": [
       "<table border='1'>\n",
       "<tr><th>FOLDERYEAR</th><th>count</th></tr>\n",
       "<tr><td>null</td><td>1</td></tr>\n",
       "<tr><td>13</td><td>60915</td></tr>\n",
       "<tr><td>16</td><td>61394</td></tr>\n",
       "<tr><td>20</td><td>62366</td></tr>\n",
       "<tr><td>94</td><td>1</td></tr>\n",
       "<tr><td>96</td><td>11</td></tr>\n",
       "<tr><td>19</td><td>70771</td></tr>\n",
       "<tr><td>15</td><td>60938</td></tr>\n",
       "<tr><td>14</td><td>60581</td></tr>\n",
       "<tr><td>18</td><td>66180</td></tr>\n",
       "</table>\n"
      ],
      "text/plain": [
       "+----------+-----+\n",
       "|FOLDERYEAR|count|\n",
       "+----------+-----+\n",
       "|      null|    1|\n",
       "|        13|60915|\n",
       "|        16|61394|\n",
       "|        20|62366|\n",
       "|        94|    1|\n",
       "|        96|   11|\n",
       "|        19|70771|\n",
       "|        15|60938|\n",
       "|        14|60581|\n",
       "|        18|66180|\n",
       "+----------+-----+"
      ]
     },
     "execution_count": 9,
     "metadata": {},
     "output_type": "execute_result"
    }
   ],
   "source": [
    "licences_df.groupBy('FOLDERYEAR').count()"
   ]
  },
  {
   "cell_type": "code",
   "execution_count": 26,
   "metadata": {},
   "outputs": [
    {
     "data": {
      "text/html": [
       "<table border='1'>\n",
       "<tr><th>BusinessType</th><th>count</th></tr>\n",
       "<tr><td>Referral Services</td><td>1835</td></tr>\n",
       "<tr><td>Janitorial Services</td><td>4366</td></tr>\n",
       "<tr><td>Financial Institu...</td><td>1480</td></tr>\n",
       "<tr><td>Public Market Ope...</td><td>20</td></tr>\n",
       "<tr><td>Non-profit Housing</td><td>1674</td></tr>\n",
       "<tr><td>Motel</td><td>7</td></tr>\n",
       "<tr><td>Printing Services</td><td>1010</td></tr>\n",
       "<tr><td>Retail Dealer - M...</td><td>74</td></tr>\n",
       "<tr><td>Contractor</td><td>27394</td></tr>\n",
       "<tr><td>Private Hospital</td><td>53</td></tr>\n",
       "<tr><td>Secondhand Dealer</td><td>1279</td></tr>\n",
       "<tr><td>Talent Agency</td><td>273</td></tr>\n",
       "<tr><td>Entertainment Ser...</td><td>2222</td></tr>\n",
       "<tr><td>Marine Services</td><td>162</td></tr>\n",
       "<tr><td>Sprinkler &amp; Gas C...</td><td>5</td></tr>\n",
       "<tr><td>Photo Services</td><td>150</td></tr>\n",
       "<tr><td>Auto Repairs</td><td>2082</td></tr>\n",
       "<tr><td>Tanning Salon</td><td>113</td></tr>\n",
       "<tr><td>Gas Contractor</td><td>1812</td></tr>\n",
       "<tr><td>Auto Wholesaler</td><td>131</td></tr>\n",
       "</table>\n",
       "only showing top 20 rows\n"
      ],
      "text/plain": [
       "+--------------------+-----+\n",
       "|        BusinessType|count|\n",
       "+--------------------+-----+\n",
       "|   Referral Services| 1835|\n",
       "| Janitorial Services| 4366|\n",
       "|Financial Institu...| 1480|\n",
       "|Public Market Ope...|   20|\n",
       "|  Non-profit Housing| 1674|\n",
       "|               Motel|    7|\n",
       "|   Printing Services| 1010|\n",
       "|Retail Dealer - M...|   74|\n",
       "|          Contractor|27394|\n",
       "|    Private Hospital|   53|\n",
       "|   Secondhand Dealer| 1279|\n",
       "|       Talent Agency|  273|\n",
       "|Entertainment Ser...| 2222|\n",
       "|     Marine Services|  162|\n",
       "|Sprinkler & Gas C...|    5|\n",
       "|      Photo Services|  150|\n",
       "|        Auto Repairs| 2082|\n",
       "|       Tanning Salon|  113|\n",
       "|      Gas Contractor| 1812|\n",
       "|     Auto Wholesaler|  131|\n",
       "+--------------------+-----+\n",
       "only showing top 20 rows"
      ]
     },
     "execution_count": 26,
     "metadata": {},
     "output_type": "execute_result"
    }
   ],
   "source": [
    "licences_df.select('BusinessType').distinct().count()\n",
    "licences_df.select('BusinessType').groupBy('BusinessType').count()"
   ]
  },
  {
   "cell_type": "code",
   "execution_count": 123,
   "metadata": {},
   "outputs": [
    {
     "name": "stdout",
     "output_type": "stream",
     "text": [
      "['Manufacturer - Food with Anc. Retail', 'Ltd Service Food Establishment', 'Temp Liquor Licence Amendment', 'Liquor Delivery Services', 'Liquor Establishment Standard', 'Retail Dealer - Food', 'Restaurant Class 2', 'Food Processing', 'Liquor Establishment Extended', 'Wholesale Dealer - Food with Anc. Retail', 'Restaurant Class 1', 'Liquor License Application', 'Warehouse Operator - Food', 'Manufacturer - Food', 'Liquor Retail Store', 'Wholesale Dealer - Food']\n"
     ]
    }
   ],
   "source": [
    "business_types = licences_df.select('BusinessType').distinct().collect()\n",
    "business_list = [business_types[i].BusinessType for i in range(len(business_types))]\n",
    "\n",
    "r = re.compile(\".*[Ff]ood.*|.*[Rr]estaurant.*|.*[Ll]iquor.*\")\n",
    "newlist = list(filter(r.match, business_list)) \n",
    "print(newlist)"
   ]
  },
  {
   "cell_type": "code",
   "execution_count": null,
   "metadata": {},
   "outputs": [],
   "source": [
    "restaurants_1 = (licences_df['BusinessType'] == 'Restaurant Class 1')\n",
    "restaurants_2 = (licences_df['BusinessType'] == 'Restaurant Class 2')\n",
    "restaurants_3 = (licences_df['BusinessType'] == 'Ltd Service Food Establishment')\n",
    "\n",
    "\n",
    "licences_rest_df = licences_df.filter(restaurants_1 | restaurants_2 | restaurants_3)"
   ]
  },
  {
   "cell_type": "markdown",
   "metadata": {},
   "source": [
    "> Use an external dataset such as yelp or zomato to get restuarant cuisine, price range, and other features. "
   ]
  },
  {
   "cell_type": "code",
   "execution_count": 139,
   "metadata": {},
   "outputs": [
    {
     "data": {
      "text/html": [
       "<table border='1'>\n",
       "<tr><th>Status</th><th>count</th></tr>\n",
       "<tr><td>Cancelled</td><td>510</td></tr>\n",
       "<tr><td>Gone Out of Business</td><td>2488</td></tr>\n",
       "<tr><td>Issued</td><td>20666</td></tr>\n",
       "<tr><td>Inactive</td><td>518</td></tr>\n",
       "<tr><td>Pending</td><td>1380</td></tr>\n",
       "</table>\n"
      ],
      "text/plain": [
       "+--------------------+-----+\n",
       "|              Status|count|\n",
       "+--------------------+-----+\n",
       "|           Cancelled|  510|\n",
       "|Gone Out of Business| 2488|\n",
       "|              Issued|20666|\n",
       "|            Inactive|  518|\n",
       "|             Pending| 1380|\n",
       "+--------------------+-----+"
      ]
     },
     "execution_count": 139,
     "metadata": {},
     "output_type": "execute_result"
    }
   ],
   "source": [
    "licences_rest_df.groupBy(\"Status\").count()"
   ]
  },
  {
   "cell_type": "code",
   "execution_count": null,
   "metadata": {},
   "outputs": [],
   "source": []
  },
  {
   "cell_type": "code",
   "execution_count": null,
   "metadata": {},
   "outputs": [],
   "source": []
  },
  {
   "cell_type": "markdown",
   "metadata": {},
   "source": [
    "> There are 3693 businesses with missing name values so I will replace these entries with their business names. "
   ]
  },
  {
   "cell_type": "code",
   "execution_count": 216,
   "metadata": {},
   "outputs": [
    {
     "data": {
      "text/plain": [
       "3693"
      ]
     },
     "execution_count": 216,
     "metadata": {},
     "output_type": "execute_result"
    }
   ],
   "source": [
    "licences_rest_df.filter('BusinessTradeName is null')"
   ]
  },
  {
   "cell_type": "code",
   "execution_count": 233,
   "metadata": {},
   "outputs": [],
   "source": [
    "licences_rest_df = licences_rest_df.withColumn('BusinessTradeName', coalesce('BusinessTradeName', 'BusinessName'))"
   ]
  },
  {
   "cell_type": "code",
   "execution_count": 241,
   "metadata": {},
   "outputs": [
    {
     "data": {
      "text/plain": [
       "25538"
      ]
     },
     "execution_count": 241,
     "metadata": {},
     "output_type": "execute_result"
    }
   ],
   "source": [
    "licences_rest_df.na.drop(subset = ['BusinessName']).count()"
   ]
  },
  {
   "cell_type": "markdown",
   "metadata": {},
   "source": [
    "> How many stores have changed owners? (BusinessName is the owner, BusinessTradeName is the name of the shop). There are 5682 different owners and 5150 different restaurants. "
   ]
  },
  {
   "cell_type": "code",
   "execution_count": 240,
   "metadata": {},
   "outputs": [
    {
     "name": "stdout",
     "output_type": "stream",
     "text": [
      "5682\n",
      "5150\n"
     ]
    }
   ],
   "source": [
    "print(licences_rest_df.select('BusinessName').distinct().count())\n",
    "print(licences_rest_df.select('BusinessTradeName').distinct().count())"
   ]
  },
  {
   "cell_type": "code",
   "execution_count": null,
   "metadata": {},
   "outputs": [],
   "source": []
  },
  {
   "cell_type": "code",
   "execution_count": null,
   "metadata": {},
   "outputs": [],
   "source": []
  }
 ],
 "metadata": {
  "kernelspec": {
   "display_name": "Python 3",
   "language": "python",
   "name": "python3"
  },
  "language_info": {
   "codemirror_mode": {
    "name": "ipython",
    "version": 3
   },
   "file_extension": ".py",
   "mimetype": "text/x-python",
   "name": "python",
   "nbconvert_exporter": "python",
   "pygments_lexer": "ipython3",
   "version": "3.7.6"
  }
 },
 "nbformat": 4,
 "nbformat_minor": 4
}
