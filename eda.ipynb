{
 "cells": [
  {
   "cell_type": "markdown",
   "metadata": {},
   "source": [
    "# Exploratory Data Analysis"
   ]
  },
  {
   "cell_type": "markdown",
   "metadata": {},
   "source": [
    "In this EDA, I will be examining various data sources from [opendata.vancouver.ca](https://opendata.vancouver.ca/pages/home/)."
   ]
  },
  {
   "cell_type": "markdown",
   "metadata": {},
   "source": [
    "## Imports"
   ]
  },
  {
   "cell_type": "code",
   "execution_count": 1,
   "metadata": {},
   "outputs": [],
   "source": [
    "import numpy as np\n",
    "import pandas as pd\n",
    "import re\n",
    "import requests\n",
    "import os\n",
    "\n",
    "from matplotlib import pyplot as plt\n",
    "from pyspark.sql import SparkSession"
   ]
  },
  {
   "cell_type": "code",
   "execution_count": 38,
   "metadata": {},
   "outputs": [],
   "source": [
    "from pyspark.sql.functions import coalesce, max"
   ]
  },
  {
   "cell_type": "code",
   "execution_count": 264,
   "metadata": {},
   "outputs": [],
   "source": [
    "from pyspark.ml.regression import LinearRegression\n",
    "from pyspark.ml.feature import VectorAssembler\n",
    "from pyspark.sql.functions import array, col, count, mean, sum, udf, when, last, first\n",
    "from pyspark.sql.types import DoubleType, IntegerType, StringType, Row\n",
    "from pyspark.sql.functions import sum, col, udf\n",
    "from pyspark.sql.types import *"
   ]
  },
  {
   "cell_type": "markdown",
   "metadata": {},
   "source": [
    "## Reading in the main dataset"
   ]
  },
  {
   "cell_type": "code",
   "execution_count": 4,
   "metadata": {},
   "outputs": [],
   "source": [
    "spark = SparkSession.builder.appName('Ops').getOrCreate()"
   ]
  },
  {
   "cell_type": "code",
   "execution_count": 5,
   "metadata": {},
   "outputs": [],
   "source": [
    "# allows for cleaner output\n",
    "spark.conf.set(\"spark.sql.repl.eagerEval.enabled\", True)"
   ]
  },
  {
   "cell_type": "markdown",
   "metadata": {},
   "source": [
    "> This creates a Spark DataFrame which is very similar to a Pandas DataFrame. Spark DataFrames build on top of RDDs and also has great SQL integration for users who are familiar with the popular language. The main difference with Spark DataFrames is that operations can run on multiple nodes and they are lazy evaluators meaning operations won't be executed until the output is needed."
   ]
  },
  {
   "cell_type": "code",
   "execution_count": 6,
   "metadata": {},
   "outputs": [],
   "source": [
    "licences_df = (spark.read\n",
    "          .option('header','true')\n",
    "          .option('inferSchema','true')\n",
    "          .option('sep', ';')\n",
    "          .csv('data/business-licences-2.csv'))"
   ]
  },
  {
   "cell_type": "code",
   "execution_count": 7,
   "metadata": {},
   "outputs": [
    {
     "data": {
      "text/plain": [
       "'There are 504842 observations in this dataset'"
      ]
     },
     "execution_count": 7,
     "metadata": {},
     "output_type": "execute_result"
    }
   ],
   "source": [
    "f'There are %i observations in this dataset' % licences_df.count() "
   ]
  },
  {
   "cell_type": "code",
   "execution_count": 8,
   "metadata": {},
   "outputs": [
    {
     "name": "stdout",
     "output_type": "stream",
     "text": [
      "root\n",
      " |-- FOLDERYEAR: integer (nullable = true)\n",
      " |-- LicenceRSN: integer (nullable = true)\n",
      " |-- LicenceNumber: string (nullable = true)\n",
      " |-- LicenceRevisionNumber: integer (nullable = true)\n",
      " |-- BusinessName: string (nullable = true)\n",
      " |-- BusinessTradeName: string (nullable = true)\n",
      " |-- Status: string (nullable = true)\n",
      " |-- IssuedDate: timestamp (nullable = true)\n",
      " |-- ExpiredDate: timestamp (nullable = true)\n",
      " |-- BusinessType: string (nullable = true)\n",
      " |-- BusinessSubType: string (nullable = true)\n",
      " |-- Unit: string (nullable = true)\n",
      " |-- UnitType: string (nullable = true)\n",
      " |-- House: string (nullable = true)\n",
      " |-- Street: string (nullable = true)\n",
      " |-- City: string (nullable = true)\n",
      " |-- Province: string (nullable = true)\n",
      " |-- Country: string (nullable = true)\n",
      " |-- PostalCode: string (nullable = true)\n",
      " |-- LocalArea: string (nullable = true)\n",
      " |-- NumberofEmployees: double (nullable = true)\n",
      " |-- FeePaid: integer (nullable = true)\n",
      " |-- ExtractDate: timestamp (nullable = true)\n",
      " |-- Geom: string (nullable = true)\n",
      "\n"
     ]
    }
   ],
   "source": [
    "licences_df.printSchema()"
   ]
  },
  {
   "cell_type": "code",
   "execution_count": 196,
   "metadata": {},
   "outputs": [
    {
     "data": {
      "text/html": [
       "<table border='1'>\n",
       "<tr><th>FOLDERYEAR</th><th>LicenceRSN</th><th>LicenceNumber</th><th>LicenceRevisionNumber</th><th>BusinessName</th><th>BusinessTradeName</th><th>Status</th><th>IssuedDate</th><th>ExpiredDate</th><th>BusinessType</th><th>BusinessSubType</th><th>Unit</th><th>UnitType</th><th>House</th><th>Street</th><th>City</th><th>Province</th><th>Country</th><th>PostalCode</th><th>LocalArea</th><th>NumberofEmployees</th><th>FeePaid</th><th>ExtractDate</th><th>Geom</th></tr>\n",
       "<tr><td>15</td><td>2345113</td><td>15-115406</td><td>0</td><td>(Shun Chen)</td><td>ACC Security Syst...</td><td>Gone Out of Business</td><td>null</td><td>null</td><td>Electrical-Securi...</td><td>null</td><td>null</td><td>null</td><td>null</td><td>null</td><td>Surrey</td><td>BC</td><td>CA</td><td>null</td><td>null</td><td>2.0</td><td>null</td><td>2019-07-21 13:48:02</td><td>null</td></tr>\n",
       "<tr><td>15</td><td>2345119</td><td>15-115412</td><td>0</td><td>Praetorian Securi...</td><td>Amax Praetorian</td><td>Issued</td><td>2014-12-01 14:04:29</td><td>2015-12-31 00:00:00</td><td>Electrical-Securi...</td><td>null</td><td>null</td><td>null</td><td>null</td><td>null</td><td>Chilliwack</td><td>BC</td><td>CA</td><td>null</td><td>null</td><td>0.0</td><td>133</td><td>2019-07-21 13:48:02</td><td>null</td></tr>\n",
       "<tr><td>15</td><td>2345120</td><td>15-115413</td><td>0</td><td>Safe-Tec Security...</td><td>null</td><td>Gone Out of Business</td><td>null</td><td>null</td><td>Electrical-Securi...</td><td>null</td><td>null</td><td>null</td><td>null</td><td>null</td><td>Surrey</td><td>BC</td><td>CA</td><td>null</td><td>null</td><td>0.0</td><td>null</td><td>2019-07-21 13:48:02</td><td>null</td></tr>\n",
       "<tr><td>15</td><td>2345121</td><td>15-115414</td><td>0</td><td>Husky Alarm Integ...</td><td>null</td><td>Issued</td><td>2015-02-10 08:05:11</td><td>2015-12-31 00:00:00</td><td>Electrical-Securi...</td><td>null</td><td>null</td><td>null</td><td>null</td><td>null</td><td>Port Moody</td><td>BC</td><td>CA</td><td>null</td><td>null</td><td>2.0</td><td>173</td><td>2019-07-21 13:48:02</td><td>null</td></tr>\n",
       "<tr><td>15</td><td>2345122</td><td>15-115415</td><td>0</td><td>Sea to Sky Securi...</td><td>null</td><td>Pending</td><td>null</td><td>null</td><td>Electrical-Securi...</td><td>null</td><td>null</td><td>null</td><td>null</td><td>null</td><td>North Vancouver</td><td>BC</td><td>CA</td><td>null</td><td>null</td><td>3.0</td><td>null</td><td>2019-07-21 13:48:02</td><td>null</td></tr>\n",
       "<tr><td>15</td><td>2345188</td><td>15-115481</td><td>0</td><td>(Kenneth Bradley)</td><td>Ken Bradley Truck...</td><td>Issued</td><td>2014-11-18 11:35:48</td><td>2015-12-31 00:00:00</td><td>Equipment Operator</td><td>null</td><td>null</td><td>null</td><td>null</td><td>null</td><td>Coquitlam</td><td>BC</td><td>CA</td><td>null</td><td>null</td><td>0.0</td><td>162</td><td>2019-07-21 13:48:02</td><td>null</td></tr>\n",
       "<tr><td>15</td><td>2345191</td><td>15-115484</td><td>0</td><td>Litz Crane Servic...</td><td>null</td><td>Issued</td><td>2014-11-06 14:31:00</td><td>2015-12-31 00:00:00</td><td>Equipment Operator</td><td>null</td><td>null</td><td>null</td><td>null</td><td>null</td><td>Port Coquitlam</td><td>BC</td><td>CA</td><td>null</td><td>null</td><td>5.0</td><td>162</td><td>2019-07-21 13:48:02</td><td>null</td></tr>\n",
       "<tr><td>15</td><td>2345195</td><td>15-115488</td><td>0</td><td>(Wayne Nichols)</td><td>W Nichols Trucking</td><td>Issued</td><td>2014-11-05 12:50:58</td><td>2015-12-31 00:00:00</td><td>Equipment Operator</td><td>null</td><td>null</td><td>null</td><td>null</td><td>null</td><td>Delta</td><td>BC</td><td>CA</td><td>null</td><td>null</td><td>1.0</td><td>162</td><td>2019-07-21 13:48:02</td><td>null</td></tr>\n",
       "<tr><td>15</td><td>2345196</td><td>15-115489</td><td>0</td><td>(Harry Powar)</td><td>Harry Powar Trucking</td><td>Issued</td><td>2014-12-04 18:49:08</td><td>2015-12-31 00:00:00</td><td>Equipment Operator</td><td>null</td><td>null</td><td>null</td><td>null</td><td>null</td><td>Burnaby</td><td>BC</td><td>CA</td><td>null</td><td>null</td><td>1.0</td><td>162</td><td>2019-07-21 13:48:02</td><td>null</td></tr>\n",
       "<tr><td>15</td><td>2345203</td><td>15-115496</td><td>0</td><td>J Brown Trucking Inc</td><td>null</td><td>Issued</td><td>2014-12-06 09:23:32</td><td>2015-12-31 00:00:00</td><td>Equipment Operator</td><td>null</td><td>null</td><td>null</td><td>null</td><td>null</td><td>Delta</td><td>BC</td><td>CA</td><td>null</td><td>null</td><td>2.0</td><td>162</td><td>2019-07-21 13:48:02</td><td>null</td></tr>\n",
       "</table>\n"
      ],
      "text/plain": [
       "+----------+----------+-------------+---------------------+--------------------+--------------------+--------------------+-------------------+-------------------+--------------------+---------------+----+--------+-----+------+---------------+--------+-------+----------+---------+-----------------+-------+-------------------+----+\n",
       "|FOLDERYEAR|LicenceRSN|LicenceNumber|LicenceRevisionNumber|        BusinessName|   BusinessTradeName|              Status|         IssuedDate|        ExpiredDate|        BusinessType|BusinessSubType|Unit|UnitType|House|Street|           City|Province|Country|PostalCode|LocalArea|NumberofEmployees|FeePaid|        ExtractDate|Geom|\n",
       "+----------+----------+-------------+---------------------+--------------------+--------------------+--------------------+-------------------+-------------------+--------------------+---------------+----+--------+-----+------+---------------+--------+-------+----------+---------+-----------------+-------+-------------------+----+\n",
       "|        15|   2345113|    15-115406|                    0|         (Shun Chen)|ACC Security Syst...|Gone Out of Business|               null|               null|Electrical-Securi...|           null|null|    null| null|  null|         Surrey|      BC|     CA|      null|     null|              2.0|   null|2019-07-21 13:48:02|null|\n",
       "|        15|   2345119|    15-115412|                    0|Praetorian Securi...|     Amax Praetorian|              Issued|2014-12-01 14:04:29|2015-12-31 00:00:00|Electrical-Securi...|           null|null|    null| null|  null|     Chilliwack|      BC|     CA|      null|     null|              0.0|    133|2019-07-21 13:48:02|null|\n",
       "|        15|   2345120|    15-115413|                    0|Safe-Tec Security...|                null|Gone Out of Business|               null|               null|Electrical-Securi...|           null|null|    null| null|  null|         Surrey|      BC|     CA|      null|     null|              0.0|   null|2019-07-21 13:48:02|null|\n",
       "|        15|   2345121|    15-115414|                    0|Husky Alarm Integ...|                null|              Issued|2015-02-10 08:05:11|2015-12-31 00:00:00|Electrical-Securi...|           null|null|    null| null|  null|     Port Moody|      BC|     CA|      null|     null|              2.0|    173|2019-07-21 13:48:02|null|\n",
       "|        15|   2345122|    15-115415|                    0|Sea to Sky Securi...|                null|             Pending|               null|               null|Electrical-Securi...|           null|null|    null| null|  null|North Vancouver|      BC|     CA|      null|     null|              3.0|   null|2019-07-21 13:48:02|null|\n",
       "|        15|   2345188|    15-115481|                    0|   (Kenneth Bradley)|Ken Bradley Truck...|              Issued|2014-11-18 11:35:48|2015-12-31 00:00:00|  Equipment Operator|           null|null|    null| null|  null|      Coquitlam|      BC|     CA|      null|     null|              0.0|    162|2019-07-21 13:48:02|null|\n",
       "|        15|   2345191|    15-115484|                    0|Litz Crane Servic...|                null|              Issued|2014-11-06 14:31:00|2015-12-31 00:00:00|  Equipment Operator|           null|null|    null| null|  null| Port Coquitlam|      BC|     CA|      null|     null|              5.0|    162|2019-07-21 13:48:02|null|\n",
       "|        15|   2345195|    15-115488|                    0|     (Wayne Nichols)|  W Nichols Trucking|              Issued|2014-11-05 12:50:58|2015-12-31 00:00:00|  Equipment Operator|           null|null|    null| null|  null|          Delta|      BC|     CA|      null|     null|              1.0|    162|2019-07-21 13:48:02|null|\n",
       "|        15|   2345196|    15-115489|                    0|       (Harry Powar)|Harry Powar Trucking|              Issued|2014-12-04 18:49:08|2015-12-31 00:00:00|  Equipment Operator|           null|null|    null| null|  null|        Burnaby|      BC|     CA|      null|     null|              1.0|    162|2019-07-21 13:48:02|null|\n",
       "|        15|   2345203|    15-115496|                    0|J Brown Trucking Inc|                null|              Issued|2014-12-06 09:23:32|2015-12-31 00:00:00|  Equipment Operator|           null|null|    null| null|  null|          Delta|      BC|     CA|      null|     null|              2.0|    162|2019-07-21 13:48:02|null|\n",
       "+----------+----------+-------------+---------------------+--------------------+--------------------+--------------------+-------------------+-------------------+--------------------+---------------+----+--------+-----+------+---------------+--------+-------+----------+---------+-----------------+-------+-------------------+----+"
      ]
     },
     "execution_count": 196,
     "metadata": {},
     "output_type": "execute_result"
    }
   ],
   "source": [
    "# show the first 10 rows \n",
    "licences_df.limit(10)"
   ]
  },
  {
   "cell_type": "code",
   "execution_count": 197,
   "metadata": {},
   "outputs": [
    {
     "data": {
      "text/html": [
       "<table border='1'>\n",
       "<tr><th>FOLDERYEAR</th><th>count</th></tr>\n",
       "<tr><td>13</td><td>60915</td></tr>\n",
       "<tr><td>16</td><td>61394</td></tr>\n",
       "<tr><td>20</td><td>64003</td></tr>\n",
       "<tr><td>19</td><td>70771</td></tr>\n",
       "<tr><td>15</td><td>60938</td></tr>\n",
       "<tr><td>17</td><td>60060</td></tr>\n",
       "<tr><td>14</td><td>60581</td></tr>\n",
       "<tr><td>18</td><td>66180</td></tr>\n",
       "</table>\n"
      ],
      "text/plain": [
       "+----------+-----+\n",
       "|FOLDERYEAR|count|\n",
       "+----------+-----+\n",
       "|        13|60915|\n",
       "|        16|61394|\n",
       "|        20|64003|\n",
       "|        19|70771|\n",
       "|        15|60938|\n",
       "|        17|60060|\n",
       "|        14|60581|\n",
       "|        18|66180|\n",
       "+----------+-----+"
      ]
     },
     "execution_count": 197,
     "metadata": {},
     "output_type": "execute_result"
    }
   ],
   "source": [
    "licences_df.groupBy('FOLDERYEAR').count()"
   ]
  },
  {
   "cell_type": "markdown",
   "metadata": {},
   "source": [
    "## Initial Wrangling "
   ]
  },
  {
   "cell_type": "code",
   "execution_count": 10,
   "metadata": {},
   "outputs": [
    {
     "name": "stdout",
     "output_type": "stream",
     "text": [
      "['Manufacturer - Food with Anc. Retail', 'Ltd Service Food Establishment', 'Temp Liquor Licence Amendment', 'Liquor Delivery Services', 'Liquor Establishment Standard', 'Retail Dealer - Food', 'Restaurant Class 2', 'Food Processing', 'Liquor Establishment Extended', 'Wholesale Dealer - Food with Anc. Retail', 'Restaurant Class 1', 'Liquor License Application', 'Warehouse Operator - Food', 'Manufacturer - Food', 'Liquor Retail Store', 'Wholesale Dealer - Food']\n"
     ]
    }
   ],
   "source": [
    "business_types = licences_df.select('BusinessType').distinct().collect()\n",
    "business_list = [business_types[i].BusinessType for i in range(len(business_types))]\n",
    "\n",
    "r = re.compile(\".*[Ff]ood.*|.*[Rr]estaurant.*|.*[Ll]iquor.*\")\n",
    "relevant_list = list(filter(r.match, business_list)) \n",
    "print(relevant_list)"
   ]
  },
  {
   "cell_type": "markdown",
   "metadata": {},
   "source": [
    "> These are the list of business types that have the word food, restaurant, or liquor."
   ]
  },
  {
   "cell_type": "code",
   "execution_count": 11,
   "metadata": {},
   "outputs": [],
   "source": [
    "rest_1 = (licences_df.BusinessType == 'Restaurant Class 1')\n",
    "rest_2 = (licences_df.BusinessType == 'Restaurant Class 2')\n",
    "rest_3 = (licences_df.BusinessType == 'Ltd Service Food Establishment')\n",
    "rest_4 = (licences_df.BusinessType == 'Temp Liquor Licence Amendment') & (licences_df.BusinessSubType == 'Area Extension')\n",
    "rest_5 = (licences_df.BusinessType == 'Liquor Establishment Standard') & (licences_df.BusinessSubType == 'Class 1  0-65 Seats')\n",
    "rest_6 = (licences_df.BusinessType == 'Liquor Establishment Extended') & (licences_df.BusinessSubType == 'Class 1  0-65 Seats')\n",
    "\n",
    "\n",
    "licences_rest_df = licences_df.filter(rest_1 | rest_2 | rest_3 | rest_4 | rest_5 | rest_6)"
   ]
  },
  {
   "cell_type": "code",
   "execution_count": 12,
   "metadata": {},
   "outputs": [
    {
     "data": {
      "text/html": [
       "<table border='1'>\n",
       "<tr><th>Status</th><th>count</th></tr>\n",
       "<tr><td>Cancelled</td><td>604</td></tr>\n",
       "<tr><td>Gone Out of Business</td><td>2914</td></tr>\n",
       "<tr><td>Issued</td><td>24579</td></tr>\n",
       "<tr><td>Inactive</td><td>662</td></tr>\n",
       "<tr><td>Pending</td><td>1420</td></tr>\n",
       "</table>\n"
      ],
      "text/plain": [
       "+--------------------+-----+\n",
       "|              Status|count|\n",
       "+--------------------+-----+\n",
       "|           Cancelled|  604|\n",
       "|Gone Out of Business| 2914|\n",
       "|              Issued|24579|\n",
       "|            Inactive|  662|\n",
       "|             Pending| 1420|\n",
       "+--------------------+-----+"
      ]
     },
     "execution_count": 12,
     "metadata": {},
     "output_type": "execute_result"
    }
   ],
   "source": [
    "licences_rest_df.groupBy(\"Status\").count()"
   ]
  },
  {
   "cell_type": "code",
   "execution_count": 13,
   "metadata": {},
   "outputs": [
    {
     "data": {
      "text/plain": [
       "'There are 955 businesses with missing name values'"
      ]
     },
     "execution_count": 13,
     "metadata": {},
     "output_type": "execute_result"
    }
   ],
   "source": [
    "f'There are %i businesses with missing name values' % licences_rest_df.filter('BusinessTradeName is null').select('BusinessName').distinct().count()"
   ]
  },
  {
   "cell_type": "markdown",
   "metadata": {},
   "source": [
    "> I will replace these entries with their business names. "
   ]
  },
  {
   "cell_type": "code",
   "execution_count": 14,
   "metadata": {},
   "outputs": [],
   "source": [
    "licences_rest_df = licences_rest_df.withColumn('BusinessTradeName', coalesce('BusinessTradeName', 'BusinessName'))"
   ]
  },
  {
   "cell_type": "code",
   "execution_count": 15,
   "metadata": {},
   "outputs": [],
   "source": [
    "licences_rest_df = licences_rest_df.dropna(subset = ['BusinessName'])"
   ]
  },
  {
   "cell_type": "code",
   "execution_count": 16,
   "metadata": {},
   "outputs": [
    {
     "data": {
      "text/plain": [
       "30148"
      ]
     },
     "execution_count": 16,
     "metadata": {},
     "output_type": "execute_result"
    }
   ],
   "source": [
    "licences_rest_df.count()"
   ]
  },
  {
   "cell_type": "code",
   "execution_count": 17,
   "metadata": {},
   "outputs": [],
   "source": [
    "from pyspark.sql.functions import regexp_extract, col\n",
    "\n",
    "# Search for names using regex\n",
    "\n",
    "def search_restaurant(search_term, n = 20):\n",
    "    rows = licences_rest_df.BusinessTradeName.rlike('.*{}.*'.format(search_term))\n",
    "    return licences_rest_df.filter(rows).limit(n)"
   ]
  },
  {
   "cell_type": "code",
   "execution_count": 24,
   "metadata": {},
   "outputs": [
    {
     "data": {
      "text/html": [
       "<table border='1'>\n",
       "<tr><th>FOLDERYEAR</th><th>LicenceRSN</th><th>LicenceNumber</th><th>LicenceRevisionNumber</th><th>BusinessName</th><th>BusinessTradeName</th><th>Status</th><th>IssuedDate</th><th>ExpiredDate</th><th>BusinessType</th><th>BusinessSubType</th><th>Unit</th><th>UnitType</th><th>House</th><th>Street</th><th>City</th><th>Province</th><th>Country</th><th>PostalCode</th><th>LocalArea</th><th>NumberofEmployees</th><th>FeePaid</th><th>ExtractDate</th><th>Geom</th></tr>\n",
       "<tr><td>16</td><td>2603912</td><td>16-145075</td><td>0</td><td>Nagomi Project Ltd</td><td>Shizen Ya</td><td>Issued</td><td>2015-11-05 11:26:12</td><td>2016-12-31 00:00:00</td><td>Restaurant Class 1</td><td>With Liquor Service</td><td>null</td><td>null</td><td>1102</td><td>W BROADWAY</td><td>Vancouver</td><td>BC</td><td>CA</td><td>V6H 1G5</td><td>Fairview</td><td>10.0</td><td>1042</td><td>2019-07-21 13:49:20</td><td>&quot;{&quot;&quot;type&quot;&quot;: &quot;&quot;Poi...</td></tr>\n",
       "<tr><td>17</td><td>2819772</td><td>17-143449</td><td>0</td><td>Nagomi Project Ltd</td><td>Shizen Ya</td><td>Issued</td><td>2016-11-29 09:10:08</td><td>2017-12-31 00:00:00</td><td>Restaurant Class 1</td><td>With Liquor Service</td><td>null</td><td>null</td><td>1102</td><td>W BROADWAY</td><td>Vancouver</td><td>BC</td><td>CA</td><td>V6H 1G5</td><td>Fairview</td><td>10.0</td><td>1063</td><td>2020-01-01 02:32:04</td><td>&quot;{&quot;&quot;type&quot;&quot;: &quot;&quot;Poi...</td></tr>\n",
       "<tr><td>14</td><td>2157871</td><td>14-145460</td><td>0</td><td>Nagomi Project Ltd</td><td>Shizen Ya</td><td>Issued</td><td>2013-12-13 10:56:37</td><td>2014-12-31 00:00:00</td><td>Restaurant Class 1</td><td>With Liquor Service</td><td>null</td><td>null</td><td>1102</td><td>W BROADWAY</td><td>Vancouver</td><td>BC</td><td>CA</td><td>V6H 1G5</td><td>Fairview</td><td>8.0</td><td>999</td><td>2019-07-21 13:49:12</td><td>&quot;{&quot;&quot;type&quot;&quot;: &quot;&quot;Poi...</td></tr>\n",
       "<tr><td>15</td><td>2376219</td><td>15-146481</td><td>0</td><td>Nagomi Project Ltd</td><td>Natural Food Shiz...</td><td>Issued</td><td>2014-10-31 16:52:01</td><td>2015-12-31 00:00:00</td><td>Restaurant Class 1</td><td>With Liquor Service</td><td>null</td><td>null</td><td>985</td><td>HORNBY ST</td><td>Vancouver</td><td>BC</td><td>CA</td><td>V6Z 1V3</td><td>Downtown</td><td>10.0</td><td>878</td><td>2019-07-21 13:49:16</td><td>&quot;{&quot;&quot;type&quot;&quot;: &quot;&quot;Poi...</td></tr>\n",
       "<tr><td>14</td><td>2158834</td><td>14-146423</td><td>0</td><td>Nagomi Project Ltd</td><td>Natural Food Shiz...</td><td>Issued</td><td>2013-12-10 22:39:49</td><td>2014-12-31 00:00:00</td><td>Restaurant Class 1</td><td>With Liquor Service</td><td>null</td><td>null</td><td>985</td><td>HORNBY ST</td><td>Vancouver</td><td>BC</td><td>CA</td><td>V6Z 1V3</td><td>Downtown</td><td>7.0</td><td>860</td><td>2019-07-21 13:49:12</td><td>&quot;{&quot;&quot;type&quot;&quot;: &quot;&quot;Poi...</td></tr>\n",
       "</table>\n"
      ],
      "text/plain": [
       "+----------+----------+-------------+---------------------+------------------+--------------------+------+-------------------+-------------------+------------------+-------------------+----+--------+-----+----------+---------+--------+-------+----------+---------+-----------------+-------+-------------------+--------------------+\n",
       "|FOLDERYEAR|LicenceRSN|LicenceNumber|LicenceRevisionNumber|      BusinessName|   BusinessTradeName|Status|         IssuedDate|        ExpiredDate|      BusinessType|    BusinessSubType|Unit|UnitType|House|    Street|     City|Province|Country|PostalCode|LocalArea|NumberofEmployees|FeePaid|        ExtractDate|                Geom|\n",
       "+----------+----------+-------------+---------------------+------------------+--------------------+------+-------------------+-------------------+------------------+-------------------+----+--------+-----+----------+---------+--------+-------+----------+---------+-----------------+-------+-------------------+--------------------+\n",
       "|        16|   2603912|    16-145075|                    0|Nagomi Project Ltd|           Shizen Ya|Issued|2015-11-05 11:26:12|2016-12-31 00:00:00|Restaurant Class 1|With Liquor Service|null|    null| 1102|W BROADWAY|Vancouver|      BC|     CA|   V6H 1G5| Fairview|             10.0|   1042|2019-07-21 13:49:20|\"{\"\"type\"\": \"\"Poi...|\n",
       "|        17|   2819772|    17-143449|                    0|Nagomi Project Ltd|           Shizen Ya|Issued|2016-11-29 09:10:08|2017-12-31 00:00:00|Restaurant Class 1|With Liquor Service|null|    null| 1102|W BROADWAY|Vancouver|      BC|     CA|   V6H 1G5| Fairview|             10.0|   1063|2020-01-01 02:32:04|\"{\"\"type\"\": \"\"Poi...|\n",
       "|        14|   2157871|    14-145460|                    0|Nagomi Project Ltd|           Shizen Ya|Issued|2013-12-13 10:56:37|2014-12-31 00:00:00|Restaurant Class 1|With Liquor Service|null|    null| 1102|W BROADWAY|Vancouver|      BC|     CA|   V6H 1G5| Fairview|              8.0|    999|2019-07-21 13:49:12|\"{\"\"type\"\": \"\"Poi...|\n",
       "|        15|   2376219|    15-146481|                    0|Nagomi Project Ltd|Natural Food Shiz...|Issued|2014-10-31 16:52:01|2015-12-31 00:00:00|Restaurant Class 1|With Liquor Service|null|    null|  985| HORNBY ST|Vancouver|      BC|     CA|   V6Z 1V3| Downtown|             10.0|    878|2019-07-21 13:49:16|\"{\"\"type\"\": \"\"Poi...|\n",
       "|        14|   2158834|    14-146423|                    0|Nagomi Project Ltd|Natural Food Shiz...|Issued|2013-12-10 22:39:49|2014-12-31 00:00:00|Restaurant Class 1|With Liquor Service|null|    null|  985| HORNBY ST|Vancouver|      BC|     CA|   V6Z 1V3| Downtown|              7.0|    860|2019-07-21 13:49:12|\"{\"\"type\"\": \"\"Poi...|\n",
       "+----------+----------+-------------+---------------------+------------------+--------------------+------+-------------------+-------------------+------------------+-------------------+----+--------+-----+----------+---------+--------+-------+----------+---------+-----------------+-------+-------------------+--------------------+"
      ]
     },
     "execution_count": 24,
     "metadata": {},
     "output_type": "execute_result"
    }
   ],
   "source": [
    "search_restaurant('Shizen', 5)"
   ]
  },
  {
   "cell_type": "markdown",
   "metadata": {},
   "source": [
    "> Use an external dataset such as yelp or zomato to get restuarant cuisine, price range, and other features. "
   ]
  },
  {
   "cell_type": "code",
   "execution_count": 98,
   "metadata": {},
   "outputs": [
    {
     "data": {
      "text/plain": [
       "30148"
      ]
     },
     "execution_count": 98,
     "metadata": {},
     "output_type": "execute_result"
    }
   ],
   "source": [
    "from pyspark.ml.stat import Summarizer\n",
    "Summarizer.metrics('')"
   ]
  },
  {
   "cell_type": "code",
   "execution_count": 106,
   "metadata": {},
   "outputs": [
    {
     "data": {
      "text/html": [
       "<table border='1'>\n",
       "<tr><th>FOLDERYEAR</th><th>LicenceRSN</th><th>LicenceNumber</th><th>LicenceRevisionNumber</th><th>BusinessName</th><th>BusinessTradeName</th><th>Status</th><th>IssuedDate</th><th>ExpiredDate</th><th>BusinessType</th><th>BusinessSubType</th><th>Unit</th><th>UnitType</th><th>House</th><th>Street</th><th>City</th><th>Province</th><th>Country</th><th>PostalCode</th><th>LocalArea</th><th>NumberofEmployees</th><th>FeePaid</th><th>ExtractDate</th><th>Geom</th></tr>\n",
       "<tr><td>0</td><td>0</td><td>0</td><td>0</td><td>0</td><td>0</td><td>0</td><td>3261</td><td>3260</td><td>0</td><td>12929</td><td>25242</td><td>25238</td><td>17</td><td>17</td><td>0</td><td>0</td><td>2</td><td>243</td><td>87</td><td>0</td><td>2537</td><td>0</td><td>831</td></tr>\n",
       "</table>\n"
      ],
      "text/plain": [
       "+----------+----------+-------------+---------------------+------------+-----------------+------+----------+-----------+------------+---------------+-----+--------+-----+------+----+--------+-------+----------+---------+-----------------+-------+-----------+----+\n",
       "|FOLDERYEAR|LicenceRSN|LicenceNumber|LicenceRevisionNumber|BusinessName|BusinessTradeName|Status|IssuedDate|ExpiredDate|BusinessType|BusinessSubType| Unit|UnitType|House|Street|City|Province|Country|PostalCode|LocalArea|NumberofEmployees|FeePaid|ExtractDate|Geom|\n",
       "+----------+----------+-------------+---------------------+------------+-----------------+------+----------+-----------+------------+---------------+-----+--------+-----+------+----+--------+-------+----------+---------+-----------------+-------+-----------+----+\n",
       "|         0|         0|            0|                    0|           0|                0|     0|      3261|       3260|           0|          12929|25242|   25238|   17|    17|   0|       0|      2|       243|       87|                0|   2537|          0| 831|\n",
       "+----------+----------+-------------+---------------------+------------+-----------------+------+----------+-----------+------------+---------------+-----+--------+-----+------+----+--------+-------+----------+---------+-----------------+-------+-----------+----+"
      ]
     },
     "execution_count": 106,
     "metadata": {},
     "output_type": "execute_result"
    }
   ],
   "source": [
    "# number of missing values of each column\n",
    "licences_rest_df.select(*(sum(col(c).isNull().cast(\"int\")).alias(c) for c in licences_rest_df.columns))"
   ]
  },
  {
   "cell_type": "code",
   "execution_count": 315,
   "metadata": {},
   "outputs": [],
   "source": [
    "# use this table to populate the features from yelp\n",
    "\n",
    "rest_distinct_df = licences_rest_df.select(['FOLDERYEAR', 'Status', 'BusinessTradeName', 'Geom', 'PostalCode', 'Unit', 'House', 'Street', 'City']).distinct()"
   ]
  },
  {
   "cell_type": "code",
   "execution_count": 313,
   "metadata": {},
   "outputs": [
    {
     "data": {
      "text/plain": [
       "'There are 4504 restaurant locations'"
      ]
     },
     "execution_count": 313,
     "metadata": {},
     "output_type": "execute_result"
    }
   ],
   "source": [
    "f'There are %i restaurant locations' % licences_rest_df.select(['Geom', 'PostalCode', 'Unit', 'House', 'Street', 'City']).distinct().count()"
   ]
  },
  {
   "cell_type": "code",
   "execution_count": 314,
   "metadata": {},
   "outputs": [
    {
     "data": {
      "text/plain": [
       "'There are 6637 closed/open restaurants'"
      ]
     },
     "execution_count": 314,
     "metadata": {},
     "output_type": "execute_result"
    }
   ],
   "source": [
    "f'There are %i closed/open restaurants' % licences_rest_df.select(['BusinessTradeName', 'Geom', 'PostalCode', 'Unit', 'House', 'Street', 'City']).distinct().count()\n",
    "\n",
    "# this includes restuarants that changed locations"
   ]
  },
  {
   "cell_type": "code",
   "execution_count": 304,
   "metadata": {},
   "outputs": [
    {
     "data": {
      "text/plain": [
       "2273"
      ]
     },
     "execution_count": 304,
     "metadata": {},
     "output_type": "execute_result"
    }
   ],
   "source": [
    "# The Geom locations are not unique\n",
    "licences_rest_df.select(['Geom']).distinct().count()"
   ]
  },
  {
   "cell_type": "code",
   "execution_count": 194,
   "metadata": {},
   "outputs": [
    {
     "data": {
      "text/html": [
       "<table border='1'>\n",
       "<tr><th>FOLDERYEAR</th><th>Status</th><th>BusinessTradeName</th><th>Geom</th><th>PostalCode</th><th>Unit</th><th>House</th><th>Street</th><th>City</th></tr>\n",
       "<tr><td>14</td><td>Pending</td><td>Siga-Siga&#x27;s Chine...</td><td>null</td><td>null</td><td>null</td><td>null</td><td>null</td><td>Vancouver</td></tr>\n",
       "<tr><td>18</td><td>Inactive</td><td>Siga-Siga&#x27;s Filip...</td><td>null</td><td>null</td><td>null</td><td>null</td><td>null</td><td>Vancouver</td></tr>\n",
       "<tr><td>15</td><td>Pending</td><td>Panz Veggie</td><td>null</td><td>null</td><td>null</td><td>null</td><td>null</td><td>Vancouver</td></tr>\n",
       "<tr><td>16</td><td>Issued</td><td>Siga-Siga&#x27;s Filip...</td><td>null</td><td>null</td><td>null</td><td>null</td><td>null</td><td>Vancouver</td></tr>\n",
       "<tr><td>15</td><td>Issued</td><td>Siga-Siga&#x27;s Chine...</td><td>null</td><td>null</td><td>null</td><td>null</td><td>null</td><td>Vancouver</td></tr>\n",
       "<tr><td>13</td><td>Issued</td><td>Siga-Siga&#x27;s Chine...</td><td>null</td><td>null</td><td>null</td><td>null</td><td>null</td><td>Vancouver</td></tr>\n",
       "<tr><td>15</td><td>Issued</td><td>Fiery Pizza</td><td>null</td><td>null</td><td>null</td><td>null</td><td>null</td><td>Vancouver</td></tr>\n",
       "</table>\n"
      ],
      "text/plain": [
       "+----------+--------+--------------------+----+----------+----+-----+------+---------+\n",
       "|FOLDERYEAR|  Status|   BusinessTradeName|Geom|PostalCode|Unit|House|Street|     City|\n",
       "+----------+--------+--------------------+----+----------+----+-----+------+---------+\n",
       "|        14| Pending|Siga-Siga's Chine...|null|      null|null| null|  null|Vancouver|\n",
       "|        18|Inactive|Siga-Siga's Filip...|null|      null|null| null|  null|Vancouver|\n",
       "|        15| Pending|         Panz Veggie|null|      null|null| null|  null|Vancouver|\n",
       "|        16|  Issued|Siga-Siga's Filip...|null|      null|null| null|  null|Vancouver|\n",
       "|        15|  Issued|Siga-Siga's Chine...|null|      null|null| null|  null|Vancouver|\n",
       "|        13|  Issued|Siga-Siga's Chine...|null|      null|null| null|  null|Vancouver|\n",
       "|        15|  Issued|         Fiery Pizza|null|      null|null| null|  null|Vancouver|\n",
       "+----------+--------+--------------------+----+----------+----+-----+------+---------+"
      ]
     },
     "execution_count": 194,
     "metadata": {},
     "output_type": "execute_result"
    }
   ],
   "source": [
    "rest_distinct_df.filter('Geom is null')\\\n",
    "                .filter('PostalCode is null')\\\n",
    "                .filter('Unit is null')\\\n",
    "                .filter('House is null')\\\n",
    "                .filter('Street is null')\n"
   ]
  },
  {
   "cell_type": "markdown",
   "metadata": {},
   "source": [
    "> 4 of these restaurants do not have any information on the location. Since this is an insignificant proportion of the data, I will simply remove them."
   ]
  },
  {
   "cell_type": "code",
   "execution_count": 316,
   "metadata": {},
   "outputs": [],
   "source": [
    "rest_distinct_df = rest_distinct_df.dropna(how = 'all', subset = ['Geom', 'PostalCode', 'Unit', 'House', 'Street'])"
   ]
  },
  {
   "cell_type": "markdown",
   "metadata": {},
   "source": [
    "> I've noticed that in order for the yelp API to work well, coordinate location is the most important factor. Thus, I will need to use another API to collect coordinates.   \n",
    "> Problem: can't get information for old closed restuarants \n",
    "> - initial thoughts: have to find an external API that has archived webpages\n",
    "> - maybe a solution: businesses/search doesn't give closed restuarants but businesses/matches does (have to have exact address) and then get the ID from this output and input into businesses/{id}"
   ]
  },
  {
   "cell_type": "code",
   "execution_count": 317,
   "metadata": {},
   "outputs": [],
   "source": [
    "# Here I am ordering the status such that if in a single year, there are multiple statuses, I will take the greatest\n",
    "\n",
    "rest_distinct_df = rest_distinct_df.withColumn('Status', \n",
    "                            when(col('Status') == 'Inactive', 0)\n",
    "                            .when(col('Status') == 'Cancelled', 1)\n",
    "                            .when(col('Status') == 'Gone Out of Business', 2)\n",
    "                            .when(col('Status') == 'Pending', 3)\n",
    "                            .when(col('Status') == 'Issued', 4))"
   ]
  },
  {
   "cell_type": "code",
   "execution_count": 319,
   "metadata": {},
   "outputs": [],
   "source": [
    "# This will get the latest location of a restaurant\n",
    "# if in a single year, the restuarant is both cancelled and gone out of businesss, aggregate into 1 category\n",
    "# if in a single year, the restuarant is both cancelled and issued, aggregate into 1 category - this means the restuarant moved locations\n",
    "latest_year = rest_distinct_df.sort(['FOLDERYEAR', 'Status'])\\\n",
    "                              .groupBy('BusinessTradeName')\\\n",
    "                              .agg(last('Status').alias('Status'), \n",
    "                                   last('FOLDERYEAR').alias('FOLDERYEAR'))\n",
    "\n",
    "rest_distinct_df = rest_distinct_df.join(latest_year, on = ['Status', 'FOLDERYEAR', 'BusinessTradeName'], how = 'leftsemi')"
   ]
  },
  {
   "cell_type": "code",
   "execution_count": 320,
   "metadata": {},
   "outputs": [
    {
     "data": {
      "text/plain": [
       "5741"
      ]
     },
     "execution_count": 320,
     "metadata": {},
     "output_type": "execute_result"
    }
   ],
   "source": [
    "rest_distinct_df.count()"
   ]
  },
  {
   "cell_type": "code",
   "execution_count": 227,
   "metadata": {},
   "outputs": [
    {
     "data": {
      "text/html": [
       "<table border='1'>\n",
       "<tr><th>FOLDERYEAR</th><th>LicenceRSN</th><th>LicenceNumber</th><th>LicenceRevisionNumber</th><th>BusinessName</th><th>BusinessTradeName</th><th>Status</th><th>IssuedDate</th><th>ExpiredDate</th><th>BusinessType</th><th>BusinessSubType</th><th>Unit</th><th>UnitType</th><th>House</th><th>Street</th><th>City</th><th>Province</th><th>Country</th><th>PostalCode</th><th>LocalArea</th><th>NumberofEmployees</th><th>FeePaid</th><th>ExtractDate</th><th>Geom</th></tr>\n",
       "<tr><td>13</td><td>1817812</td><td>13-198393</td><td>0</td><td>Nagomi Project Ltd</td><td>Natural Food Shiz...</td><td>Issued</td><td>2012-12-07 09:34:10</td><td>2013-12-31 00:00:00</td><td>Restaurant Class 1</td><td>With Liquor Service</td><td>null</td><td>null</td><td>985</td><td>HORNBY ST</td><td>Vancouver</td><td>BC</td><td>CA</td><td>V6Z 1V3</td><td>Downtown</td><td>7.0</td><td>851</td><td>2019-07-21 13:49:09</td><td>&quot;{&quot;&quot;type&quot;&quot;: &quot;&quot;Poi...</td></tr>\n",
       "<tr><td>15</td><td>2376219</td><td>15-146481</td><td>0</td><td>Nagomi Project Ltd</td><td>Natural Food Shiz...</td><td>Issued</td><td>2014-10-31 16:52:01</td><td>2015-12-31 00:00:00</td><td>Restaurant Class 1</td><td>With Liquor Service</td><td>null</td><td>null</td><td>985</td><td>HORNBY ST</td><td>Vancouver</td><td>BC</td><td>CA</td><td>V6Z 1V3</td><td>Downtown</td><td>10.0</td><td>878</td><td>2019-07-21 13:49:16</td><td>&quot;{&quot;&quot;type&quot;&quot;: &quot;&quot;Poi...</td></tr>\n",
       "<tr><td>17</td><td>2820494</td><td>17-144171</td><td>0</td><td>Nagomi Project Ltd</td><td>Natural Food Shiz...</td><td>Inactive</td><td>2017-01-03 10:44:27</td><td>2017-12-31 00:00:00</td><td>Restaurant Class 1</td><td>With Liquor Service</td><td>null</td><td>null</td><td>985</td><td>HORNBY ST</td><td>Vancouver</td><td>BC</td><td>CA</td><td>V6Z 1V3</td><td>Downtown</td><td>10.0</td><td>914</td><td>2020-01-01 02:32:04</td><td>&quot;{&quot;&quot;type&quot;&quot;: &quot;&quot;Poi...</td></tr>\n",
       "<tr><td>14</td><td>2158834</td><td>14-146423</td><td>0</td><td>Nagomi Project Ltd</td><td>Natural Food Shiz...</td><td>Issued</td><td>2013-12-10 22:39:49</td><td>2014-12-31 00:00:00</td><td>Restaurant Class 1</td><td>With Liquor Service</td><td>null</td><td>null</td><td>985</td><td>HORNBY ST</td><td>Vancouver</td><td>BC</td><td>CA</td><td>V6Z 1V3</td><td>Downtown</td><td>7.0</td><td>860</td><td>2019-07-21 13:49:12</td><td>&quot;{&quot;&quot;type&quot;&quot;: &quot;&quot;Poi...</td></tr>\n",
       "<tr><td>16</td><td>2604702</td><td>16-145864</td><td>0</td><td>Nagomi Project Ltd</td><td>Natural Food Shiz...</td><td>Issued</td><td>2015-11-05 11:16:47</td><td>2016-12-31 00:00:00</td><td>Restaurant Class 1</td><td>With Liquor Service</td><td>null</td><td>null</td><td>985</td><td>HORNBY ST</td><td>Vancouver</td><td>BC</td><td>CA</td><td>V6Z 1V3</td><td>Downtown</td><td>10.0</td><td>896</td><td>2019-07-21 13:49:20</td><td>&quot;{&quot;&quot;type&quot;&quot;: &quot;&quot;Poi...</td></tr>\n",
       "<tr><td>16</td><td>2603912</td><td>16-145075</td><td>0</td><td>Nagomi Project Ltd</td><td>Shizen Ya</td><td>Issued</td><td>2015-11-05 11:26:12</td><td>2016-12-31 00:00:00</td><td>Restaurant Class 1</td><td>With Liquor Service</td><td>null</td><td>null</td><td>1102</td><td>W BROADWAY</td><td>Vancouver</td><td>BC</td><td>CA</td><td>V6H 1G5</td><td>Fairview</td><td>10.0</td><td>1042</td><td>2019-07-21 13:49:20</td><td>&quot;{&quot;&quot;type&quot;&quot;: &quot;&quot;Poi...</td></tr>\n",
       "<tr><td>19</td><td>3273800</td><td>19-148040</td><td>0</td><td>Nagomi Project Ltd</td><td>Shizen Ya</td><td>Inactive</td><td>2018-11-27 12:38:24</td><td>2019-12-31 00:00:00</td><td>Restaurant Class 1</td><td>With Liquor Service</td><td>null</td><td>null</td><td>1102</td><td>W BROADWAY</td><td>Vancouver</td><td>BC</td><td>CA</td><td>V6H 1G5</td><td>Fairview</td><td>10.0</td><td>1151</td><td>2020-04-01 02:32:25</td><td>&quot;{&quot;&quot;type&quot;&quot;: &quot;&quot;Poi...</td></tr>\n",
       "<tr><td>17</td><td>2819772</td><td>17-143449</td><td>0</td><td>Nagomi Project Ltd</td><td>Shizen Ya</td><td>Issued</td><td>2016-11-29 09:10:08</td><td>2017-12-31 00:00:00</td><td>Restaurant Class 1</td><td>With Liquor Service</td><td>null</td><td>null</td><td>1102</td><td>W BROADWAY</td><td>Vancouver</td><td>BC</td><td>CA</td><td>V6H 1G5</td><td>Fairview</td><td>10.0</td><td>1063</td><td>2020-01-01 02:32:04</td><td>&quot;{&quot;&quot;type&quot;&quot;: &quot;&quot;Poi...</td></tr>\n",
       "<tr><td>14</td><td>2157871</td><td>14-145460</td><td>0</td><td>Nagomi Project Ltd</td><td>Shizen Ya</td><td>Issued</td><td>2013-12-13 10:56:37</td><td>2014-12-31 00:00:00</td><td>Restaurant Class 1</td><td>With Liquor Service</td><td>null</td><td>null</td><td>1102</td><td>W BROADWAY</td><td>Vancouver</td><td>BC</td><td>CA</td><td>V6H 1G5</td><td>Fairview</td><td>8.0</td><td>999</td><td>2019-07-21 13:49:12</td><td>&quot;{&quot;&quot;type&quot;&quot;: &quot;&quot;Poi...</td></tr>\n",
       "<tr><td>13</td><td>1841771</td><td>13-177394</td><td>1</td><td>Nagomi Project Ltd</td><td>Shizen Ya</td><td>Issued</td><td>2013-09-25 10:41:40</td><td>2013-12-31 00:00:00</td><td>Restaurant Class 1</td><td>With Liquor Service</td><td>null</td><td>null</td><td>1102</td><td>W BROADWAY</td><td>Vancouver</td><td>BC</td><td>CA</td><td>V6H 1G5</td><td>Fairview</td><td>0.0</td><td>466</td><td>2019-07-21 13:49:09</td><td>&quot;{&quot;&quot;type&quot;&quot;: &quot;&quot;Poi...</td></tr>\n",
       "<tr><td>15</td><td>2375345</td><td>15-145607</td><td>0</td><td>Nagomi Project Ltd</td><td>Shizen Ya</td><td>Issued</td><td>2014-10-31 15:32:42</td><td>2015-12-31 00:00:00</td><td>Restaurant Class 1</td><td>With Liquor Service</td><td>null</td><td>null</td><td>1102</td><td>W BROADWAY</td><td>Vancouver</td><td>BC</td><td>CA</td><td>V6H 1G5</td><td>Fairview</td><td>10.0</td><td>1020</td><td>2019-07-21 13:49:16</td><td>&quot;{&quot;&quot;type&quot;&quot;: &quot;&quot;Poi...</td></tr>\n",
       "<tr><td>18</td><td>3039838</td><td>18-471508</td><td>0</td><td>Nagomi Project Ltd</td><td>Shizen Ya</td><td>Issued</td><td>2017-11-20 07:44:19</td><td>2018-12-31 00:00:00</td><td>Restaurant Class 1</td><td>With Liquor Service</td><td>null</td><td>null</td><td>1102</td><td>W BROADWAY</td><td>Vancouver</td><td>BC</td><td>CA</td><td>V6H 1G5</td><td>Fairview</td><td>10.0</td><td>1106</td><td>2020-04-01 02:32:19</td><td>&quot;{&quot;&quot;type&quot;&quot;: &quot;&quot;Poi...</td></tr>\n",
       "<tr><td>19</td><td>3512745</td><td>19-317065</td><td>0</td><td>Nagomi Project Ltd</td><td>Shizen Ya</td><td>Pending</td><td>null</td><td>null</td><td>Ltd Service Food ...</td><td>null</td><td>160</td><td>Unit</td><td>1333</td><td>W BROADWAY</td><td>Vancouver</td><td>BC</td><td>CA</td><td>null</td><td>Fairview</td><td>8.0</td><td>34</td><td>2020-04-01 02:32:27</td><td>&quot;{&quot;&quot;type&quot;&quot;: &quot;&quot;Poi...</td></tr>\n",
       "<tr><td>13</td><td>1796813</td><td>13-177394</td><td>0</td><td>Nagomi Project Ltd</td><td>Shizen Ya</td><td>Inactive</td><td>2012-12-07 09:29:17</td><td>2013-12-31 00:00:00</td><td>Ltd Service Food ...</td><td>null</td><td>null</td><td>null</td><td>1102</td><td>W BROADWAY</td><td>Vancouver</td><td>BC</td><td>CA</td><td>V6H 1G5</td><td>Fairview</td><td>6.0</td><td>469</td><td>2019-07-21 13:49:07</td><td>&quot;{&quot;&quot;type&quot;&quot;: &quot;&quot;Poi...</td></tr>\n",
       "<tr><td>16</td><td>2754988</td><td>16-279141</td><td>0</td><td>Nagomi Project Ltd</td><td>Shizenya Restaurant</td><td>Pending</td><td>null</td><td>null</td><td>Restaurant Class 1</td><td>No Liquor Service</td><td>null</td><td>null</td><td>965</td><td>HORNBY ST</td><td>Vancouver</td><td>BC</td><td>CA</td><td>V6Z 1V3</td><td>Downtown</td><td>25.0</td><td>53</td><td>2019-07-21 13:49:21</td><td>&quot;{&quot;&quot;type&quot;&quot;: &quot;&quot;Poi...</td></tr>\n",
       "<tr><td>17</td><td>2877470</td><td>17-185726</td><td>0</td><td>Nagomi Project Ltd</td><td>Shizenya Restaurant</td><td>Issued</td><td>2017-02-15 09:48:33</td><td>2017-12-31 00:00:00</td><td>Restaurant Class 1</td><td>With Liquor Service</td><td>null</td><td>null</td><td>965</td><td>HORNBY ST</td><td>Vancouver</td><td>BC</td><td>CA</td><td>V6Z 1V3</td><td>Downtown</td><td>25.0</td><td>1147</td><td>2020-01-01 02:32:05</td><td>&quot;{&quot;&quot;type&quot;&quot;: &quot;&quot;Poi...</td></tr>\n",
       "<tr><td>18</td><td>3166526</td><td>18-581822</td><td>0</td><td>Nagomi Project Ltd</td><td>Shizenya Restaurant</td><td>Issued</td><td>2018-07-31 16:28:13</td><td>2018-12-31 00:00:00</td><td>Restaurant Class 1</td><td>With Liquor Service</td><td>null</td><td>null</td><td>1059</td><td>DENMAN ST</td><td>Vancouver</td><td>BC</td><td>CA</td><td>V6G 2M7</td><td>West End</td><td>2.0</td><td>145</td><td>2020-04-01 02:32:20</td><td>&quot;{&quot;&quot;type&quot;&quot;: &quot;&quot;Poi...</td></tr>\n",
       "<tr><td>19</td><td>3275465</td><td>19-149703</td><td>0</td><td>Nagomi Project Ltd</td><td>Shizenya Restaurant</td><td>Issued</td><td>2018-12-05 09:42:30</td><td>2019-12-31 00:00:00</td><td>Restaurant Class 1</td><td>With Liquor Service</td><td>null</td><td>null</td><td>1059</td><td>DENMAN ST</td><td>Vancouver</td><td>BC</td><td>CA</td><td>V6G 2M7</td><td>West End</td><td>6.0</td><td>1040</td><td>2020-04-01 02:32:25</td><td>&quot;{&quot;&quot;type&quot;&quot;: &quot;&quot;Poi...</td></tr>\n",
       "<tr><td>18</td><td>3041417</td><td>18-473084</td><td>0</td><td>Nagomi Project Ltd</td><td>Shizenya Restaurant</td><td>Issued</td><td>2017-11-20 07:48:13</td><td>2018-12-31 00:00:00</td><td>Restaurant Class 1</td><td>With Liquor Service</td><td>null</td><td>null</td><td>965</td><td>HORNBY ST</td><td>Vancouver</td><td>BC</td><td>CA</td><td>V6Z 1V3</td><td>Downtown</td><td>25.0</td><td>1194</td><td>2020-04-01 02:32:19</td><td>&quot;{&quot;&quot;type&quot;&quot;: &quot;&quot;Poi...</td></tr>\n",
       "<tr><td>19</td><td>3275210</td><td>19-149448</td><td>0</td><td>Nagomi Project Ltd</td><td>Shizenya Restaurant</td><td>Issued</td><td>2018-11-27 12:41:14</td><td>2019-12-31 00:00:00</td><td>Restaurant Class 1</td><td>With Liquor Service</td><td>null</td><td>null</td><td>965</td><td>HORNBY ST</td><td>Vancouver</td><td>BC</td><td>CA</td><td>V6Z 1V3</td><td>Downtown</td><td>18.0</td><td>1242</td><td>2020-04-01 02:32:25</td><td>&quot;{&quot;&quot;type&quot;&quot;: &quot;&quot;Poi...</td></tr>\n",
       "</table>\n"
      ],
      "text/plain": [
       "+----------+----------+-------------+---------------------+------------------+--------------------+--------+-------------------+-------------------+--------------------+-------------------+----+--------+-----+----------+---------+--------+-------+----------+---------+-----------------+-------+-------------------+--------------------+\n",
       "|FOLDERYEAR|LicenceRSN|LicenceNumber|LicenceRevisionNumber|      BusinessName|   BusinessTradeName|  Status|         IssuedDate|        ExpiredDate|        BusinessType|    BusinessSubType|Unit|UnitType|House|    Street|     City|Province|Country|PostalCode|LocalArea|NumberofEmployees|FeePaid|        ExtractDate|                Geom|\n",
       "+----------+----------+-------------+---------------------+------------------+--------------------+--------+-------------------+-------------------+--------------------+-------------------+----+--------+-----+----------+---------+--------+-------+----------+---------+-----------------+-------+-------------------+--------------------+\n",
       "|        13|   1817812|    13-198393|                    0|Nagomi Project Ltd|Natural Food Shiz...|  Issued|2012-12-07 09:34:10|2013-12-31 00:00:00|  Restaurant Class 1|With Liquor Service|null|    null|  985| HORNBY ST|Vancouver|      BC|     CA|   V6Z 1V3| Downtown|              7.0|    851|2019-07-21 13:49:09|\"{\"\"type\"\": \"\"Poi...|\n",
       "|        15|   2376219|    15-146481|                    0|Nagomi Project Ltd|Natural Food Shiz...|  Issued|2014-10-31 16:52:01|2015-12-31 00:00:00|  Restaurant Class 1|With Liquor Service|null|    null|  985| HORNBY ST|Vancouver|      BC|     CA|   V6Z 1V3| Downtown|             10.0|    878|2019-07-21 13:49:16|\"{\"\"type\"\": \"\"Poi...|\n",
       "|        17|   2820494|    17-144171|                    0|Nagomi Project Ltd|Natural Food Shiz...|Inactive|2017-01-03 10:44:27|2017-12-31 00:00:00|  Restaurant Class 1|With Liquor Service|null|    null|  985| HORNBY ST|Vancouver|      BC|     CA|   V6Z 1V3| Downtown|             10.0|    914|2020-01-01 02:32:04|\"{\"\"type\"\": \"\"Poi...|\n",
       "|        14|   2158834|    14-146423|                    0|Nagomi Project Ltd|Natural Food Shiz...|  Issued|2013-12-10 22:39:49|2014-12-31 00:00:00|  Restaurant Class 1|With Liquor Service|null|    null|  985| HORNBY ST|Vancouver|      BC|     CA|   V6Z 1V3| Downtown|              7.0|    860|2019-07-21 13:49:12|\"{\"\"type\"\": \"\"Poi...|\n",
       "|        16|   2604702|    16-145864|                    0|Nagomi Project Ltd|Natural Food Shiz...|  Issued|2015-11-05 11:16:47|2016-12-31 00:00:00|  Restaurant Class 1|With Liquor Service|null|    null|  985| HORNBY ST|Vancouver|      BC|     CA|   V6Z 1V3| Downtown|             10.0|    896|2019-07-21 13:49:20|\"{\"\"type\"\": \"\"Poi...|\n",
       "|        16|   2603912|    16-145075|                    0|Nagomi Project Ltd|           Shizen Ya|  Issued|2015-11-05 11:26:12|2016-12-31 00:00:00|  Restaurant Class 1|With Liquor Service|null|    null| 1102|W BROADWAY|Vancouver|      BC|     CA|   V6H 1G5| Fairview|             10.0|   1042|2019-07-21 13:49:20|\"{\"\"type\"\": \"\"Poi...|\n",
       "|        19|   3273800|    19-148040|                    0|Nagomi Project Ltd|           Shizen Ya|Inactive|2018-11-27 12:38:24|2019-12-31 00:00:00|  Restaurant Class 1|With Liquor Service|null|    null| 1102|W BROADWAY|Vancouver|      BC|     CA|   V6H 1G5| Fairview|             10.0|   1151|2020-04-01 02:32:25|\"{\"\"type\"\": \"\"Poi...|\n",
       "|        17|   2819772|    17-143449|                    0|Nagomi Project Ltd|           Shizen Ya|  Issued|2016-11-29 09:10:08|2017-12-31 00:00:00|  Restaurant Class 1|With Liquor Service|null|    null| 1102|W BROADWAY|Vancouver|      BC|     CA|   V6H 1G5| Fairview|             10.0|   1063|2020-01-01 02:32:04|\"{\"\"type\"\": \"\"Poi...|\n",
       "|        14|   2157871|    14-145460|                    0|Nagomi Project Ltd|           Shizen Ya|  Issued|2013-12-13 10:56:37|2014-12-31 00:00:00|  Restaurant Class 1|With Liquor Service|null|    null| 1102|W BROADWAY|Vancouver|      BC|     CA|   V6H 1G5| Fairview|              8.0|    999|2019-07-21 13:49:12|\"{\"\"type\"\": \"\"Poi...|\n",
       "|        13|   1841771|    13-177394|                    1|Nagomi Project Ltd|           Shizen Ya|  Issued|2013-09-25 10:41:40|2013-12-31 00:00:00|  Restaurant Class 1|With Liquor Service|null|    null| 1102|W BROADWAY|Vancouver|      BC|     CA|   V6H 1G5| Fairview|              0.0|    466|2019-07-21 13:49:09|\"{\"\"type\"\": \"\"Poi...|\n",
       "|        15|   2375345|    15-145607|                    0|Nagomi Project Ltd|           Shizen Ya|  Issued|2014-10-31 15:32:42|2015-12-31 00:00:00|  Restaurant Class 1|With Liquor Service|null|    null| 1102|W BROADWAY|Vancouver|      BC|     CA|   V6H 1G5| Fairview|             10.0|   1020|2019-07-21 13:49:16|\"{\"\"type\"\": \"\"Poi...|\n",
       "|        18|   3039838|    18-471508|                    0|Nagomi Project Ltd|           Shizen Ya|  Issued|2017-11-20 07:44:19|2018-12-31 00:00:00|  Restaurant Class 1|With Liquor Service|null|    null| 1102|W BROADWAY|Vancouver|      BC|     CA|   V6H 1G5| Fairview|             10.0|   1106|2020-04-01 02:32:19|\"{\"\"type\"\": \"\"Poi...|\n",
       "|        19|   3512745|    19-317065|                    0|Nagomi Project Ltd|           Shizen Ya| Pending|               null|               null|Ltd Service Food ...|               null| 160|    Unit| 1333|W BROADWAY|Vancouver|      BC|     CA|      null| Fairview|              8.0|     34|2020-04-01 02:32:27|\"{\"\"type\"\": \"\"Poi...|\n",
       "|        13|   1796813|    13-177394|                    0|Nagomi Project Ltd|           Shizen Ya|Inactive|2012-12-07 09:29:17|2013-12-31 00:00:00|Ltd Service Food ...|               null|null|    null| 1102|W BROADWAY|Vancouver|      BC|     CA|   V6H 1G5| Fairview|              6.0|    469|2019-07-21 13:49:07|\"{\"\"type\"\": \"\"Poi...|\n",
       "|        16|   2754988|    16-279141|                    0|Nagomi Project Ltd| Shizenya Restaurant| Pending|               null|               null|  Restaurant Class 1|  No Liquor Service|null|    null|  965| HORNBY ST|Vancouver|      BC|     CA|   V6Z 1V3| Downtown|             25.0|     53|2019-07-21 13:49:21|\"{\"\"type\"\": \"\"Poi...|\n",
       "|        17|   2877470|    17-185726|                    0|Nagomi Project Ltd| Shizenya Restaurant|  Issued|2017-02-15 09:48:33|2017-12-31 00:00:00|  Restaurant Class 1|With Liquor Service|null|    null|  965| HORNBY ST|Vancouver|      BC|     CA|   V6Z 1V3| Downtown|             25.0|   1147|2020-01-01 02:32:05|\"{\"\"type\"\": \"\"Poi...|\n",
       "|        18|   3166526|    18-581822|                    0|Nagomi Project Ltd| Shizenya Restaurant|  Issued|2018-07-31 16:28:13|2018-12-31 00:00:00|  Restaurant Class 1|With Liquor Service|null|    null| 1059| DENMAN ST|Vancouver|      BC|     CA|   V6G 2M7| West End|              2.0|    145|2020-04-01 02:32:20|\"{\"\"type\"\": \"\"Poi...|\n",
       "|        19|   3275465|    19-149703|                    0|Nagomi Project Ltd| Shizenya Restaurant|  Issued|2018-12-05 09:42:30|2019-12-31 00:00:00|  Restaurant Class 1|With Liquor Service|null|    null| 1059| DENMAN ST|Vancouver|      BC|     CA|   V6G 2M7| West End|              6.0|   1040|2020-04-01 02:32:25|\"{\"\"type\"\": \"\"Poi...|\n",
       "|        18|   3041417|    18-473084|                    0|Nagomi Project Ltd| Shizenya Restaurant|  Issued|2017-11-20 07:48:13|2018-12-31 00:00:00|  Restaurant Class 1|With Liquor Service|null|    null|  965| HORNBY ST|Vancouver|      BC|     CA|   V6Z 1V3| Downtown|             25.0|   1194|2020-04-01 02:32:19|\"{\"\"type\"\": \"\"Poi...|\n",
       "|        19|   3275210|    19-149448|                    0|Nagomi Project Ltd| Shizenya Restaurant|  Issued|2018-11-27 12:41:14|2019-12-31 00:00:00|  Restaurant Class 1|With Liquor Service|null|    null|  965| HORNBY ST|Vancouver|      BC|     CA|   V6Z 1V3| Downtown|             18.0|   1242|2020-04-01 02:32:25|\"{\"\"type\"\": \"\"Poi...|\n",
       "+----------+----------+-------------+---------------------+------------------+--------------------+--------+-------------------+-------------------+--------------------+-------------------+----+--------+-----+----------+---------+--------+-------+----------+---------+-----------------+-------+-------------------+--------------------+"
      ]
     },
     "execution_count": 227,
     "metadata": {},
     "output_type": "execute_result"
    }
   ],
   "source": [
    "search_restaurant('Shizen').orderBy('BusinessTradeName')"
   ]
  },
  {
   "cell_type": "markdown",
   "metadata": {},
   "source": [
    "> Have to take into account restuarants that change ownership and also change names, or even move locations "
   ]
  },
  {
   "cell_type": "markdown",
   "metadata": {},
   "source": [
    "Is the restaurant part of a chain?  \n",
    "How many other restaurants are nearby (within one mile)?  \n",
    "How does it compare to nearby restaurants (based on price, but also its average rating — and the number of reviews)?  \n",
    "How old is the restaurants?"
   ]
  },
  {
   "cell_type": "markdown",
   "metadata": {},
   "source": [
    "## YELP API\n",
    "\n",
    "https://www.yelp.ca/developers/documentation/v3/get_started   \n",
    "https://github.com/Yelp/yelp-fusion#code-samples\n"
   ]
  },
  {
   "cell_type": "code",
   "execution_count": 312,
   "metadata": {},
   "outputs": [],
   "source": [
    "test = rest_distinct_df.take(15)"
   ]
  },
  {
   "cell_type": "code",
   "execution_count": 35,
   "metadata": {},
   "outputs": [],
   "source": [
    "api_key = os.getenv('YELP_API_KEY')\n",
    "headers = {'Authorization': 'Bearer %s' % api_key}\n",
    "\n",
    "# defines the values inside Geom \n",
    "Point = 'point' \n",
    "coordinates = 'coordinates' \n",
    "\n",
    "\n",
    "data = dict(name = [],\n",
    "            category = [],\n",
    "            rating = [],\n",
    "            review_count = [],\n",
    "            price = [])\n",
    "\n",
    "rest_distinct_list = rest_distinct_df.collect()"
   ]
  },
  {
   "cell_type": "code",
   "execution_count": 392,
   "metadata": {},
   "outputs": [
    {
     "ename": "KeyboardInterrupt",
     "evalue": "",
     "output_type": "error",
     "traceback": [
      "\u001b[0;31m---------------------------------------------------------------------------\u001b[0m",
      "\u001b[0;31mKeyboardInterrupt\u001b[0m                         Traceback (most recent call last)",
      "\u001b[0;32m<ipython-input-392-5b6c9dbaded6>\u001b[0m in \u001b[0;36m<module>\u001b[0;34m\u001b[0m\n\u001b[1;32m     34\u001b[0m         \u001b[0;31m# gather data from API\u001b[0m\u001b[0;34m\u001b[0m\u001b[0;34m\u001b[0m\u001b[0;34m\u001b[0m\u001b[0m\n\u001b[1;32m     35\u001b[0m         request = requests.get('https://api.yelp.com/v3/businesses/search', \n\u001b[0;32m---> 36\u001b[0;31m                                headers = headers, params = params)\n\u001b[0m\u001b[1;32m     37\u001b[0m \u001b[0;34m\u001b[0m\u001b[0m\n\u001b[1;32m     38\u001b[0m         \u001b[0mresult\u001b[0m \u001b[0;34m=\u001b[0m \u001b[0mrequest\u001b[0m\u001b[0;34m.\u001b[0m\u001b[0mjson\u001b[0m\u001b[0;34m(\u001b[0m\u001b[0;34m)\u001b[0m\u001b[0;34m\u001b[0m\u001b[0;34m\u001b[0m\u001b[0m\n",
      "\u001b[0;32m~/anaconda3/lib/python3.7/site-packages/requests/api.py\u001b[0m in \u001b[0;36mget\u001b[0;34m(url, params, **kwargs)\u001b[0m\n\u001b[1;32m     74\u001b[0m \u001b[0;34m\u001b[0m\u001b[0m\n\u001b[1;32m     75\u001b[0m     \u001b[0mkwargs\u001b[0m\u001b[0;34m.\u001b[0m\u001b[0msetdefault\u001b[0m\u001b[0;34m(\u001b[0m\u001b[0;34m'allow_redirects'\u001b[0m\u001b[0;34m,\u001b[0m \u001b[0;32mTrue\u001b[0m\u001b[0;34m)\u001b[0m\u001b[0;34m\u001b[0m\u001b[0;34m\u001b[0m\u001b[0m\n\u001b[0;32m---> 76\u001b[0;31m     \u001b[0;32mreturn\u001b[0m \u001b[0mrequest\u001b[0m\u001b[0;34m(\u001b[0m\u001b[0;34m'get'\u001b[0m\u001b[0;34m,\u001b[0m \u001b[0murl\u001b[0m\u001b[0;34m,\u001b[0m \u001b[0mparams\u001b[0m\u001b[0;34m=\u001b[0m\u001b[0mparams\u001b[0m\u001b[0;34m,\u001b[0m \u001b[0;34m**\u001b[0m\u001b[0mkwargs\u001b[0m\u001b[0;34m)\u001b[0m\u001b[0;34m\u001b[0m\u001b[0;34m\u001b[0m\u001b[0m\n\u001b[0m\u001b[1;32m     77\u001b[0m \u001b[0;34m\u001b[0m\u001b[0m\n\u001b[1;32m     78\u001b[0m \u001b[0;34m\u001b[0m\u001b[0m\n",
      "\u001b[0;32m~/anaconda3/lib/python3.7/site-packages/requests/api.py\u001b[0m in \u001b[0;36mrequest\u001b[0;34m(method, url, **kwargs)\u001b[0m\n\u001b[1;32m     59\u001b[0m     \u001b[0;31m# cases, and look like a memory leak in others.\u001b[0m\u001b[0;34m\u001b[0m\u001b[0;34m\u001b[0m\u001b[0;34m\u001b[0m\u001b[0m\n\u001b[1;32m     60\u001b[0m     \u001b[0;32mwith\u001b[0m \u001b[0msessions\u001b[0m\u001b[0;34m.\u001b[0m\u001b[0mSession\u001b[0m\u001b[0;34m(\u001b[0m\u001b[0;34m)\u001b[0m \u001b[0;32mas\u001b[0m \u001b[0msession\u001b[0m\u001b[0;34m:\u001b[0m\u001b[0;34m\u001b[0m\u001b[0;34m\u001b[0m\u001b[0m\n\u001b[0;32m---> 61\u001b[0;31m         \u001b[0;32mreturn\u001b[0m \u001b[0msession\u001b[0m\u001b[0;34m.\u001b[0m\u001b[0mrequest\u001b[0m\u001b[0;34m(\u001b[0m\u001b[0mmethod\u001b[0m\u001b[0;34m=\u001b[0m\u001b[0mmethod\u001b[0m\u001b[0;34m,\u001b[0m \u001b[0murl\u001b[0m\u001b[0;34m=\u001b[0m\u001b[0murl\u001b[0m\u001b[0;34m,\u001b[0m \u001b[0;34m**\u001b[0m\u001b[0mkwargs\u001b[0m\u001b[0;34m)\u001b[0m\u001b[0;34m\u001b[0m\u001b[0;34m\u001b[0m\u001b[0m\n\u001b[0m\u001b[1;32m     62\u001b[0m \u001b[0;34m\u001b[0m\u001b[0m\n\u001b[1;32m     63\u001b[0m \u001b[0;34m\u001b[0m\u001b[0m\n",
      "\u001b[0;32m~/anaconda3/lib/python3.7/site-packages/requests/sessions.py\u001b[0m in \u001b[0;36mrequest\u001b[0;34m(self, method, url, params, data, headers, cookies, files, auth, timeout, allow_redirects, proxies, hooks, stream, verify, cert, json)\u001b[0m\n\u001b[1;32m    528\u001b[0m         }\n\u001b[1;32m    529\u001b[0m         \u001b[0msend_kwargs\u001b[0m\u001b[0;34m.\u001b[0m\u001b[0mupdate\u001b[0m\u001b[0;34m(\u001b[0m\u001b[0msettings\u001b[0m\u001b[0;34m)\u001b[0m\u001b[0;34m\u001b[0m\u001b[0;34m\u001b[0m\u001b[0m\n\u001b[0;32m--> 530\u001b[0;31m         \u001b[0mresp\u001b[0m \u001b[0;34m=\u001b[0m \u001b[0mself\u001b[0m\u001b[0;34m.\u001b[0m\u001b[0msend\u001b[0m\u001b[0;34m(\u001b[0m\u001b[0mprep\u001b[0m\u001b[0;34m,\u001b[0m \u001b[0;34m**\u001b[0m\u001b[0msend_kwargs\u001b[0m\u001b[0;34m)\u001b[0m\u001b[0;34m\u001b[0m\u001b[0;34m\u001b[0m\u001b[0m\n\u001b[0m\u001b[1;32m    531\u001b[0m \u001b[0;34m\u001b[0m\u001b[0m\n\u001b[1;32m    532\u001b[0m         \u001b[0;32mreturn\u001b[0m \u001b[0mresp\u001b[0m\u001b[0;34m\u001b[0m\u001b[0;34m\u001b[0m\u001b[0m\n",
      "\u001b[0;32m~/anaconda3/lib/python3.7/site-packages/requests/sessions.py\u001b[0m in \u001b[0;36msend\u001b[0;34m(self, request, **kwargs)\u001b[0m\n\u001b[1;32m    641\u001b[0m \u001b[0;34m\u001b[0m\u001b[0m\n\u001b[1;32m    642\u001b[0m         \u001b[0;31m# Send the request\u001b[0m\u001b[0;34m\u001b[0m\u001b[0;34m\u001b[0m\u001b[0;34m\u001b[0m\u001b[0m\n\u001b[0;32m--> 643\u001b[0;31m         \u001b[0mr\u001b[0m \u001b[0;34m=\u001b[0m \u001b[0madapter\u001b[0m\u001b[0;34m.\u001b[0m\u001b[0msend\u001b[0m\u001b[0;34m(\u001b[0m\u001b[0mrequest\u001b[0m\u001b[0;34m,\u001b[0m \u001b[0;34m**\u001b[0m\u001b[0mkwargs\u001b[0m\u001b[0;34m)\u001b[0m\u001b[0;34m\u001b[0m\u001b[0;34m\u001b[0m\u001b[0m\n\u001b[0m\u001b[1;32m    644\u001b[0m \u001b[0;34m\u001b[0m\u001b[0m\n\u001b[1;32m    645\u001b[0m         \u001b[0;31m# Total elapsed time of the request (approximately)\u001b[0m\u001b[0;34m\u001b[0m\u001b[0;34m\u001b[0m\u001b[0;34m\u001b[0m\u001b[0m\n",
      "\u001b[0;32m~/anaconda3/lib/python3.7/site-packages/requests/adapters.py\u001b[0m in \u001b[0;36msend\u001b[0;34m(self, request, stream, timeout, verify, cert, proxies)\u001b[0m\n\u001b[1;32m    447\u001b[0m                     \u001b[0mdecode_content\u001b[0m\u001b[0;34m=\u001b[0m\u001b[0;32mFalse\u001b[0m\u001b[0;34m,\u001b[0m\u001b[0;34m\u001b[0m\u001b[0;34m\u001b[0m\u001b[0m\n\u001b[1;32m    448\u001b[0m                     \u001b[0mretries\u001b[0m\u001b[0;34m=\u001b[0m\u001b[0mself\u001b[0m\u001b[0;34m.\u001b[0m\u001b[0mmax_retries\u001b[0m\u001b[0;34m,\u001b[0m\u001b[0;34m\u001b[0m\u001b[0;34m\u001b[0m\u001b[0m\n\u001b[0;32m--> 449\u001b[0;31m                     \u001b[0mtimeout\u001b[0m\u001b[0;34m=\u001b[0m\u001b[0mtimeout\u001b[0m\u001b[0;34m\u001b[0m\u001b[0;34m\u001b[0m\u001b[0m\n\u001b[0m\u001b[1;32m    450\u001b[0m                 )\n\u001b[1;32m    451\u001b[0m \u001b[0;34m\u001b[0m\u001b[0m\n",
      "\u001b[0;32m~/anaconda3/lib/python3.7/site-packages/urllib3/connectionpool.py\u001b[0m in \u001b[0;36murlopen\u001b[0;34m(self, method, url, body, headers, retries, redirect, assert_same_host, timeout, pool_timeout, release_conn, chunked, body_pos, **response_kw)\u001b[0m\n\u001b[1;32m    670\u001b[0m                 \u001b[0mbody\u001b[0m\u001b[0;34m=\u001b[0m\u001b[0mbody\u001b[0m\u001b[0;34m,\u001b[0m\u001b[0;34m\u001b[0m\u001b[0;34m\u001b[0m\u001b[0m\n\u001b[1;32m    671\u001b[0m                 \u001b[0mheaders\u001b[0m\u001b[0;34m=\u001b[0m\u001b[0mheaders\u001b[0m\u001b[0;34m,\u001b[0m\u001b[0;34m\u001b[0m\u001b[0;34m\u001b[0m\u001b[0m\n\u001b[0;32m--> 672\u001b[0;31m                 \u001b[0mchunked\u001b[0m\u001b[0;34m=\u001b[0m\u001b[0mchunked\u001b[0m\u001b[0;34m,\u001b[0m\u001b[0;34m\u001b[0m\u001b[0;34m\u001b[0m\u001b[0m\n\u001b[0m\u001b[1;32m    673\u001b[0m             )\n\u001b[1;32m    674\u001b[0m \u001b[0;34m\u001b[0m\u001b[0m\n",
      "\u001b[0;32m~/anaconda3/lib/python3.7/site-packages/urllib3/connectionpool.py\u001b[0m in \u001b[0;36m_make_request\u001b[0;34m(self, conn, method, url, timeout, chunked, **httplib_request_kw)\u001b[0m\n\u001b[1;32m    374\u001b[0m         \u001b[0;31m# Trigger any extra validation we need to do.\u001b[0m\u001b[0;34m\u001b[0m\u001b[0;34m\u001b[0m\u001b[0;34m\u001b[0m\u001b[0m\n\u001b[1;32m    375\u001b[0m         \u001b[0;32mtry\u001b[0m\u001b[0;34m:\u001b[0m\u001b[0;34m\u001b[0m\u001b[0;34m\u001b[0m\u001b[0m\n\u001b[0;32m--> 376\u001b[0;31m             \u001b[0mself\u001b[0m\u001b[0;34m.\u001b[0m\u001b[0m_validate_conn\u001b[0m\u001b[0;34m(\u001b[0m\u001b[0mconn\u001b[0m\u001b[0;34m)\u001b[0m\u001b[0;34m\u001b[0m\u001b[0;34m\u001b[0m\u001b[0m\n\u001b[0m\u001b[1;32m    377\u001b[0m         \u001b[0;32mexcept\u001b[0m \u001b[0;34m(\u001b[0m\u001b[0mSocketTimeout\u001b[0m\u001b[0;34m,\u001b[0m \u001b[0mBaseSSLError\u001b[0m\u001b[0;34m)\u001b[0m \u001b[0;32mas\u001b[0m \u001b[0me\u001b[0m\u001b[0;34m:\u001b[0m\u001b[0;34m\u001b[0m\u001b[0;34m\u001b[0m\u001b[0m\n\u001b[1;32m    378\u001b[0m             \u001b[0;31m# Py2 raises this as a BaseSSLError, Py3 raises it as socket timeout.\u001b[0m\u001b[0;34m\u001b[0m\u001b[0;34m\u001b[0m\u001b[0;34m\u001b[0m\u001b[0m\n",
      "\u001b[0;32m~/anaconda3/lib/python3.7/site-packages/urllib3/connectionpool.py\u001b[0m in \u001b[0;36m_validate_conn\u001b[0;34m(self, conn)\u001b[0m\n\u001b[1;32m    992\u001b[0m         \u001b[0;31m# Force connect early to allow us to validate the connection.\u001b[0m\u001b[0;34m\u001b[0m\u001b[0;34m\u001b[0m\u001b[0;34m\u001b[0m\u001b[0m\n\u001b[1;32m    993\u001b[0m         \u001b[0;32mif\u001b[0m \u001b[0;32mnot\u001b[0m \u001b[0mgetattr\u001b[0m\u001b[0;34m(\u001b[0m\u001b[0mconn\u001b[0m\u001b[0;34m,\u001b[0m \u001b[0;34m\"sock\"\u001b[0m\u001b[0;34m,\u001b[0m \u001b[0;32mNone\u001b[0m\u001b[0;34m)\u001b[0m\u001b[0;34m:\u001b[0m  \u001b[0;31m# AppEngine might not have  `.sock`\u001b[0m\u001b[0;34m\u001b[0m\u001b[0;34m\u001b[0m\u001b[0m\n\u001b[0;32m--> 994\u001b[0;31m             \u001b[0mconn\u001b[0m\u001b[0;34m.\u001b[0m\u001b[0mconnect\u001b[0m\u001b[0;34m(\u001b[0m\u001b[0;34m)\u001b[0m\u001b[0;34m\u001b[0m\u001b[0;34m\u001b[0m\u001b[0m\n\u001b[0m\u001b[1;32m    995\u001b[0m \u001b[0;34m\u001b[0m\u001b[0m\n\u001b[1;32m    996\u001b[0m         \u001b[0;32mif\u001b[0m \u001b[0;32mnot\u001b[0m \u001b[0mconn\u001b[0m\u001b[0;34m.\u001b[0m\u001b[0mis_verified\u001b[0m\u001b[0;34m:\u001b[0m\u001b[0;34m\u001b[0m\u001b[0;34m\u001b[0m\u001b[0m\n",
      "\u001b[0;32m~/anaconda3/lib/python3.7/site-packages/urllib3/connection.py\u001b[0m in \u001b[0;36mconnect\u001b[0;34m(self)\u001b[0m\n\u001b[1;32m    358\u001b[0m             \u001b[0mca_cert_dir\u001b[0m\u001b[0;34m=\u001b[0m\u001b[0mself\u001b[0m\u001b[0;34m.\u001b[0m\u001b[0mca_cert_dir\u001b[0m\u001b[0;34m,\u001b[0m\u001b[0;34m\u001b[0m\u001b[0;34m\u001b[0m\u001b[0m\n\u001b[1;32m    359\u001b[0m             \u001b[0mserver_hostname\u001b[0m\u001b[0;34m=\u001b[0m\u001b[0mserver_hostname\u001b[0m\u001b[0;34m,\u001b[0m\u001b[0;34m\u001b[0m\u001b[0;34m\u001b[0m\u001b[0m\n\u001b[0;32m--> 360\u001b[0;31m             \u001b[0mssl_context\u001b[0m\u001b[0;34m=\u001b[0m\u001b[0mcontext\u001b[0m\u001b[0;34m,\u001b[0m\u001b[0;34m\u001b[0m\u001b[0;34m\u001b[0m\u001b[0m\n\u001b[0m\u001b[1;32m    361\u001b[0m         )\n\u001b[1;32m    362\u001b[0m \u001b[0;34m\u001b[0m\u001b[0m\n",
      "\u001b[0;32m~/anaconda3/lib/python3.7/site-packages/urllib3/util/ssl_.py\u001b[0m in \u001b[0;36mssl_wrap_socket\u001b[0;34m(sock, keyfile, certfile, cert_reqs, ca_certs, server_hostname, ssl_version, ciphers, ssl_context, ca_cert_dir, key_password)\u001b[0m\n\u001b[1;32m    368\u001b[0m     ) or IS_SECURETRANSPORT:\n\u001b[1;32m    369\u001b[0m         \u001b[0;32mif\u001b[0m \u001b[0mHAS_SNI\u001b[0m \u001b[0;32mand\u001b[0m \u001b[0mserver_hostname\u001b[0m \u001b[0;32mis\u001b[0m \u001b[0;32mnot\u001b[0m \u001b[0;32mNone\u001b[0m\u001b[0;34m:\u001b[0m\u001b[0;34m\u001b[0m\u001b[0;34m\u001b[0m\u001b[0m\n\u001b[0;32m--> 370\u001b[0;31m             \u001b[0;32mreturn\u001b[0m \u001b[0mcontext\u001b[0m\u001b[0;34m.\u001b[0m\u001b[0mwrap_socket\u001b[0m\u001b[0;34m(\u001b[0m\u001b[0msock\u001b[0m\u001b[0;34m,\u001b[0m \u001b[0mserver_hostname\u001b[0m\u001b[0;34m=\u001b[0m\u001b[0mserver_hostname\u001b[0m\u001b[0;34m)\u001b[0m\u001b[0;34m\u001b[0m\u001b[0;34m\u001b[0m\u001b[0m\n\u001b[0m\u001b[1;32m    371\u001b[0m \u001b[0;34m\u001b[0m\u001b[0m\n\u001b[1;32m    372\u001b[0m         warnings.warn(\n",
      "\u001b[0;32m~/anaconda3/lib/python3.7/site-packages/urllib3/contrib/pyopenssl.py\u001b[0m in \u001b[0;36mwrap_socket\u001b[0;34m(self, sock, server_side, do_handshake_on_connect, suppress_ragged_eofs, server_hostname)\u001b[0m\n\u001b[1;32m    483\u001b[0m         \u001b[0;32mwhile\u001b[0m \u001b[0;32mTrue\u001b[0m\u001b[0;34m:\u001b[0m\u001b[0;34m\u001b[0m\u001b[0;34m\u001b[0m\u001b[0m\n\u001b[1;32m    484\u001b[0m             \u001b[0;32mtry\u001b[0m\u001b[0;34m:\u001b[0m\u001b[0;34m\u001b[0m\u001b[0;34m\u001b[0m\u001b[0m\n\u001b[0;32m--> 485\u001b[0;31m                 \u001b[0mcnx\u001b[0m\u001b[0;34m.\u001b[0m\u001b[0mdo_handshake\u001b[0m\u001b[0;34m(\u001b[0m\u001b[0;34m)\u001b[0m\u001b[0;34m\u001b[0m\u001b[0;34m\u001b[0m\u001b[0m\n\u001b[0m\u001b[1;32m    486\u001b[0m             \u001b[0;32mexcept\u001b[0m \u001b[0mOpenSSL\u001b[0m\u001b[0;34m.\u001b[0m\u001b[0mSSL\u001b[0m\u001b[0;34m.\u001b[0m\u001b[0mWantReadError\u001b[0m\u001b[0;34m:\u001b[0m\u001b[0;34m\u001b[0m\u001b[0;34m\u001b[0m\u001b[0m\n\u001b[1;32m    487\u001b[0m                 \u001b[0;32mif\u001b[0m \u001b[0;32mnot\u001b[0m \u001b[0mutil\u001b[0m\u001b[0;34m.\u001b[0m\u001b[0mwait_for_read\u001b[0m\u001b[0;34m(\u001b[0m\u001b[0msock\u001b[0m\u001b[0;34m,\u001b[0m \u001b[0msock\u001b[0m\u001b[0;34m.\u001b[0m\u001b[0mgettimeout\u001b[0m\u001b[0;34m(\u001b[0m\u001b[0;34m)\u001b[0m\u001b[0;34m)\u001b[0m\u001b[0;34m:\u001b[0m\u001b[0;34m\u001b[0m\u001b[0;34m\u001b[0m\u001b[0m\n",
      "\u001b[0;32m~/anaconda3/lib/python3.7/site-packages/OpenSSL/SSL.py\u001b[0m in \u001b[0;36mdo_handshake\u001b[0;34m(self)\u001b[0m\n\u001b[1;32m   1931\u001b[0m         \u001b[0;34m:\u001b[0m\u001b[0;32mreturn\u001b[0m\u001b[0;34m:\u001b[0m \u001b[0;32mNone\u001b[0m\u001b[0;34m.\u001b[0m\u001b[0;34m\u001b[0m\u001b[0;34m\u001b[0m\u001b[0m\n\u001b[1;32m   1932\u001b[0m         \"\"\"\n\u001b[0;32m-> 1933\u001b[0;31m         \u001b[0mresult\u001b[0m \u001b[0;34m=\u001b[0m \u001b[0m_lib\u001b[0m\u001b[0;34m.\u001b[0m\u001b[0mSSL_do_handshake\u001b[0m\u001b[0;34m(\u001b[0m\u001b[0mself\u001b[0m\u001b[0;34m.\u001b[0m\u001b[0m_ssl\u001b[0m\u001b[0;34m)\u001b[0m\u001b[0;34m\u001b[0m\u001b[0;34m\u001b[0m\u001b[0m\n\u001b[0m\u001b[1;32m   1934\u001b[0m         \u001b[0mself\u001b[0m\u001b[0;34m.\u001b[0m\u001b[0m_raise_ssl_error\u001b[0m\u001b[0;34m(\u001b[0m\u001b[0mself\u001b[0m\u001b[0;34m.\u001b[0m\u001b[0m_ssl\u001b[0m\u001b[0;34m,\u001b[0m \u001b[0mresult\u001b[0m\u001b[0;34m)\u001b[0m\u001b[0;34m\u001b[0m\u001b[0;34m\u001b[0m\u001b[0m\n\u001b[1;32m   1935\u001b[0m \u001b[0;34m\u001b[0m\u001b[0m\n",
      "\u001b[0;31mKeyboardInterrupt\u001b[0m: "
     ]
    }
   ],
   "source": [
    "for i in range(len(rest_distinct_list)):\n",
    "\n",
    "    # API parameters\n",
    "    name = rest_distinct_list[i].BusinessTradeName\n",
    "    \n",
    "    if rest_distinct_list[i].House != None:\n",
    "        house = rest_distinct_list[i].House\n",
    "    if rest_distinct_list[i].Street != None:\n",
    "        street = rest_distinct_list[i].Street\n",
    "    if rest_distinct_list[i].PostalCode != None:\n",
    "        postalcode = rest_distinct_list[i].PostalCode\n",
    "    \n",
    "    address = ' '.join([house, street, postalcode])\n",
    "            \n",
    "    if rest_distinct_list[i].Geom == None:\n",
    "        long = None\n",
    "        lat = None\n",
    "    else:    \n",
    "        coord = eval(eval(rest_distinct_list[i].Geom))[coordinates]\n",
    "        long = coord[0]\n",
    "        lat = coord[1]\n",
    "\n",
    "    params = {'apikey': api_key,\n",
    "              'term': name,\n",
    "              'location': address,\n",
    "              'longitude': long,\n",
    "              'latitude': lat,\n",
    "              'limit': 1}\n",
    "    \n",
    "    # doesn't make a request if already have the data\n",
    "    if name not in data['name']:\n",
    "        data['name'].append(rest_distinct_list[i].BusinessTradeName)\n",
    "        \n",
    "        # gather data from API\n",
    "        request = requests.get('https://api.yelp.com/v3/businesses/search', \n",
    "                               headers = headers, params = params)\n",
    "\n",
    "        result = request.json()\n",
    "\n",
    "        # checks if the request is valid or output was empty\n",
    "        if request.reason != 'OK' or result['total'] == 0:\n",
    "            data['category'].append(None)\n",
    "            data['rating'].append(None)\n",
    "            data['review_count'].append(None)\n",
    "            data['price'].append(None)\n",
    "\n",
    "        else:\n",
    "\n",
    "            # checks if the following are keys in the output\n",
    "\n",
    "            if 'categories' not in result['businesses'][0]:\n",
    "                data['category'].append(None)\n",
    "            else:\n",
    "                data['category'].append(result['businesses'][0]['categories'])\n",
    "\n",
    "            if 'rating' not in result['businesses'][0]:\n",
    "                data['rating'].append(None)\n",
    "            else:\n",
    "                data['rating'].append(result['businesses'][0]['rating'])\n",
    "\n",
    "            if 'review_count' not in result['businesses'][0]:\n",
    "                data['review_count'].append(None)\n",
    "            else:\n",
    "                data['review_count'].append(result['businesses'][0]['review_count'])\n",
    "\n",
    "            if 'price' not in result['businesses'][0]:\n",
    "                data['price'].append(None)\n",
    "            else:\n",
    "                data['price'].append(result['businesses'][0]['price'])\n"
   ]
  },
  {
   "cell_type": "code",
   "execution_count": 561,
   "metadata": {},
   "outputs": [],
   "source": [
    "test = rest_distinct_df.filter('PostalCode is null').filter('Geom is null').collect()\n",
    "#len(data['price'])"
   ]
  },
  {
   "cell_type": "code",
   "execution_count": 563,
   "metadata": {},
   "outputs": [
    {
     "data": {
      "text/plain": [
       "[Row(BusinessTradeName=\"Purdy's Chocolates\", Geom=None, PostalCode=None, Unit=None, House='4255', Street='Arbutus St', City='Vancouver')]"
      ]
     },
     "execution_count": 563,
     "metadata": {},
     "output_type": "execute_result"
    }
   ],
   "source": [
    "test"
   ]
  },
  {
   "cell_type": "code",
   "execution_count": 185,
   "metadata": {},
   "outputs": [
    {
     "data": {
      "text/html": [
       "<div>\n",
       "<style scoped>\n",
       "    .dataframe tbody tr th:only-of-type {\n",
       "        vertical-align: middle;\n",
       "    }\n",
       "\n",
       "    .dataframe tbody tr th {\n",
       "        vertical-align: top;\n",
       "    }\n",
       "\n",
       "    .dataframe thead th {\n",
       "        text-align: right;\n",
       "    }\n",
       "</style>\n",
       "<table border=\"1\" class=\"dataframe\">\n",
       "  <thead>\n",
       "    <tr style=\"text-align: right;\">\n",
       "      <th></th>\n",
       "      <th>BusinessTradeName</th>\n",
       "      <th>Geom</th>\n",
       "      <th>PostalCode</th>\n",
       "      <th>Unit</th>\n",
       "      <th>House</th>\n",
       "      <th>Street</th>\n",
       "      <th>City</th>\n",
       "    </tr>\n",
       "  </thead>\n",
       "  <tbody>\n",
       "    <tr>\n",
       "      <th>35</th>\n",
       "      <td>7-Eleven Store</td>\n",
       "      <td>\"{\"\"type\"\": \"\"Point\"\", \"\"coordinates\"\": [-123....</td>\n",
       "      <td>V6G 2M4</td>\n",
       "      <td>None</td>\n",
       "      <td>1055</td>\n",
       "      <td>Denman St</td>\n",
       "      <td>Vancouver</td>\n",
       "    </tr>\n",
       "    <tr>\n",
       "      <th>61</th>\n",
       "      <td>7-Eleven Store</td>\n",
       "      <td>\"{\"\"type\"\": \"\"Point\"\", \"\"coordinates\"\": [-123....</td>\n",
       "      <td>V6E 2R1</td>\n",
       "      <td>104</td>\n",
       "      <td>1199</td>\n",
       "      <td>W PENDER ST</td>\n",
       "      <td>Vancouver</td>\n",
       "    </tr>\n",
       "    <tr>\n",
       "      <th>76</th>\n",
       "      <td>Tim Hortons</td>\n",
       "      <td>\"{\"\"type\"\": \"\"Point\"\", \"\"coordinates\"\": [-123....</td>\n",
       "      <td>V6A 3W9</td>\n",
       "      <td>None</td>\n",
       "      <td>306</td>\n",
       "      <td>TERMINAL AV</td>\n",
       "      <td>Vancouver</td>\n",
       "    </tr>\n",
       "    <tr>\n",
       "      <th>134</th>\n",
       "      <td>Freshii</td>\n",
       "      <td>\"{\"\"type\"\": \"\"Point\"\", \"\"coordinates\"\": [-123....</td>\n",
       "      <td>V6Z 0C8</td>\n",
       "      <td>128</td>\n",
       "      <td>765</td>\n",
       "      <td>NELSON ST</td>\n",
       "      <td>Vancouver</td>\n",
       "    </tr>\n",
       "    <tr>\n",
       "      <th>137</th>\n",
       "      <td>Freshii</td>\n",
       "      <td>\"{\"\"type\"\": \"\"Point\"\", \"\"coordinates\"\": [-123....</td>\n",
       "      <td>V5X 3H1</td>\n",
       "      <td>None</td>\n",
       "      <td>6541</td>\n",
       "      <td>MAIN ST</td>\n",
       "      <td>Vancouver</td>\n",
       "    </tr>\n",
       "    <tr>\n",
       "      <th>...</th>\n",
       "      <td>...</td>\n",
       "      <td>...</td>\n",
       "      <td>...</td>\n",
       "      <td>...</td>\n",
       "      <td>...</td>\n",
       "      <td>...</td>\n",
       "      <td>...</td>\n",
       "    </tr>\n",
       "    <tr>\n",
       "      <th>6420</th>\n",
       "      <td>Extreme Pita</td>\n",
       "      <td>\"{\"\"type\"\": \"\"Point\"\", \"\"coordinates\"\": [-123....</td>\n",
       "      <td>None</td>\n",
       "      <td>222</td>\n",
       "      <td>1055</td>\n",
       "      <td>W GEORGIA ST</td>\n",
       "      <td>Vancouver</td>\n",
       "    </tr>\n",
       "    <tr>\n",
       "      <th>6422</th>\n",
       "      <td>Uncle Fatih's Pizza</td>\n",
       "      <td>\"{\"\"type\"\": \"\"Point\"\", \"\"coordinates\"\": [-123....</td>\n",
       "      <td>V6B 0E1</td>\n",
       "      <td>None</td>\n",
       "      <td>638</td>\n",
       "      <td>ABBOTT ST</td>\n",
       "      <td>Vancouver</td>\n",
       "    </tr>\n",
       "    <tr>\n",
       "      <th>6430</th>\n",
       "      <td>Freshslice Pizza</td>\n",
       "      <td>\"{\"\"type\"\": \"\"Point\"\", \"\"coordinates\"\": [-123....</td>\n",
       "      <td>V5L 1T5</td>\n",
       "      <td>None</td>\n",
       "      <td>771</td>\n",
       "      <td>DAVIE ST</td>\n",
       "      <td>Vancouver</td>\n",
       "    </tr>\n",
       "    <tr>\n",
       "      <th>6433</th>\n",
       "      <td>Simpatico Ristorante</td>\n",
       "      <td>\"{\"\"type\"\": \"\"Point\"\", \"\"coordinates\"\": [-123....</td>\n",
       "      <td>V6K 1N8</td>\n",
       "      <td>None</td>\n",
       "      <td>2222</td>\n",
       "      <td>W 4th Av</td>\n",
       "      <td>Vancouver</td>\n",
       "    </tr>\n",
       "    <tr>\n",
       "      <th>6434</th>\n",
       "      <td>Uno Gelato</td>\n",
       "      <td>\"{\"\"type\"\": \"\"Point\"\", \"\"coordinates\"\": [-123....</td>\n",
       "      <td>V5Z 3Z1</td>\n",
       "      <td>None</td>\n",
       "      <td>601</td>\n",
       "      <td>STAMP'S LANDING</td>\n",
       "      <td>Vancouver</td>\n",
       "    </tr>\n",
       "  </tbody>\n",
       "</table>\n",
       "<p>1236 rows × 7 columns</p>\n",
       "</div>"
      ],
      "text/plain": [
       "         BusinessTradeName                                               Geom  \\\n",
       "35          7-Eleven Store  \"{\"\"type\"\": \"\"Point\"\", \"\"coordinates\"\": [-123....   \n",
       "61          7-Eleven Store  \"{\"\"type\"\": \"\"Point\"\", \"\"coordinates\"\": [-123....   \n",
       "76             Tim Hortons  \"{\"\"type\"\": \"\"Point\"\", \"\"coordinates\"\": [-123....   \n",
       "134                Freshii  \"{\"\"type\"\": \"\"Point\"\", \"\"coordinates\"\": [-123....   \n",
       "137                Freshii  \"{\"\"type\"\": \"\"Point\"\", \"\"coordinates\"\": [-123....   \n",
       "...                    ...                                                ...   \n",
       "6420          Extreme Pita  \"{\"\"type\"\": \"\"Point\"\", \"\"coordinates\"\": [-123....   \n",
       "6422   Uncle Fatih's Pizza  \"{\"\"type\"\": \"\"Point\"\", \"\"coordinates\"\": [-123....   \n",
       "6430      Freshslice Pizza  \"{\"\"type\"\": \"\"Point\"\", \"\"coordinates\"\": [-123....   \n",
       "6433  Simpatico Ristorante  \"{\"\"type\"\": \"\"Point\"\", \"\"coordinates\"\": [-123....   \n",
       "6434            Uno Gelato  \"{\"\"type\"\": \"\"Point\"\", \"\"coordinates\"\": [-123....   \n",
       "\n",
       "     PostalCode  Unit House           Street       City  \n",
       "35      V6G 2M4  None  1055        Denman St  Vancouver  \n",
       "61      V6E 2R1   104  1199      W PENDER ST  Vancouver  \n",
       "76      V6A 3W9  None   306      TERMINAL AV  Vancouver  \n",
       "134     V6Z 0C8   128   765        NELSON ST  Vancouver  \n",
       "137     V5X 3H1  None  6541          MAIN ST  Vancouver  \n",
       "...         ...   ...   ...              ...        ...  \n",
       "6420       None   222  1055     W GEORGIA ST  Vancouver  \n",
       "6422    V6B 0E1  None   638        ABBOTT ST  Vancouver  \n",
       "6430    V5L 1T5  None   771         DAVIE ST  Vancouver  \n",
       "6433    V6K 1N8  None  2222         W 4th Av  Vancouver  \n",
       "6434    V5Z 3Z1  None   601  STAMP'S LANDING  Vancouver  \n",
       "\n",
       "[1236 rows x 7 columns]"
      ]
     },
     "execution_count": 185,
     "metadata": {},
     "output_type": "execute_result"
    }
   ],
   "source": [
    "test = rest_distinct_df.toPandas()\n",
    "test[test.duplicated('BusinessTradeName')]"
   ]
  },
  {
   "cell_type": "code",
   "execution_count": 181,
   "metadata": {},
   "outputs": [],
   "source": [
    "    params = {'apikey': api_key,\n",
    "              'name': \"Shizen Ya\",\n",
    "              'address1': '160 1333 W BROADWAY',\n",
    "              'zip_code': 'V6H 1G5',\n",
    "              'city': 'Vancouver',\n",
    "              'state': 'BC',\n",
    "              'country': 'CA',\n",
    "              'match_threshold': 'none',\n",
    "              'limit': 10\n",
    "             }\n",
    "    \n",
    "    request = requests.get('https://api.yelp.com/v3/businesses/matches', \n",
    "                           headers = headers, params = params)"
   ]
  },
  {
   "cell_type": "code",
   "execution_count": 182,
   "metadata": {},
   "outputs": [
    {
     "data": {
      "text/plain": [
       "{'businesses': [{'id': 'VcaNoLa56gpBWPxufnTw4w',\n",
       "   'alias': 'shizenya-on-broadway-vancouver-3',\n",
       "   'name': 'Shizenya on Broadway',\n",
       "   'coordinates': {'latitude': 49.263888, 'longitude': -123.134264},\n",
       "   'location': {'address1': '160-1333 W Broadway',\n",
       "    'address2': '',\n",
       "    'address3': '',\n",
       "    'city': 'Vancouver',\n",
       "    'zip_code': 'V6H 1G9',\n",
       "    'country': 'CA',\n",
       "    'state': 'BC',\n",
       "    'display_address': ['160-1333 W Broadway',\n",
       "     'Vancouver, BC V6H 1G9',\n",
       "     'Canada']},\n",
       "   'phone': '+16045693721',\n",
       "   'display_phone': '+1 604-569-3721'},\n",
       "  {'id': 'Z8wd5qc9kB1K4I3lj8y31g',\n",
       "   'alias': 'boston-pizza-vancouver-2',\n",
       "   'name': 'Boston Pizza',\n",
       "   'coordinates': {'latitude': 49.2636494, 'longitude': -123.134374},\n",
       "   'location': {'address1': '1333 W Broadway',\n",
       "    'address2': 'Suite 190',\n",
       "    'address3': '',\n",
       "    'city': 'Vancouver',\n",
       "    'zip_code': 'V6H 4C1',\n",
       "    'country': 'CA',\n",
       "    'state': 'BC',\n",
       "    'display_address': ['1333 W Broadway',\n",
       "     'Suite 190',\n",
       "     'Vancouver, BC V6H 4C1',\n",
       "     'Canada']},\n",
       "   'phone': '+16047302822',\n",
       "   'display_phone': '+1 604-730-2822'},\n",
       "  {'id': '3c6rod4_c3XvTeHLvtjvtA',\n",
       "   'alias': 'ooh-la-la-cafe-vancouver',\n",
       "   'name': 'Ooh La La Cafe',\n",
       "   'coordinates': {'latitude': 49.2636494, 'longitude': -123.134374},\n",
       "   'location': {'address1': '1333 Broadway W',\n",
       "    'address2': '',\n",
       "    'address3': '',\n",
       "    'city': 'Vancouver',\n",
       "    'zip_code': 'V6H 4C1',\n",
       "    'country': 'CA',\n",
       "    'state': 'BC',\n",
       "    'display_address': ['1333 Broadway W', 'Vancouver, BC V6H 4C1', 'Canada']},\n",
       "   'phone': '+16047370230',\n",
       "   'display_phone': '+1 604-737-0230'}]}"
      ]
     },
     "execution_count": 182,
     "metadata": {},
     "output_type": "execute_result"
    }
   ],
   "source": [
    "request.json()"
   ]
  },
  {
   "cell_type": "code",
   "execution_count": 71,
   "metadata": {},
   "outputs": [
    {
     "data": {
      "text/plain": [
       "{'id': 'G3jGcliONiZdPKBEWdvM4w',\n",
       " 'alias': 'la-brasserie-vancouver',\n",
       " 'name': 'La Brasserie',\n",
       " 'image_url': 'https://s3-media3.fl.yelpcdn.com/bphoto/bzNDth0ahpRqxz6d2O6vUA/o.jpg',\n",
       " 'is_claimed': True,\n",
       " 'is_closed': True,\n",
       " 'url': 'https://www.yelp.com/biz/la-brasserie-vancouver?adjust_creative=5sgRUqt0gRSL0aY24fgXOg&utm_campaign=yelp_api_v3&utm_medium=api_v3_business_lookup&utm_source=5sgRUqt0gRSL0aY24fgXOg',\n",
       " 'phone': '+17783795400',\n",
       " 'display_phone': '+1 778-379-5400',\n",
       " 'review_count': 211,\n",
       " 'categories': [{'alias': 'french', 'title': 'French'},\n",
       "  {'alias': 'german', 'title': 'German'},\n",
       "  {'alias': 'breakfast_brunch', 'title': 'Breakfast & Brunch'}],\n",
       " 'rating': 4.0,\n",
       " 'location': {'address1': '1091 Davie Street',\n",
       "  'address2': '',\n",
       "  'address3': '',\n",
       "  'city': 'Vancouver',\n",
       "  'zip_code': 'V6E 1M5',\n",
       "  'country': 'CA',\n",
       "  'state': 'BC',\n",
       "  'display_address': ['1091 Davie Street', 'Vancouver, BC V6E 1M5', 'Canada'],\n",
       "  'cross_streets': ''},\n",
       " 'coordinates': {'latitude': 49.2802877, 'longitude': -123.130795},\n",
       " 'photos': ['https://s3-media3.fl.yelpcdn.com/bphoto/bzNDth0ahpRqxz6d2O6vUA/o.jpg',\n",
       "  'https://s3-media2.fl.yelpcdn.com/bphoto/0k4oA7RObiU0iMDhHrW1XA/o.jpg',\n",
       "  'https://s3-media1.fl.yelpcdn.com/bphoto/jsfkbxqTgTKRLw_urOa7hA/o.jpg'],\n",
       " 'price': '$$',\n",
       " 'hours': [{'open': [{'is_overnight': False,\n",
       "     'start': '1700',\n",
       "     'end': '2200',\n",
       "     'day': 1},\n",
       "    {'is_overnight': False, 'start': '1700', 'end': '2200', 'day': 2},\n",
       "    {'is_overnight': False, 'start': '1700', 'end': '2200', 'day': 3},\n",
       "    {'is_overnight': False, 'start': '1700', 'end': '2200', 'day': 4},\n",
       "    {'is_overnight': False, 'start': '1030', 'end': '1430', 'day': 5},\n",
       "    {'is_overnight': False, 'start': '1700', 'end': '2200', 'day': 5},\n",
       "    {'is_overnight': False, 'start': '1030', 'end': '1430', 'day': 6},\n",
       "    {'is_overnight': False, 'start': '1700', 'end': '2200', 'day': 6}],\n",
       "   'hours_type': 'REGULAR',\n",
       "   'is_open_now': False}],\n",
       " 'transactions': []}"
      ]
     },
     "execution_count": 71,
     "metadata": {},
     "output_type": "execute_result"
    }
   ],
   "source": [
    "params = {'apikey': api_key}\n",
    "requests.get('https://api.yelp.com/v3/businesses/G3jGcliONiZdPKBEWdvM4w', headers = headers, params = params).json()"
   ]
  },
  {
   "cell_type": "code",
   "execution_count": 107,
   "metadata": {},
   "outputs": [],
   "source": [
    "    params = {'apikey': api_key,\n",
    "              'term': 'Natural Food Shizen Ya',\n",
    "              'location': 'Vancouver',\n",
    "            #  'longitude': -123.141291,\n",
    "             # 'latitude': 49.287830,\n",
    "              'limit': 10,\n",
    "             # 'sort_by': 'distance'\n",
    "             }\n",
    "    \n",
    "    request = requests.get('https://api.yelp.com/v3/businesses/search', \n",
    "                           headers = headers, params = params)"
   ]
  },
  {
   "cell_type": "code",
   "execution_count": 108,
   "metadata": {},
   "outputs": [
    {
     "data": {
      "text/plain": [
       "{'businesses': [{'id': 'as2xQt48ltKKDUQbMCBrMw',\n",
       "   'alias': 'shizen-ya-vancouver-10',\n",
       "   'name': 'Shizen Ya',\n",
       "   'image_url': 'https://s3-media3.fl.yelpcdn.com/bphoto/d2hPY0p4s7mhBqf_qncXRQ/o.jpg',\n",
       "   'is_closed': False,\n",
       "   'url': 'https://www.yelp.com/biz/shizen-ya-vancouver-10?adjust_creative=5sgRUqt0gRSL0aY24fgXOg&utm_campaign=yelp_api_v3&utm_medium=api_v3_business_search&utm_source=5sgRUqt0gRSL0aY24fgXOg',\n",
       "   'review_count': 547,\n",
       "   'categories': [{'alias': 'japanese', 'title': 'Japanese'},\n",
       "    {'alias': 'sushi', 'title': 'Sushi Bars'},\n",
       "    {'alias': 'bars', 'title': 'Bars'}],\n",
       "   'rating': 4.0,\n",
       "   'coordinates': {'latitude': 49.2808844, 'longitude': -123.1246278},\n",
       "   'transactions': [],\n",
       "   'price': '$$',\n",
       "   'location': {'address1': '965 Hornby Street',\n",
       "    'address2': '',\n",
       "    'address3': None,\n",
       "    'city': 'Vancouver',\n",
       "    'zip_code': 'V6Z 1V3',\n",
       "    'country': 'CA',\n",
       "    'state': 'BC',\n",
       "    'display_address': ['965 Hornby Street',\n",
       "     'Vancouver, BC V6Z 1V3',\n",
       "     'Canada']},\n",
       "   'phone': '+16045680013',\n",
       "   'display_phone': '+1 604-568-0013',\n",
       "   'distance': 2050.432447968474},\n",
       "  {'id': 'XFVGGq47_5mUM9QQsRO8nA',\n",
       "   'alias': 'guu-original-thurlow-vancouver',\n",
       "   'name': 'Guu Original Thurlow',\n",
       "   'image_url': 'https://s3-media2.fl.yelpcdn.com/bphoto/XgioFkzzcq76t0GWKjzXDg/o.jpg',\n",
       "   'is_closed': False,\n",
       "   'url': 'https://www.yelp.com/biz/guu-original-thurlow-vancouver?adjust_creative=5sgRUqt0gRSL0aY24fgXOg&utm_campaign=yelp_api_v3&utm_medium=api_v3_business_search&utm_source=5sgRUqt0gRSL0aY24fgXOg',\n",
       "   'review_count': 740,\n",
       "   'categories': [{'alias': 'japanese', 'title': 'Japanese'},\n",
       "    {'alias': 'tapas', 'title': 'Tapas Bars'}],\n",
       "   'rating': 4.0,\n",
       "   'coordinates': {'latitude': 49.2839786648396,\n",
       "    'longitude': -123.125567978574},\n",
       "   'transactions': [],\n",
       "   'price': '$$',\n",
       "   'location': {'address1': '838 Thurlow Street',\n",
       "    'address2': '',\n",
       "    'address3': '',\n",
       "    'city': 'Vancouver',\n",
       "    'zip_code': 'V6E 1W2',\n",
       "    'country': 'CA',\n",
       "    'state': 'BC',\n",
       "    'display_address': ['838 Thurlow Street',\n",
       "     'Vancouver, BC V6E 1W2',\n",
       "     'Canada']},\n",
       "   'phone': '+16046858817',\n",
       "   'display_phone': '+1 604-685-8817',\n",
       "   'distance': 2399.5030724465587},\n",
       "  {'id': 'VcaNoLa56gpBWPxufnTw4w',\n",
       "   'alias': 'shizenya-on-broadway-vancouver-3',\n",
       "   'name': 'Shizenya on Broadway',\n",
       "   'image_url': 'https://s3-media3.fl.yelpcdn.com/bphoto/-T6Tbv3xxOvdiVi7cu7zuw/o.jpg',\n",
       "   'is_closed': False,\n",
       "   'url': 'https://www.yelp.com/biz/shizenya-on-broadway-vancouver-3?adjust_creative=5sgRUqt0gRSL0aY24fgXOg&utm_campaign=yelp_api_v3&utm_medium=api_v3_business_search&utm_source=5sgRUqt0gRSL0aY24fgXOg',\n",
       "   'review_count': 134,\n",
       "   'categories': [{'alias': 'japanese', 'title': 'Japanese'},\n",
       "    {'alias': 'sushi', 'title': 'Sushi Bars'}],\n",
       "   'rating': 4.0,\n",
       "   'coordinates': {'latitude': 49.263888, 'longitude': -123.134264},\n",
       "   'transactions': [],\n",
       "   'price': '$$',\n",
       "   'location': {'address1': '160-1333 W Broadway',\n",
       "    'address2': '',\n",
       "    'address3': '',\n",
       "    'city': 'Vancouver',\n",
       "    'zip_code': 'V6H 1G9',\n",
       "    'country': 'CA',\n",
       "    'state': 'BC',\n",
       "    'display_address': ['160-1333 W Broadway',\n",
       "     'Vancouver, BC V6H 1G9',\n",
       "     'Canada']},\n",
       "   'phone': '+16045693721',\n",
       "   'display_phone': '+1 604-569-3721',\n",
       "   'distance': 1310.6426150672662},\n",
       "  {'id': '7tWCarnSZxDHmnIJ0tkUuA',\n",
       "   'alias': 'shizenya-on-denman-vancouver-2',\n",
       "   'name': 'Shizenya on Denman',\n",
       "   'image_url': 'https://s3-media2.fl.yelpcdn.com/bphoto/ktL7Eu4KB0iKoQZH9ULFfw/o.jpg',\n",
       "   'is_closed': False,\n",
       "   'url': 'https://www.yelp.com/biz/shizenya-on-denman-vancouver-2?adjust_creative=5sgRUqt0gRSL0aY24fgXOg&utm_campaign=yelp_api_v3&utm_medium=api_v3_business_search&utm_source=5sgRUqt0gRSL0aY24fgXOg',\n",
       "   'review_count': 15,\n",
       "   'categories': [{'alias': 'japanese', 'title': 'Japanese'}],\n",
       "   'rating': 4.0,\n",
       "   'coordinates': {'latitude': 49.2886937, 'longitude': -123.1399275},\n",
       "   'transactions': [],\n",
       "   'location': {'address1': '1059 Denman Street',\n",
       "    'address2': None,\n",
       "    'address3': '',\n",
       "    'city': 'Vancouver',\n",
       "    'zip_code': 'V6G 2M7',\n",
       "    'country': 'CA',\n",
       "    'state': 'BC',\n",
       "    'display_address': ['1059 Denman Street',\n",
       "     'Vancouver, BC V6G 2M7',\n",
       "     'Canada']},\n",
       "   'phone': '+17783790159',\n",
       "   'display_phone': '+1 778-379-0159',\n",
       "   'distance': 3304.516549989587},\n",
       "  {'id': 'ERExev5XIiL3ShIlnHETQw',\n",
       "   'alias': 'masa-japanese-restaurant-vancouver-2',\n",
       "   'name': 'Masa Japanese Restaurant',\n",
       "   'image_url': 'https://s3-media2.fl.yelpcdn.com/bphoto/0G9-jN_rBtqb9t59zkyXgQ/o.jpg',\n",
       "   'is_closed': False,\n",
       "   'url': 'https://www.yelp.com/biz/masa-japanese-restaurant-vancouver-2?adjust_creative=5sgRUqt0gRSL0aY24fgXOg&utm_campaign=yelp_api_v3&utm_medium=api_v3_business_search&utm_source=5sgRUqt0gRSL0aY24fgXOg',\n",
       "   'review_count': 121,\n",
       "   'categories': [{'alias': 'japanese', 'title': 'Japanese'},\n",
       "    {'alias': 'sushi', 'title': 'Sushi Bars'}],\n",
       "   'rating': 3.5,\n",
       "   'coordinates': {'latitude': 49.2635194, 'longitude': -123.1369059},\n",
       "   'transactions': [],\n",
       "   'price': '$$',\n",
       "   'location': {'address1': '1418 W Broadway',\n",
       "    'address2': '',\n",
       "    'address3': '',\n",
       "    'city': 'Vancouver',\n",
       "    'zip_code': 'V6H 1H4',\n",
       "    'country': 'CA',\n",
       "    'state': 'BC',\n",
       "    'display_address': ['1418 W Broadway', 'Vancouver, BC V6H 1H4', 'Canada']},\n",
       "   'phone': '+16047320112',\n",
       "   'display_phone': '+1 604-732-0112',\n",
       "   'distance': 1500.8376716759485},\n",
       "  {'id': 'hB18YuRjOQRH5ya3tDjanQ',\n",
       "   'alias': 'tojos-vancouver',\n",
       "   'name': \"Tojo's\",\n",
       "   'image_url': 'https://s3-media3.fl.yelpcdn.com/bphoto/Lr_8V714YjpA5RbjCVuWZg/o.jpg',\n",
       "   'is_closed': False,\n",
       "   'url': 'https://www.yelp.com/biz/tojos-vancouver?adjust_creative=5sgRUqt0gRSL0aY24fgXOg&utm_campaign=yelp_api_v3&utm_medium=api_v3_business_search&utm_source=5sgRUqt0gRSL0aY24fgXOg',\n",
       "   'review_count': 356,\n",
       "   'categories': [{'alias': 'japanese', 'title': 'Japanese'},\n",
       "    {'alias': 'sushi', 'title': 'Sushi Bars'}],\n",
       "   'rating': 3.5,\n",
       "   'coordinates': {'latitude': 49.26374, 'longitude': -123.1298},\n",
       "   'transactions': [],\n",
       "   'price': '$$$$',\n",
       "   'location': {'address1': '1133 W Broadway',\n",
       "    'address2': '',\n",
       "    'address3': '',\n",
       "    'city': 'Vancouver',\n",
       "    'zip_code': 'V6H 1G1',\n",
       "    'country': 'CA',\n",
       "    'state': 'BC',\n",
       "    'display_address': ['1133 W Broadway', 'Vancouver, BC V6H 1G1', 'Canada']},\n",
       "   'phone': '+16048728050',\n",
       "   'display_phone': '+1 604-872-8050',\n",
       "   'distance': 979.9670471924953}],\n",
       " 'total': 6,\n",
       " 'region': {'center': {'longitude': -123.11622619628906,\n",
       "   'latitude': 49.26327804232932}}}"
      ]
     },
     "execution_count": 108,
     "metadata": {},
     "output_type": "execute_result"
    }
   ],
   "source": [
    "request.json()"
   ]
  },
  {
   "cell_type": "markdown",
   "metadata": {},
   "source": [
    "# Creating the Cleaned Data"
   ]
  },
  {
   "cell_type": "markdown",
   "metadata": {},
   "source": [
    "> Here I will create a PySpark dataframe to eventually join it back to the `rest_distinct_df` dataframe."
   ]
  },
  {
   "cell_type": "code",
   "execution_count": 285,
   "metadata": {},
   "outputs": [
    {
     "data": {
      "text/html": [
       "<table border='1'>\n",
       "<tr><th>name</th><th>category</th><th>rating</th><th>review_count</th><th>price</th></tr>\n",
       "<tr><td>Morris J. Wosk Ce...</td><td>null</td><td>NaN</td><td>NaN</td><td>null</td></tr>\n",
       "<tr><td>Banana Leaf Malay...</td><td>[[title -&gt; Malays...</td><td>3.5</td><td>211.0</td><td>$$</td></tr>\n",
       "<tr><td>Top of Vancouver</td><td>[[title -&gt; Americ...</td><td>3.0</td><td>307.0</td><td>$$$$</td></tr>\n",
       "<tr><td>Portobello Ristor...</td><td>null</td><td>NaN</td><td>NaN</td><td>null</td></tr>\n",
       "<tr><td>Park Theatre</td><td>[[title -&gt; Cinema...</td><td>4.0</td><td>31.0</td><td>null</td></tr>\n",
       "<tr><td>The Bake Shop</td><td>[[title -&gt; Bakeri...</td><td>4.5</td><td>42.0</td><td>$$</td></tr>\n",
       "<tr><td>Liquid Nutrition</td><td>[[title -&gt; Juice ...</td><td>1.5</td><td>6.0</td><td>$$$$</td></tr>\n",
       "<tr><td>The Dish Fabulous...</td><td>[[title -&gt; Massag...</td><td>3.5</td><td>28.0</td><td>$$$</td></tr>\n",
       "<tr><td>Euro Bagel Cafe</td><td>[[title -&gt; Coffee...</td><td>4.0</td><td>49.0</td><td>$</td></tr>\n",
       "<tr><td>Thida Thai Restau...</td><td>[[title -&gt; Thai, ...</td><td>3.0</td><td>53.0</td><td>$$</td></tr>\n",
       "</table>\n"
      ],
      "text/plain": [
       "+--------------------+--------------------+------+------------+-----+\n",
       "|                name|            category|rating|review_count|price|\n",
       "+--------------------+--------------------+------+------------+-----+\n",
       "|Morris J. Wosk Ce...|                null|   NaN|         NaN| null|\n",
       "|Banana Leaf Malay...|[[title -> Malays...|   3.5|       211.0|   $$|\n",
       "|    Top of Vancouver|[[title -> Americ...|   3.0|       307.0| $$$$|\n",
       "|Portobello Ristor...|                null|   NaN|         NaN| null|\n",
       "|        Park Theatre|[[title -> Cinema...|   4.0|        31.0| null|\n",
       "|       The Bake Shop|[[title -> Bakeri...|   4.5|        42.0|   $$|\n",
       "|    Liquid Nutrition|[[title -> Juice ...|   1.5|         6.0| $$$$|\n",
       "|The Dish Fabulous...|[[title -> Massag...|   3.5|        28.0|  $$$|\n",
       "|     Euro Bagel Cafe|[[title -> Coffee...|   4.0|        49.0|    $|\n",
       "|Thida Thai Restau...|[[title -> Thai, ...|   3.0|        53.0|   $$|\n",
       "+--------------------+--------------------+------+------------+-----+"
      ]
     },
     "execution_count": 285,
     "metadata": {},
     "output_type": "execute_result"
    }
   ],
   "source": [
    "rest_distinct_info = spark.createDataFrame(pd.DataFrame(data))\n",
    "rest_distinct_info"
   ]
  },
  {
   "cell_type": "code",
   "execution_count": 281,
   "metadata": {},
   "outputs": [
    {
     "data": {
      "text/html": [
       "<table border='1'>\n",
       "<tr><th>BusinessTradeName</th><th>Geom</th><th>PostalCode</th><th>House</th><th>Street</th><th>name</th><th>house</th><th>street</th><th>postalcode</th><th>geom</th><th>category</th><th>rating</th><th>review_count</th><th>price</th></tr>\n",
       "<tr><td>&quot;Phnom Penh &quot;&quot;a&quot;&quot;...</td><td>&quot;{&quot;&quot;type&quot;&quot;: &quot;&quot;Poi...</td><td>V6A 1Z7</td><td>244</td><td>E Georgia St</td><td>null</td><td>null</td><td>null</td><td>null</td><td>null</td><td>null</td><td>null</td><td>null</td><td>null</td></tr>\n",
       "<tr><td>49th Parallel Cof...</td><td>&quot;{&quot;&quot;type&quot;&quot;: &quot;&quot;Poi...</td><td>V6K 1N6</td><td>2198</td><td>W 4TH AV</td><td>null</td><td>null</td><td>null</td><td>null</td><td>null</td><td>null</td><td>null</td><td>null</td><td>null</td></tr>\n",
       "<tr><td>49th Parallel Cof...</td><td>&quot;{&quot;&quot;type&quot;&quot;: &quot;&quot;Poi...</td><td>V6K 1N6</td><td>2152</td><td>W 4TH AV</td><td>null</td><td>null</td><td>null</td><td>null</td><td>null</td><td>null</td><td>null</td><td>null</td><td>null</td></tr>\n",
       "<tr><td>49th Parallel Cof...</td><td>&quot;{&quot;&quot;type&quot;&quot;: &quot;&quot;Poi...</td><td>V6E 0A1</td><td>689</td><td>THURLOW ST</td><td>null</td><td>null</td><td>null</td><td>null</td><td>null</td><td>null</td><td>null</td><td>null</td><td>null</td></tr>\n",
       "<tr><td>49th Parallel Cof...</td><td>&quot;{&quot;&quot;type&quot;&quot;: &quot;&quot;Poi...</td><td>V5T 3G3</td><td>2902</td><td>MAIN ST</td><td>null</td><td>null</td><td>null</td><td>null</td><td>null</td><td>null</td><td>null</td><td>null</td><td>null</td></tr>\n",
       "<tr><td>Annalena</td><td>&quot;{&quot;&quot;type&quot;&quot;: &quot;&quot;Poi...</td><td>V6J 5B8</td><td>1809</td><td>W 1ST AV</td><td>null</td><td>null</td><td>null</td><td>null</td><td>null</td><td>null</td><td>null</td><td>null</td><td>null</td></tr>\n",
       "<tr><td>Bing Sheng Restau...</td><td>null</td><td>V5M 3H9</td><td>1800</td><td>RENFREW ST</td><td>null</td><td>null</td><td>null</td><td>null</td><td>null</td><td>null</td><td>null</td><td>null</td><td>null</td></tr>\n",
       "<tr><td>Brado</td><td>&quot;{&quot;&quot;type&quot;&quot;: &quot;&quot;Poi...</td><td>V5L 3X5</td><td>1399</td><td>COMMERCIAL DRIVE</td><td>null</td><td>null</td><td>null</td><td>null</td><td>null</td><td>null</td><td>null</td><td>null</td><td>null</td></tr>\n",
       "<tr><td>Capstone</td><td>&quot;{&quot;&quot;type&quot;&quot;: &quot;&quot;Poi...</td><td>V6G 1C1</td><td>1429</td><td>ROBSON ST</td><td>null</td><td>null</td><td>null</td><td>null</td><td>null</td><td>null</td><td>null</td><td>null</td><td>null</td></tr>\n",
       "<tr><td>Casa Shawarma</td><td>&quot;{&quot;&quot;type&quot;&quot;: &quot;&quot;Poi...</td><td>V5V 3E3</td><td>1385</td><td>KINGSWAY</td><td>null</td><td>null</td><td>null</td><td>null</td><td>null</td><td>null</td><td>null</td><td>null</td><td>null</td></tr>\n",
       "<tr><td>Fatty Cow Seafood...</td><td>&quot;{&quot;&quot;type&quot;&quot;: &quot;&quot;Poi...</td><td>V5P 3V2</td><td>5108</td><td>VICTORIA DRIVE</td><td>null</td><td>null</td><td>null</td><td>null</td><td>null</td><td>null</td><td>null</td><td>null</td><td>null</td></tr>\n",
       "<tr><td>Flip Side Dessert...</td><td>&quot;{&quot;&quot;type&quot;&quot;: &quot;&quot;Poi...</td><td>V5R 4H6</td><td>5538</td><td>JOYCE ST</td><td>null</td><td>null</td><td>null</td><td>null</td><td>null</td><td>null</td><td>null</td><td>null</td><td>null</td></tr>\n",
       "<tr><td>Flourist Milling Inc</td><td>&quot;{&quot;&quot;type&quot;&quot;: &quot;&quot;Poi...</td><td>V5N 4E8</td><td>3433</td><td>COMMERCIAL ST</td><td>null</td><td>null</td><td>null</td><td>null</td><td>null</td><td>null</td><td>null</td><td>null</td><td>null</td></tr>\n",
       "<tr><td>Neptune Palace Se...</td><td>&quot;{&quot;&quot;type&quot;&quot;: &quot;&quot;Poi...</td><td>V5X 0C4</td><td>470</td><td>SW MARINE DRIVE</td><td>null</td><td>null</td><td>null</td><td>null</td><td>null</td><td>null</td><td>null</td><td>null</td><td>null</td></tr>\n",
       "<tr><td>O-Bowl</td><td>&quot;{&quot;&quot;type&quot;&quot;: &quot;&quot;Poi...</td><td>V6K 2H3</td><td>3132</td><td>W BROADWAY</td><td>null</td><td>null</td><td>null</td><td>null</td><td>null</td><td>null</td><td>null</td><td>null</td><td>null</td></tr>\n",
       "<tr><td>Papa John&#x27;s Alma ...</td><td>&quot;{&quot;&quot;type&quot;&quot;: &quot;&quot;Poi...</td><td>V6R 4N6</td><td>2030</td><td>ALMA ST</td><td>null</td><td>null</td><td>null</td><td>null</td><td>null</td><td>null</td><td>null</td><td>null</td><td>null</td></tr>\n",
       "<tr><td>Pirate Restaurant</td><td>&quot;{&quot;&quot;type&quot;&quot;: &quot;&quot;Poi...</td><td>V6E 1X4</td><td>1221</td><td>THURLOW ST</td><td>null</td><td>null</td><td>null</td><td>null</td><td>null</td><td>null</td><td>null</td><td>null</td><td>null</td></tr>\n",
       "<tr><td>Produce Marketplace</td><td>&quot;{&quot;&quot;type&quot;&quot;: &quot;&quot;Poi...</td><td>V5W 3A4</td><td>6350</td><td>FRASER ST</td><td>null</td><td>null</td><td>null</td><td>null</td><td>null</td><td>null</td><td>null</td><td>null</td><td>null</td></tr>\n",
       "<tr><td>Simply Thai Resta...</td><td>&quot;{&quot;&quot;type&quot;&quot;: &quot;&quot;Poi...</td><td>V6B 6K3</td><td>1211</td><td>Hamilton St</td><td>null</td><td>null</td><td>null</td><td>null</td><td>null</td><td>null</td><td>null</td><td>null</td><td>null</td></tr>\n",
       "<tr><td>Starbucks Coffee ...</td><td>&quot;{&quot;&quot;type&quot;&quot;: &quot;&quot;Poi...</td><td>V6X 1P3</td><td>1055</td><td>DUNSMUIR ST</td><td>null</td><td>null</td><td>null</td><td>null</td><td>null</td><td>null</td><td>null</td><td>null</td><td>null</td></tr>\n",
       "</table>\n",
       "only showing top 20 rows\n"
      ],
      "text/plain": [
       "+--------------------+--------------------+----------+-----+----------------+----+-----+------+----------+----+--------+------+------------+-----+\n",
       "|   BusinessTradeName|                Geom|PostalCode|House|          Street|name|house|street|postalcode|geom|category|rating|review_count|price|\n",
       "+--------------------+--------------------+----------+-----+----------------+----+-----+------+----------+----+--------+------+------------+-----+\n",
       "|\"Phnom Penh \"\"a\"\"...|\"{\"\"type\"\": \"\"Poi...|   V6A 1Z7|  244|    E Georgia St|null| null|  null|      null|null|    null|  null|        null| null|\n",
       "|49th Parallel Cof...|\"{\"\"type\"\": \"\"Poi...|   V6K 1N6| 2198|        W 4TH AV|null| null|  null|      null|null|    null|  null|        null| null|\n",
       "|49th Parallel Cof...|\"{\"\"type\"\": \"\"Poi...|   V6K 1N6| 2152|        W 4TH AV|null| null|  null|      null|null|    null|  null|        null| null|\n",
       "|49th Parallel Cof...|\"{\"\"type\"\": \"\"Poi...|   V6E 0A1|  689|      THURLOW ST|null| null|  null|      null|null|    null|  null|        null| null|\n",
       "|49th Parallel Cof...|\"{\"\"type\"\": \"\"Poi...|   V5T 3G3| 2902|         MAIN ST|null| null|  null|      null|null|    null|  null|        null| null|\n",
       "|            Annalena|\"{\"\"type\"\": \"\"Poi...|   V6J 5B8| 1809|        W 1ST AV|null| null|  null|      null|null|    null|  null|        null| null|\n",
       "|Bing Sheng Restau...|                null|   V5M 3H9| 1800|      RENFREW ST|null| null|  null|      null|null|    null|  null|        null| null|\n",
       "|               Brado|\"{\"\"type\"\": \"\"Poi...|   V5L 3X5| 1399|COMMERCIAL DRIVE|null| null|  null|      null|null|    null|  null|        null| null|\n",
       "|            Capstone|\"{\"\"type\"\": \"\"Poi...|   V6G 1C1| 1429|       ROBSON ST|null| null|  null|      null|null|    null|  null|        null| null|\n",
       "|       Casa Shawarma|\"{\"\"type\"\": \"\"Poi...|   V5V 3E3| 1385|        KINGSWAY|null| null|  null|      null|null|    null|  null|        null| null|\n",
       "|Fatty Cow Seafood...|\"{\"\"type\"\": \"\"Poi...|   V5P 3V2| 5108|  VICTORIA DRIVE|null| null|  null|      null|null|    null|  null|        null| null|\n",
       "|Flip Side Dessert...|\"{\"\"type\"\": \"\"Poi...|   V5R 4H6| 5538|        JOYCE ST|null| null|  null|      null|null|    null|  null|        null| null|\n",
       "|Flourist Milling Inc|\"{\"\"type\"\": \"\"Poi...|   V5N 4E8| 3433|   COMMERCIAL ST|null| null|  null|      null|null|    null|  null|        null| null|\n",
       "|Neptune Palace Se...|\"{\"\"type\"\": \"\"Poi...|   V5X 0C4|  470| SW MARINE DRIVE|null| null|  null|      null|null|    null|  null|        null| null|\n",
       "|              O-Bowl|\"{\"\"type\"\": \"\"Poi...|   V6K 2H3| 3132|      W BROADWAY|null| null|  null|      null|null|    null|  null|        null| null|\n",
       "|Papa John's Alma ...|\"{\"\"type\"\": \"\"Poi...|   V6R 4N6| 2030|         ALMA ST|null| null|  null|      null|null|    null|  null|        null| null|\n",
       "|   Pirate Restaurant|\"{\"\"type\"\": \"\"Poi...|   V6E 1X4| 1221|      THURLOW ST|null| null|  null|      null|null|    null|  null|        null| null|\n",
       "| Produce Marketplace|\"{\"\"type\"\": \"\"Poi...|   V5W 3A4| 6350|       FRASER ST|null| null|  null|      null|null|    null|  null|        null| null|\n",
       "|Simply Thai Resta...|\"{\"\"type\"\": \"\"Poi...|   V6B 6K3| 1211|     Hamilton St|null| null|  null|      null|null|    null|  null|        null| null|\n",
       "|Starbucks Coffee ...|\"{\"\"type\"\": \"\"Poi...|   V6X 1P3| 1055|     DUNSMUIR ST|null| null|  null|      null|null|    null|  null|        null| null|\n",
       "+--------------------+--------------------+----------+-----+----------------+----+-----+------+----------+----+--------+------+------------+-----+\n",
       "only showing top 20 rows"
      ]
     },
     "execution_count": 281,
     "metadata": {},
     "output_type": "execute_result"
    }
   ],
   "source": [
    "rest_distinct_df.join(rest_distinct_info, rest_distinct_df.BusinessTradeName == rest_distinct_info.name, how = 'left')"
   ]
  },
  {
   "cell_type": "markdown",
   "metadata": {},
   "source": [
    "> quantify similarity of restaurant cuisines to see how similar restuarants in the same proximity do"
   ]
  },
  {
   "cell_type": "code",
   "execution_count": null,
   "metadata": {},
   "outputs": [],
   "source": []
  }
 ],
 "metadata": {
  "kernelspec": {
   "display_name": "Python 3",
   "language": "python",
   "name": "python3"
  },
  "language_info": {
   "codemirror_mode": {
    "name": "ipython",
    "version": 3
   },
   "file_extension": ".py",
   "mimetype": "text/x-python",
   "name": "python",
   "nbconvert_exporter": "python",
   "pygments_lexer": "ipython3",
   "version": "3.7.6"
  }
 },
 "nbformat": 4,
 "nbformat_minor": 4
}
