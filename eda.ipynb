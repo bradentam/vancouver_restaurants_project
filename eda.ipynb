{
 "cells": [
  {
   "cell_type": "markdown",
   "metadata": {},
   "source": [
    "# Exploratory Data Analysis"
   ]
  },
  {
   "cell_type": "markdown",
   "metadata": {},
   "source": [
    "In this EDA, I will be examining various data sources from [opendata.vancouver.ca](https://opendata.vancouver.ca/pages/home/)."
   ]
  },
  {
   "cell_type": "markdown",
   "metadata": {},
   "source": [
    "## Imports"
   ]
  },
  {
   "cell_type": "code",
   "execution_count": 9,
   "metadata": {},
   "outputs": [],
   "source": [
    "import numpy as np\n",
    "import pandas as pd\n",
    "import re\n",
    "import requests\n",
    "import os\n",
    "\n",
    "from matplotlib import pyplot as plt\n",
    "from pyspark.sql import SparkSession"
   ]
  },
  {
   "cell_type": "code",
   "execution_count": 25,
   "metadata": {},
   "outputs": [],
   "source": [
    "from pyspark.sql.functions import coalesce"
   ]
  },
  {
   "cell_type": "code",
   "execution_count": 26,
   "metadata": {},
   "outputs": [],
   "source": [
    "from pyspark.ml.regression import LinearRegression\n",
    "from pyspark.ml.feature import VectorAssembler\n",
    "from pyspark.sql.functions import array, col, count, mean, sum, udf, when\n",
    "from pyspark.sql.types import DoubleType, IntegerType, StringType, Row\n",
    "from pyspark.sql.functions import sum, col, udf\n",
    "from pyspark.sql.types import *"
   ]
  },
  {
   "cell_type": "markdown",
   "metadata": {},
   "source": [
    "## Reading in the main dataset"
   ]
  },
  {
   "cell_type": "code",
   "execution_count": 27,
   "metadata": {},
   "outputs": [],
   "source": [
    "spark = SparkSession.builder.appName('Ops').getOrCreate()"
   ]
  },
  {
   "cell_type": "code",
   "execution_count": 28,
   "metadata": {},
   "outputs": [],
   "source": [
    "# allows for cleaner output\n",
    "spark.conf.set(\"spark.sql.repl.eagerEval.enabled\", True)"
   ]
  },
  {
   "cell_type": "code",
   "execution_count": 29,
   "metadata": {},
   "outputs": [],
   "source": [
    "licences_df = (spark.read\n",
    "          .option('header','true')\n",
    "          .option('inferSchema','true')\n",
    "          .option('sep', ';')\n",
    "          .csv('data/business-licences.csv'))"
   ]
  },
  {
   "cell_type": "code",
   "execution_count": 30,
   "metadata": {},
   "outputs": [
    {
     "data": {
      "text/plain": [
       "443158"
      ]
     },
     "execution_count": 30,
     "metadata": {},
     "output_type": "execute_result"
    }
   ],
   "source": [
    "licences_df.count()"
   ]
  },
  {
   "cell_type": "markdown",
   "metadata": {},
   "source": [
    "> There are 443 158 observations in this dataset. "
   ]
  },
  {
   "cell_type": "code",
   "execution_count": 31,
   "metadata": {},
   "outputs": [
    {
     "name": "stdout",
     "output_type": "stream",
     "text": [
      "root\n",
      " |-- FOLDERYEAR: integer (nullable = true)\n",
      " |-- LicenceRSN: integer (nullable = true)\n",
      " |-- LicenceNumber: string (nullable = true)\n",
      " |-- LicenceRevisionNumber: integer (nullable = true)\n",
      " |-- BusinessName: string (nullable = true)\n",
      " |-- BusinessTradeName: string (nullable = true)\n",
      " |-- Status: string (nullable = true)\n",
      " |-- IssuedDate: timestamp (nullable = true)\n",
      " |-- ExpiredDate: timestamp (nullable = true)\n",
      " |-- BusinessType: string (nullable = true)\n",
      " |-- BusinessSubType: string (nullable = true)\n",
      " |-- Unit: string (nullable = true)\n",
      " |-- UnitType: string (nullable = true)\n",
      " |-- House: string (nullable = true)\n",
      " |-- Street: string (nullable = true)\n",
      " |-- City: string (nullable = true)\n",
      " |-- Province: string (nullable = true)\n",
      " |-- Country: string (nullable = true)\n",
      " |-- PostalCode: string (nullable = true)\n",
      " |-- LocalArea: string (nullable = true)\n",
      " |-- NumberofEmployees: double (nullable = true)\n",
      " |-- FeePaid: integer (nullable = true)\n",
      " |-- ExtractDate: timestamp (nullable = true)\n",
      " |-- Geom: string (nullable = true)\n",
      "\n"
     ]
    }
   ],
   "source": [
    "licences_df.printSchema()"
   ]
  },
  {
   "cell_type": "code",
   "execution_count": 64,
   "metadata": {},
   "outputs": [
    {
     "data": {
      "text/html": [
       "<table border='1'>\n",
       "<tr><th>FOLDERYEAR</th><th>LicenceRSN</th><th>LicenceNumber</th><th>LicenceRevisionNumber</th><th>BusinessName</th><th>BusinessTradeName</th><th>Status</th><th>IssuedDate</th><th>ExpiredDate</th><th>BusinessType</th><th>BusinessSubType</th><th>Unit</th><th>UnitType</th><th>House</th><th>Street</th><th>City</th><th>Province</th><th>Country</th><th>PostalCode</th><th>LocalArea</th><th>NumberofEmployees</th><th>FeePaid</th><th>ExtractDate</th><th>Geom</th></tr>\n",
       "<tr><td>15</td><td>2380055</td><td>15-150315</td><td>0</td><td>Brandi Nicole Eue...</td><td>Spa Haven Boutiqu...</td><td>Gone Out of Business</td><td>null</td><td>null</td><td>Therapeutic Touch...</td><td>null</td><td>null</td><td>null</td><td>null</td><td>null</td><td>Vancouver</td><td>BC</td><td>CA</td><td>null</td><td>Kensington-Cedar ...</td><td>1.0</td><td>null</td><td>2019-07-21 13:49:17</td><td>null</td></tr>\n",
       "<tr><td>15</td><td>2380056</td><td>15-150316</td><td>0</td><td>Kelly Ashley Bake...</td><td>null</td><td>Pending</td><td>null</td><td>null</td><td>Therapeutic Touch...</td><td>null</td><td>null</td><td>null</td><td>null</td><td>null</td><td>Vancouver</td><td>BC</td><td>CA</td><td>null</td><td>Kitsilano</td><td>1.0</td><td>null</td><td>2019-07-21 13:49:17</td><td>null</td></tr>\n",
       "<tr><td>15</td><td>2380058</td><td>15-150318</td><td>0</td><td>Heart To Mind Cra...</td><td>Heart To Mind</td><td>Issued</td><td>2014-12-20 10:39:10</td><td>2015-12-31 00:00:00</td><td>Therapeutic Touch...</td><td>null</td><td>null</td><td>null</td><td>null</td><td>null</td><td>Vancouver</td><td>BC</td><td>CA</td><td>null</td><td>Kerrisdale</td><td>1.0</td><td>133</td><td>2019-07-21 13:49:17</td><td>null</td></tr>\n",
       "<tr><td>15</td><td>2380062</td><td>15-150322</td><td>0</td><td>(Donna Sam)</td><td>null</td><td>Issued</td><td>2014-12-02 15:12:32</td><td>2015-12-31 00:00:00</td><td>Therapeutic Touch...</td><td>null</td><td>null</td><td>null</td><td>null</td><td>null</td><td>Vancouver</td><td>BC</td><td>CA</td><td>null</td><td>South Cambie</td><td>0.0</td><td>155</td><td>2019-07-21 13:49:17</td><td>null</td></tr>\n",
       "<tr><td>15</td><td>2380065</td><td>15-150325</td><td>0</td><td>James Joseph Thom...</td><td>James Thompson RST</td><td>Gone Out of Business</td><td>null</td><td>null</td><td>Therapeutic Touch...</td><td>null</td><td>null</td><td>null</td><td>null</td><td>null</td><td>Vancouver</td><td>BC</td><td>CA</td><td>null</td><td>Grandview-Woodland</td><td>0.0</td><td>null</td><td>2019-07-21 13:49:17</td><td>null</td></tr>\n",
       "<tr><td>15</td><td>2380066</td><td>15-150326</td><td>0</td><td>(Bunchu Praichit)</td><td>Bunchu Praichit T...</td><td>Issued</td><td>2014-12-09 21:26:32</td><td>2015-12-31 00:00:00</td><td>Therapeutic Touch...</td><td>null</td><td>null</td><td>null</td><td>null</td><td>null</td><td>Vancouver</td><td>BC</td><td>CA</td><td>null</td><td>Kensington-Cedar ...</td><td>0.0</td><td>133</td><td>2019-07-21 13:49:17</td><td>null</td></tr>\n",
       "<tr><td>15</td><td>2380078</td><td>15-150338</td><td>0</td><td>Tourland Travel Ltd</td><td>null</td><td>Issued</td><td>2014-11-24 10:30:17</td><td>2015-12-31 00:00:00</td><td>Travel Agent</td><td>null</td><td>7</td><td>Unit</td><td>900</td><td>W GEORGIA ST</td><td>Vancouver</td><td>BC</td><td>CA</td><td>V6C 2W6</td><td>Downtown</td><td>2.0</td><td>133</td><td>2019-07-21 13:49:17</td><td>&quot;{&quot;&quot;type&quot;&quot;: &quot;&quot;Poi...</td></tr>\n",
       "<tr><td>15</td><td>2380079</td><td>15-150339</td><td>0</td><td>Jetway Travel Inc</td><td>null</td><td>Issued</td><td>2015-02-27 14:16:59</td><td>2015-12-31 00:00:00</td><td>Travel Agent</td><td>null</td><td>null</td><td>null</td><td>1796</td><td>RENFREW ST</td><td>Vancouver</td><td>BC</td><td>CA</td><td>V5M 3H8</td><td>Hastings-Sunrise</td><td>2.0</td><td>173</td><td>2019-07-21 13:49:17</td><td>&quot;{&quot;&quot;type&quot;&quot;: &quot;&quot;Poi...</td></tr>\n",
       "<tr><td>15</td><td>2380080</td><td>15-150340</td><td>0</td><td>Skyline Connectio...</td><td>null</td><td>Issued</td><td>2014-12-29 11:34:29</td><td>2015-12-31 00:00:00</td><td>Travel Agent</td><td>null</td><td>null</td><td>null</td><td>5318</td><td>VICTORIA DRIVE</td><td>Vancouver</td><td>BC</td><td>CA</td><td>V5P 3V7</td><td>Kensington-Cedar ...</td><td>2.0</td><td>133</td><td>2019-07-21 13:49:17</td><td>&quot;{&quot;&quot;type&quot;&quot;: &quot;&quot;Poi...</td></tr>\n",
       "<tr><td>15</td><td>2380082</td><td>15-150342</td><td>0</td><td>The Flight Shops Inc</td><td>Flight Centre</td><td>Issued</td><td>2014-12-03 09:37:03</td><td>2015-12-31 00:00:00</td><td>Travel Agent</td><td>null</td><td>null</td><td>null</td><td>1232</td><td>DAVIE ST</td><td>Vancouver</td><td>BC</td><td>CA</td><td>V6E 1N3</td><td>West End</td><td>4.0</td><td>133</td><td>2019-07-21 13:49:17</td><td>&quot;{&quot;&quot;type&quot;&quot;: &quot;&quot;Poi...</td></tr>\n",
       "</table>\n"
      ],
      "text/plain": [
       "+----------+----------+-------------+---------------------+--------------------+--------------------+--------------------+-------------------+-------------------+--------------------+---------------+----+--------+-----+--------------+---------+--------+-------+----------+--------------------+-----------------+-------+-------------------+--------------------+\n",
       "|FOLDERYEAR|LicenceRSN|LicenceNumber|LicenceRevisionNumber|        BusinessName|   BusinessTradeName|              Status|         IssuedDate|        ExpiredDate|        BusinessType|BusinessSubType|Unit|UnitType|House|        Street|     City|Province|Country|PostalCode|           LocalArea|NumberofEmployees|FeePaid|        ExtractDate|                Geom|\n",
       "+----------+----------+-------------+---------------------+--------------------+--------------------+--------------------+-------------------+-------------------+--------------------+---------------+----+--------+-----+--------------+---------+--------+-------+----------+--------------------+-----------------+-------+-------------------+--------------------+\n",
       "|        15|   2380055|    15-150315|                    0|Brandi Nicole Eue...|Spa Haven Boutiqu...|Gone Out of Business|               null|               null|Therapeutic Touch...|           null|null|    null| null|          null|Vancouver|      BC|     CA|      null|Kensington-Cedar ...|              1.0|   null|2019-07-21 13:49:17|                null|\n",
       "|        15|   2380056|    15-150316|                    0|Kelly Ashley Bake...|                null|             Pending|               null|               null|Therapeutic Touch...|           null|null|    null| null|          null|Vancouver|      BC|     CA|      null|           Kitsilano|              1.0|   null|2019-07-21 13:49:17|                null|\n",
       "|        15|   2380058|    15-150318|                    0|Heart To Mind Cra...|       Heart To Mind|              Issued|2014-12-20 10:39:10|2015-12-31 00:00:00|Therapeutic Touch...|           null|null|    null| null|          null|Vancouver|      BC|     CA|      null|          Kerrisdale|              1.0|    133|2019-07-21 13:49:17|                null|\n",
       "|        15|   2380062|    15-150322|                    0|         (Donna Sam)|                null|              Issued|2014-12-02 15:12:32|2015-12-31 00:00:00|Therapeutic Touch...|           null|null|    null| null|          null|Vancouver|      BC|     CA|      null|        South Cambie|              0.0|    155|2019-07-21 13:49:17|                null|\n",
       "|        15|   2380065|    15-150325|                    0|James Joseph Thom...|  James Thompson RST|Gone Out of Business|               null|               null|Therapeutic Touch...|           null|null|    null| null|          null|Vancouver|      BC|     CA|      null|  Grandview-Woodland|              0.0|   null|2019-07-21 13:49:17|                null|\n",
       "|        15|   2380066|    15-150326|                    0|   (Bunchu Praichit)|Bunchu Praichit T...|              Issued|2014-12-09 21:26:32|2015-12-31 00:00:00|Therapeutic Touch...|           null|null|    null| null|          null|Vancouver|      BC|     CA|      null|Kensington-Cedar ...|              0.0|    133|2019-07-21 13:49:17|                null|\n",
       "|        15|   2380078|    15-150338|                    0| Tourland Travel Ltd|                null|              Issued|2014-11-24 10:30:17|2015-12-31 00:00:00|        Travel Agent|           null|   7|    Unit|  900|  W GEORGIA ST|Vancouver|      BC|     CA|   V6C 2W6|            Downtown|              2.0|    133|2019-07-21 13:49:17|\"{\"\"type\"\": \"\"Poi...|\n",
       "|        15|   2380079|    15-150339|                    0|   Jetway Travel Inc|                null|              Issued|2015-02-27 14:16:59|2015-12-31 00:00:00|        Travel Agent|           null|null|    null| 1796|    RENFREW ST|Vancouver|      BC|     CA|   V5M 3H8|    Hastings-Sunrise|              2.0|    173|2019-07-21 13:49:17|\"{\"\"type\"\": \"\"Poi...|\n",
       "|        15|   2380080|    15-150340|                    0|Skyline Connectio...|                null|              Issued|2014-12-29 11:34:29|2015-12-31 00:00:00|        Travel Agent|           null|null|    null| 5318|VICTORIA DRIVE|Vancouver|      BC|     CA|   V5P 3V7|Kensington-Cedar ...|              2.0|    133|2019-07-21 13:49:17|\"{\"\"type\"\": \"\"Poi...|\n",
       "|        15|   2380082|    15-150342|                    0|The Flight Shops Inc|       Flight Centre|              Issued|2014-12-03 09:37:03|2015-12-31 00:00:00|        Travel Agent|           null|null|    null| 1232|      DAVIE ST|Vancouver|      BC|     CA|   V6E 1N3|            West End|              4.0|    133|2019-07-21 13:49:17|\"{\"\"type\"\": \"\"Poi...|\n",
       "+----------+----------+-------------+---------------------+--------------------+--------------------+--------------------+-------------------+-------------------+--------------------+---------------+----+--------+-----+--------------+---------+--------+-------+----------+--------------------+-----------------+-------+-------------------+--------------------+"
      ]
     },
     "execution_count": 64,
     "metadata": {},
     "output_type": "execute_result"
    }
   ],
   "source": [
    "licences_df.limit(10)"
   ]
  },
  {
   "cell_type": "code",
   "execution_count": 175,
   "metadata": {},
   "outputs": [
    {
     "data": {
      "text/html": [
       "<table border='1'>\n",
       "<tr><th>FOLDERYEAR</th><th>count</th></tr>\n",
       "<tr><td>null</td><td>1</td></tr>\n",
       "<tr><td>13</td><td>60915</td></tr>\n",
       "<tr><td>16</td><td>61394</td></tr>\n",
       "<tr><td>20</td><td>62366</td></tr>\n",
       "<tr><td>94</td><td>1</td></tr>\n",
       "<tr><td>96</td><td>11</td></tr>\n",
       "<tr><td>19</td><td>70771</td></tr>\n",
       "<tr><td>15</td><td>60938</td></tr>\n",
       "<tr><td>14</td><td>60581</td></tr>\n",
       "<tr><td>18</td><td>66180</td></tr>\n",
       "</table>\n"
      ],
      "text/plain": [
       "+----------+-----+\n",
       "|FOLDERYEAR|count|\n",
       "+----------+-----+\n",
       "|      null|    1|\n",
       "|        13|60915|\n",
       "|        16|61394|\n",
       "|        20|62366|\n",
       "|        94|    1|\n",
       "|        96|   11|\n",
       "|        19|70771|\n",
       "|        15|60938|\n",
       "|        14|60581|\n",
       "|        18|66180|\n",
       "+----------+-----+"
      ]
     },
     "execution_count": 175,
     "metadata": {},
     "output_type": "execute_result"
    }
   ],
   "source": [
    "licences_df.groupBy('FOLDERYEAR').count()"
   ]
  },
  {
   "cell_type": "markdown",
   "metadata": {},
   "source": [
    "## Initial Wrangling "
   ]
  },
  {
   "cell_type": "code",
   "execution_count": 32,
   "metadata": {},
   "outputs": [
    {
     "name": "stdout",
     "output_type": "stream",
     "text": [
      "['Manufacturer - Food with Anc. Retail', 'Ltd Service Food Establishment', 'Temp Liquor Licence Amendment', 'Liquor Delivery Services', 'Liquor Establishment Standard', 'Retail Dealer - Food', 'Restaurant Class 2', 'Food Processing', 'Liquor Establishment Extended', 'Wholesale Dealer - Food with Anc. Retail', 'Restaurant Class 1', 'Liquor License Application', 'Warehouse Operator - Food', 'Manufacturer - Food', 'Liquor Retail Store', 'Wholesale Dealer - Food']\n"
     ]
    }
   ],
   "source": [
    "business_types = licences_df.select('BusinessType').distinct().collect()\n",
    "business_list = [business_types[i].BusinessType for i in range(len(business_types))]\n",
    "\n",
    "r = re.compile(\".*[Ff]ood.*|.*[Rr]estaurant.*|.*[Ll]iquor.*\")\n",
    "newlist = list(filter(r.match, business_list)) \n",
    "print(newlist)"
   ]
  },
  {
   "cell_type": "markdown",
   "metadata": {},
   "source": [
    "> These are the list of business types that have the word food, restaurant, or liquor."
   ]
  },
  {
   "cell_type": "code",
   "execution_count": 90,
   "metadata": {},
   "outputs": [],
   "source": [
    "rest_1 = (licences_df.BusinessType == 'Restaurant Class 1')\n",
    "rest_2 = (licences_df.BusinessType == 'Restaurant Class 2')\n",
    "rest_3 = (licences_df.BusinessType == 'Ltd Service Food Establishment')\n",
    "rest_4 = (licences_df.BusinessType == 'Temp Liquor Licence Amendment') & (licences_df.BusinessSubType == 'Area Extension')\n",
    "rest_5 = (licences_df.BusinessType == 'Liquor Establishment Standard') & (licences_df.BusinessSubType == 'Class 1  0-65 Seats')\n",
    "rest_6 = (licences_df.BusinessType == 'Liquor Establishment Extended') & (licences_df.BusinessSubType == 'Class 1  0-65 Seats')\n",
    "\n",
    "\n",
    "licences_rest_df = licences_df.filter(rest_1 | rest_2 | rest_3 | rest_4 | rest_5 | rest_6)"
   ]
  },
  {
   "cell_type": "code",
   "execution_count": 91,
   "metadata": {},
   "outputs": [
    {
     "data": {
      "text/html": [
       "<table border='1'>\n",
       "<tr><th>Status</th><th>count</th></tr>\n",
       "<tr><td>Cancelled</td><td>515</td></tr>\n",
       "<tr><td>Gone Out of Business</td><td>2505</td></tr>\n",
       "<tr><td>Issued</td><td>21285</td></tr>\n",
       "<tr><td>Inactive</td><td>541</td></tr>\n",
       "<tr><td>Pending</td><td>1393</td></tr>\n",
       "</table>\n"
      ],
      "text/plain": [
       "+--------------------+-----+\n",
       "|              Status|count|\n",
       "+--------------------+-----+\n",
       "|           Cancelled|  515|\n",
       "|Gone Out of Business| 2505|\n",
       "|              Issued|21285|\n",
       "|            Inactive|  541|\n",
       "|             Pending| 1393|\n",
       "+--------------------+-----+"
      ]
     },
     "execution_count": 91,
     "metadata": {},
     "output_type": "execute_result"
    }
   ],
   "source": [
    "licences_rest_df.groupBy(\"Status\").count()"
   ]
  },
  {
   "cell_type": "code",
   "execution_count": 92,
   "metadata": {},
   "outputs": [
    {
     "name": "stdout",
     "output_type": "stream",
     "text": [
      "933\n"
     ]
    }
   ],
   "source": [
    "print(licences_rest_df.filter('BusinessTradeName is null').select('BusinessName').distinct().count())"
   ]
  },
  {
   "cell_type": "markdown",
   "metadata": {},
   "source": [
    "> There are 933 businesses with missing name values so I will replace these entries with their business names. "
   ]
  },
  {
   "cell_type": "code",
   "execution_count": 93,
   "metadata": {},
   "outputs": [],
   "source": [
    "licences_rest_df = licences_rest_df.withColumn('BusinessTradeName', coalesce('BusinessTradeName', 'BusinessName'))"
   ]
  },
  {
   "cell_type": "code",
   "execution_count": 94,
   "metadata": {},
   "outputs": [],
   "source": [
    "licences_rest_df = licences_rest_df.dropna(subset = ['BusinessName'])"
   ]
  },
  {
   "cell_type": "code",
   "execution_count": 95,
   "metadata": {},
   "outputs": [
    {
     "data": {
      "text/plain": [
       "26214"
      ]
     },
     "execution_count": 95,
     "metadata": {},
     "output_type": "execute_result"
    }
   ],
   "source": [
    "licences_rest_df.count()"
   ]
  },
  {
   "cell_type": "code",
   "execution_count": 66,
   "metadata": {},
   "outputs": [
    {
     "data": {
      "text/html": [
       "<table border='1'>\n",
       "<tr><th>FOLDERYEAR</th><th>LicenceRSN</th><th>LicenceNumber</th><th>LicenceRevisionNumber</th><th>BusinessName</th><th>BusinessTradeName</th><th>Status</th><th>IssuedDate</th><th>ExpiredDate</th><th>BusinessType</th><th>BusinessSubType</th><th>Unit</th><th>UnitType</th><th>House</th><th>Street</th><th>City</th><th>Province</th><th>Country</th><th>PostalCode</th><th>LocalArea</th><th>NumberofEmployees</th><th>FeePaid</th><th>ExtractDate</th><th>Geom</th></tr>\n",
       "<tr><td>16</td><td>2603928</td><td>16-145091</td><td>0</td><td>White Spot Limited</td><td>White Spot Restau...</td><td>Issued</td><td>2015-12-24 11:57:18</td><td>2016-12-31 00:00:00</td><td>Restaurant Class 1</td><td>With Liquor Service</td><td>null</td><td>null</td><td>650</td><td>W 41st Av</td><td>Vancouver</td><td>BC</td><td>CA</td><td>V5Z2M9</td><td>Oakridge</td><td>0.0</td><td>2015</td><td>2019-07-21 13:49:20</td><td>&quot;{&quot;&quot;type&quot;&quot;: &quot;&quot;Poi...</td></tr>\n",
       "<tr><td>16</td><td>2604217</td><td>16-145379</td><td>0</td><td>Top Edge Holdings...</td><td>White Spot Restau...</td><td>Issued</td><td>2015-12-10 13:21:40</td><td>2016-12-31 00:00:00</td><td>Restaurant Class 1</td><td>With Liquor Service</td><td>null</td><td>null</td><td>5367</td><td>WEST BOULEVARD</td><td>Vancouver</td><td>BC</td><td>CA</td><td>V6M 3W4</td><td>Arbutus-Ridge</td><td>40.0</td><td>1806</td><td>2019-07-21 13:49:20</td><td>&quot;{&quot;&quot;type&quot;&quot;: &quot;&quot;Poi...</td></tr>\n",
       "<tr><td>16</td><td>2604226</td><td>16-145388</td><td>0</td><td>Pacific Internati...</td><td>White Spot Restau...</td><td>Issued</td><td>2015-11-12 12:33:43</td><td>2016-12-31 00:00:00</td><td>Restaurant Class 1</td><td>No Liquor Service</td><td>null</td><td>null</td><td>1881</td><td>Cornwall Av</td><td>Vancouver</td><td>BC</td><td>CA</td><td>V6J 1C6</td><td>Kitsilano</td><td>10.0</td><td>714</td><td>2019-07-21 13:49:20</td><td>&quot;{&quot;&quot;type&quot;&quot;: &quot;&quot;Poi...</td></tr>\n",
       "<tr><td>16</td><td>2604241</td><td>16-145403</td><td>0</td><td>No 109 Seabright ...</td><td>White Spot Restau...</td><td>Issued</td><td>2015-11-05 13:24:16</td><td>2016-12-31 00:00:00</td><td>Restaurant Class 1</td><td>With Liquor Service</td><td>null</td><td>null</td><td>1476</td><td>Kingsway</td><td>Vancouver</td><td>BC</td><td>CA</td><td>V5N 2R5</td><td>Kensington-Cedar ...</td><td>49.0</td><td>1688</td><td>2019-07-21 13:49:20</td><td>&quot;{&quot;&quot;type&quot;&quot;: &quot;&quot;Poi...</td></tr>\n",
       "<tr><td>16</td><td>2604304</td><td>16-145466</td><td>0</td><td>White Spot Limite...</td><td>White Spot Restau...</td><td>Issued</td><td>2015-12-24 11:59:33</td><td>2016-12-31 00:00:00</td><td>Restaurant Class 1</td><td>With Liquor Service</td><td>null</td><td>null</td><td>1126</td><td>SE Marine Dr</td><td>Vancouver</td><td>BC</td><td>CA</td><td>V5X 2V7</td><td>Sunset</td><td>0.0</td><td>1588</td><td>2019-07-21 13:49:20</td><td>null</td></tr>\n",
       "</table>\n"
      ],
      "text/plain": [
       "+----------+----------+-------------+---------------------+--------------------+--------------------+------+-------------------+-------------------+------------------+-------------------+----+--------+-----+--------------+---------+--------+-------+----------+--------------------+-----------------+-------+-------------------+--------------------+\n",
       "|FOLDERYEAR|LicenceRSN|LicenceNumber|LicenceRevisionNumber|        BusinessName|   BusinessTradeName|Status|         IssuedDate|        ExpiredDate|      BusinessType|    BusinessSubType|Unit|UnitType|House|        Street|     City|Province|Country|PostalCode|           LocalArea|NumberofEmployees|FeePaid|        ExtractDate|                Geom|\n",
       "+----------+----------+-------------+---------------------+--------------------+--------------------+------+-------------------+-------------------+------------------+-------------------+----+--------+-----+--------------+---------+--------+-------+----------+--------------------+-----------------+-------+-------------------+--------------------+\n",
       "|        16|   2603928|    16-145091|                    0|  White Spot Limited|White Spot Restau...|Issued|2015-12-24 11:57:18|2016-12-31 00:00:00|Restaurant Class 1|With Liquor Service|null|    null|  650|     W 41st Av|Vancouver|      BC|     CA|    V5Z2M9|            Oakridge|              0.0|   2015|2019-07-21 13:49:20|\"{\"\"type\"\": \"\"Poi...|\n",
       "|        16|   2604217|    16-145379|                    0|Top Edge Holdings...|White Spot Restau...|Issued|2015-12-10 13:21:40|2016-12-31 00:00:00|Restaurant Class 1|With Liquor Service|null|    null| 5367|WEST BOULEVARD|Vancouver|      BC|     CA|   V6M 3W4|       Arbutus-Ridge|             40.0|   1806|2019-07-21 13:49:20|\"{\"\"type\"\": \"\"Poi...|\n",
       "|        16|   2604226|    16-145388|                    0|Pacific Internati...|White Spot Restau...|Issued|2015-11-12 12:33:43|2016-12-31 00:00:00|Restaurant Class 1|  No Liquor Service|null|    null| 1881|   Cornwall Av|Vancouver|      BC|     CA|   V6J 1C6|           Kitsilano|             10.0|    714|2019-07-21 13:49:20|\"{\"\"type\"\": \"\"Poi...|\n",
       "|        16|   2604241|    16-145403|                    0|No 109 Seabright ...|White Spot Restau...|Issued|2015-11-05 13:24:16|2016-12-31 00:00:00|Restaurant Class 1|With Liquor Service|null|    null| 1476|      Kingsway|Vancouver|      BC|     CA|   V5N 2R5|Kensington-Cedar ...|             49.0|   1688|2019-07-21 13:49:20|\"{\"\"type\"\": \"\"Poi...|\n",
       "|        16|   2604304|    16-145466|                    0|White Spot Limite...|White Spot Restau...|Issued|2015-12-24 11:59:33|2016-12-31 00:00:00|Restaurant Class 1|With Liquor Service|null|    null| 1126|  SE Marine Dr|Vancouver|      BC|     CA|   V5X 2V7|              Sunset|              0.0|   1588|2019-07-21 13:49:20|                null|\n",
       "+----------+----------+-------------+---------------------+--------------------+--------------------+------+-------------------+-------------------+------------------+-------------------+----+--------+-----+--------------+---------+--------+-------+----------+--------------------+-----------------+-------+-------------------+--------------------+"
      ]
     },
     "execution_count": 66,
     "metadata": {},
     "output_type": "execute_result"
    }
   ],
   "source": [
    "from pyspark.sql.functions import regexp_extract, col\n",
    "\n",
    "# Search for names using regex\n",
    "\n",
    "def search_restaurant(search_term, n):\n",
    "    rows = licences_rest_df.BusinessTradeName.rlike('.*{}.*'.format(search_term))\n",
    "    return licences_rest_df.filter(rows).limit(n)\n",
    "\n",
    "search_restaurant('Spot', 5)"
   ]
  },
  {
   "cell_type": "markdown",
   "metadata": {},
   "source": [
    "> Use an external dataset such as yelp or zomato to get restuarant cuisine, price range, and other features. "
   ]
  },
  {
   "cell_type": "code",
   "execution_count": 96,
   "metadata": {},
   "outputs": [],
   "source": [
    "# use this table to populate the features from yelp\n",
    "\n",
    "rest_distinct_df = licences_rest_df.select(['BusinessTradeName', 'Geom', 'PostalCode', 'House', 'Street']).distinct()"
   ]
  },
  {
   "cell_type": "code",
   "execution_count": 97,
   "metadata": {},
   "outputs": [
    {
     "data": {
      "text/plain": [
       "6416"
      ]
     },
     "execution_count": 97,
     "metadata": {},
     "output_type": "execute_result"
    }
   ],
   "source": [
    "rest_distinct_df.count()"
   ]
  },
  {
   "cell_type": "markdown",
   "metadata": {},
   "source": [
    "> There are 6416 distinct restaurants locations."
   ]
  },
  {
   "cell_type": "code",
   "execution_count": 98,
   "metadata": {},
   "outputs": [
    {
     "data": {
      "text/html": [
       "<table border='1'>\n",
       "<tr><th>BusinessTradeName</th><th>Geom</th><th>PostalCode</th><th>House</th><th>Street</th></tr>\n",
       "<tr><td>Siga-Siga&#x27;s Chine...</td><td>null</td><td>null</td><td>null</td><td>null</td></tr>\n",
       "<tr><td>Siga-Siga&#x27;s Filip...</td><td>null</td><td>null</td><td>null</td><td>null</td></tr>\n",
       "<tr><td>Panz Veggie</td><td>null</td><td>null</td><td>null</td><td>null</td></tr>\n",
       "<tr><td>Fiery Pizza</td><td>null</td><td>null</td><td>null</td><td>null</td></tr>\n",
       "</table>\n"
      ],
      "text/plain": [
       "+--------------------+----+----------+-----+------+\n",
       "|   BusinessTradeName|Geom|PostalCode|House|Street|\n",
       "+--------------------+----+----------+-----+------+\n",
       "|Siga-Siga's Chine...|null|      null| null|  null|\n",
       "|Siga-Siga's Filip...|null|      null| null|  null|\n",
       "|         Panz Veggie|null|      null| null|  null|\n",
       "|         Fiery Pizza|null|      null| null|  null|\n",
       "+--------------------+----+----------+-----+------+"
      ]
     },
     "execution_count": 98,
     "metadata": {},
     "output_type": "execute_result"
    }
   ],
   "source": [
    "rest_distinct_df.filter('Geom is null').filter('PostalCode is null').filter('House is null').filter('Street is null')\n"
   ]
  },
  {
   "cell_type": "markdown",
   "metadata": {},
   "source": [
    "> 4 of these restaurants do not have any information on the location. Since this is a very small proportion of the data, I will remove them."
   ]
  },
  {
   "cell_type": "code",
   "execution_count": 99,
   "metadata": {},
   "outputs": [
    {
     "data": {
      "text/plain": [
       "6412"
      ]
     },
     "execution_count": 99,
     "metadata": {},
     "output_type": "execute_result"
    }
   ],
   "source": [
    "rest_distinct_df = rest_distinct_df.dropna(how = 'all', subset = ['Geom', 'PostalCode', 'House', 'Street'])\n",
    "rest_distinct_df.count()"
   ]
  },
  {
   "cell_type": "markdown",
   "metadata": {},
   "source": [
    "## YELP API\n",
    "\n",
    "https://www.yelp.ca/developers/documentation/v3/get_started   \n",
    "https://github.com/Yelp/yelp-fusion#code-samples\n"
   ]
  },
  {
   "cell_type": "code",
   "execution_count": 144,
   "metadata": {},
   "outputs": [],
   "source": [
    "test = rest_distinct_df.take(3)"
   ]
  },
  {
   "cell_type": "code",
   "execution_count": 147,
   "metadata": {},
   "outputs": [],
   "source": [
    "Point = 'point' \n",
    "coordinates = 'coordinates' "
   ]
  },
  {
   "cell_type": "code",
   "execution_count": 149,
   "metadata": {},
   "outputs": [
    {
     "data": {
      "text/plain": [
       "{type: 'point', 'coordinates': [-123.122503805717, 49.2630246879708]}"
      ]
     },
     "execution_count": 149,
     "metadata": {},
     "output_type": "execute_result"
    }
   ],
   "source": [
    "eval(eval(test[1].Geom))#[coordinates]"
   ]
  },
  {
   "cell_type": "code",
   "execution_count": 573,
   "metadata": {},
   "outputs": [],
   "source": [
    "api_key = os.getenv('YELP_API_KEY')\n",
    "\n",
    "# defines the values inside Geom \n",
    "Point = 'point' \n",
    "coordinates = 'coordinates' \n",
    "\n",
    "\n",
    "data = dict(names = [],\n",
    "            house = [], \n",
    "            street = [],\n",
    "            postalcode = [],\n",
    "            geom = [],\n",
    "            category = [],\n",
    "            rating = [],\n",
    "            price = [])\n",
    "\n",
    "for i in range(len(test)):\n",
    "\n",
    "    # append to lists\n",
    "    data['name'].append(test[i].BusinessTradeName)\n",
    "    data['house'].append(test[i].House)\n",
    "    data['street'].append(test[i].Street)\n",
    "    data['postalcode'].append(test[i].PostalCode)\n",
    "    data['geom'].append(test[i].Geom)\n",
    "\n",
    "    # api parameters\n",
    "    name = test[i].BusinessTradeName\n",
    "    loc = test[i].House + ' ' + test[i].Street + ' ' + test[i].PostalCode\n",
    "    coord = eval(eval(test[i].Geom))[coordinates]\n",
    "    long = coord[0]\n",
    "    lat = coord[1]\n",
    "\n",
    "    headers = {'Authorization': 'Bearer %s' % api_key}\n",
    "    params = {'apikey': api_key,\n",
    "              'term': name,\n",
    "              'location': loc,\n",
    "              'longitude': long,\n",
    "              'latitude': lat,\n",
    "              'limit': 1}\n",
    "    \n",
    "    request = requests.get('https://api.yelp.com/v3/businesses/search', \n",
    "                           headers = headers, params = params)\n",
    "    \n",
    "    result = request.json()\n",
    "\n",
    "    # category\n",
    "    if result['total'] == 0:\n",
    "        data['category'].append(None)\n",
    "        data['rating'].append(None)\n",
    "        data['price'].append(None)\n",
    "        data['review_count'].append(None)\n",
    "        \n",
    "    else:\n",
    "        data['category'].append(result['businesses'][0]['categories'])\n",
    "        data['rating'].append(result['businesses'][0]['rating'])\n",
    "        data['review_count'].append(result['businesses'][0]['review_count'])\n",
    "        data['price'].append(result['businesses'][0]['price'])\n"
   ]
  },
  {
   "cell_type": "code",
   "execution_count": 574,
   "metadata": {},
   "outputs": [
    {
     "data": {
      "text/html": [
       "<div>\n",
       "<style scoped>\n",
       "    .dataframe tbody tr th:only-of-type {\n",
       "        vertical-align: middle;\n",
       "    }\n",
       "\n",
       "    .dataframe tbody tr th {\n",
       "        vertical-align: top;\n",
       "    }\n",
       "\n",
       "    .dataframe thead th {\n",
       "        text-align: right;\n",
       "    }\n",
       "</style>\n",
       "<table border=\"1\" class=\"dataframe\">\n",
       "  <thead>\n",
       "    <tr style=\"text-align: right;\">\n",
       "      <th></th>\n",
       "      <th>BusinessTradeName</th>\n",
       "      <th>Geom</th>\n",
       "      <th>House</th>\n",
       "      <th>Street</th>\n",
       "      <th>category</th>\n",
       "      <th>rating</th>\n",
       "      <th>price</th>\n",
       "    </tr>\n",
       "  </thead>\n",
       "  <tbody>\n",
       "    <tr>\n",
       "      <th>0</th>\n",
       "      <td>Morris J. Wosk Centre for Dialogue</td>\n",
       "      <td>\"{\"\"type\"\": \"\"Point\"\", \"\"coordinates\"\": [-123....</td>\n",
       "      <td>580</td>\n",
       "      <td>W Hastings St</td>\n",
       "      <td>None</td>\n",
       "      <td>NaN</td>\n",
       "      <td>None</td>\n",
       "    </tr>\n",
       "    <tr>\n",
       "      <th>1</th>\n",
       "      <td>Banana Leaf Malaysian Cuisine</td>\n",
       "      <td>\"{\"\"type\"\": \"\"Point\"\", \"\"coordinates\"\": [-123....</td>\n",
       "      <td>820</td>\n",
       "      <td>W Broadway</td>\n",
       "      <td>[{'alias': 'malaysian', 'title': 'Malaysian'},...</td>\n",
       "      <td>3.5</td>\n",
       "      <td>$$</td>\n",
       "    </tr>\n",
       "    <tr>\n",
       "      <th>2</th>\n",
       "      <td>Top of Vancouver</td>\n",
       "      <td>\"{\"\"type\"\": \"\"Point\"\", \"\"coordinates\"\": [-123....</td>\n",
       "      <td>555</td>\n",
       "      <td>W HASTINGS ST</td>\n",
       "      <td>[{'alias': 'tradamerican', 'title': 'American ...</td>\n",
       "      <td>3.0</td>\n",
       "      <td>$$$$</td>\n",
       "    </tr>\n",
       "  </tbody>\n",
       "</table>\n",
       "</div>"
      ],
      "text/plain": [
       "                    BusinessTradeName  \\\n",
       "0  Morris J. Wosk Centre for Dialogue   \n",
       "1       Banana Leaf Malaysian Cuisine   \n",
       "2                    Top of Vancouver   \n",
       "\n",
       "                                                Geom House         Street  \\\n",
       "0  \"{\"\"type\"\": \"\"Point\"\", \"\"coordinates\"\": [-123....   580  W Hastings St   \n",
       "1  \"{\"\"type\"\": \"\"Point\"\", \"\"coordinates\"\": [-123....   820     W Broadway   \n",
       "2  \"{\"\"type\"\": \"\"Point\"\", \"\"coordinates\"\": [-123....   555  W HASTINGS ST   \n",
       "\n",
       "                                            category  rating price  \n",
       "0                                               None     NaN  None  \n",
       "1  [{'alias': 'malaysian', 'title': 'Malaysian'},...     3.5    $$  \n",
       "2  [{'alias': 'tradamerican', 'title': 'American ...     3.0  $$$$  "
      ]
     },
     "execution_count": 574,
     "metadata": {},
     "output_type": "execute_result"
    }
   ],
   "source": [
    "pd.DataFrame(data)"
   ]
  },
  {
   "cell_type": "markdown",
   "metadata": {},
   "source": [
    "> After removing the restaurants with no location, we have 6349 distinct restaurant locations."
   ]
  },
  {
   "cell_type": "code",
   "execution_count": 134,
   "metadata": {},
   "outputs": [],
   "source": [
    "params = {'apikey': api_key,\n",
    "          'location': '1126 SE Marine Dr V5X 2V7',\n",
    "          'longitude': -123.156010,\n",
    "          'latitude': 44.237763,\n",
    "          'limit': 5,\n",
    "          'sort_by': 'distance'}\n",
    "a = requests.get('https://api.yelp.com/v3/businesses/search', headers = headers, params = params)"
   ]
  },
  {
   "cell_type": "code",
   "execution_count": 135,
   "metadata": {},
   "outputs": [
    {
     "data": {
      "text/plain": [
       "{'businesses': [{'id': 'Vlfxpl1n5xEher4nn-1F6Q',\n",
       "   'alias': 'junkyard-extreme-burgers-and-brats-junction-city',\n",
       "   'name': 'Junkyard Extreme Burgers & Brats',\n",
       "   'image_url': 'https://s3-media2.fl.yelpcdn.com/bphoto/Cnwj6-rwory5mHj7lCfnqg/o.jpg',\n",
       "   'is_closed': False,\n",
       "   'url': 'https://www.yelp.com/biz/junkyard-extreme-burgers-and-brats-junction-city?adjust_creative=5sgRUqt0gRSL0aY24fgXOg&utm_campaign=yelp_api_v3&utm_medium=api_v3_business_search&utm_source=5sgRUqt0gRSL0aY24fgXOg',\n",
       "   'review_count': 153,\n",
       "   'categories': [{'alias': 'hotdog', 'title': 'Hot Dogs'},\n",
       "    {'alias': 'burgers', 'title': 'Burgers'},\n",
       "    {'alias': 'hotdogs', 'title': 'Fast Food'}],\n",
       "   'rating': 4.5,\n",
       "   'coordinates': {'latitude': 44.2532046, 'longitude': -123.19512},\n",
       "   'transactions': [],\n",
       "   'price': '$$',\n",
       "   'location': {'address1': '95410 Hwy 99 E',\n",
       "    'address2': None,\n",
       "    'address3': None,\n",
       "    'city': 'Junction City',\n",
       "    'zip_code': '97448',\n",
       "    'country': 'US',\n",
       "    'state': 'OR',\n",
       "    'display_address': ['95410 Hwy 99 E', 'Junction City, OR 97448']},\n",
       "   'phone': '+15419983232',\n",
       "   'display_phone': '(541) 998-3232',\n",
       "   'distance': 3569.1470376387265},\n",
       "  {'id': '-JcNOPJETcXXnmPND1ibGg',\n",
       "   'alias': 'harrisburg-area-museum-harrisburg',\n",
       "   'name': 'Harrisburg Area Museum',\n",
       "   'image_url': 'https://s3-media3.fl.yelpcdn.com/bphoto/P2dLXbTLwC5nWTeX-R7Qmw/o.jpg',\n",
       "   'is_closed': False,\n",
       "   'url': 'https://www.yelp.com/biz/harrisburg-area-museum-harrisburg?adjust_creative=5sgRUqt0gRSL0aY24fgXOg&utm_campaign=yelp_api_v3&utm_medium=api_v3_business_search&utm_source=5sgRUqt0gRSL0aY24fgXOg',\n",
       "   'review_count': 3,\n",
       "   'categories': [{'alias': 'museums', 'title': 'Museums'}],\n",
       "   'rating': 5.0,\n",
       "   'coordinates': {'latitude': 44.27164, 'longitude': -123.1685},\n",
       "   'transactions': [],\n",
       "   'location': {'address1': '490 Smith St',\n",
       "    'address2': '',\n",
       "    'address3': '',\n",
       "    'city': 'Harrisburg',\n",
       "    'zip_code': '97446',\n",
       "    'country': 'US',\n",
       "    'state': 'OR',\n",
       "    'display_address': ['490 Smith St', 'Harrisburg, OR 97446']},\n",
       "   'phone': '+15419954844',\n",
       "   'display_phone': '(541) 995-4844',\n",
       "   'distance': 3880.7584807554335},\n",
       "  {'id': 'Mh03jmAfwh1iQ2HLiKfm2w',\n",
       "   'alias': 'taco-bell-junction-city-4',\n",
       "   'name': 'Taco Bell',\n",
       "   'image_url': 'https://s3-media3.fl.yelpcdn.com/bphoto/Bf6vOr4KZViUxyTJZm0VKw/o.jpg',\n",
       "   'is_closed': False,\n",
       "   'url': 'https://www.yelp.com/biz/taco-bell-junction-city-4?adjust_creative=5sgRUqt0gRSL0aY24fgXOg&utm_campaign=yelp_api_v3&utm_medium=api_v3_business_search&utm_source=5sgRUqt0gRSL0aY24fgXOg',\n",
       "   'review_count': 2,\n",
       "   'categories': [{'alias': 'tacos', 'title': 'Tacos'},\n",
       "    {'alias': 'breakfast_brunch', 'title': 'Breakfast & Brunch'}],\n",
       "   'rating': 3.0,\n",
       "   'coordinates': {'latitude': 44.23099, 'longitude': -123.20324},\n",
       "   'transactions': [],\n",
       "   'location': {'address1': '94588 Hwy 99E',\n",
       "    'address2': '',\n",
       "    'address3': None,\n",
       "    'city': 'Junction City',\n",
       "    'zip_code': '97448',\n",
       "    'country': 'US',\n",
       "    'state': 'OR',\n",
       "    'display_address': ['94588 Hwy 99E', 'Junction City, OR 97448']},\n",
       "   'phone': '',\n",
       "   'display_phone': '',\n",
       "   'distance': 3903.111110357139},\n",
       "  {'id': 'ILBs8e2ei3sMbtAJWCbbKg',\n",
       "   'alias': 'air-thai-cuisine-harrisburg',\n",
       "   'name': 'Air Thai Cuisine',\n",
       "   'image_url': 'https://s3-media3.fl.yelpcdn.com/bphoto/8lRKlvuuS7h4LjKbhtIdfg/o.jpg',\n",
       "   'is_closed': False,\n",
       "   'url': 'https://www.yelp.com/biz/air-thai-cuisine-harrisburg?adjust_creative=5sgRUqt0gRSL0aY24fgXOg&utm_campaign=yelp_api_v3&utm_medium=api_v3_business_search&utm_source=5sgRUqt0gRSL0aY24fgXOg',\n",
       "   'review_count': 51,\n",
       "   'categories': [{'alias': 'thai', 'title': 'Thai'}],\n",
       "   'rating': 4.0,\n",
       "   'coordinates': {'latitude': 44.27133, 'longitude': -123.17259},\n",
       "   'transactions': [],\n",
       "   'price': '$',\n",
       "   'location': {'address1': '180 Moore St',\n",
       "    'address2': None,\n",
       "    'address3': None,\n",
       "    'city': 'Harrisburg',\n",
       "    'zip_code': '97446',\n",
       "    'country': 'US',\n",
       "    'state': 'OR',\n",
       "    'display_address': ['180 Moore St', 'Harrisburg, OR 97446']},\n",
       "   'phone': '+15419958018',\n",
       "   'display_phone': '(541) 995-8018',\n",
       "   'distance': 3956.843866891259},\n",
       "  {'id': '9m5uQv1mUmBebP08XCZWOQ',\n",
       "   'alias': 'starbucks-junction-city-3',\n",
       "   'name': 'Starbucks',\n",
       "   'image_url': 'https://s3-media3.fl.yelpcdn.com/bphoto/tkBkxvJNmmOFvuVLDsXP1g/o.jpg',\n",
       "   'is_closed': False,\n",
       "   'url': 'https://www.yelp.com/biz/starbucks-junction-city-3?adjust_creative=5sgRUqt0gRSL0aY24fgXOg&utm_campaign=yelp_api_v3&utm_medium=api_v3_business_search&utm_source=5sgRUqt0gRSL0aY24fgXOg',\n",
       "   'review_count': 1,\n",
       "   'categories': [{'alias': 'coffee', 'title': 'Coffee & Tea'}],\n",
       "   'rating': 5.0,\n",
       "   'coordinates': {'latitude': 44.230208, 'longitude': -123.204669},\n",
       "   'transactions': [],\n",
       "   'location': {'address1': '94504 Hwy 99 E',\n",
       "    'address2': '',\n",
       "    'address3': None,\n",
       "    'city': 'Junction City',\n",
       "    'zip_code': '97448',\n",
       "    'country': 'US',\n",
       "    'state': 'OR',\n",
       "    'display_address': ['94504 Hwy 99 E', 'Junction City, OR 97448']},\n",
       "   'phone': '+15412241582',\n",
       "   'display_phone': '(541) 224-1582',\n",
       "   'distance': 3966.6760728780337}],\n",
       " 'total': 155,\n",
       " 'region': {'center': {'longitude': -123.15601, 'latitude': 44.237763}}}"
      ]
     },
     "execution_count": 135,
     "metadata": {},
     "output_type": "execute_result"
    }
   ],
   "source": [
    "a.json()['businesses'][0]['review_count']"
   ]
  },
  {
   "cell_type": "markdown",
   "metadata": {},
   "source": [
    "## ZOMATO API\n",
    "\n",
    "https://developers.zomato.com/api  \n",
    "https://github.com/RapidSoftwareSolutions/Marketplace-Zomato-Package   \n",
    "api key: 99beac6a17fef3d9816ec61eb532bab0"
   ]
  },
  {
   "cell_type": "code",
   "execution_count": 169,
   "metadata": {},
   "outputs": [
    {
     "name": "stdout",
     "output_type": "stream",
     "text": [
      "None\n"
     ]
    }
   ],
   "source": [
    "import os\n",
    "\n",
    "print(os.getenv('ZOMATO_API_KEY'))"
   ]
  },
  {
   "cell_type": "code",
   "execution_count": 141,
   "metadata": {},
   "outputs": [],
   "source": [
    "# categories\n",
    "params = {'apikey': '99beac6a17fef3d9816ec61eb532bab0',\n",
    "          'city_id': None}\n",
    "categories = requests.get('https://developers.zomato.com/api/v2.1/categories', params = params).json()\n"
   ]
  },
  {
   "cell_type": "code",
   "execution_count": 143,
   "metadata": {},
   "outputs": [],
   "source": [
    "# cuisines\n",
    "params = {'apikey': '99beac6a17fef3d9816ec61eb532bab0',\n",
    "          'city_id': 256}\n",
    "cuisines = requests.get('https://developers.zomato.com/api/v2.1/cuisines', params = params).json()\n"
   ]
  },
  {
   "cell_type": "code",
   "execution_count": 145,
   "metadata": {},
   "outputs": [],
   "source": [
    "# types\n",
    "params = {'apikey': '99beac6a17fef3d9816ec61eb532bab0',\n",
    "          'city_id': 256}\n",
    "types = requests.get('https://developers.zomato.com/api/v2.1/establishments', params = params).json()"
   ]
  },
  {
   "cell_type": "code",
   "execution_count": 166,
   "metadata": {},
   "outputs": [],
   "source": [
    "# restaurants\n",
    "params = {'apikey': '99beac6a17fef3d9816ec61eb532bab0',\n",
    "          'entity_id': 256,\n",
    "          'entity_type': 'city',\n",
    "          'start': 80,\n",
    "          'count': 100}\n",
    "restaurants = requests.get('https://developers.zomato.com/api/v2.1/search', params = params).json()"
   ]
  },
  {
   "cell_type": "code",
   "execution_count": 170,
   "metadata": {},
   "outputs": [
    {
     "data": {
      "text/plain": [
       "<Response [400]>"
      ]
     },
     "execution_count": 170,
     "metadata": {},
     "output_type": "execute_result"
    }
   ],
   "source": [
    "requests.get('https://api.yelp.com/v3/businesses/search')"
   ]
  }
 ],
 "metadata": {
  "kernelspec": {
   "display_name": "Python 3",
   "language": "python",
   "name": "python3"
  },
  "language_info": {
   "codemirror_mode": {
    "name": "ipython",
    "version": 3
   },
   "file_extension": ".py",
   "mimetype": "text/x-python",
   "name": "python",
   "nbconvert_exporter": "python",
   "pygments_lexer": "ipython3",
   "version": "3.7.6"
  }
 },
 "nbformat": 4,
 "nbformat_minor": 4
}
